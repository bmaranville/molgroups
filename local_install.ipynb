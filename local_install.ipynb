{
 "cells": [
  {
   "cell_type": "markdown",
   "source": [
    "# Install molgroups Package"
   ],
   "metadata": {
    "collapsed": false
   }
  },
  {
   "cell_type": "code",
   "execution_count": 1,
   "metadata": {
    "collapsed": true
   },
   "outputs": [
    {
     "name": "stdout",
     "output_type": "stream",
     "text": [
      "Installing ...\n"
     ]
    }
   ],
   "source": [
    "response=input(\"Do you want to install the molgroups package? (Y/N)\")\n",
    "if response == 'Y':\n",
    "    print(\"Installing ...\")\n",
    "    !pip install git+https://github.com/criosx/molgroups.git"
   ]
  }
 ],
 "metadata": {
  "kernelspec": {
   "display_name": "Python 3",
   "language": "python",
   "name": "python3"
  },
  "language_info": {
   "codemirror_mode": {
    "name": "ipython",
    "version": 2
   },
   "file_extension": ".py",
   "mimetype": "text/x-python",
   "name": "python",
   "nbconvert_exporter": "python",
   "pygments_lexer": "ipython2",
   "version": "2.7.6"
  }
 },
 "nbformat": 4,
 "nbformat_minor": 0
}
