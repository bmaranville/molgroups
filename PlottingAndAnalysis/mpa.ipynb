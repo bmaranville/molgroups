{
 "cells": [
  {
   "cell_type": "code",
   "execution_count": 1,
   "id": "accad99f",
   "metadata": {},
   "outputs": [
    {
     "name": "stdout",
     "output_type": "stream",
     "text": [
      "/Users/frank/Dropbox/My Mac (PN115993.campus.nist.gov)/Documents/programming/molgroups/PlottingAndAnalysis\r\n"
     ]
    }
   ],
   "source": [
    "import rs\n",
    "!pwd"
   ]
  },
  {
   "cell_type": "markdown",
   "id": "ac628656",
   "metadata": {},
   "source": [
    "## Define result directory and set up fit source\n",
    "The results directory is the save directory for the refl1d/bumps/garefl fit, which is typically one directory level up from the fit setup. If a garefl fit does not use MCMC, give the setup directory.\n",
    "The runfile is either the Python or C++ setup file. The refl1d Python runfile for a garefl fit is expected to be run.py."
   ]
  },
  {
   "cell_type": "code",
   "execution_count": 2,
   "id": "f2b91289",
   "metadata": {},
   "outputs": [],
   "source": [
    "results_dir = '/Users/frank/Documents/neutron/summerschool/Summerschool18/fit/normal_bilayer/MCMC_8000_500'\n",
    "runfile = 'run'\n",
    "\n",
    "fitsource = 'refl1d'\n",
    "#fitsource = 'bumps'\n",
    "#fitsource = 'garefl'\n",
    "\n",
    "fit = rs.CMolStat(fitsource=fitsource, resultspath=results_dir, runfile=runfile)"
   ]
  },
  {
   "cell_type": "markdown",
   "id": "5e6e26c0",
   "metadata": {},
   "source": [
    "## Load MCMC information bumps / refl1d files"
   ]
  },
  {
   "cell_type": "code",
   "execution_count": 3,
   "id": "74d216f8",
   "metadata": {},
   "outputs": [
    {
     "name": "stdout",
     "output_type": "stream",
     "text": [
      "Analysis of current MC simulation ...\n",
      "Number of iterations: 212576\n",
      "          d_oxide  [ |  -    | ]  [         5,        40]  [     7.485(0.000),      17.41(0.000),      37.33(0.000)] (-     9.926, +     19.92)\n",
      "             d_Cr  [ |  - |    ]  [        10,        60]  [     15.16(0.000),      29.61(0.000),      41.96(0.000)] (-     14.45, +     12.35)\n",
      "           d_gold  [    +|     ]  [       100,       170]  [     125.9(0.000),      130.9(0.000),      133.1(0.000)] (-     4.924, +     2.256)\n",
      "         l_tether  #+          ]  [         6,        10]  [     6.016(0.000),      6.056(0.000),      6.174(0.000)] (-   0.03987, +    0.1181)\n",
      "         l_lipid1  [     |-|   ]  [         8,        20]  [     14.23(0.000),      15.25(0.000),      16.32(0.000)] (-     1.021, +     1.074)\n",
      "         l_lipid2  [    |+     ]  [         7,        20]  [     11.72(0.000),      12.94(0.000),      14.04(0.000)] (-     1.217, +     1.102)\n",
      "  dl_lipid_rinse1  [     +     ]  [        -3,         3]  [  -0.01851(0.000),    0.07196(0.000),     0.1552(0.000)] (-   0.09048, +   0.08322)\n",
      "        nf_tether  [ |  -  |   ]  [       0.2,         1]  [    0.2696(0.000),     0.5031(0.000),     0.7758(0.000)] (-    0.2335, +    0.2728)\n",
      "      mult_tether  [   |  -  | ]  [       0.1,         4]  [     1.145(0.000),      2.533(0.000),      3.555(0.000)] (-     1.388, +     1.022)\n",
      "       vf_bilayer  [       | -|]  [      0.95,         1]  [    0.9856(0.000),      0.995(0.000),      0.999(0.000)] (-  0.009365, +  0.003992)\n",
      "vf_bilayer_rinse1  [         |+#  [      0.95,         1]  [     0.997(0.000),     0.9988(0.000),     0.9997(0.000)] (-  0.001858, + 0.0009117)\n",
      "  fraction_rinse2  [ | -   |   ]  [       0.8,       1.2]  [    0.8295(0.000),      0.922(0.000),      1.067(0.000)] (-   0.09259, +    0.1452)\n",
      "           dp_on0  [  |   -  | ]  [        -5,         5]  [    -2.831(0.000),      1.184(0.000),      4.061(0.000)] (-     4.015, +     2.877)\n",
      "           dp_on1  [   |   - | ]  [        -5,         5]  [    -2.468(0.000),      1.809(0.000),       4.21(0.000)] (-     4.277, +     2.401)\n",
      "           dp_on2  [ |   -  |  ]  [        -5,         5]  [    -3.695(0.000),    -0.3118(0.000),      3.131(0.000)] (-     3.383, +     3.443)\n",
      "           dp_on3  [ | -    |  ]  [        -5,         5]  [    -4.124(0.000),     -1.783(0.000),      2.559(0.000)] (-     2.341, +     4.341)\n",
      "           dp_on4  [  |   -  | ]  [        -5,         5]  [    -2.675(0.000),      1.455(0.000),      4.041(0.000)] (-      4.13, +     2.586)\n",
      "           dp_on5  [ |  -  |   ]  [        -5,         5]  [    -3.873(0.000),     -1.272(0.000),      2.417(0.000)] (-     2.601, +     3.689)\n",
      "           dp_on6  [ | -   |   ]  [        -5,         5]  [    -4.118(0.000),     -1.526(0.000),      2.458(0.000)] (-     2.591, +     3.985)\n",
      "           dp_on7  [  |  -   | ]  [        -5,         5]  [    -3.118(0.000),     0.4877(0.000),      3.727(0.000)] (-     3.606, +      3.24)\n",
      "           vf_on1  #+|         ]  [    -0.001,       0.4]  [ 0.0005637(0.000),   0.005025(0.000),    0.04055(0.000)] (-  0.004461, +   0.03552)\n",
      "           vf_on2  #+|         ]  [    -0.001,       0.4]  [  0.000757(0.000),    0.01599(0.000),    0.05114(0.000)] (-   0.01523, +   0.03515)\n",
      "           vf_on3  #+|         ]  [    -0.001,       0.4]  [ 9.491e-05(0.000),   0.001697(0.000),    0.02464(0.000)] (-  0.001602, +   0.02294)\n",
      "           vf_on4  #+   |      ]  [    -0.001,       0.4]  [ 0.0009066(0.000),    0.00944(0.000),     0.1454(0.000)] (-  0.008534, +     0.136)\n",
      "           vf_on5  [ |-      | ]  [    -0.001,       0.4]  [   0.04482(0.000),    0.08246(0.000),     0.3574(0.000)] (-   0.03765, +     0.275)\n",
      "           vf_on6  #|-   |     ]  [    -0.001,       0.4]  [  0.002854(0.000),    0.02116(0.000),     0.2081(0.000)] (-   0.01831, +    0.1869)\n",
      "         rho_SiOx  [  |   -|   ]  [       2.7,       3.8]  [     2.974(0.000),      3.402(0.000),      3.442(0.000)] (-    0.4279, +   0.04032)\n",
      "           rho_Cr  [     + |   ]  [       2.7,      4.15]  [     3.367(0.000),      3.451(0.000),      3.743(0.000)] (-    0.0843, +    0.2923)\n",
      "           rho_Au  [   |-|     ]  [       4.2,       4.6]  [      4.34(0.000),      4.362(0.000),      4.385(0.000)] (-   0.02241, +   0.02294)\n",
      "       rho_solv_0  [  |+       ]  [       5.8,       6.4]  [     5.934(0.000),      5.954(0.000),      5.966(0.000)] (-   0.02022, +   0.01176)\n",
      "       rho_solv_1  [     |-|   ]  [     -0.56,      -0.1]  [   -0.3141(0.000),     -0.278(0.000),    -0.2399(0.000)] (-   0.03611, +   0.03809)\n",
      "       rho_solv_2  [+|         ]  [       5.8,       6.4]  [     5.808(0.000),      5.827(0.000),      5.842(0.000)] (-   0.01928, +    0.0147)\n",
      "       rho_solv_3  #+          ]  [     -0.56,      -0.1]  [   -0.5576(0.000),    -0.5514(0.000),    -0.5373(0.000)] (-  0.006155, +   0.01409)\n",
      "     global_rough  [     |+    ]  [         1,         8]  [     4.459(0.000),       4.94(0.000),      5.384(0.000)] (-    0.4809, +    0.4439)\n",
      "      rough_cr_au  [      |- | ]  [         1,        15]  [     9.286(0.000),       11.2(0.000),      13.26(0.000)] (-     1.918, +     2.055)\n",
      "            sigma  [   |+      ]  [         2,         8]  [     3.706(0.000),      4.146(0.000),      4.505(0.000)] (-    0.4394, +    0.3595)\n",
      "     thetaoffset0  [   |   - | ]  [    -0.001,     0.001]  [-0.0003531(0.000),  0.0004328(0.000),  0.0008896(0.000)] (- 0.0007859, + 0.0004568)\n",
      "        intensity  [     |+    ]  [      0.75,      1.05]  [    0.9084(0.000),     0.9181(0.000),     0.9277(0.000)] (-  0.009759, +  0.009555)\n",
      "     background_0  [ |-|       ]  [        -9,        -5]  [    -8.794(0.000),     -8.352(0.000),     -7.809(0.000)] (-    0.4417, +    0.5431)\n",
      "     background_1  [      |+   ]  [        -9,        -5]  [    -6.499(0.000),     -6.298(0.000),     -6.163(0.000)] (-    0.2014, +    0.1345)\n",
      "     background_2  [ | - |     ]  [        -9,        -5]  [    -8.593(0.000),     -7.676(0.000),      -6.91(0.000)] (-    0.9168, +    0.7662)\n",
      "     background_3  [   |  +    ]  [        -9,        -5]  [    -7.941(0.000),     -6.754(0.000),     -6.416(0.000)] (-     1.187, +     0.338)\n",
      "Maximum deviation from average over last 5 iterations: 0.0021\n",
      "Confidence level: 0.6827\n"
     ]
    }
   ],
   "source": [
    "#fit.fnLoadStatData(sparse=0)\n",
    "#fit.fnLoadParameters()\n",
    "fit.fnAnalyzeStatFile(fConfidence=-1, sparse=0)"
   ]
  },
  {
   "cell_type": "code",
   "execution_count": null,
   "id": "dd48e803",
   "metadata": {},
   "outputs": [],
   "source": []
  },
  {
   "cell_type": "code",
   "execution_count": null,
   "id": "f57ff90b",
   "metadata": {},
   "outputs": [],
   "source": []
  }
 ],
 "metadata": {
  "kernelspec": {
   "display_name": "Python 3",
   "language": "python",
   "name": "python3"
  },
  "language_info": {
   "codemirror_mode": {
    "name": "ipython",
    "version": 3
   },
   "file_extension": ".py",
   "mimetype": "text/x-python",
   "name": "python",
   "nbconvert_exporter": "python",
   "pygments_lexer": "ipython3",
   "version": "3.8.10"
  }
 },
 "nbformat": 4,
 "nbformat_minor": 5
}
