{
 "cells": [
  {
   "cell_type": "code",
   "execution_count": 1,
   "id": "accad99f",
   "metadata": {},
   "outputs": [
    {
     "name": "stdout",
     "output_type": "stream",
     "text": [
      "/Users/frank/Dropbox/My Mac (PN115993.campus.nist.gov)/Documents/programming/molgroups/PlottingAndAnalysis\r\n"
     ]
    }
   ],
   "source": [
    "import rs\n",
    "import os\n",
    "!pwd"
   ]
  },
  {
   "cell_type": "markdown",
   "id": "ac628656",
   "metadata": {},
   "source": [
    "## Define result directory and set up fit source\n",
    "The results directory is the save directory for the refl1d/bumps/garefl fit, which is typically one directory level up from the fit setup. If a garefl fit does not use MCMC, give the setup directory.\n",
    "The runfile is either the Python or C++ setup file. The refl1d Python runfile for a garefl fit is expected to be run.py."
   ]
  },
  {
   "cell_type": "code",
   "execution_count": 2,
   "id": "f2b91289",
   "metadata": {},
   "outputs": [],
   "source": [
    "# Bumps Test\n",
    "# setupdir = '/Users/frank/Documents/programming/molgroups/PlottingAndAnalysis'\n",
    "# mcmcstor = setupdir + '/T1'\n",
    "# runfile = 'run-ff'\n",
    "# fitsource = 'bumps'\n",
    "\n",
    "# Refl1D Test\n",
    "setupdir = '/Users/frank/Desktop/ssBLMtest'\n",
    "mcmcstor = setupdir + '/Output'\n",
    "runfile = 'ssblm_tiox_both'\n",
    "fitsource = 'refl1d'\n",
    "\n",
    "\n",
    "# Garefl test\n",
    "# setupdir = '/Users/frank/Desktop/garefltest'\n",
    "# mcmcstor = setupdir + '/MCMC_64000_500'\n",
    "# runfile = 'setup.cc'\n",
    "# fitsource = 'garefl'\n",
    "\n",
    "# Clean up previous results files\n",
    "# TODO: Come up with a scheme on how to handle result files (keep or delete)\n",
    "os.chdir(setupdir)\n",
    "if os.path.isfile(mcmcstor + '/sErr.dat'):\n",
    "    os.remove(mcmcstor + '/sErr.dat')\n",
    "if os.path.isfile(mcmcstor + '/isErr.dat'):\n",
    "    os.remove(mcmcstor + '/isErr.dat')\n",
    "if os.path.isfile(mcmcstor + '/StatDataPython.dat'):\n",
    "    os.remove(mcmcstor + '/StatDataPython.dat')\n",
    "\n",
    "fit = rs.CMolStat(fitsource=fitsource, spath=setupdir, mcmcpath=mcmcstor, runfile=runfile)"
   ]
  },
  {
   "cell_type": "markdown",
   "id": "5e6e26c0",
   "metadata": {},
   "source": [
    "## Load MCMC information bumps / refl1d files"
   ]
  },
  {
   "cell_type": "code",
   "execution_count": 3,
   "id": "74d216f8",
   "metadata": {
    "scrolled": true
   },
   "outputs": [
    {
     "name": "stdout",
     "output_type": "stream",
     "text": [
      "Analysis of current MC simulation ...\n",
      "Number of iterations: 340\n",
      "          background ch061  [ |+        ]  [    -1e-07,     1e-05]  [ 4.226e-07(0.000),  1.431e-06(0.001),  2.264e-06(0.000)] (- 1.009e-06, + 8.327e-07)\n",
      "           intensity ch061  [     |  -| ]  [       0.9,      1.05]  [    0.9713(0.001),      1.015(0.000),      1.042(0.000)] (-   0.04385, +   0.02666)\n",
      "            siox interface  [    |   - |]  [         2,         9]  [     4.991(0.000),       7.64(0.002),      8.728(0.000)] (-     2.649, +     1.088)\n",
      "                  siox rho  [|-     |   ]  [       3.1,       5.1]  [     3.192(0.000),      3.391(0.000),      4.435(0.000)] (-    0.1998, +     1.043)\n",
      "            siox thickness  [   |    - |]  [         5,        40]  [     14.28(0.001),       31.9(0.000),      38.85(0.000)] (-     17.62, +     6.944)\n",
      "                  tiox rho  [   |-|     ]  [     1.163,     3.163]  [     1.674(0.001),      1.908(0.000),      2.084(0.000)] (-    0.2341, +    0.1761)\n",
      "                   d2o rho  [      |+   ]  [       5.3,       6.5]  [     6.074(0.001),      6.152(0.000),      6.199(0.000)] (-   0.07829, +   0.04747)\n",
      "       substrate roughness  [   |  -  | ]  [         2,         9]  [     3.795(0.001),      6.538(0.002),      8.122(0.000)] (-     2.743, +     1.584)\n",
      "inner acyl chain thickness  [|- |       ]  [         8,        16]  [      8.27(0.001),      8.787(0.000),      10.29(0.000)] (-    0.5162, +     1.499)\n",
      "outer acyl chain thickness  [|-|        ]  [         8,        16]  [     8.152(0.000),      8.572(0.002),      9.448(0.001)] (-    0.4196, +    0.8759)\n",
      "     submembrane thickness  [  |  -   | ]  [         0,        50]  [     8.551(0.001),      26.95(0.002),      43.72(0.000)] (-      18.4, +     16.77)\n",
      "         bilayer roughness  [| - |      ]  [         2,         9]  [     2.315(0.000),      3.344(0.000),      5.115(0.000)] (-     1.029, +     1.771)\n",
      "   volume fraction bilayer  [     | -|  ]  [         0,         1]  [    0.5447(0.000),     0.6876(0.000),     0.7952(0.000)] (-    0.1429, +    0.1076)\n",
      "          background ch060  [   | - |   ]  [    -1e-07,     1e-05]  [ 2.939e-06(0.001),  4.706e-06(0.000),  6.505e-06(0.001)] (- 1.767e-06, + 1.799e-06)\n",
      "                   h2o rho  [  | -  |   ]  [      -0.6,       0.6]  [   -0.3351(0.000),    -0.1116(0.001),     0.1999(0.001)] (-    0.2235, +    0.3115)\n",
      "      total tiox thickness  [      +|   ]  [        50,       150]  [       105(0.000),      111.6(0.000),      122.2(0.000)] (-     6.599, +      10.6)\n",
      "Maximum deviation from average over last 5 iterations: 0.0058\n",
      "Confidence level: 0.6827\n"
     ]
    }
   ],
   "source": [
    "#fit.fnLoadStatData(sparse=0)\n",
    "#fit.fnLoadParameters()\n",
    "sparse = 0.02\n",
    "fit.fnAnalyzeStatFile(fConfidence=-1, sparse=sparse)"
   ]
  },
  {
   "cell_type": "code",
   "execution_count": 4,
   "id": "dd48e803",
   "metadata": {},
   "outputs": [
    {
     "name": "stdout",
     "output_type": "stream",
     "text": [
      "Failure to load StatDataPython.dat.\n",
      "Recreate statistical data from sErr.dat.\n",
      "Processing parameter set 0.\n",
      "\n",
      "86.03037238971143\n",
      "21.392294957191766\n"
     ]
    },
    {
     "ename": "FileNotFoundError",
     "evalue": "[Errno 2] No such file or directory: '/Users/frank/Desktop/ssBLMtest/mol.dat'",
     "output_type": "error",
     "traceback": [
      "\u001b[0;31m---------------------------------------------------------------------------\u001b[0m",
      "\u001b[0;31mFileNotFoundError\u001b[0m                         Traceback (most recent call last)",
      "\u001b[0;32m~/Dropbox/My Mac (PN115993.campus.nist.gov)/Documents/programming/molgroups/PlottingAndAnalysis/rs.py\u001b[0m in \u001b[0;36mfnPullMolgroupLoader\u001b[0;34m(self, liMolgroupNames, sparse)\u001b[0m\n\u001b[1;32m   2440\u001b[0m         \u001b[0;32mtry\u001b[0m\u001b[0;34m:\u001b[0m\u001b[0;34m\u001b[0m\u001b[0;34m\u001b[0m\u001b[0m\n\u001b[0;32m-> 2441\u001b[0;31m             \u001b[0mself\u001b[0m\u001b[0;34m.\u001b[0m\u001b[0mdiStatResults\u001b[0m \u001b[0;34m=\u001b[0m \u001b[0mself\u001b[0m\u001b[0;34m.\u001b[0m\u001b[0mfnLoadObject\u001b[0m\u001b[0;34m(\u001b[0m\u001b[0mself\u001b[0m\u001b[0;34m.\u001b[0m\u001b[0mmcmcpath\u001b[0m\u001b[0;34m+\u001b[0m\u001b[0;34m'/StatDataPython.dat'\u001b[0m\u001b[0;34m)\u001b[0m\u001b[0;34m\u001b[0m\u001b[0;34m\u001b[0m\u001b[0m\n\u001b[0m\u001b[1;32m   2442\u001b[0m             \u001b[0mprint\u001b[0m\u001b[0;34m(\u001b[0m\u001b[0;34m'Loaded statistical data from StatDataPython.dat'\u001b[0m\u001b[0;34m)\u001b[0m\u001b[0;34m\u001b[0m\u001b[0;34m\u001b[0m\u001b[0m\n",
      "\u001b[0;32m~/Dropbox/My Mac (PN115993.campus.nist.gov)/Documents/programming/molgroups/PlottingAndAnalysis/rs.py\u001b[0m in \u001b[0;36mfnLoadObject\u001b[0;34m(sFileName)\u001b[0m\n\u001b[1;32m   1865\u001b[0m         \u001b[0;32mimport\u001b[0m \u001b[0mpickle\u001b[0m\u001b[0;34m\u001b[0m\u001b[0;34m\u001b[0m\u001b[0m\n\u001b[0;32m-> 1866\u001b[0;31m         \u001b[0mFile\u001b[0m \u001b[0;34m=\u001b[0m \u001b[0mopen\u001b[0m\u001b[0;34m(\u001b[0m\u001b[0msFileName\u001b[0m\u001b[0;34m,\u001b[0m \u001b[0;34m\"rb\"\u001b[0m\u001b[0;34m)\u001b[0m\u001b[0;34m\u001b[0m\u001b[0;34m\u001b[0m\u001b[0m\n\u001b[0m\u001b[1;32m   1867\u001b[0m         \u001b[0mObject\u001b[0m \u001b[0;34m=\u001b[0m \u001b[0mpickle\u001b[0m\u001b[0;34m.\u001b[0m\u001b[0mload\u001b[0m\u001b[0;34m(\u001b[0m\u001b[0mFile\u001b[0m\u001b[0;34m)\u001b[0m\u001b[0;34m\u001b[0m\u001b[0;34m\u001b[0m\u001b[0m\n",
      "\u001b[0;31mFileNotFoundError\u001b[0m: [Errno 2] No such file or directory: '/Users/frank/Desktop/ssBLMtest/Output/StatDataPython.dat'",
      "\nDuring handling of the above exception, another exception occurred:\n",
      "\u001b[0;31mFileNotFoundError\u001b[0m                         Traceback (most recent call last)",
      "\u001b[0;32m<ipython-input-4-42565db233ca>\u001b[0m in \u001b[0;36m<module>\u001b[0;34m\u001b[0m\n\u001b[0;32m----> 1\u001b[0;31m \u001b[0mfit\u001b[0m\u001b[0;34m.\u001b[0m\u001b[0mfnPullMolgroup\u001b[0m\u001b[0;34m(\u001b[0m\u001b[0;34m[\u001b[0m\u001b[0;34m'lipid1'\u001b[0m\u001b[0;34m]\u001b[0m\u001b[0;34m,\u001b[0m \u001b[0msparse\u001b[0m\u001b[0;34m=\u001b[0m\u001b[0msparse\u001b[0m\u001b[0;34m)\u001b[0m\u001b[0;34m\u001b[0m\u001b[0;34m\u001b[0m\u001b[0m\n\u001b[0m",
      "\u001b[0;32m~/Dropbox/My Mac (PN115993.campus.nist.gov)/Documents/programming/molgroups/PlottingAndAnalysis/rs.py\u001b[0m in \u001b[0;36mfnPullMolgroup\u001b[0;34m(self, liMolgroupNames, sparse)\u001b[0m\n\u001b[1;32m   2421\u001b[0m         \u001b[0mSaves\u001b[0m \u001b[0mresults\u001b[0m \u001b[0mto\u001b[0m \u001b[0mfile\u001b[0m\u001b[0;34m\u001b[0m\u001b[0;34m\u001b[0m\u001b[0m\n\u001b[1;32m   2422\u001b[0m         \"\"\"\n\u001b[0;32m-> 2423\u001b[0;31m         \u001b[0mdiarea\u001b[0m\u001b[0;34m,\u001b[0m \u001b[0mdinsl\u001b[0m\u001b[0;34m,\u001b[0m \u001b[0mdinsld\u001b[0m \u001b[0;34m=\u001b[0m \u001b[0mself\u001b[0m\u001b[0;34m.\u001b[0m\u001b[0mfnPullMolgroupLoader\u001b[0m\u001b[0;34m(\u001b[0m\u001b[0mliMolgroupNames\u001b[0m\u001b[0;34m,\u001b[0m \u001b[0msparse\u001b[0m\u001b[0;34m)\u001b[0m\u001b[0;34m\u001b[0m\u001b[0;34m\u001b[0m\u001b[0m\n\u001b[0m\u001b[1;32m   2424\u001b[0m         \u001b[0mdiStat\u001b[0m \u001b[0;34m=\u001b[0m \u001b[0mself\u001b[0m\u001b[0;34m.\u001b[0m\u001b[0mfnPullMolgroupWorker\u001b[0m\u001b[0;34m(\u001b[0m\u001b[0mdiarea\u001b[0m\u001b[0;34m,\u001b[0m \u001b[0mdinsl\u001b[0m\u001b[0;34m,\u001b[0m \u001b[0mdinsld\u001b[0m\u001b[0;34m)\u001b[0m\u001b[0;34m\u001b[0m\u001b[0;34m\u001b[0m\u001b[0m\n\u001b[1;32m   2425\u001b[0m \u001b[0;34m\u001b[0m\u001b[0m\n",
      "\u001b[0;32m~/Dropbox/My Mac (PN115993.campus.nist.gov)/Documents/programming/molgroups/PlottingAndAnalysis/rs.py\u001b[0m in \u001b[0;36mfnPullMolgroupLoader\u001b[0;34m(self, liMolgroupNames, sparse)\u001b[0m\n\u001b[1;32m   2445\u001b[0m             \u001b[0mprint\u001b[0m\u001b[0;34m(\u001b[0m\u001b[0;34m'Failure to load StatDataPython.dat.'\u001b[0m\u001b[0;34m)\u001b[0m\u001b[0;34m\u001b[0m\u001b[0;34m\u001b[0m\u001b[0m\n\u001b[1;32m   2446\u001b[0m             \u001b[0mprint\u001b[0m\u001b[0;34m(\u001b[0m\u001b[0;34m'Recreate statistical data from sErr.dat.'\u001b[0m\u001b[0;34m)\u001b[0m\u001b[0;34m\u001b[0m\u001b[0;34m\u001b[0m\u001b[0m\n\u001b[0;32m-> 2447\u001b[0;31m             \u001b[0mself\u001b[0m\u001b[0;34m.\u001b[0m\u001b[0mfnRecreateStatistical\u001b[0m\u001b[0;34m(\u001b[0m\u001b[0msparse\u001b[0m\u001b[0;34m=\u001b[0m\u001b[0msparse\u001b[0m\u001b[0;34m)\u001b[0m\u001b[0;34m\u001b[0m\u001b[0;34m\u001b[0m\u001b[0m\n\u001b[0m\u001b[1;32m   2448\u001b[0m \u001b[0;34m\u001b[0m\u001b[0m\n\u001b[1;32m   2449\u001b[0m         diarea = {\n",
      "\u001b[0;32m~/Dropbox/My Mac (PN115993.campus.nist.gov)/Documents/programming/molgroups/PlottingAndAnalysis/rs.py\u001b[0m in \u001b[0;36mfnRecreateStatistical\u001b[0;34m(self, bRecreateMolgroups, sparse)\u001b[0m\n\u001b[1;32m   2570\u001b[0m \u001b[0;34m\u001b[0m\u001b[0m\n\u001b[1;32m   2571\u001b[0m                     \u001b[0;32mif\u001b[0m \u001b[0mbRecreateMolgroups\u001b[0m\u001b[0;34m:\u001b[0m\u001b[0;34m\u001b[0m\u001b[0;34m\u001b[0m\u001b[0m\n\u001b[0;32m-> 2572\u001b[0;31m                         \u001b[0mself\u001b[0m\u001b[0;34m.\u001b[0m\u001b[0mdiMolgroups\u001b[0m \u001b[0;34m=\u001b[0m \u001b[0mself\u001b[0m\u001b[0;34m.\u001b[0m\u001b[0mInteractor\u001b[0m\u001b[0;34m.\u001b[0m\u001b[0mfnRestoreMolgroups\u001b[0m\u001b[0;34m(\u001b[0m\u001b[0mproblem\u001b[0m\u001b[0;34m)\u001b[0m\u001b[0;34m\u001b[0m\u001b[0;34m\u001b[0m\u001b[0m\n\u001b[0m\u001b[1;32m   2573\u001b[0m                         \u001b[0;31m# append molgroup information to self.diStatResults\u001b[0m\u001b[0;34m\u001b[0m\u001b[0;34m\u001b[0m\u001b[0;34m\u001b[0m\u001b[0m\n\u001b[1;32m   2574\u001b[0m                         \u001b[0mself\u001b[0m\u001b[0;34m.\u001b[0m\u001b[0mdiStatResults\u001b[0m\u001b[0;34m[\u001b[0m\u001b[0;34m'Molgroups'\u001b[0m\u001b[0;34m]\u001b[0m\u001b[0;34m.\u001b[0m\u001b[0mappend\u001b[0m\u001b[0;34m(\u001b[0m\u001b[0mself\u001b[0m\u001b[0;34m.\u001b[0m\u001b[0mdiMolgroups\u001b[0m\u001b[0;34m)\u001b[0m\u001b[0;34m\u001b[0m\u001b[0;34m\u001b[0m\u001b[0m\n",
      "\u001b[0;32m~/Dropbox/My Mac (PN115993.campus.nist.gov)/Documents/programming/molgroups/PlottingAndAnalysis/rs.py\u001b[0m in \u001b[0;36mfnRestoreMolgroups\u001b[0;34m(self, problem)\u001b[0m\n\u001b[1;32m    416\u001b[0m \u001b[0;34m\u001b[0m\u001b[0m\n\u001b[1;32m    417\u001b[0m     \u001b[0;32mdef\u001b[0m \u001b[0mfnRestoreMolgroups\u001b[0m\u001b[0;34m(\u001b[0m\u001b[0mself\u001b[0m\u001b[0;34m,\u001b[0m \u001b[0mproblem\u001b[0m\u001b[0;34m)\u001b[0m\u001b[0;34m:\u001b[0m\u001b[0;34m\u001b[0m\u001b[0;34m\u001b[0m\u001b[0m\n\u001b[0;32m--> 418\u001b[0;31m         \u001b[0mdiMolgroups\u001b[0m \u001b[0;34m=\u001b[0m \u001b[0mself\u001b[0m\u001b[0;34m.\u001b[0m\u001b[0mfnLoadMolgroups\u001b[0m\u001b[0;34m(\u001b[0m\u001b[0;34m)\u001b[0m\u001b[0;34m\u001b[0m\u001b[0;34m\u001b[0m\u001b[0m\n\u001b[0m\u001b[1;32m    419\u001b[0m         \u001b[0;32mreturn\u001b[0m \u001b[0mdiMolgroups\u001b[0m\u001b[0;34m\u001b[0m\u001b[0;34m\u001b[0m\u001b[0m\n\u001b[1;32m    420\u001b[0m \u001b[0;34m\u001b[0m\u001b[0m\n",
      "\u001b[0;32m~/Dropbox/My Mac (PN115993.campus.nist.gov)/Documents/programming/molgroups/PlottingAndAnalysis/rs.py\u001b[0m in \u001b[0;36mfnLoadMolgroups\u001b[0;34m(self)\u001b[0m\n\u001b[1;32m     33\u001b[0m         \u001b[0mli\u001b[0m \u001b[0;34m=\u001b[0m \u001b[0;34m[\u001b[0m\u001b[0;34m]\u001b[0m\u001b[0;34m\u001b[0m\u001b[0;34m\u001b[0m\u001b[0m\n\u001b[1;32m     34\u001b[0m \u001b[0;34m\u001b[0m\u001b[0m\n\u001b[0;32m---> 35\u001b[0;31m         \u001b[0mfile\u001b[0m \u001b[0;34m=\u001b[0m \u001b[0mopen\u001b[0m\u001b[0;34m(\u001b[0m\u001b[0mself\u001b[0m\u001b[0;34m.\u001b[0m\u001b[0mspath\u001b[0m \u001b[0;34m+\u001b[0m \u001b[0;34m'/mol.dat'\u001b[0m\u001b[0;34m)\u001b[0m\u001b[0;34m\u001b[0m\u001b[0;34m\u001b[0m\u001b[0m\n\u001b[0m\u001b[1;32m     36\u001b[0m         \u001b[0mdata\u001b[0m \u001b[0;34m=\u001b[0m \u001b[0mfile\u001b[0m\u001b[0;34m.\u001b[0m\u001b[0mreadlines\u001b[0m\u001b[0;34m(\u001b[0m\u001b[0;34m)\u001b[0m\u001b[0;34m\u001b[0m\u001b[0;34m\u001b[0m\u001b[0m\n\u001b[1;32m     37\u001b[0m         \u001b[0mfile\u001b[0m\u001b[0;34m.\u001b[0m\u001b[0mclose\u001b[0m\u001b[0;34m(\u001b[0m\u001b[0;34m)\u001b[0m\u001b[0;34m\u001b[0m\u001b[0;34m\u001b[0m\u001b[0m\n",
      "\u001b[0;31mFileNotFoundError\u001b[0m: [Errno 2] No such file or directory: '/Users/frank/Desktop/ssBLMtest/mol.dat'"
     ]
    }
   ],
   "source": [
    "fit.fnPullMolgroup(['lipid1'], sparse=sparse)"
   ]
  },
  {
   "cell_type": "code",
   "execution_count": null,
   "id": "696b2cea",
   "metadata": {},
   "outputs": [],
   "source": [
    "fit.fnCreateBilayerPlotData()"
   ]
  },
  {
   "cell_type": "code",
   "execution_count": null,
   "id": "26436538",
   "metadata": {},
   "outputs": [],
   "source": [
    "fit.fnCalculateMolgroupProperty(fConfidence=-1)"
   ]
  },
  {
   "cell_type": "code",
   "execution_count": null,
   "id": "5424311e",
   "metadata": {},
   "outputs": [],
   "source": []
  }
 ],
 "metadata": {
  "kernelspec": {
   "display_name": "Python 3",
   "language": "python",
   "name": "python3"
  },
  "language_info": {
   "codemirror_mode": {
    "name": "ipython",
    "version": 3
   },
   "file_extension": ".py",
   "mimetype": "text/x-python",
   "name": "python",
   "nbconvert_exporter": "python",
   "pygments_lexer": "ipython3",
   "version": "3.7.10"
  }
 },
 "nbformat": 4,
 "nbformat_minor": 5
}
