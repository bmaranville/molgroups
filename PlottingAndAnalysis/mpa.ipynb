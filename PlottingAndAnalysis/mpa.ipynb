{
 "cells": [
  {
   "cell_type": "code",
   "execution_count": 4,
   "id": "accad99f",
   "metadata": {},
   "outputs": [
    {
     "name": "stdout",
     "output_type": "stream",
     "text": [
      "/Users/frank/Documents/programming/molgroups/PlottingAndAnalysis\r\n"
     ]
    }
   ],
   "source": [
    "import rs\n",
    "!pwd"
   ]
  },
  {
   "cell_type": "markdown",
   "id": "ac628656",
   "metadata": {},
   "source": [
    "## Define result directory and set up fit source"
   ]
  },
  {
   "cell_type": "code",
   "execution_count": 2,
   "id": "f2b91289",
   "metadata": {},
   "outputs": [],
   "source": [
    "results_dir = '/Users/frank/Documents/programming/molgroups/Diffraction/Python/Diffraction_fitting_fp/T2'\n",
    "runfile = 'run-ff'\n",
    "\n",
    "#fitsource = 'refl1d'\n",
    "fitsource = 'bumps'\n",
    "#fitsource = 'garefl'\n",
    "\n",
    "reflpar = rs.CMolStat(fitsource=fitsource)"
   ]
  },
  {
   "cell_type": "markdown",
   "id": "5e6e26c0",
   "metadata": {},
   "source": [
    "## Load MCMC information bumps / refl1d files"
   ]
  },
  {
   "cell_type": "code",
   "execution_count": 3,
   "id": "74d216f8",
   "metadata": {},
   "outputs": [],
   "source": [
    "reflpar.fnLoadStatData(sparse=0, dirname=results_dir, runfile=runfile)"
   ]
  }
 ],
 "metadata": {
  "kernelspec": {
   "display_name": "Python 3",
   "language": "python",
   "name": "python3"
  },
  "language_info": {
   "codemirror_mode": {
    "name": "ipython",
    "version": 3
   },
   "file_extension": ".py",
   "mimetype": "text/x-python",
   "name": "python",
   "nbconvert_exporter": "python",
   "pygments_lexer": "ipython3",
   "version": "3.7.10"
  }
 },
 "nbformat": 4,
 "nbformat_minor": 5
}
