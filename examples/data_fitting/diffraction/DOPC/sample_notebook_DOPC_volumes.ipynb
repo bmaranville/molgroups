{
 "cells": [
  {
   "cell_type": "markdown",
   "id": "551d0249",
   "metadata": {},
   "source": [
    "# Imports"
   ]
  },
  {
   "cell_type": "code",
   "execution_count": 1,
   "id": "4c0454bf",
   "metadata": {
    "scrolled": true
   },
   "outputs": [
    {
     "name": "stdout",
     "output_type": "stream",
     "text": [
      "/Users/frank/Dropbox/My Mac (PN115993.campus.nist.gov)/Documents/programming/molgroups/examples/data_fitting/diffraction/DOPC\r\n"
     ]
    }
   ],
   "source": [
    "!pwd\n",
    "import sys\n",
    "sys.path.append(\"..\")\n",
    "from bumps.names import Curve, fit, FitProblem\n",
    "from bumps.dream.state import load_state\n",
    "import matplotlib.pyplot as plt\n",
    "import numpy as np\n",
    "import scipy.fft as fft\n",
    "import os\n",
    "import math\n",
    "\n",
    "import rs\n",
    "import molgroups as mol\n",
    "import lipids\n"
   ]
  },
  {
   "cell_type": "markdown",
   "id": "edd90e18",
   "metadata": {},
   "source": [
    "# Variables"
   ]
  },
  {
   "cell_type": "code",
   "execution_count": 2,
   "id": "5e6c29ab",
   "metadata": {},
   "outputs": [],
   "source": [
    "ed2sld = 2.814e-5\n",
    "bulksld = 0.334 * ed2sld\n",
    "# bulk sld used during form factor calculation from experimental data\n",
    "\n",
    "maxarea = 100\n",
    "stepsize = 0.1\n",
    "\n",
    "#make sure dimension is odd\n",
    "dimension = 1501\n",
    "startz = 50\n",
    "\n",
    "# fit setup\n",
    "store = \"fit_1\"\n",
    "setupdir = os.getcwd()\n",
    "runfile = \"run\"\n",
    "fitsource = \"bumps\"\n",
    "\n",
    "if not os.path.isdir(store):\n",
    "    os.mkdir(store)\n",
    "\n",
    "run = False\n",
    "burn = 2000\n",
    "steps = 100"
   ]
  },
  {
   "cell_type": "markdown",
   "id": "3aec9d84",
   "metadata": {},
   "source": [
    "# Functions"
   ]
  },
  {
   "cell_type": "code",
   "execution_count": 3,
   "id": "3a631f70",
   "metadata": {},
   "outputs": [],
   "source": [
    "def getSLD(aArea, aSL, normArea, bulksld):\n",
    "    aSLD = np.zeros(dimension).tolist()\n",
    "    \n",
    "    # bulksld_ffc can be replaced by bulksld if it is assumed that during form factor calculation\n",
    "    # the correct subtraction was applied\n",
    "    \n",
    "    for i in range(dimension):\n",
    "        if aArea[i] != 0:\n",
    "            aSLD[i] = aSL[i] / (aArea[i] * stepsize) * aArea[i] / normArea + bulksld * (1 - aArea[i] / normArea)\n",
    "        else:\n",
    "            aSLD[i] = bulksld\n",
    "    return aSLD\n"
   ]
  },
  {
   "cell_type": "code",
   "execution_count": 4,
   "id": "78199b96",
   "metadata": {},
   "outputs": [],
   "source": [
    "def symmetrize(aSLD, bulksld):\n",
    "    center = bilayer.fnGetCenter()\n",
    "    center = int(center/stepsize+0.5)\n",
    "    canvas_center = len(aSLD) // 2\n",
    "    n = int(canvas_center - center)\n",
    "    centered_bilayer = np.roll(aSLD, n)\n",
    "    symmetrized_bilayer = np.add(centered_bilayer, centered_bilayer[::-1]) * 0.5\n",
    "    symmetrized_bilayer -= bulksld\n",
    "    return symmetrized_bilayer\n"
   ]
  },
  {
   "cell_type": "code",
   "execution_count": 5,
   "id": "51fd4a6e",
   "metadata": {},
   "outputs": [],
   "source": [
    "def computeFormFactor(lq, aSLD, prefactor, dq, offset, stepsize, DCTtype=1):\n",
    "\n",
    "    half_bilayer = aSLD[int(len(aSLD)/2) :]\n",
    "\n",
    "    # TODO: Make sure that lq and x are roughly comparable\n",
    "    # dimension should be odd\n",
    "    dct_dimension = 5001\n",
    "    \n",
    "    # DCT is unnormalized, except for stepsize, which ensures that FO obeys the integral norm\n",
    "    F = fft.dct(half_bilayer, n=dct_dimension, type=DCTtype) * stepsize\n",
    "    F = np.abs(F)\n",
    "    # normalization by integral of FF\n",
    "    #sum = F.sum() * np.pi / (2 * dct_dimension * stepsize) * (2 * 1) * dq\n",
    "    #if sum != 0:\n",
    "    #    F /= sum\n",
    "    x = np.array(\n",
    "        [\n",
    "            np.pi / (2 * dct_dimension * stepsize) * (2 * i) * dq\n",
    "            for i in range(dct_dimension)\n",
    "        ]\n",
    "    )\n",
    "\n",
    "    # interpolate (x, F) onto lq -> (lq, modelform)\n",
    "    return np.interp(lq, x, F, period=None) * prefactor - offset\n",
    "\n",
    "\n",
    "def setBilayer(\n",
    "    l_lipid, sigma, rel_pos, hg1_thickness, methyl_sigma, bulksld):\n",
    "\n",
    "    bilayer.headgroups1[0].fnSet(length=hg1_thickness, rel_pos=[0, rel_pos, 0])\n",
    "    bilayer.headgroups1[0].fnSetSigma(sigma)\n",
    "    bilayer.headgroups2[0].fnSet(length=hg1_thickness, rel_pos=[0, rel_pos, 0])\n",
    "    bilayer.headgroups2[0].fnSetSigma(sigma)\n",
    "    bilayer.methyl_sigma[0] = methyl_sigma\n",
    "    bilayer.fnSet(sigma, bulksld, startz, l_lipid, l_lipid, vf_bilayer=1)\n"
   ]
  },
  {
   "cell_type": "code",
   "execution_count": 6,
   "id": "b2012f39",
   "metadata": {},
   "outputs": [],
   "source": [
    "def modelformfactor(\n",
    "    lq,\n",
    "    l_lipid,\n",
    "    sigma,\n",
    "#    prefactor,\n",
    "#    dq,\n",
    "#    offset,\n",
    "    rel_pos,\n",
    "    hg1_thickness,\n",
    "    methyl_sigma,\n",
    "):\n",
    "    setBilayer(\n",
    "        l_lipid,\n",
    "        sigma,\n",
    "        rel_pos,\n",
    "        hg1_thickness,\n",
    "        methyl_sigma,\n",
    "        bulksld\n",
    "    )\n",
    "\n",
    "    #set all unused parameters\n",
    "    dq=1.0\n",
    "    prefactor = 1.0\n",
    "    offset=0.\n",
    "\n",
    "    z = np.linspace(0, dimension * stepsize, dimension, endpoint=False)\n",
    "    normArea, aArea, aSL = bilayer.fnWriteProfile(z)\n",
    "    aSLD = getSLD(aArea, aSL, normArea, bulksld)\n",
    "    aSLD = symmetrize(aSLD, bulksld)\n",
    "    modelform = computeFormFactor(lq, aSLD/ed2sld, prefactor, dq, offset, stepsize)\n",
    "\n",
    "    # save a bunch of parameters when restoring problem states\n",
    "    problem.bilayers = [bilayer]\n",
    "    problem.stepsize = stepsize\n",
    "    problem.dimension = dimension\n",
    "    problem.sld = aSLD\n",
    "    problem.moldat = bilayer.fnWritePar2Dict({}, 'bilayer', z)\n",
    "\n",
    "    return modelform\n"
   ]
  },
  {
   "cell_type": "markdown",
   "source": [
    "# Fit Setup"
   ],
   "metadata": {
    "collapsed": false
   }
  },
  {
   "cell_type": "code",
   "execution_count": 7,
   "id": "af0769c6",
   "metadata": {},
   "outputs": [],
   "source": [
    "#Load experimental data\n",
    "ULV = np.loadtxt(\"exp_data/dopcULV.dat\")\n",
    "MLV = np.loadtxt(\"exp_data/dopcMLVs.dat\")\n",
    "ORI = np.loadtxt(\"exp_data/dopcOri.dat\")\n",
    "F2 = np.concatenate((ULV, MLV, ORI)) #This line is unnecessary for single file\n",
    "F2 = F2[np.argsort(F2[:, 0])]\n",
    "q_exp = F2[:, 0]\n",
    "form_exp = F2[:, 1]\n",
    "# constant error bar estimate of .05 Å\n",
    "dform_exp = [0.05] * len(form_exp)"
   ]
  },
  {
   "cell_type": "code",
   "execution_count": 8,
   "id": "8d356ecb",
   "metadata": {},
   "outputs": [],
   "source": [
    "bilayer = mol.BLM(lipids=[lipids.DOPC], lipid_nf=[1.0], xray_wavelength=1.514)"
   ]
  },
  {
   "cell_type": "code",
   "execution_count": 9,
   "id": "4ecc49b3",
   "metadata": {},
   "outputs": [],
   "source": [
    "l_lipid_initial = 11\n",
    "sigma_initial = 2.0\n",
    "rel_pos_initial = 0.5\n",
    "methyl_sigma_initial = 0.1\n",
    "lh1 = 9.65"
   ]
  },
  {
   "cell_type": "code",
   "execution_count": 10,
   "id": "46415fd1",
   "metadata": {},
   "outputs": [],
   "source": [
    "M2 = Curve(\n",
    "    modelformfactor,\n",
    "    q_exp,\n",
    "    form_exp,\n",
    "    dform_exp,\n",
    "    l_lipid=l_lipid_initial,\n",
    "    sigma=sigma_initial,\n",
    "#    prefactor=prefactor_initial,\n",
    "#    dq=dq_initial,\n",
    "#    offset=offset_initial,\n",
    "    rel_pos=rel_pos_initial,\n",
    "    hg1_thickness=lh1,\n",
    "    methyl_sigma=methyl_sigma_initial,\n",
    ")\n"
   ]
  },
  {
   "cell_type": "code",
   "execution_count": 11,
   "id": "7fa5b7fa",
   "metadata": {},
   "outputs": [
    {
     "data": {
      "text/plain": "Parameter(methyl_sigma)"
     },
     "execution_count": 11,
     "metadata": {},
     "output_type": "execute_result"
    }
   ],
   "source": [
    "M2.l_lipid.range(9, 13)\n",
    "M2.sigma.range(1.0, 4.0)\n",
    "#M2.prefactor.range(0.5, 1.5)\n",
    "#M2.dq.range(0.95, 1.1)\n",
    "#M2.offset.range(-0.1, 0.1)\n",
    "M2.hg1_thickness.range(7, 12)\n",
    "M2.rel_pos.range(0, 1)\n",
    "M2.methyl_sigma.range(0, 3)\n"
   ]
  },
  {
   "cell_type": "markdown",
   "id": "454857ee",
   "metadata": {},
   "source": [
    "# Run the fit"
   ]
  },
  {
   "cell_type": "code",
   "execution_count": 12,
   "id": "15f798a2",
   "metadata": {},
   "outputs": [],
   "source": [
    "model = M2\n",
    "problem = FitProblem(model)\n"
   ]
  },
  {
   "cell_type": "code",
   "execution_count": 13,
   "id": "fb02af08",
   "metadata": {},
   "outputs": [
    {
     "name": "stdout",
     "output_type": "stream",
     "text": [
      "/Users/frank/Dropbox/My Mac (PN115993.campus.nist.gov)/Documents/programming/molgroups/examples/data_fitting/diffraction/DOPC/fit_1/run\n"
     ]
    }
   ],
   "source": [
    "from bumps.mapper import MPMapper\n",
    "\n",
    "mapper = MPMapper.start_mapper(problem, None, cpus=0)  # cpus=0 for all CPUs\n",
    "if run:\n",
    "    result = fit(\n",
    "        problem,\n",
    "        method=\"dream\",\n",
    "        mapper = mapper,\n",
    "        samples=10,\n",
    "        burn=burn,\n",
    "        steps=steps,\n",
    "        thin=1,\n",
    "        alpha=0,\n",
    "        outliers=\"none\",\n",
    "        trim=\"none\",\n",
    "        verbose=True,\n",
    "    )\n",
    "    res_state = result.state\n",
    "    res_state.save(store + \"/\" + runfile)  # save chains\n",
    "    problem.fitness.save(store + \"/\" + runfile)  # save fit plot data\n",
    "\n",
    "else:\n",
    "    print(os.getcwd() + \"/\" + store + \"/\" + runfile)\n",
    "    res_state = load_state(os.getcwd() + \"/\" + store + \"/\" + runfile)\n",
    "    res_state.mark_outliers()\n"
   ]
  },
  {
   "cell_type": "markdown",
   "id": "a4059fc6",
   "metadata": {},
   "source": [
    "# Analyze Fit\n",
    "## Best Fit Profiles"
   ]
  },
  {
   "cell_type": "code",
   "execution_count": 26,
   "id": "54dc7945",
   "metadata": {},
   "outputs": [
    {
     "name": "stdout",
     "output_type": "stream",
     "text": [
      "1.0384495901585058\n"
     ]
    },
    {
     "data": {
      "text/plain": "<Figure size 900x540 with 1 Axes>",
      "image/png": "[encoded data removed]"
     },
     "metadata": {},
     "output_type": "display_data"
    }
   ],
   "source": [
    "p = res_state.best()[0]\n",
    "problem.setp(p)\n",
    "print(problem.chisq())\n",
    "\n",
    "q, F, dq, Fy = np.loadtxt(store + \"/\" + runfile + \".dat\", skiprows=1).T\n",
    "\n",
    "\"\"\"\n",
    "TODO: This creates the q-vector to generate an output to zero\n",
    " The F_theo calculation below does not work since the parameter vector p has a different order than expected by\n",
    " modelformfactor\n",
    "\n",
    "if q[0] > 0:\n",
    "    qmaxtheo = math.floor(q[0]/(q[1]-q[0]))*(q[1]-q[0])\n",
    "    if qmaxtheo == q[0]:\n",
    "        qmaxtheo -= stepsize\n",
    "    if qmaxtheo <= 0:\n",
    "        qmaxtheo = 0\n",
    "\n",
    "    q_theo = np.linspace(0, qmaxtheo, num=int(qmaxtheo/(q[1]-q[0])))\n",
    "    q_theo = np.concatenate([q_theo, q])\n",
    "else:\n",
    "    q_theo = q\n",
    "\n",
    "F_theo = modelformfactor(q_theo, *p.T)\n",
    "\"\"\"\n",
    "\n",
    "fig, ax = plt.subplots()\n",
    "# ax.plot(q, Fy, zorder=2, label=\"model\")\n",
    "# ax.plot(q_theo, F_theo, zorder=2, label=\"model\")\n",
    "ax.plot(q, Fy, zorder=2, label=\"model\")\n",
    "ax.errorbar(q, F, dq, zorder=1, label=\"experiment\")\n",
    "ax.legend(fontsize=8)\n",
    "ax.set_xlim([0, q[-1]])\n",
    "ax.set_ylabel(\"|F($q_z$)| (e/Å$^2$)\", fontsize=10)\n",
    "ax.minorticks_on()\n",
    "ax.tick_params(which=\"both\", direction=\"in\", labelsize=10)\n",
    "ax.tick_params(bottom=True, top=True, left=True, right=True, which=\"both\")\n",
    "ax.set_xlabel(\"$q_z$ (Å$^{-1}$)\", fontsize=10)\n",
    "ax.figure.set_size_inches(12.5, 7.5)\n",
    "fig.patch.set_facecolor('white')\n",
    "plt.savefig(store + \"/model.png\", facecolor=\"white\")\n",
    "plt.show()"
   ]
  },
  {
   "cell_type": "code",
   "execution_count": null,
   "outputs": [],
   "source": [
    "def plot_components(z, blm, center):\n",
    "    def _add_components(obj, name, nf, center):\n",
    "        for key, val in obj.__dict__.items():       # cycle over all attributes of blm\n",
    "            if isinstance(val, mol.nSLDObj):        # if instance of nSLDObj, plot its profile\n",
    "                ddp, aArea, anSL = val.fnWriteProfile(z)\n",
    "                aArea = np.array(aArea)\n",
    "                anSL = np.array(anSL)\n",
    "                anSLperD = anSL / (maxarea * stepsize)\n",
    "                anSLD = np.divide(anSL, aArea, out=np.zeros_like(anSL), where=aArea>0.01)\n",
    "                anSLD /= stepsize\n",
    "                ax[0].plot(z-center, aArea*nf, '-', label=name+'.'+val.name)\n",
    "                ax[1].plot(z-center, anSLperD/ed2sld, '-', label=name+'.'+val.name)\n",
    "                ax[2].plot(z-center, anSL*nf/ed2sld/stepsize, '-', label=name+'.'+val.name)\n",
    "                _add_components(val, name+'.'+val.name, nf*val.nf, center)\n",
    "\n",
    "    dd, aArea, anSL = blm.fnWriteProfile(z)\n",
    "    aAreaTotal = np.array(aArea)\n",
    "    anSLTotal = np.array(anSL)\n",
    "    maxarea = np.amax(aArea)\n",
    "    anSLplusWater = anSL + (maxarea-aArea) * stepsize * bulksld\n",
    "    anSLperDTotal = anSLTotal / (maxarea * stepsize)\n",
    "    anSLDTotal = np.divide(anSLTotal, aArea, out=np.zeros_like(anSLTotal), where=aArea>0.01)\n",
    "    anSLDTotal /= stepsize\n",
    "    anSLperDplusWater = anSLplusWater / (maxarea * stepsize)\n",
    "\n",
    "    fig, ax = plt.subplots(3, 1, figsize=(20,30))\n",
    "    fig.patch.set_facecolor('white')\n",
    "\n",
    "    # plot individual components first\n",
    "    _add_components(bilayer, \"\", 1., center)\n",
    "\n",
    "    ax[0].plot(z-center, aAreaTotal, label='total')\n",
    "    ax[1].plot(z-center, anSLperDTotal/ed2sld, label='total')\n",
    "    ax[1].plot(z-center, anSLperDplusWater/ed2sld, label='total plus water')\n",
    "    ax[2].plot(z-center, anSLTotal/ed2sld/stepsize, label='total')\n",
    "    ax[2].plot(z-center, anSLplusWater/ed2sld/stepsize, label='total plus water')\n",
    "    ax[0].set_ylabel('Area')\n",
    "    ax[1].set_ylabel('electron density / A^-3')\n",
    "    ax[2].set_ylabel('electrons per distance / A^-1')\n",
    "    ax[0].set_xlabel('distance, z / A')\n",
    "    ax[1].set_xlabel('distance, z / A')\n",
    "    ax[2].set_xlabel('distance, z / A')\n",
    "\n",
    "\n",
    "    for i in range(3):\n",
    "        ax[i].legend(loc=0)\n",
    "        ax[i].legend(loc=\"upper right\")\n",
    "        ax[i].minorticks_on()\n",
    "        ax[i].tick_params(which=\"both\", direction=\"in\", labelsize=10)\n",
    "        ax[i].tick_params(bottom=True, top=True, left=True, right=True, which=\"both\")\n",
    "        ax[i].set_xlim(-45, 45)\n",
    "        ax[i].set_xticks(np.arange(-45, 46, 5.0))\n",
    "        ax[i].grid(True, which='Both')\n",
    "    fig.patch.set_facecolor('white')\n",
    "    plt.savefig(store + \"/best\", facecolor=\"white\")\n",
    "    plt.show()\n",
    "\n",
    "bilayer = problem.bilayers[0]\n",
    "# center around methyl distribution\n",
    "center = bilayer.methyl1_1.z + 0.5 * bilayer.methyl1_1.l\n",
    "z = np.arange(dimension) * stepsize\n",
    "bilayer.fnAdjustParameters()\n",
    "plot_components(z, bilayer, center)"
   ],
   "metadata": {
    "collapsed": false,
    "pycharm": {
     "name": "#%%\n"
    }
   }
  },
  {
   "cell_type": "markdown",
   "source": [
    "## Statistical Analysis"
   ],
   "metadata": {
    "collapsed": false
   }
  },
  {
   "cell_type": "code",
   "execution_count": null,
   "id": "a4eac070",
   "metadata": {},
   "outputs": [],
   "source": [
    "from bumps.dream.stats import var_stats, save_vars\n",
    "\n",
    "print(\"final chisq\", problem.chisq_str())\n",
    "draw = res_state.draw(portion=1)\n",
    "all_vstats = var_stats(draw)\n",
    "save_vars(all_vstats, store + \"/\" + runfile + \".json\")\n"
   ]
  },
  {
   "cell_type": "code",
   "execution_count": null,
   "id": "39c31a37",
   "metadata": {},
   "outputs": [],
   "source": [
    "from bumps.dream import corrplot, varplot\n",
    "from pylab import figure, savefig\n",
    "\n",
    "err = sys.stderr\n",
    "sys.stderr = open(\"/dev/stderr\", \"w\")\n",
    "figure(figsize=varplot.var_plot_size(len(all_vstats)))\n",
    "nbins = max(min(draw.points.shape[0] // 10000, 400), 30)\n",
    "varplot.plot_vars(draw, all_vstats, nbins=nbins)\n",
    "if run:\n",
    "    savefig(store + \"/var\", facecolor=\"white\")\n",
    "else:\n",
    "    savefig(store + \"/var_reloaded\", facecolor=\"white\")\n",
    "sys.stderr = err\n"
   ]
  },
  {
   "cell_type": "code",
   "execution_count": null,
   "id": "22852ed7",
   "metadata": {},
   "outputs": [],
   "source": [
    "if draw.num_vars <= 25:\n",
    "    figure()\n",
    "    c = corrplot.Corr2d(draw.points.T, bins=nbins, labels=draw.labels)\n",
    "    c.plot()\n",
    "if run:\n",
    "    savefig(store + \"/corr\", facecolor=\"white\")\n",
    "else:\n",
    "    savefig(store + \"/corr_reloaded\", facecolor=\"white\")\n"
   ]
  },
  {
   "cell_type": "code",
   "execution_count": null,
   "id": "a868f83a",
   "metadata": {},
   "outputs": [],
   "source": [
    "p = res_state.best()[0]\n",
    "problem.setp(p)\n",
    "print(problem.chisq())\n"
   ]
  },
  {
   "cell_type": "code",
   "execution_count": null,
   "id": "353e45f9",
   "metadata": {},
   "outputs": [],
   "source": [
    "import os\n",
    "\n",
    "if run:\n",
    "    if os.path.isfile(store + \"/sErr.dat\"):\n",
    "        os.remove(store + \"/sErr.dat\")\n",
    "    if os.path.isfile(store + \"/isErr.dat\"):\n",
    "        os.remove(store + \"/isErr.dat\")\n",
    "    if os.path.isfile(store + \"/StatDataPython.dat\"):\n",
    "        os.remove(store + \"/StatDataPython.dat\")\n",
    "\n",
    "fit_analysis = rs.CMolStat(\n",
    "    fitsource=fitsource,\n",
    "    spath=setupdir,\n",
    "    mcmcpath=store,\n",
    "    runfile=runfile,\n",
    "    state=res_state,\n",
    "    problem=problem,\n",
    ")\n"
   ]
  },
  {
   "cell_type": "code",
   "execution_count": null,
   "id": "b0a8177b",
   "metadata": {},
   "outputs": [],
   "source": [
    "sparse = 0.005\n",
    "fit_analysis.fnAnalyzeStatFile(fConfidence=-1, sparse=sparse)\n"
   ]
  },
  {
   "cell_type": "code",
   "execution_count": null,
   "id": "b6802f15",
   "metadata": {},
   "outputs": [],
   "source": [
    "fit_analysis.fnCreateBilayerPlotData()"
   ]
  },
  {
   "cell_type": "code",
   "execution_count": null,
   "id": "9071fbf8",
   "metadata": {},
   "outputs": [],
   "source": [
    "fit_analysis.fnCalculateMolgroupProperty(fConfidence=-1)"
   ]
  },
  {
   "cell_type": "code",
   "execution_count": null,
   "outputs": [],
   "source": [
    "import pandas as pd\n",
    "import matplotlib.pyplot as plt\n",
    "import sys\n",
    "\n",
    "bilayer_plot_data = pd.read_csv(\n",
    "    store + \"/bilayerplotdata.dat\", sep=\"\\s\", engine=\"python\"\n",
    ")\n",
    "\n",
    "# use methyl groups to align plot\n",
    "methyls = bilayer_plot_data[\"innerch3_corr_cvo\"]+bilayer_plot_data[\"outerch3_corr_cvo\"]\n",
    "center = np.argmax(methyls) * stepsize\n",
    "zax = bilayer_plot_data[\"zaxis\"] -center\n",
    "\n",
    "fig, ax = plt.subplots()\n",
    "ax.plot(zax, bilayer_plot_data[\"water_corr_cvo\"], label=\"water\")\n",
    "ax.plot(zax, bilayer_plot_data[\"innerhg_corr_cvo\"] + bilayer_plot_data[\"outerhg_corr_cvo\"], label=\"headgroups\")\n",
    "ax.plot(zax, bilayer_plot_data[\"inner_cg_corr_cvo\"] + bilayer_plot_data[\"outer_cg_corr_cvo\"],label=\"cg\")\n",
    "ax.plot(zax, bilayer_plot_data[\"inner_phosphate_corr_cvo\"] + bilayer_plot_data[\"outer_phosphate_corr_cvo\"], label=\"phosphate\")\n",
    "ax.plot(zax, bilayer_plot_data[\"inner_choline_corr_cvo\"] + bilayer_plot_data[\"outer_choline_corr_cvo\"], label=\"choline\")\n",
    "ax.plot(zax, bilayer_plot_data[\"innerhc_corr_cvo\"]+bilayer_plot_data[\"outerhc_corr_cvo\"], label=\"hydrocarbons\")\n",
    "ax.plot(zax, bilayer_plot_data[\"innerch2_corr_cvo\"]+bilayer_plot_data[\"outerch2_corr_cvo\"], label=\"CH2\")\n",
    "ax.plot(zax, bilayer_plot_data[\"innerch3_corr_cvo\"]+bilayer_plot_data[\"outerch3_corr_cvo\"], label=\"CH3\")\n",
    "ax.legend(loc=\"upper right\")\n",
    "plt.xlabel(\"Distance (Å)\")\n",
    "plt.ylabel(\"Component volume occupancy\")\n",
    "ax.minorticks_on()\n",
    "ax.tick_params(which=\"both\", direction=\"in\", labelsize=10)\n",
    "ax.tick_params(bottom=True, top=True, left=True, right=True, which=\"both\")\n",
    "plt.xlim(-35, 35)\n",
    "plt.xticks(np.arange(-35, 36, 5.0))\n",
    "plt.grid(True, which='Both')\n",
    "fig.patch.set_facecolor('white')\n",
    "ax.figure.set_size_inches(16, 10)\n",
    "plt.savefig(store + \"/cvo\", facecolor=\"white\")\n",
    "plt.show()"
   ],
   "metadata": {
    "collapsed": false,
    "pycharm": {
     "name": "#%%\n"
    }
   }
  },
  {
   "cell_type": "code",
   "execution_count": null,
   "outputs": [],
   "source": [
    "import pandas as pd\n",
    "import matplotlib.pyplot as plt\n",
    "import sys\n",
    "\n",
    "bilayer_plot_data = pd.read_csv(\n",
    "    store + \"/bilayerplotdata.dat\", sep=\"\\s\", engine=\"python\"\n",
    ")\n",
    "\n",
    "fig, ax = plt.subplots()\n",
    "ax.plot(zax, bilayer_plot_data[\"water_corr\"], label=\"water\")\n",
    "ax.plot(zax, bilayer_plot_data[\"innerhg_corr\"] + bilayer_plot_data[\"outerhg_corr\"], label=\"headgroups\")\n",
    "ax.plot(zax, bilayer_plot_data[\"inner_cg_corr\"] + bilayer_plot_data[\"outer_cg_corr\"],label=\"cg\")\n",
    "ax.plot(zax, bilayer_plot_data[\"inner_phosphate_corr\"] + bilayer_plot_data[\"outer_phosphate_corr\"], label=\"phosphate\")\n",
    "ax.plot(zax, bilayer_plot_data[\"inner_choline_corr\"] + bilayer_plot_data[\"outer_choline_corr\"], label=\"choline\")\n",
    "ax.plot(zax, bilayer_plot_data[\"innerhc_corr\"]+bilayer_plot_data[\"outerhc_corr\"], label=\"hydrocarbons\")\n",
    "ax.plot(zax, bilayer_plot_data[\"innerch2_corr\"]+bilayer_plot_data[\"outerch2_corr\"], label=\"CH2\")\n",
    "ax.plot(zax, bilayer_plot_data[\"innerch3_corr\"]+bilayer_plot_data[\"outerch3_corr\"], label=\"CH3\")\n",
    "ax.legend(loc=\"upper right\")\n",
    "plt.xlabel(\"Distance (Å)\")\n",
    "plt.ylabel(\"Area\")\n",
    "ax.minorticks_on()\n",
    "ax.tick_params(which=\"both\", direction=\"in\", labelsize=10)\n",
    "ax.tick_params(bottom=True, top=True, left=True, right=True, which=\"both\")\n",
    "plt.xlim(-35, 35)\n",
    "plt.xticks(np.arange(-35, 36, 5.0))\n",
    "plt.grid(True, which='Both')\n",
    "fig.patch.set_facecolor('white')\n",
    "ax.figure.set_size_inches(16, 10)\n",
    "plt.savefig(store + \"/area\", facecolor=\"white\")\n",
    "plt.show()"
   ],
   "metadata": {
    "collapsed": false,
    "pycharm": {
     "name": "#%%\n"
    }
   }
  },
  {
   "cell_type": "markdown",
   "id": "a0d0c2b6",
   "metadata": {
    "pycharm": {
     "name": "#%% md\n"
    }
   },
   "source": [
    "## Solvent-subtracted electron density profile"
   ]
  },
  {
   "cell_type": "code",
   "execution_count": null,
   "outputs": [],
   "source": [
    "a = fit_analysis.diStatResults[\"nSLDProfiles\"]\n",
    "b = []\n",
    "for i in range(len(a)):\n",
    "    it = a[i][0][0]\n",
    "    it = [(it[n] + bulksld) / 2.814e-5 for n in range(len(it))]\n",
    "    b += [it]\n",
    "\n",
    "b = np.array(b).T\n",
    "c = []\n",
    "for i in range(len(b)):\n",
    "    cc = fit_analysis.fnCalcConfidenceLimits(b[i])\n",
    "    c += [cc]\n",
    "c = np.array(c).T\n",
    "z = [stepsize * (i - np.argmin(c[2])) for i in range(dimension)]\n",
    "\n",
    "fig, ax = plt.subplots()\n",
    "ax.fill_between(z, c[3], y2=c[1], color=\"grey\")\n",
    "plt.xlabel(\"Distance from Bilayer Center (Å)\")\n",
    "plt.ylabel(\"ρ $(e/Å^3)$\")\n",
    "ax.plot(z, c[2], color=\"black\", label=\"model\")\n",
    "ax.minorticks_on()\n",
    "ax.tick_params(which=\"both\", direction=\"in\", labelsize=10)\n",
    "ax.tick_params(bottom=True, top=True, left=True, right=True, which=\"both\")\n",
    "ax.legend(loc=\"lower right\")\n",
    "plt.xlim(-35, 35)\n",
    "plt.xticks(np.arange(-35, 36, 5.0))\n",
    "plt.grid(True, which='Both')\n",
    "fig.patch.set_facecolor('white')\n",
    "ax.figure.set_size_inches(16, 10)\n",
    "plt.savefig(store + \"/electron_density\", facecolor=\"white\")\n",
    "plt.show()"
   ],
   "metadata": {
    "collapsed": false,
    "pycharm": {
     "name": "#%%\n"
    }
   }
  },
  {
   "cell_type": "code",
   "execution_count": null,
   "outputs": [],
   "source": [],
   "metadata": {
    "collapsed": false,
    "pycharm": {
     "name": "#%%\n"
    }
   }
  }
 ],
 "metadata": {
  "interpreter": {
   "hash": "05d582df831dd7fae68dfffc73e5ea31ad7a23d6a2275d5f88151c2f48f29d76"
  },
  "kernelspec": {
   "display_name": "Python 3 (ipykernel)",
   "language": "python",
   "name": "python3"
  },
  "language_info": {
   "codemirror_mode": {
    "name": "ipython",
    "version": 3
   },
   "file_extension": ".py",
   "mimetype": "text/x-python",
   "name": "python",
   "nbconvert_exporter": "python",
   "pygments_lexer": "ipython3",
   "version": "3.8.11"
  }
 },
 "nbformat": 4,
 "nbformat_minor": 5
}