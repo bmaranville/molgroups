{
 "cells": [
  {
   "cell_type": "markdown",
   "id": "551d0249",
   "metadata": {},
   "source": [
    "# Imports"
   ]
  },
  {
   "cell_type": "code",
   "execution_count": 1,
   "id": "4c0454bf",
   "metadata": {
    "scrolled": true,
    "tags": []
   },
   "outputs": [
    {
     "name": "stdout",
     "output_type": "stream",
     "text": [
      "/Users/frank/Dropbox/My Mac (PN115993.campus.nist.gov)/Documents/programming/molgroups/examples/data_fitting/SANS/ULV\n"
     ]
    },
    {
     "data": {
      "text/plain": "'/Users/frank/Dropbox/My Mac (PN115993.campus.nist.gov)/Documents/programming/molgroups/examples/data_fitting/SANS/ULV/sim1.dat'"
     },
     "execution_count": 1,
     "metadata": {},
     "output_type": "execute_result"
    }
   ],
   "source": [
    "import os\n",
    "import shutil\n",
    "import copy\n",
    "import matplotlib.pyplot as plt\n",
    "import pandas\n",
    "\n",
    "from molgroups.support import molstat\n",
    "from molgroups.infotheory import entropy\n",
    "from IPython.core.magic import register_cell_magic\n",
    "\n",
    "@register_cell_magic\n",
    "def write_and_run(line, cell):\n",
    "    argz = line.split()\n",
    "    file = argz[-1]\n",
    "    mode = 'w'\n",
    "    if len(argz) == 2 and argz[0] == '-a':\n",
    "        mode = 'a'\n",
    "    with open(file, mode) as f:\n",
    "        f.write(cell)\n",
    "    get_ipython().run_cell(cell)\n",
    "\n",
    "print(os.getcwd())\n",
    "\n",
    "# always use the same testdata\n",
    "shutil.copyfile('./bu/H_DPPC_D2O_50C.ABS', os.getcwd()+'/sim0.dat')\n",
    "shutil.copyfile('./bu/H_DPPC_D2O_50C.ABS', os.getcwd()+'/sim1.dat')"
   ]
  },
  {
   "cell_type": "markdown",
   "id": "edd90e18",
   "metadata": {},
   "source": [
    "# Variables for example fit and optimization"
   ]
  },
  {
   "cell_type": "code",
   "execution_count": 2,
   "id": "5e6c29ab",
   "metadata": {},
   "outputs": [],
   "source": [
    "# Run Optimization or only example fit and data simulation\n",
    "RunOptimization=True\n",
    "\n",
    "store = \"T\"\n",
    "setupdir = os.getcwd()\n",
    "runfile = \"sansves\"\n",
    "fitsource = \"SASView\"\n",
    "\n",
    "# remove store directory if it already exists, since we do not want to reload here\n",
    "if os.path.isdir(os.path.join(setupdir, store)):\n",
    "    shutil.rmtree(os.path.join(setupdir, store))\n",
    "\n",
    "burn=2000\n",
    "steps=200\n"
   ]
  },
  {
   "cell_type": "markdown",
   "id": "f2d75d06",
   "metadata": {},
   "source": [
    "# Create Short Example Fit"
   ]
  },
  {
   "cell_type": "markdown",
   "id": "3c92f6a1",
   "metadata": {},
   "source": [
    "1.  The model needs to define fittable parameters with unique names, as shown below. For example, model0.scale and model1.scale would not be unique, since both parameters would be internally named 'scale' by bumps. In such a case, define parameters using the Parameter method and assign them to the models afterwards."
   ]
  },
  {
   "cell_type": "markdown",
   "id": "a94f374c",
   "metadata": {},
   "source": [
    "Does not currently work, as the bilayer update is not supported this way."
   ]
  },
  {
   "cell_type": "code",
   "execution_count": 3,
   "id": "9eee194e",
   "metadata": {},
   "outputs": [],
   "source": [
    "%%write_and_run sansves.py\n",
    "from bumps.names import *\n",
    "from sasmodels.core import load_model\n",
    "from sasmodels.bumps_model import Model, Experiment\n",
    "from sasmodels.data import load_data, plot_data\n",
    "from molgroups import mol\n",
    "from molgroups import components as cmp\n",
    "from molgroups import lipids\n",
    "\n",
    "import numpy\n",
    "\n",
    "# constants\n",
    "dimension = 100\n",
    "stepsize = 1.\n",
    "z = numpy.linspace(0, 99, 100, endpoint=True)\n",
    "\n",
    "def bilayer(z, bulknsld, l_lipid1, l_lipid2, sigma=3.0, vf_bilayer=1.0):\n",
    "    # Scale all SLDs from Refl1D units (1e-6 Ang^-2) to molgroups units (Ang^-2)\n",
    "    bulknsld *= 1e-6\n",
    "\n",
    "    blm.fnSet(sigma=sigma, bulknsld=bulknsld, startz=20., l_lipid1=l_lipid1, l_lipid2=l_lipid2, vf_bilayer=vf_bilayer)\n",
    "\n",
    "    # print(z)\n",
    "\n",
    "    # Calculate scattering properties of volume occupied by bilayer\n",
    "    normarea, area, nsl = blm.fnWriteProfile(z)\n",
    "\n",
    "    # Fill in the remaining volume with buffer of appropriate nSLD\n",
    "    nsld = nsl / (normarea * np.gradient(z)) + (1.0 - area / normarea) * bulknsld\n",
    "\n",
    "    # export objects for post analysis, needs to be from this function\n",
    "    problem.bilayers = [blm]\n",
    "    problem.dimension = dimension\n",
    "    problem.stepsize = stepsize\n",
    "    problem.moldat = blm.fnWritePar2Dict({}, 'bilayer', np.arange(dimension) * stepsize)\n",
    "\n",
    "    # Return nSLD profile in Refl1D units\n",
    "    return nsld*1e6\n",
    "\n",
    "def Dummy(x, l_lipid=1):\n",
    "    #################################################\n",
    "    # bilayer update\n",
    "    # have to figure out how to do a dynamic update\n",
    "    # that's the code\n",
    "    sldarr0 = bilayer(z, float(model0.sld_solvent.value), l_lipid, l_lipid)\n",
    "    #sldarr1 = bilayer(z, float(model1.sld_solvent.value), l_lipid, l_lipid)\n",
    "    for i in range(pars0['n']):\n",
    "        getattr(model0, 'sld'+str(i+1)).value = sldarr0[i]\n",
    "        #getattr(model1, 'sld'+str(i+1)).value = sldarr1[i]\n",
    "        getattr(model0, 'thickness'+str(i+1)).value = 1.\n",
    "        #getattr(model1, 'thickness'+str(i+1)).value = 1.\n",
    "\n",
    "    result = numpy.array([1., 2., 3.]) # + 0 * l_lipid * x\n",
    "    return result\n",
    "\n",
    "### Define bilayer object\n",
    "DPPC = cmp.Lipid(name='DPPC', headgroup=lipids.PC, tails=2 * [cmp.palmitoyl], methyls=[cmp.methyl])\n",
    "blm = mol.BLM(lipids=[DPPC], lipid_nf=[1.0])\n",
    "\n",
    "# IMPORT THE DATA USED\n",
    "data0 = load_data('sim0.dat')\n",
    "#data1 = load_data('sim1.dat')\n",
    "\n",
    "qmin = 0.02\n",
    "qmax = 0.35\n",
    "setattr(data0, 'qmin', qmin)\n",
    "setattr(data0, 'qmax', qmax)\n",
    "#setattr(data1, 'qmin', 0.02)\n",
    "#setattr(data1, 'qmax', 0.35)\n",
    "\n",
    "\n",
    "# DEFINE THE MODEL\n",
    "# copied and initialized the custom model with up to 100 sld and thickness parameters in sasmodels/models\n",
    "# a second hard-coded limit in sasmodels/modelinfo.py line 594 was manually increased from 20 to 120.\n",
    "kernel = load_model('my_core_multi_shell@hardsphere')\n",
    "\n",
    "pars0 = dict(scale=0.002, background=0.15, sld_core=3.0, sld_solvent=2.4, radius=60.0, radius_pd=0.3, n=100, radius_effective=60.0, volfraction=0.01)\n",
    "#pars1 = dict(scale=0.002, background=0.15, sld_core=3.0, sld_solvent=3.4, radius=60.0, radius_pd=0.3, n=100, radius_effective=60.0, volfraction=0.01)\n",
    "\n",
    "model0 = Model(kernel, **pars0)\n",
    "#model1 = Model(kernel, **pars1)\n",
    "\n",
    "# Bilayer specific-parameters are passed into a dummy function\n",
    "xfoo = numpy.array([1., 2., 3.])\n",
    "yfoo = numpy.array([1., 2., 3.])\n",
    "dyfoo = numpy.array([0.01, 0.01, 0.01])\n",
    "M0 = Curve(Dummy, xfoo, yfoo, dyfoo, l_lipid=2)\n",
    "M0.l_lipid.range(10, 15)\n",
    "\n",
    "# PARAMETER RANGES (ONLY THOSE PARAMETERS ARE FITTED)\n",
    "background0 = Parameter(name='background0', value=0.4).range(0.01, 0.8)\n",
    "#background1 = Parameter(name='background1', value=0.4).range(0.01, 0.8)\n",
    "sld_solvent0 = sld_core0 = Parameter(name='sld_solvent0', value=2.0).range(-0.56, 6.4)\n",
    "#sld_solvent1 = sld_core1 = Parameter(name='sld_solvent1', value=2.0).range(-0.56, 6.4)\n",
    "\n",
    "model0.scale.range(0.0001, 0.5)\n",
    "model0.background = background0\n",
    "model0.sld_solvent = sld_solvent0\n",
    "model0.sld_core = sld_core0\n",
    "model0.radius.range(40., 1200.)\n",
    "model0.radius_pd.range(0.05, 0.5)\n",
    "model0.radius_effective = model0.radius + 50.\n",
    "model0.volfraction = model0.scale\n",
    "\n",
    "#model1.scale = model0.scale\n",
    "#model1.background = background1\n",
    "#model1.sld_solvent = sld_solvent1\n",
    "#model1.sld_core = sld_core1\n",
    "#model1.radius = model0.radius\n",
    "#model1.radius_pd=model0.radius_pd\n",
    "#model1.radius_effective = model0.radius\n",
    "#model1.volfraction = model0.scale\n",
    "\n",
    "M1 = Experiment(data=data0, model=model0)\n",
    "#M2 = Experiment(data=data1, model=model1)\n",
    "\n",
    "problem = MultiFitProblem([M0, M1])"
   ]
  },
  {
   "cell_type": "markdown",
   "id": "13a6038b",
   "metadata": {},
   "source": [
    "2. Run Example Fit"
   ]
  },
  {
   "cell_type": "code",
   "execution_count": 4,
   "outputs": [
    {
     "name": "stdout",
     "output_type": "stream",
     "text": [
      "No file: /Users/frank/Dropbox/My Mac (PN115993.campus.nist.gov)/Documents/programming/molgroups/examples/data_fitting/SANS/ULV/T/sansves.py\n",
      "No state to reload.\n"
     ]
    }
   ],
   "source": [
    "fitobj = molstat.CMolStat(\n",
    "    fitsource=fitsource,\n",
    "    spath=setupdir,\n",
    "    mcmcpath=store,\n",
    "    runfile=runfile,\n",
    "    state=None,\n",
    "    problem=None,\n",
    ")\n"
   ],
   "metadata": {
    "collapsed": false
   }
  },
  {
   "cell_type": "code",
   "execution_count": null,
   "id": "353e45f9",
   "metadata": {
    "pycharm": {
     "is_executing": true
    }
   },
   "outputs": [
    {
     "name": "stdout",
     "output_type": "stream",
     "text": [
      "# steps: 200, # draws: 12000\n",
      "step 1 cost 1369.489(54)\n",
      "                                 l_lipid ...|......    11.7138 in (10,15)\n",
      "                             background0 |.........  0.0238139 in (0.01,0.8)\n",
      "                                  radius ....|.....    533.669 in (40,1200)\n",
      "                               radius_pd ..|.......   0.171767 in (0.05,0.5)\n",
      "                                   scale ........|.   0.414424 in (0.0001,0.5)\n",
      "                            sld_solvent0 ....|.....    2.57104 in (-0.56,6.4)\n",
      "step 5 cost 119.344(54)\n",
      "step 10 cost 66.263(54)\n",
      "step 15 cost 49.028(54)\n",
      "step 19 cost 49.028(54)\n",
      "step 23 cost 25.253(54)\n",
      "step 27 cost 25.253(54)\n",
      "step 31 cost 23.272(54)\n",
      "step 35 cost 15.877(54)\n",
      "step 39 cost 11.413(54)\n",
      "step 43 cost 11.413(54)\n",
      "step 47 cost 11.413(54)\n",
      "step 51 cost 11.413(54)\n",
      "step 55 cost 7.060(54)\n",
      "step 59 cost 7.060(54)\n",
      "step 63 cost 5.836(54)\n",
      "step 67 cost 5.836(54)\n",
      "step 71 cost 5.836(54)\n",
      "step 75 cost 4.544(54)\n",
      "step 79 cost 4.544(54)\n",
      "step 83 cost 4.544(54)\n",
      "step 87 cost 4.544(54)\n",
      "step 91 cost 4.544(54)\n",
      "step 95 cost 4.544(54)\n",
      "step 99 cost 4.544(54)\n",
      "step 103 cost 4.544(54)\n",
      "step 107 cost 4.544(54)\n",
      "                                 l_lipid .......|..    13.5493 in (10,15)\n",
      "                             background0 |.........  0.0730843 in (0.01,0.8)\n",
      "                                  radius .........|    1135.42 in (40,1200)\n",
      "                               radius_pd |.........  0.0866319 in (0.05,0.5)\n",
      "                                   scale .......|..   0.394585 in (0.0001,0.5)\n",
      "                            sld_solvent0 .....|....    3.44179 in (-0.56,6.4)\n",
      "step 111 cost 4.544(54)\n",
      "step 115 cost 4.544(54)\n",
      "step 119 cost 4.544(54)\n",
      "step 123 cost 3.863(54)\n",
      "step 127 cost 3.863(54)\n",
      "step 131 cost 3.863(54)\n",
      "step 135 cost 3.863(54)\n",
      "step 139 cost 3.496(54)\n",
      "step 143 cost 3.496(54)\n",
      "step 147 cost 3.496(54)\n",
      "step 151 cost 3.496(54)\n",
      "step 155 cost 3.496(54)\n",
      "step 159 cost 3.496(54)\n",
      "step 163 cost 3.496(54)\n",
      "step 166 cost 3.496(54)\n",
      "step 170 cost 3.496(54)\n",
      "step 174 cost 3.496(54)\n",
      "step 178 cost 3.496(54)\n",
      "step 182 cost 3.359(54)\n",
      "step 186 cost 3.359(54)\n"
     ]
    }
   ],
   "source": [
    "fitobj.Interactor.fnRunMCMC(burn, steps, batch=False)"
   ]
  },
  {
   "cell_type": "code",
   "execution_count": null,
   "id": "ecb97af0",
   "metadata": {
    "pycharm": {
     "is_executing": true
    }
   },
   "outputs": [],
   "source": [
    "from bumps.dream.state import load_state\n",
    "import pandas as pd\n",
    "import matplotlib.pyplot as plt\n",
    "import bumps.curve\n",
    "\n",
    "res_state = load_state(os.getcwd() + \"/\" + store + \"/\" + runfile)\n",
    "res_state.mark_outliers()\n",
    "p = res_state.best()[0]\n",
    "problem.setp(p)\n",
    "\n",
    "pd = [None, data0.x[(data0.x >= qmin) & (data0.x <= qmax)]]\n",
    "\n",
    "i=0\n",
    "for M in problem.models:\n",
    "    M.chisq()\n",
    "    theo = M.fitness.theory()\n",
    "    if not isinstance(M.fitness, bumps.curve.Curve):\n",
    "        fig, ax = plt.subplots()\n",
    "        ax.errorbar(pd[i], M.fitness.Iq, yerr=M.fitness.dIq, label=M.fitness.name, ls=None, color='r')\n",
    "        ax.scatter(pd[i], M.fitness.Iq, s=30, marker='o', facecolors='none', edgecolors='r')\n",
    "        ax.plot(pd[i], theo, label=\"model\", color='black', linewidth=2)\n",
    "        ax.legend(loc=\"upper right\")\n",
    "        plt.xlabel(\"q (1/Å)\")\n",
    "        plt.ylabel(\"I (1/cm)\")\n",
    "        ax.minorticks_on()\n",
    "        ax.tick_params(which=\"both\", direction=\"in\", labelsize=10)\n",
    "        ax.tick_params(bottom=True, top=True, left=True, right=True, which=\"both\")\n",
    "        ax.set_yscale('log')\n",
    "        ax.set_xscale('log')\n",
    "        #plt.xlim(0, 100)\n",
    "        #plt.xticks(numpy.arange(-35, 36, 5.0))\n",
    "        #plt.grid(True, which='Both')\n",
    "        fig.patch.set_facecolor('white')\n",
    "        ax.figure.set_size_inches(8, 8)\n",
    "        plt.savefig(store + \"/cvo\", facecolor=\"white\")\n",
    "        plt.show()\n",
    "    i+=1\n",
    "\n"
   ]
  },
  {
   "cell_type": "code",
   "execution_count": null,
   "outputs": [],
   "source": [
    "sparse = 0.05\n",
    "fitobj.fnAnalyzeStatFile(fConfidence=-1, sparse=sparse)"
   ],
   "metadata": {
    "collapsed": false,
    "pycharm": {
     "is_executing": true
    }
   }
  },
  {
   "cell_type": "markdown",
   "source": [
    "Create bilayer statistics from above parameter statistics. Results are saved to bilayerplotdata.dat. Plot the median bilayer profile"
   ],
   "metadata": {
    "collapsed": false
   }
  },
  {
   "cell_type": "code",
   "execution_count": null,
   "outputs": [],
   "source": [
    "fitobj.fnCreateBilayerPlotData()"
   ],
   "metadata": {
    "collapsed": false,
    "pycharm": {
     "is_executing": true
    }
   }
  },
  {
   "cell_type": "code",
   "execution_count": null,
   "outputs": [],
   "source": [
    "fitobj.fnCalculateMolgroupProperty(fConfidence=-1)"
   ],
   "metadata": {
    "collapsed": false,
    "pycharm": {
     "is_executing": true
    }
   }
  },
  {
   "cell_type": "code",
   "execution_count": null,
   "outputs": [],
   "source": [
    "import pandas as pd\n",
    "import matplotlib.pyplot as plt\n",
    "import sys\n",
    "\n",
    "bilayer_plot_data = pd.read_csv(store + \"/bilayerplotdata.dat\", sep=\"\\s\", engine=\"python\")\n",
    "\n",
    "zax = bilayer_plot_data[\"zaxis\"]\n",
    "\n",
    "fig, ax = plt.subplots()\n",
    "ax.plot(zax, bilayer_plot_data[\"water_corr_cvo\"], label=\"water\")\n",
    "ax.plot(zax, bilayer_plot_data[\"innerhg_corr_cvo\"] + bilayer_plot_data[\"outerhg_corr_cvo\"], label=\"headgroups\")\n",
    "#ax.plot(zax, bilayer_plot_data[\"inner_cg_corr_cvo\"] + bilayer_plot_data[\"outer_cg_corr_cvo\"],label=\"cg\")\n",
    "#ax.plot(zax, bilayer_plot_data[\"inner_phosphate_corr_cvo\"] + bilayer_plot_data[\"outer_phosphate_corr_cvo\"], label=\"phosphate\")\n",
    "#ax.plot(zax, bilayer_plot_data[\"inner_choline_corr_cvo\"] + bilayer_plot_data[\"outer_choline_corr_cvo\"], label=\"choline\")\n",
    "ax.plot(zax, bilayer_plot_data[\"innerhc_corr_cvo\"]+bilayer_plot_data[\"outerhc_corr_cvo\"], label=\"hydrocarbons\")\n",
    "ax.plot(zax, bilayer_plot_data[\"innerch2_corr_cvo\"]+bilayer_plot_data[\"outerch2_corr_cvo\"], label=\"CH2\")\n",
    "ax.plot(zax, bilayer_plot_data[\"innerch3_corr_cvo\"]+bilayer_plot_data[\"outerch3_corr_cvo\"], label=\"CH3\")\n",
    "ax.legend(loc=\"upper right\")\n",
    "plt.xlabel(\"Distance (Å)\")\n",
    "plt.ylabel(\"Component volume occupancy\")\n",
    "ax.minorticks_on()\n",
    "ax.tick_params(which=\"both\", direction=\"in\", labelsize=10)\n",
    "ax.tick_params(bottom=True, top=True, left=True, right=True, which=\"both\")\n",
    "plt.xlim(0, 100)\n",
    "#plt.xticks(np.arange(-35, 36, 5.0))\n",
    "plt.grid(True, which='Both')\n",
    "fig.patch.set_facecolor('white')\n",
    "ax.figure.set_size_inches(16, 10)\n",
    "plt.savefig(store + \"/cvo\", facecolor=\"white\")\n",
    "plt.show()"
   ],
   "metadata": {
    "collapsed": false,
    "pycharm": {
     "is_executing": true
    }
   }
  },
  {
   "cell_type": "markdown",
   "id": "ae68e7f2",
   "metadata": {},
   "source": [
    "## Test Data Simulation"
   ]
  },
  {
   "cell_type": "markdown",
   "id": "579fa4f1",
   "metadata": {},
   "source": [
    "1. Show Best-fit parameters from above fit"
   ]
  },
  {
   "cell_type": "code",
   "execution_count": null,
   "id": "5f1dbc48",
   "metadata": {},
   "outputs": [],
   "source": [
    "df = pandas.read_csv(os.path.join(setupdir, store, runfile+'.par'), sep='\\s+', header=None, names=['Parameter', 'Fit Value'])\n",
    "df"
   ]
  },
  {
   "cell_type": "markdown",
   "id": "a3dd4d6a",
   "metadata": {},
   "source": [
    "2. Define simulation model parameters. They are written out to simpar.dat. Please change to desired values or copy from dataframe above."
   ]
  },
  {
   "cell_type": "code",
   "execution_count": null,
   "id": "13563d31",
   "metadata": {
    "jupyter": {
     "outputs_hidden": false
    }
   },
   "outputs": [],
   "source": [
    "%%writefile simpar.dat\n",
    "background1 0.0\n",
    "sld_solvent0 -0.56\n",
    "sld_solvent1 6.4\n",
    "scale 0.01\n",
    "radius  1000\n",
    "radius_pd 0.2\n",
    "l_lipid 13.2\n",
    "background0 0.00"
   ]
  },
  {
   "cell_type": "markdown",
   "id": "633bb1bd",
   "metadata": {},
   "source": []
  },
  {
   "cell_type": "markdown",
   "id": "c75597da",
   "metadata": {},
   "source": [
    "3. Define Instrument configurations. Each dataset can have its own instrument configuration. In the example below, a single configuration is assigned to all datasets. The configuration is made of three settings with different sample-detector distances."
   ]
  },
  {
   "cell_type": "code",
   "execution_count": null,
   "id": "72068763",
   "metadata": {},
   "outputs": [],
   "source": [
    "# buffer is not subtracted but treated as a fitting parameter\n",
    "sb = 0.0\n",
    "\n",
    "configuration_dataset1 = [{'lambda': 6.0,\n",
    "                            \"sample_detector_distance\": 100,\n",
    "                            'source_sample_distance': 387.6,\n",
    "                            'source_aperture_radius':5.08*0.5,\n",
    "                            'sample_aperture_radius':1.27*0.5,\n",
    "                            \"beamstop_diameter\": 10.16,\n",
    "                            \"neutron_flux\": 9e5,\n",
    "                            'time': 1200,\n",
    "                            'beam_center_x': 25,\n",
    "                            \"dlambda_lambda\":0.136,\n",
    "                            \"differential_cross_section_buffer\": sb,\n",
    "                            \"cuvette_thickness\": 0.1},\n",
    "                          {'lambda': 6.0,\n",
    "                           \"sample_detector_distance\": 400,\n",
    "                           'source_sample_distance': 850.05,\n",
    "                           'source_aperture_radius':5.08*0.5,\n",
    "                           'sample_aperture_radius':1.27*0.5,\n",
    "                           \"beamstop_diameter\": 10.16,\n",
    "                           \"neutron_flux\": 2e5,\n",
    "                           'time': 2400,\n",
    "                           \"dlambda_lambda\":0.136,\n",
    "                           \"differential_cross_section_buffer\": sb,\n",
    "                           \"cuvette_thickness\": 0.1},\n",
    "                         {'lambda': 6.0,\n",
    "                          \"sample_detector_distance\": 1300,\n",
    "                          'source_sample_distance': 1467,\n",
    "                          'source_aperture_radius':5.08*0.5,\n",
    "                          'sample_aperture_radius':1.27*0.5,\n",
    "                          \"dlambda_lambda\":0.136,\n",
    "                          \"beamstop_diameter\": 7.62,\n",
    "                          \"neutron_flux\": 8e4,\n",
    "                          'time': 3600,\n",
    "                          \"differential_cross_section_buffer\": sb,\n",
    "                          \"cuvette_thickness\": 0.1}]\n",
    "\n",
    "configuration = [configuration_dataset1, copy.deepcopy(configuration_dataset1)]"
   ]
  },
  {
   "cell_type": "markdown",
   "id": "67dc2048",
   "metadata": {},
   "source": [
    "4. Visually check configuration."
   ]
  },
  {
   "cell_type": "code",
   "execution_count": null,
   "id": "2d58e1b4",
   "metadata": {},
   "outputs": [],
   "source": [
    "df = pandas.DataFrame.from_dict(configuration_dataset1)\n",
    "df"
   ]
  },
  {
   "cell_type": "markdown",
   "id": "779ee955",
   "metadata": {},
   "source": [
    "5. Simulate data."
   ]
  },
  {
   "cell_type": "code",
   "execution_count": null,
   "id": "9f154568",
   "metadata": {},
   "outputs": [],
   "source": [
    "fitobj.fnSimulateData(basefilename='sim.dat', liConfigurations=configuration, qmin=0.001, qmax=0.8, t_total=None)"
   ]
  },
  {
   "cell_type": "markdown",
   "id": "43bf3e1b",
   "metadata": {},
   "source": [
    "### Compare original and simulated data.\n",
    "1. Compare Data"
   ]
  },
  {
   "cell_type": "code",
   "execution_count": null,
   "id": "63e19b1e",
   "metadata": {},
   "outputs": [],
   "source": [
    "import pandas\n",
    "\n",
    "fig, ax = plt.subplots()\n",
    "\n",
    "original0 = pandas.read_csv('bu/sim0.dat', sep=' ', skip_blank_lines=True,comment='#')\n",
    "simdata0 = pandas.read_csv('sim0.dat', sep=' ', skip_blank_lines=True,comment='#')\n",
    "original1 = pandas.read_csv('bu/sim1.dat', sep=' ', skip_blank_lines=True,comment='#')\n",
    "simdata1 = pandas.read_csv('sim1.dat', sep=' ', skip_blank_lines=True,comment='#')\n",
    "\n",
    "ax.errorbar(simdata0['Q'], simdata0['I'], simdata0['dI'], label=\"sim0\")\n",
    "ax.errorbar(simdata1['Q'], simdata1['I'], simdata1['dI'], label=\"sim1\")\n",
    "ax.errorbar(original0['Q'], original0['I'], original0['dI'], label=\"original0\")\n",
    "ax.errorbar(original1['Q'], original1['I'], original1['dI'], label=\"original1\")\n",
    "\n",
    "ax.legend(fontsize=8)\n",
    "ax.set_ylabel(\"I\", fontsize=10)\n",
    "ax.set_yscale('log')\n",
    "ax.set_xscale('log')\n",
    "ax.minorticks_on()\n",
    "ax.tick_params(which=\"both\", direction=\"in\", labelsize=10)\n",
    "ax.tick_params(bottom=True, top=True, left=True, right=True, which=\"both\")\n",
    "ax.set_xlabel(\"$q$ (Å$^{-1}$)\", fontsize=10)\n",
    "ax.figure.set_size_inches(12.5, 7.5)\n",
    "#ax.set_ylim(1e-2, 1e8)\n",
    "plt.savefig(store + \"/model_comparison.png\", facecolor=\"white\")\n",
    "plt.show()\n"
   ]
  },
  {
   "cell_type": "markdown",
   "id": "2976dbfa",
   "metadata": {},
   "source": [
    "2. Compare Uncertainties"
   ]
  },
  {
   "cell_type": "code",
   "execution_count": null,
   "id": "479e1355",
   "metadata": {
    "jupyter": {
     "outputs_hidden": false
    }
   },
   "outputs": [],
   "source": [
    "fig, ax = plt.subplots()\n",
    "\n",
    "#i = 0\n",
    "#while os.path.isfile('testdata.DAT'):\n",
    "original = pandas.read_csv('bu/sim1.dat', sep=' ', skip_blank_lines=True,comment='#')\n",
    "simdata = pandas.read_csv('sim1.dat', sep=' ', skip_blank_lines=True,comment='#')\n",
    "\n",
    "ax.plot(simdata['Q'], (simdata['dI']/simdata['I']), label=\"sim\")\n",
    "ax.plot(original['Q'], (original['dI']/original['I']), label=\"original\")\n",
    "\n",
    "ax.legend(fontsize=8)\n",
    "ax.set_ylabel(\"dI/I\", fontsize=10)\n",
    "ax.set_yscale('log')\n",
    "ax.set_xscale('log')\n",
    "ax.minorticks_on()\n",
    "ax.tick_params(which=\"both\", direction=\"in\", labelsize=10)\n",
    "ax.tick_params(bottom=True, top=True, left=True, right=True, which=\"both\")\n",
    "ax.set_xlabel(\"$q$ (Å$^{-1}$)\", fontsize=10)\n",
    "ax.figure.set_size_inches(12.5, 7.5)\n",
    "#ax.set_ylim(0, 0.25)\n",
    "plt.savefig(store + \"/model_comparison.png\", facecolor=\"white\")\n",
    "plt.show()\n"
   ]
  },
  {
   "cell_type": "markdown",
   "id": "ab3fc2c3",
   "metadata": {},
   "source": [
    "3. Compare resolutions"
   ]
  },
  {
   "cell_type": "code",
   "execution_count": null,
   "id": "591beb3f",
   "metadata": {
    "jupyter": {
     "outputs_hidden": false
    }
   },
   "outputs": [],
   "source": [
    "fig, ax = plt.subplots()\n",
    "\n",
    "#i = 0\n",
    "#while os.path.isfile('testdata.DAT'):\n",
    "original = pandas.read_csv('bu/sim0.dat', sep=' ', skip_blank_lines=True,comment='#')\n",
    "simdata = pandas.read_csv('sim0.dat', sep=' ', skip_blank_lines=True,comment='#')\n",
    "ax.plot(simdata['Q'], (simdata['dQ']/simdata['Q']), label=\"sim\")\n",
    "ax.plot(original['Q'], (original['dQ']/original['Q']), label=\"original\")\n",
    "\n",
    "ax.legend(fontsize=8)\n",
    "ax.set_ylabel(\"dQ/Q\", fontsize=10)\n",
    "ax.set_yscale('linear')\n",
    "ax.set_xscale('log')\n",
    "ax.minorticks_on()\n",
    "ax.tick_params(which=\"both\", direction=\"in\", labelsize=10)\n",
    "ax.tick_params(bottom=True, top=True, left=True, right=True, which=\"both\")\n",
    "ax.set_xlabel(\"$q$ (Å$^{-1}$)\", fontsize=10)\n",
    "ax.figure.set_size_inches(12.5, 7.5)\n",
    "#ax.set_ylim(0, 0.01)\n",
    "plt.savefig(store + \"/model_comparison.png\", facecolor=\"white\")\n",
    "plt.show()\n"
   ]
  },
  {
   "cell_type": "markdown",
   "id": "a41eb819",
   "metadata": {},
   "source": [
    "# Experimental Optimization"
   ]
  },
  {
   "cell_type": "markdown",
   "id": "c10faecd",
   "metadata": {},
   "source": [
    "1. Create a data file (entropypar.dat) that sets the values and fit ranges for model parameters, values for configuration parameters, and designates paramters to optimize.\n",
    "\n",
    "* Entropypar.dat contains a list of all fit parameters with a designation, whether they are marginal (d) or nuisance (i) parameters. This is followed by the parameter name, the initial parameter value, and the fit boundaries.\n",
    "* Configuration parameters are given by a preceeding n x y, where x is the data set it applies to and y the configuration number. Specifying x,y = '*' makes this parameter apply to all configurations.\n",
    "* Any numbers x y following a fit parameter indicates that this paramter is used for this particular dataset/configuration to determine the background (incoherent crosssection). This typically applies to SLDs. The 'mode' argument for entropy.Entropy() then determines whether this is to be interpreted as an aqueous solvent or other. Sometimes, instead of subtracting an incoherent crosssection from the data, a background parameter is retained in the model. If any of the parameters is asigned an x = bi, this background will be se to the incoherent (isotropic) crosssection of the ith data set, instead of applying this value to the configuration. Fit boundaries for such backgrounds must be large enough to encompass all possible outcomes. They will not be updated dynamically.\n",
    "* If three more numbers are given, this designates that an information content search over this parameter is performed (start, stop, step).\n",
    "* A preceding f (fi or fd) at the beginning of the line indicates that the fit boundaries for such a search parameter are fixed (for example for volume fractions between 0 and 1), otherwise the fit boundary moves according to the varied parameter and the initally given fit boundaries.\n",
    "* If an instrumental parameter is specified for one data set, the instrumental parameter needs to be specified for all other datasets, as well.\n",
    "* Data filenames are currently limited to sim.dat for a single file fit, or simx.dat, x = 0 ... n, for fits with multiple data sets"
   ]
  },
  {
   "cell_type": "code",
   "execution_count": null,
   "id": "63516707",
   "metadata": {
    "jupyter": {
     "outputs_hidden": false
    }
   },
   "outputs": [],
   "source": [
    "text = [\n",
    "        'i b0 * background0 0.509283 0.0 2.0',\n",
    "        'i b1 * background1 0.295525 0.0 2.0',\n",
    "        'i 0 * sld_solvent0 2.0 1.98 2.02 1.5 4.5 0.1',\n",
    "        'i 1 * sld_solvent1 2.0 1.98 2.02 1.5 4.5 0.1',\n",
    "        'i _ _ scale 0.0013 0.0001 0.005',\n",
    "        'd _ _ sld  3.1 1.0 4.0',\n",
    "        'i _ _ radius  65 40 90',\n",
    "        'i _ _ radius_pd  0.3 0.1 0.5',\n",
    "        'n * * lambda 6.00',\n",
    "        'n * * differential_cross_section_buffer 0.0',\n",
    "        'n * 0 sample_detector_distance 100',\n",
    "        'n * 1 sample_detector_distance 400',\n",
    "        'n * 2 sample_detector_distance 1300',\n",
    "        'n * 0 source_sample_distance 387.6',\n",
    "        'n * 1 source_sample_distance 850.05',\n",
    "        'n * 2 source_sample_distance 1467',\n",
    "        'n * 0 neutron_flux 9e5',\n",
    "        'n * 1 neutron_flux 2e5',\n",
    "        'n * 2 neutron_flux 8e4',\n",
    "        'n * * source_aperture_radius 2.54',\n",
    "        'n * * sample_aperture_radius 0.635',\n",
    "        'n * * dlambda_lambda 0.136',\n",
    "        'n * 0 beamstop_diameter 10.16',\n",
    "        'n * 1 beamstop_diameter 10.16',\n",
    "        'n * 2 beamstop_diameter 7.62',\n",
    "        'n * 0 time 1200',\n",
    "        'n * 1 time 2400',\n",
    "        'n * 2 time 3600',\n",
    "        'n * 0 beam_center_x 25.',\n",
    "        'n * * cuvette_thickness 0.1'\n",
    "        ]\n",
    "\n",
    "f=open('entropypar.dat', 'w')\n",
    "f.writelines(line + '\\n' for line in text)\n",
    "f.close()\n",
    "\n",
    "header_names = ['type', 'dataset', 'config.', 'parameter', 'value', 'l_fit', 'u_fit', 'l_opt', 'u_opt', 'step_opt']\n",
    "df = pandas.read_csv('entropypar.dat', sep='\\s+', header=None, names=header_names, skip_blank_lines=True, comment='#')\n",
    "df"
   ]
  },
  {
   "cell_type": "markdown",
   "id": "730f3224",
   "metadata": {},
   "source": [
    "2. Optimization-specific parameters"
   ]
  },
  {
   "cell_type": "code",
   "execution_count": null,
   "id": "18e2359c",
   "metadata": {
    "jupyter": {
     "outputs_hidden": false
    }
   },
   "outputs": [],
   "source": [
    "# enforced qmin and qmax, even if detector would cover larger q-range\n",
    "# alternatively: take enforced q-range from first provided data file (index 0)\n",
    "# set total counting time for the entire experiment (in s), or None\n",
    "# number of gpcam iterations, if gpcam is used\n",
    "qmin = 0.001\n",
    "qmax = 0.8\n",
    "qrangefromfile = False\n",
    "t_total = None\n",
    "gpcam_iterations = 200\n",
    "optimizer = 'gpcam'\n",
    "\n",
    "# Acquisition Functions. Use \"variance\" for pure exploration, 'maximum' to zero in on an already identified information gain maximum, 'ucb' for an exploration-exploitation balance, and 'shannon_ig_vec' for a maximization in information gain.\n",
    "acq_func='variance'\n",
    "\n",
    "# isotropic scattering background\n",
    "# user-defined linear relationship between a SLD of the bulk solvent and the differential macroscopic scattering crosssection of the buffer\n",
    "cross_section_background = {'slope':-0.1626, 'y_intercept': 0.7980}\n",
    "mode = 'SANS_linear'\n",
    "\n",
    "# Prepare gpcam to keep plots for individual iterations and make fine enough steps between record keeping. Useful for constructing a movie.\n",
    "# If not needed, set keep_plots to False, init dataset size to 20, do not show support points, and set gpcam steps to None\n",
    "keep_plots = True\n",
    "gpcam_init_dataset_size = 20  # usually 20\n",
    "show_support_points = True\n",
    "gpcam_step = 4                # at least 2 to make use of local and global optimization\n",
    "\n",
    "# particular entropy setup\n",
    "convergence = 2.0\n",
    "miniter = 3\n",
    "bClusterMode = False\n",
    "bFetchMode = False\n",
    "time = 2\n",
    "bcalcsymmetric = True\n",
    "upper_info_plotlevel = None\n",
    "plotlimits_filename = \"\"\n",
    "calcsingle = False\n",
    "\n",
    "# setup batchscript for SLURM (if used)\n",
    "script = ['#!/bin/bash\\n',\n",
    "          '#SBATCH --job-name=entro {mcmc_iteration}\\n',\n",
    "          '#SBATCH -A mc4s9np\\n', '#SBATCH -p RM\\n',\n",
    "          '#SBATCH -t 0' + str(time) + ':00:00\\n',\n",
    "          '#SBATCH -N 4\\n', '#SBATCH --ntasks-per-node 28\\n',\n",
    "          '\\n',\n",
    "          'set +x\\n',\n",
    "          'cd $SLURM_SUBMIT_DIR\\n',\n",
    "          '\\n',\n",
    "          'module load python/2.7.11_gcc\\n',\n",
    "          'export PYTHONPATH=/home/hoogerhe/bin/lib/python2.7/site-packages:/home/hoogerhe/src/bumps\\n',\n",
    "          '\\n',\n",
    "          'mpirun -np 112 python /home/hoogerhe/src/refl1d/bin/refl1d_cli.py {mcmc_dirname}/run.py --fit=dream --mpi --init=lhs --batch --pop=28 --time='\n",
    "          + str(float(time) - 0.1) + ' --thin=20 --store={mcmc_dirname}/save --burn=' + str(burn)\n",
    "          + ' --steps=' + str(steps) + '\\n'\n",
    "          ]\n",
    "# script.append('cd '+dirname+'\\n')\n"
   ]
  },
  {
   "cell_type": "markdown",
   "id": "ee866c63",
   "metadata": {},
   "source": []
  },
  {
   "cell_type": "markdown",
   "id": "ca8c373c",
   "metadata": {},
   "source": [
    "3. Run Optimization"
   ]
  },
  {
   "cell_type": "code",
   "execution_count": null,
   "id": "6a560b64",
   "metadata": {
    "jupyter": {
     "outputs_hidden": false
    }
   },
   "outputs": [],
   "source": [
    "entr = entropy.Entropy(\n",
    "    fitsource=fitsource,\n",
    "    spath=setupdir,\n",
    "    mcmcpath=store,\n",
    "    runfile=runfile,\n",
    "    mcmcburn=burn,\n",
    "    mcmcsteps=steps,\n",
    "    convergence=convergence,\n",
    "    miniter=miniter,\n",
    "    mode=mode,\n",
    "    background_rule = cross_section_background,\n",
    "    bClusterMode=bClusterMode,\n",
    "    bFetchMode=bFetchMode,\n",
    "    calc_symmetric=bcalcsymmetric,\n",
    "    upper_info_plotlevel=upper_info_plotlevel,\n",
    "    plotlimits_filename=plotlimits_filename,\n",
    "    slurmscript=script,\n",
    "    configuration = configuration,\n",
    "    keep_plots = keep_plots,\n",
    "    optimizer = optimizer,\n",
    "    show_support_points = show_support_points\n",
    ")\n",
    "\n",
    "if RunOptimization:\n",
    "    entr.run_optimization(qmin=qmin, qmax=qmax, qrangefromfile=qrangefromfile, t_total=t_total, gpcam_iterations=gpcam_iterations, jupyter_clear_output=True, gpcam_init_dataset_size=gpcam_init_dataset_size, gpcam_step=gpcam_step, acq_func=acq_func)"
   ]
  },
  {
   "cell_type": "markdown",
   "id": "bbd088df",
   "metadata": {},
   "source": [
    "4. Show Plots"
   ]
  },
  {
   "cell_type": "code",
   "execution_count": null,
   "id": "f412f86a",
   "metadata": {
    "jupyter": {
     "outputs_hidden": false
    }
   },
   "outputs": [],
   "source": [
    "from IPython.display import Image, display\n",
    "import glob\n",
    "from os import path\n",
    "for file in glob.glob(path.join(setupdir, 'plots', \"*.png\")):\n",
    "    display(Image(filename=file))"
   ]
  },
  {
   "cell_type": "code",
   "execution_count": null,
   "id": "978520a3",
   "metadata": {},
   "outputs": [],
   "source": [
    "import imageio.v2 as iio\n",
    "import os\n",
    "w = iio.get_writer(os.path.join(setupdir, 'plots','gpcam_timelapse.mp4'), format='FFMPEG', mode='I', fps=1)\n",
    "i = 0\n",
    "while os.path.isfile(os.path.join(setupdir, 'plots', 'prediction_gpcam'+str(i)+'.png')):\n",
    "    im = iio.imread(os.path.join(setupdir, 'plots', 'prediction_gpcam'+str(i)+'.png'))\n",
    "    w.append_data(im)\n",
    "    i += 1\n",
    "w.close()"
   ]
  },
  {
   "cell_type": "code",
   "execution_count": null,
   "id": "997220a4",
   "metadata": {},
   "outputs": [],
   "source": []
  }
 ],
 "metadata": {
  "interpreter": {
   "hash": "05d582df831dd7fae68dfffc73e5ea31ad7a23d6a2275d5f88151c2f48f29d76"
  },
  "kernelspec": {
   "display_name": "Python 3 (ipykernel)",
   "language": "python",
   "name": "python3"
  },
  "language_info": {
   "codemirror_mode": {
    "name": "ipython",
    "version": 3
   },
   "file_extension": ".py",
   "mimetype": "text/x-python",
   "name": "python",
   "nbconvert_exporter": "python",
   "pygments_lexer": "ipython3",
   "version": "3.8.15"
  }
 },
 "nbformat": 4,
 "nbformat_minor": 5
}
