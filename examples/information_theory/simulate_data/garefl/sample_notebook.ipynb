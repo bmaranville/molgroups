{
 "cells": [
  {
   "cell_type": "markdown",
   "id": "551d0249",
   "metadata": {},
   "source": [
    "# Imports"
   ]
  },
  {
   "cell_type": "code",
   "execution_count": 3,
   "id": "4c0454bf",
   "metadata": {
    "scrolled": true
   },
   "outputs": [
    {
     "name": "stdout",
     "output_type": "stream",
     "text": [
      "/Users/frank/Dropbox/My Mac (PN115993.campus.nist.gov)/Documents/programming/molgroups/examples/information_theory/simulate_data/garefl\r\n"
     ]
    }
   ],
   "source": [
    "!pwd\n",
    "import sys\n",
    "from bumps.names import Curve, fit, FitProblem\n",
    "from bumps.dream.state import load_state\n",
    "import matplotlib.pyplot as plt\n",
    "import numpy as np\n",
    "import scipy.fft as fft\n",
    "import molgroups as mol\n",
    "import os\n",
    "\n",
    "sys.path.append(\"../../../../PlottingAndAnalysis\")\n",
    "import rs\n",
    "import rsdi"
   ]
  },
  {
   "cell_type": "markdown",
   "id": "a67a7a38",
   "metadata": {},
   "source": [
    "# Create Short Example Fit"
   ]
  },
  {
   "cell_type": "code",
   "execution_count": 2,
   "id": "26b01c0e",
   "metadata": {},
   "outputs": [],
   "source": [
    "#!refl1d run.py --fit=dream --store=T --init=lhs --parallel --burn=4 --steps=4 --overwrite"
   ]
  },
  {
   "cell_type": "markdown",
   "id": "edd90e18",
   "metadata": {},
   "source": [
    "# Variables"
   ]
  },
  {
   "cell_type": "code",
   "execution_count": 4,
   "id": "5e6c29ab",
   "metadata": {},
   "outputs": [],
   "source": [
    "store = \"T\"\n",
    "setupdir = os.getcwd()\n",
    "runfile = \"run\"\n",
    "fitsource = \"garefl\""
   ]
  },
  {
   "cell_type": "markdown",
   "id": "13a6038b",
   "metadata": {},
   "source": [
    "# Fit Setup"
   ]
  },
  {
   "cell_type": "code",
   "execution_count": 5,
   "id": "353e45f9",
   "metadata": {},
   "outputs": [
    {
     "name": "stdout",
     "output_type": "stream",
     "text": [
      "g++  -g -O2 -Wall  -fPIC -DUSE_DOUBLE -DReal=double -DHAVE_CONFIG_H -I/Users/frank/danse/refl1d/garefl/boxmin -I/Users/frank/danse/refl1d/garefl/model1d -I/Users/frank/danse/refl1d/garefl/src -c setup.cc -o setup.o\n"
     ]
    },
    {
     "name": "stderr",
     "output_type": "stream",
     "text": [
      "setup.cc:125:9: warning: unused variable 'iPeaked' [-Wunused-variable]\n",
      "    int iPeaked,iMaxPeak, i, k, i2, wait;\n",
      "        ^\n",
      "setup.cc:125:17: warning: unused variable 'iMaxPeak' [-Wunused-variable]\n",
      "    int iPeaked,iMaxPeak, i, k, i2, wait;\n",
      "                ^\n",
      "setup.cc:125:33: warning: unused variable 'i2' [-Wunused-variable]\n",
      "    int iPeaked,iMaxPeak, i, k, i2, wait;\n",
      "                                ^\n",
      "setup.cc:125:37: warning: unused variable 'wait' [-Wunused-variable]\n",
      "    int iPeaked,iMaxPeak, i, k, i2, wait;\n",
      "                                    ^\n",
      "setup.cc:126:14: warning: unused variable 'pars' [-Wunused-variable]\n",
      "    fitpars *pars = &fit[0].pars;\n",
      "             ^\n",
      "5 warnings generated.\n"
     ]
    },
    {
     "name": "stdout",
     "output_type": "stream",
     "text": [
      "cd /Users/frank/danse/refl1d/garefl/boxmin && /Applications/Xcode.app/Contents/Developer/usr/bin/make\n",
      "make[1]: Nothing to be done for `all'.\n",
      "cd /Users/frank/danse/refl1d/garefl/model1d && /Applications/Xcode.app/Contents/Developer/usr/bin/make\n",
      "make[1]: Nothing to be done for `all'.\n",
      "cd /Users/frank/danse/refl1d/garefl/src && /Applications/Xcode.app/Contents/Developer/usr/bin/make\n",
      "make[1]: Nothing to be done for `all'.\n",
      "g++    -fPIC -o fit setup.o /Users/frank/danse/refl1d/garefl/src/ga_simul.o /Users/frank/danse/refl1d/garefl/src/ga.o -L/Users/frank/danse/refl1d/garefl/model1d -lrefl -L/Users/frank/danse/refl1d/garefl/boxmin -lboxmin  -lm \n",
      "g++ -shared -o model.so setup.o /Users/frank/danse/refl1d/garefl/src/refl1d.o -L/Users/frank/danse/refl1d/garefl/model1d -lrefl  -lm \n"
     ]
    }
   ],
   "source": [
    "import rs\n",
    "import os\n",
    "\n",
    "molstat = rs.CMolStat(\n",
    "    fitsource=fitsource,\n",
    "    spath=setupdir,\n",
    "    mcmcpath=store,\n",
    "    runfile=runfile,\n",
    "    state=None,\n",
    "    problem=None,\n",
    ")"
   ]
  },
  {
   "cell_type": "code",
   "execution_count": 6,
   "id": "72068763",
   "metadata": {},
   "outputs": [
    {
     "name": "stdout",
     "output_type": "stream",
     "text": [
      "Found T/run.par \n",
      "\n",
      "Loading MCMC best-fit parameters ...\n",
      "d_oxide 27.1385608994351\n",
      "d_Cr 12.0045081882702\n",
      "d_gold 140.085054050314\n",
      "l_tether 6.15699252838842\n",
      "l_lipid1 14.3227020845953\n",
      "l_lipid2 10.4945223924891\n",
      "dl_lipid_gcrinse1 0.125269558010402\n",
      "nf_tether 0.914453587700949\n",
      "mult_tether 1.15817117378898\n",
      "vf_bilayer 0.999771193924136\n",
      "vf_bilayer_gcrinse1 0.999112772552033\n",
      "fraction_rinse2 0.963889796755209\n",
      "dp_on0 -5.08018692755215\n",
      "dp_on1 -3.0411460131031\n",
      "dp_on2 -0.795635069335647\n",
      "dp_on3 -4.21815619677066\n",
      "dp_on4 -5.39244018573827\n",
      "dp_on5 2.07165524339043\n",
      "dp_on6 -3.65269205349576\n",
      "dp_on7 5.20460893426816\n",
      "dp_on8 3.05367888205943\n",
      "vf_on1 -0.0003880324387213\n",
      "vf_on2 0.0243012193412938\n",
      "vf_on3 0.0392613731348821\n",
      "vf_on4 0.0027652806650946\n",
      "vf_on5 0.0771453818074722\n",
      "vf_on6 0.057724000404784\n",
      "vf_on7 0.0134049690450054\n",
      "frac2_on0 0.994131099540302\n",
      "frac2_on1 0.131595733681778\n",
      "frac2_on2 0.198736670207635\n",
      "frac2_on3 0.462629684267791\n",
      "frac2_on4 0.209619582294796\n",
      "frac2_on5 0.119254915599886\n",
      "frac2_on6 0.0251001206065209\n",
      "frac2_on7 0.0991724640806507\n",
      "rho_SiOx 3.33858816434842 => changed to 3.3385881643484197e-06\n",
      "rho_Cr 3.80619808359983 => changed to 3.8061980835998298e-06\n",
      "rho_Au 4.43663614249802 => changed to 4.43663614249802e-06\n",
      "rho_solv_0 6.28762463860248 => changed to 6.28762463860248e-06\n",
      "rho_solv_1 -0.53426429275032 => changed to -5.3426429275032e-07\n",
      "rho_solv_2 -0.557353147004738 => changed to -5.57353147004738e-07\n",
      "rho_solv_3 6.27999900375132 => changed to 6.27999900375132e-06\n",
      "global_rough 3.83535194725321\n",
      "rough_cr_au 9.15351977082056\n",
      "sigma 4.46336922363305\n",
      "thetaoffset0 -0.0013354187772769\n",
      "background_0 -7.6127717506753\n",
      "background_1 -5.66373077514838\n",
      "background_2 -5.64104256585764\n",
      "background_3 -7.59051691573969\n",
      "g++  -g -O2 -Wall  -fPIC -DUSE_DOUBLE -DReal=double -DHAVE_CONFIG_H -I/Users/frank/danse/refl1d/garefl/boxmin -I/Users/frank/danse/refl1d/garefl/model1d -I/Users/frank/danse/refl1d/garefl/src -c setup.cc -o setup.o\n"
     ]
    },
    {
     "name": "stderr",
     "output_type": "stream",
     "text": [
      "setup.cc:176:9: warning: unused variable 'iPeaked' [-Wunused-variable]\n",
      "    int iPeaked,iMaxPeak, i, k, i2, wait;\n",
      "        ^\n",
      "setup.cc:176:17: warning: unused variable 'iMaxPeak' [-Wunused-variable]\n",
      "    int iPeaked,iMaxPeak, i, k, i2, wait;\n",
      "                ^\n",
      "setup.cc:176:33: warning: unused variable 'i2' [-Wunused-variable]\n",
      "    int iPeaked,iMaxPeak, i, k, i2, wait;\n",
      "                                ^\n",
      "setup.cc:176:37: warning: unused variable 'wait' [-Wunused-variable]\n",
      "    int iPeaked,iMaxPeak, i, k, i2, wait;\n",
      "                                    ^\n",
      "setup.cc:177:14: warning: unused variable 'pars' [-Wunused-variable]\n",
      "    fitpars *pars = &fit[0].pars;\n",
      "             ^\n",
      "5 warnings generated.\n"
     ]
    },
    {
     "name": "stdout",
     "output_type": "stream",
     "text": [
      "cd /Users/frank/danse/refl1d/garefl/boxmin && /Applications/Xcode.app/Contents/Developer/usr/bin/make\n",
      "make[1]: Nothing to be done for `all'.\n",
      "cd /Users/frank/danse/refl1d/garefl/model1d && /Applications/Xcode.app/Contents/Developer/usr/bin/make\n",
      "make[1]: Nothing to be done for `all'.\n",
      "cd /Users/frank/danse/refl1d/garefl/src && /Applications/Xcode.app/Contents/Developer/usr/bin/make\n",
      "make[1]: Nothing to be done for `all'.\n",
      "g++    -fPIC -o fit setup.o /Users/frank/danse/refl1d/garefl/src/ga_simul.o /Users/frank/danse/refl1d/garefl/src/ga.o -L/Users/frank/danse/refl1d/garefl/model1d -lrefl -L/Users/frank/danse/refl1d/garefl/boxmin -lboxmin  -lm \n",
      "g++ -shared -o model.so setup.o /Users/frank/danse/refl1d/garefl/src/refl1d.o -L/Users/frank/danse/refl1d/garefl/model1d -lrefl  -lm \n",
      "chisq_0 = 4.96985\n",
      "chisq_1 = 5.50455\n",
      "chisq_2 = 4.62392\n",
      "chisq_3 = 6.5255\n",
      "chisq = 6.10042\n"
     ]
    }
   ],
   "source": [
    "molstat.fnSimulateData()"
   ]
  },
  {
   "cell_type": "code",
   "execution_count": 7,
   "id": "63e19b1e",
   "metadata": {},
   "outputs": [
    {
     "data": {
      "image/png": "[encoded data removed]",
      "text/plain": [
       "<Figure size 900x540 with 1 Axes>"
      ]
     },
     "metadata": {
      "needs_background": "light"
     },
     "output_type": "display_data"
    }
   ],
   "source": [
    "import pandas\n",
    "\n",
    "fig, ax = plt.subplots()\n",
    "\n",
    "i = 0\n",
    "while os.path.isfile('sim' + str(i) + '.dat'):\n",
    "    simdata = pandas.read_csv('sim' + str(i) + '.dat', sep=' ', skip_blank_lines=True,comment='#')\n",
    "    ax.errorbar(simdata['Q'], simdata['R'], simdata['dR'], label=\"sim \" + str(i))\n",
    "    i += 1\n",
    "\n",
    "ax.legend(fontsize=8)\n",
    "ax.set_ylabel(\"R\", fontsize=10)\n",
    "ax.set_yscale('log')\n",
    "ax.minorticks_on()\n",
    "ax.tick_params(which=\"both\", direction=\"in\", labelsize=10)\n",
    "ax.tick_params(bottom=True, top=True, left=True, right=True, which=\"both\")\n",
    "ax.set_xlabel(\"$q_z$ (Å$^{-1}$)\", fontsize=10)\n",
    "ax.figure.set_size_inches(12.5, 7.5)\n",
    "plt.savefig(store + \"/model_comparison.png\", facecolor=\"white\")\n",
    "plt.show()\n"
   ]
  },
  {
   "cell_type": "code",
   "execution_count": null,
   "id": "5c5866a3",
   "metadata": {},
   "outputs": [],
   "source": []
  }
 ],
 "metadata": {
  "interpreter": {
   "hash": "05d582df831dd7fae68dfffc73e5ea31ad7a23d6a2275d5f88151c2f48f29d76"
  },
  "kernelspec": {
   "display_name": "Python 3 (ipykernel)",
   "language": "python",
   "name": "python3"
  },
  "language_info": {
   "codemirror_mode": {
    "name": "ipython",
    "version": 3
   },
   "file_extension": ".py",
   "mimetype": "text/x-python",
   "name": "python",
   "nbconvert_exporter": "python",
   "pygments_lexer": "ipython3",
   "version": "3.7.12"
  }
 },
 "nbformat": 4,
 "nbformat_minor": 5
}
