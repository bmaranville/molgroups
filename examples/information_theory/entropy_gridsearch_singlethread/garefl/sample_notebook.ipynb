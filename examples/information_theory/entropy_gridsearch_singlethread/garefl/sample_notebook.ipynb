{
 "cells": [
  {
   "cell_type": "markdown",
   "id": "551d0249",
   "metadata": {},
   "source": [
    "# Imports"
   ]
  },
  {
   "cell_type": "code",
   "execution_count": 1,
   "id": "4c0454bf",
   "metadata": {
    "scrolled": true
   },
   "outputs": [
    {
     "name": "stdout",
     "output_type": "stream",
     "text": [
      "/Users/frank/Dropbox/My Mac (PN115993.campus.nist.gov)/Documents/programming/molgroups/examples/information_theory/entropy_gridsearch_singlethread/garefl\r\n"
     ]
    }
   ],
   "source": [
    "!pwd\n",
    "import sys\n",
    "from bumps.names import Curve, fit, FitProblem\n",
    "from bumps.dream.state import load_state\n",
    "import matplotlib.pyplot as plt\n",
    "import numpy as np\n",
    "import scipy.fft as fft\n",
    "import os\n",
    "\n",
    "sys.path.append(\"../../../..\")\n",
    "import molgroups as mol\n",
    "\n",
    "sys.path.append(\"../../../../PlottingAndAnalysis\")\n",
    "import rs\n",
    "import rsdi\n",
    "\n",
    "sys.path.append(\"../../../../information_theory\")\n",
    "import entropy"
   ]
  },
  {
   "cell_type": "markdown",
   "id": "a67a7a38",
   "metadata": {},
   "source": [
    "# Create Short Example Fit"
   ]
  },
  {
   "cell_type": "code",
   "execution_count": 2,
   "id": "26b01c0e",
   "metadata": {},
   "outputs": [
    {
     "name": "stdout",
     "output_type": "stream",
     "text": [
      "zsh:1: /usr/local/bin//refl1d: bad interpreter: /usr/local/opt/python@3.8/bin/python3.8: no such file or directory\n",
      "# /Users/frank/opt/anaconda3/envs/Python37/bin/refl1d run.py --fit=dream --store=T --init=lhs --parallel --burn=100 --steps=5 --overwrite --seed=482229\n",
      "[0] = l_siox = 18 in [10,30]\n",
      "[1] = rho_siox = 3.55 in [3.2,3.8]\n",
      "[2] = l_submembrane = 2.5 in [1,10]\n",
      "[3] = l_lipid1 = 11.8 in [10,15]\n",
      "[4] = l_lipid2 = 12.4 in [10,15]\n",
      "[5] = vf_bilayer = 0.95 in [0.9,1]\n",
      "[6] = rho_solv_0 = -0.5 in [-1.04,-0.44]\n",
      "[7] = global_rough = 3 in [2,5]\n",
      "[8] = sigma = 2.5 in [2,5]\n",
      "[9] = background_0 = -8 in [-9,-5]\n",
      "\n",
      "[chisq=264.32(17), nllf=8854.56]\n",
      "# steps: 5, # draws: 500\n",
      "step 1 cost 264.32(17)\n",
      "                                  l_siox ...|......         18 in (10,30)\n",
      "                                rho_siox .....|....       3.55 in (3.2,3.8)\n",
      "                           l_submembrane .|........        2.5 in (1,10)\n",
      "                                l_lipid1 ...|......       11.8 in (10,15)\n",
      "                                l_lipid2 ....|.....       12.4 in (10,15)\n",
      "                              vf_bilayer ....|.....       0.95 in (0.9,1)\n",
      "                              rho_solv_0 ........|.       -0.5 in (-1.04,-0.44)\n",
      "                            global_rough ...|......          3 in (2,5)\n",
      "                                   sigma .|........        2.5 in (2,5)\n",
      "                            background_0 ..|.......         -8 in (-9,-5)\n",
      "step 26 cost 264.32(17)\n",
      "step 50 cost 264.32(17)\n",
      "step 76 cost 264.32(17)\n",
      "step 102 cost 264.32(17)\n",
      "Did not converge!\n",
      "Traceback (most recent call last):\n",
      "  File \"/Users/frank/opt/anaconda3/envs/Python37/bin/refl1d\", line 8, in <module>\n",
      "    sys.exit(cli())\n",
      "  File \"/Users/frank/opt/anaconda3/envs/Python37/lib/python3.7/site-packages/refl1d/main.py\", line 45, in cli\n",
      "    bumps.cli.main()\n",
      "  File \"/Users/frank/opt/anaconda3/envs/Python37/lib/python3.7/site-packages/bumps/cli.py\", line 707, in main\n",
      "    save_best(fitdriver, problem, best, view=opts.view)\n",
      "  File \"/Users/frank/opt/anaconda3/envs/Python37/lib/python3.7/site-packages/bumps/cli.py\", line 135, in save_best\n",
      "    fitdriver.plot(output_path=problem.output_path, view=view)\n",
      "  File \"/Users/frank/opt/anaconda3/envs/Python37/lib/python3.7/site-packages/bumps/fitters.py\", line 1158, in plot\n",
      "    self.fitter.plot(output_path=output_path)\n",
      "  File \"/Users/frank/opt/anaconda3/envs/Python37/lib/python3.7/site-packages/bumps/fitters.py\", line 871, in plot\n",
      "    self.state.show(figfile=output_path, portion=self._trimmed)\n",
      "  File \"/Users/frank/opt/anaconda3/envs/Python37/lib/python3.7/site-packages/bumps/dream/state.py\", line 434, in show\n",
      "    plot_all(self, portion=portion, figfile=figfile)\n",
      "  File \"/Users/frank/opt/anaconda3/envs/Python37/lib/python3.7/site-packages/bumps/dream/views.py\", line 70, in plot_all\n",
      "    parcoord.plot(draw, control_var=0)\n",
      "  File \"/Users/frank/opt/anaconda3/envs/Python37/lib/python3.7/site-packages/bumps/dream/parcoord.py\", line 51, in plot\n",
      "    value=color_value, value_label=color_label)\n",
      "  File \"/Users/frank/opt/anaconda3/envs/Python37/lib/python3.7/site-packages/bumps/dream/parcoord.py\", line 146, in parallel_coordinates\n",
      "    data = scale(data, axis=0)\n",
      "  File \"/Users/frank/opt/anaconda3/envs/Python37/lib/python3.7/site-packages/bumps/dream/parcoord.py\", line 171, in scale\n",
      "    low = x.min(axis=axis, keepdims=True)\n",
      "  File \"/Users/frank/opt/anaconda3/envs/Python37/lib/python3.7/site-packages/numpy/core/_methods.py\", line 44, in _amin\n",
      "    return umr_minimum(a, axis, None, out, keepdims, initial, where)\n",
      "ValueError: zero-size array to reduction operation minimum which has no identity\n"
     ]
    }
   ],
   "source": [
    "!refl1d run.py --fit=dream --store=T --init=lhs --parallel --burn=100 --steps=5 --overwrite"
   ]
  },
  {
   "cell_type": "markdown",
   "id": "edd90e18",
   "metadata": {},
   "source": [
    "# Variables"
   ]
  },
  {
   "cell_type": "code",
   "execution_count": 3,
   "id": "5e6c29ab",
   "metadata": {},
   "outputs": [],
   "source": [
    "# general fit setup\n",
    "setupdir = os.getcwd()\n",
    "runfile = \"run\"\n",
    "store = 'T'\n",
    "fitsource = \"garefl\"\n",
    "\n",
    "# particular entropy setup\n",
    "burn = 100\n",
    "steps = 10\n",
    "convergence = 2.0\n",
    "miniter = 1\n",
    "mode = 'water'\n",
    "bClusterMode = False\n",
    "bFetchMode = False\n",
    "time = 2\n",
    "bcalcsymmetric = True\n",
    "upper_info_plotlevel = None\n",
    "plotlimits_filename = \" \"\n",
    "calcsingle = False\n",
    "\n",
    "# setup batchscript for SLURM (if used)\n",
    "script = []\n",
    "script.append('#!/bin/bash\\n')\n",
    "script.append('#SBATCH --job-name=entro {mcmc_iteration}\\n')\n",
    "script.append('#SBATCH -A mc4s9np\\n')\n",
    "script.append('#SBATCH -p RM\\n')\n",
    "script.append('#SBATCH -t 0' + str(time) + ':00:00\\n')\n",
    "script.append('#SBATCH -N 4\\n')\n",
    "script.append('#SBATCH --ntasks-per-node 28\\n')\n",
    "script.append('\\n')\n",
    "script.append('set +x\\n')\n",
    "script.append('cd $SLURM_SUBMIT_DIR\\n')\n",
    "# script.append('cd '+dirname+'\\n')\n",
    "script.append('\\n')\n",
    "script.append('module load python/2.7.11_gcc\\n')\n",
    "script.append('export PYTHONPATH=/home/hoogerhe/bin/lib/python2.7/site-packages:/home/hoogerhe/src/bumps\\n')\n",
    "script.append('\\n')\n",
    "script.append('mpirun -np 112 python /home/hoogerhe/src/refl1d/bin/refl1d_cli.py {mcmc_dirname}/run.py --fit=dream --mpi --init=lhs --batch --pop=28 --time=' \n",
    "              + str(float(time) - 0.1) + ' --thin=20 --store={mcmc_dirname}/save --burn=' + str(burn) \n",
    "              + ' --steps=' + str(steps) + '\\n')\n"
   ]
  },
  {
   "cell_type": "markdown",
   "id": "13a6038b",
   "metadata": {},
   "source": [
    "# Fit Setup"
   ]
  },
  {
   "cell_type": "code",
   "execution_count": 4,
   "id": "353e45f9",
   "metadata": {},
   "outputs": [
    {
     "name": "stdout",
     "output_type": "stream",
     "text": [
      "I am actually loading a state in CBumpsInteractor.__init__()\n",
      "None\n",
      "And here I am in fnRestoreState ...\n",
      "Still in CBumpsInteractor init: <bumps.dream.state.MCMCDraw object at 0x7fc788217f10>\n",
      "g++  -g -O2 -Wall  -fPIC -DUSE_DOUBLE -DReal=double -DHAVE_CONFIG_H -I/Users/frank/danse/refl1d/garefl/boxmin -I/Users/frank/danse/refl1d/garefl/model1d -I/Users/frank/danse/refl1d/garefl/src -c setup.cc -o setup.o\n"
     ]
    },
    {
     "name": "stderr",
     "output_type": "stream",
     "text": [
      "setup.cc:93:14: warning: unused variable 'freepars' [-Wunused-variable]\n",
      "    fitpars *freepars = &fit[1].pars;\n",
      "             ^\n",
      "1 warning generated.\n"
     ]
    },
    {
     "name": "stdout",
     "output_type": "stream",
     "text": [
      "cd /Users/frank/danse/refl1d/garefl/boxmin && /Applications/Xcode.app/Contents/Developer/usr/bin/make\n",
      "make[1]: Nothing to be done for `all'.\n",
      "cd /Users/frank/danse/refl1d/garefl/model1d && /Applications/Xcode.app/Contents/Developer/usr/bin/make\n",
      "make[1]: Nothing to be done for `all'.\n",
      "cd /Users/frank/danse/refl1d/garefl/src && /Applications/Xcode.app/Contents/Developer/usr/bin/make\n",
      "make[1]: Nothing to be done for `all'.\n",
      "g++    -fPIC -o fit setup.o /Users/frank/danse/refl1d/garefl/src/ga_simul.o /Users/frank/danse/refl1d/garefl/src/ga.o -L/Users/frank/danse/refl1d/garefl/model1d -lrefl -L/Users/frank/danse/refl1d/garefl/boxmin -lboxmin  -lm \n",
      "g++ -shared -o model.so setup.o /Users/frank/danse/refl1d/garefl/src/refl1d.o -L/Users/frank/danse/refl1d/garefl/model1d -lrefl  -lm \n"
     ]
    }
   ],
   "source": [
    "entr = entropy.Entropy(\n",
    "    fitsource=fitsource,\n",
    "    spath=setupdir,\n",
    "    mcmcpath=store,\n",
    "    runfile=runfile,\n",
    "    mcmcburn=burn, \n",
    "    mcmcsteps=steps, \n",
    "    convergence=convergence, \n",
    "    miniter=miniter, \n",
    "    mode=mode,                      \n",
    "    bClusterMode=bClusterMode, \n",
    "    bFetchMode=bFetchMode, \n",
    "    calc_symmetric=bcalcsymmetric,\n",
    "    upper_info_plotlevel=upper_info_plotlevel, \n",
    "    plotlimits_filename=plotlimits_filename,\n",
    "    slurmscript=script\n",
    ")"
   ]
  },
  {
   "cell_type": "code",
   "execution_count": 5,
   "id": "72068763",
   "metadata": {},
   "outputs": [
    {
     "name": "stdout",
     "output_type": "stream",
     "text": [
      "/Users/frank/Dropbox/My Mac (PN115993.campus.nist.gov)/Documents/programming/molgroups/examples/information_theory/entropy_gridsearch_singlethread/garefl/setup.cc\n",
      "/Users/frank/Dropbox/My Mac (PN115993.campus.nist.gov)/Documents/programming/molgroups/examples/information_theory/entropy_gridsearch_singlethread/garefl/molgroups.cc\n",
      "I am actually loading a state in CBumpsInteractor.__init__()\n",
      "None\n",
      "And here I am in fnRestoreState ...\n",
      "Still in CBumpsInteractor init: <bumps.dream.state.MCMCDraw object at 0x7fc76a23eed0>\n",
      "g++  -g -O2 -Wall  -fPIC -DUSE_DOUBLE -DReal=double -DHAVE_CONFIG_H -I/Users/frank/danse/refl1d/garefl/boxmin -I/Users/frank/danse/refl1d/garefl/model1d -I/Users/frank/danse/refl1d/garefl/src -c setup.cc -o setup.o\n"
     ]
    },
    {
     "name": "stderr",
     "output_type": "stream",
     "text": [
      "setup.cc:93:14: warning: unused variable 'freepars' [-Wunused-variable]\n",
      "    fitpars *freepars = &fit[1].pars;\n",
      "             ^\n",
      "1 warning generated.\n"
     ]
    },
    {
     "name": "stdout",
     "output_type": "stream",
     "text": [
      "cd /Users/frank/danse/refl1d/garefl/boxmin && /Applications/Xcode.app/Contents/Developer/usr/bin/make\n",
      "make[1]: Nothing to be done for `all'.\n",
      "cd /Users/frank/danse/refl1d/garefl/model1d && /Applications/Xcode.app/Contents/Developer/usr/bin/make\n",
      "make[1]: Nothing to be done for `all'.\n",
      "cd /Users/frank/danse/refl1d/garefl/src && /Applications/Xcode.app/Contents/Developer/usr/bin/make\n",
      "make[1]: Nothing to be done for `all'.\n",
      "g++    -fPIC -o fit setup.o /Users/frank/danse/refl1d/garefl/src/ga_simul.o /Users/frank/danse/refl1d/garefl/src/ga.o -L/Users/frank/danse/refl1d/garefl/model1d -lrefl -L/Users/frank/danse/refl1d/garefl/boxmin -lboxmin  -lm \n",
      "g++ -shared -o model.so setup.o /Users/frank/danse/refl1d/garefl/src/refl1d.o -L/Users/frank/danse/refl1d/garefl/model1d -lrefl  -lm \n",
      "Found T/run.par \n",
      "\n",
      "Loading MCMC best-fit parameters ...\n",
      "/Users/frank/Dropbox/My Mac (PN115993.campus.nist.gov)/Documents/programming/molgroups/examples/information_theory/entropy_gridsearch_singlethread/garefl/setup.cc\n",
      "/Users/frank/Dropbox/My Mac (PN115993.campus.nist.gov)/Documents/programming/molgroups/examples/information_theory/entropy_gridsearch_singlethread/garefl/molgroups.cc\n",
      "l_siox 18.0\n",
      "rho_siox 3.55e-06\n",
      "l_submembrane 2.5\n",
      "l_lipid1 11.8\n",
      "l_lipid2 12.4\n",
      "vf_bilayer 0.95\n",
      "rho_solv_0 -5e-07\n",
      "global_rough 3.0\n",
      "sigma 2.5\n",
      "background_0 -8.0\n",
      "g++  -g -O2 -Wall  -fPIC -DUSE_DOUBLE -DReal=double -DHAVE_CONFIG_H -I/Users/frank/danse/refl1d/garefl/boxmin -I/Users/frank/danse/refl1d/garefl/model1d -I/Users/frank/danse/refl1d/garefl/src -c setup.cc -o setup.o\n"
     ]
    },
    {
     "name": "stderr",
     "output_type": "stream",
     "text": [
      "setup.cc:103:14: warning: unused variable 'freepars' [-Wunused-variable]\n",
      "    fitpars *freepars = &fit[1].pars;\n",
      "             ^\n",
      "1 warning generated.\n"
     ]
    },
    {
     "name": "stdout",
     "output_type": "stream",
     "text": [
      "cd /Users/frank/danse/refl1d/garefl/boxmin && /Applications/Xcode.app/Contents/Developer/usr/bin/make\n",
      "make[1]: Nothing to be done for `all'.\n",
      "cd /Users/frank/danse/refl1d/garefl/model1d && /Applications/Xcode.app/Contents/Developer/usr/bin/make\n",
      "make[1]: Nothing to be done for `all'.\n",
      "cd /Users/frank/danse/refl1d/garefl/src && /Applications/Xcode.app/Contents/Developer/usr/bin/make\n",
      "make[1]: Nothing to be done for `all'.\n",
      "g++    -fPIC -o fit setup.o /Users/frank/danse/refl1d/garefl/src/ga_simul.o /Users/frank/danse/refl1d/garefl/src/ga.o -L/Users/frank/danse/refl1d/garefl/model1d -lrefl -L/Users/frank/danse/refl1d/garefl/boxmin -lboxmin  -lm \n",
      "g++ -shared -o model.so setup.o /Users/frank/danse/refl1d/garefl/src/refl1d.o -L/Users/frank/danse/refl1d/garefl/model1d -lrefl  -lm \n",
      "chisq = 264.315\n",
      "/Users/frank/Dropbox/My Mac (PN115993.campus.nist.gov)/Documents/programming/molgroups/examples/information_theory/entropy_gridsearch_singlethread/garefl/setup.cc\n",
      "/Users/frank/Dropbox/My Mac (PN115993.campus.nist.gov)/Documents/programming/molgroups/examples/information_theory/entropy_gridsearch_singlethread/garefl/molgroups.cc\n",
      "g++  -g -O2 -Wall  -fPIC -DUSE_DOUBLE -DReal=double -DHAVE_CONFIG_H -I/Users/frank/danse/refl1d/garefl/boxmin -I/Users/frank/danse/refl1d/garefl/model1d -I/Users/frank/danse/refl1d/garefl/src -c setup.cc -o setup.o\n"
     ]
    },
    {
     "name": "stderr",
     "output_type": "stream",
     "text": [
      "setup.cc:93:14: warning: unused variable 'freepars' [-Wunused-variable]\n",
      "    fitpars *freepars = &fit[1].pars;\n",
      "             ^\n",
      "1 warning generated.\n"
     ]
    },
    {
     "name": "stdout",
     "output_type": "stream",
     "text": [
      "cd /Users/frank/danse/refl1d/garefl/boxmin && /Applications/Xcode.app/Contents/Developer/usr/bin/make\n",
      "make[1]: Nothing to be done for `all'.\n",
      "cd /Users/frank/danse/refl1d/garefl/model1d && /Applications/Xcode.app/Contents/Developer/usr/bin/make\n",
      "make[1]: Nothing to be done for `all'.\n",
      "cd /Users/frank/danse/refl1d/garefl/src && /Applications/Xcode.app/Contents/Developer/usr/bin/make\n",
      "make[1]: Nothing to be done for `all'.\n",
      "g++    -fPIC -o fit setup.o /Users/frank/danse/refl1d/garefl/src/ga_simul.o /Users/frank/danse/refl1d/garefl/src/ga.o -L/Users/frank/danse/refl1d/garefl/model1d -lrefl -L/Users/frank/danse/refl1d/garefl/boxmin -lboxmin  -lm \n",
      "g++ -shared -o model.so setup.o /Users/frank/danse/refl1d/garefl/src/refl1d.o -L/Users/frank/danse/refl1d/garefl/model1d -lrefl  -lm \n",
      "# /Users/frank/opt/anaconda3/envs/Python37/bin/refl1d_cli.py /Users/frank/Dropbox/My Mac (PN115993.campus.nist.gov)/Documents/programming/molgroups/examples/information_theory/entropy_gridsearch_singlethread/garefl/iteration_0/run.py --fit=dream --parallel --init=lhs --batch --store=/Users/frank/Dropbox/My Mac (PN115993.campus.nist.gov)/Documents/programming/molgroups/examples/information_theory/entropy_gridsearch_singlethread/garefl/iteration_0/save --burn=100 --steps=10 --seed=143448\n",
      "[0] = l_siox = 10 in [10,30]\n",
      "[1] = rho_siox = 3.2 in [3.2,3.8]\n",
      "[2] = l_submembrane = 1 in [1,10]\n",
      "[3] = l_lipid1 = 10 in [10,15]\n",
      "[4] = l_lipid2 = 10 in [10,15]\n",
      "[5] = vf_bilayer = 0.9 in [0.9,1]\n",
      "[6] = rho_solv_0 = -0.44 in [-1.04,-0.44]\n",
      "[7] = global_rough = 2 in [2,5]\n",
      "[8] = sigma = 2 in [2,5]\n",
      "[9] = background_0 = -5 in [-9,-5]\n",
      "\n",
      "[chisq=749.35(17), nllf=25103.2]\n",
      "# /Users/frank/opt/anaconda3/envs/Python37/bin/refl1d_cli.py /Users/frank/Dropbox/My Mac (PN115993.campus.nist.gov)/Documents/programming/molgroups/examples/information_theory/entropy_gridsearch_singlethread/garefl/iteration_0/run.py --fit=dream --parallel --init=lhs --batch --store=/Users/frank/Dropbox/My Mac (PN115993.campus.nist.gov)/Documents/programming/molgroups/examples/information_theory/entropy_gridsearch_singlethread/garefl/iteration_0/save --burn=100 --steps=10 --seed=143448\n",
      "[0] = l_siox = 10 in [10,30]\n",
      "[1] = rho_siox = 3.2 in [3.2,3.8]\n",
      "[2] = l_submembrane = 1 in [1,10]\n",
      "[3] = l_lipid1 = 10 in [10,15]\n",
      "[4] = l_lipid2 = 10 in [10,15]\n",
      "[5] = vf_bilayer = 0.9 in [0.9,1]\n",
      "[6] = rho_solv_0 = -0.44 in [-1.04,-0.44]\n",
      "[7] = global_rough = 2 in [2,5]\n",
      "[8] = sigma = 2 in [2,5]\n",
      "[9] = background_0 = -5 in [-9,-5]\n",
      "\n",
      "[chisq=749.35(17), nllf=25103.2]\n",
      "I am actually loading a state in CBumpsInteractor.__init__()\n",
      "None\n",
      "And here I am in fnRestoreState ...\n",
      "Still in CBumpsInteractor init: <bumps.dream.state.MCMCDraw object at 0x7fc7791467d0>\n",
      "g++  -g -O2 -Wall  -fPIC -DUSE_DOUBLE -DReal=double -DHAVE_CONFIG_H -I/Users/frank/danse/refl1d/garefl/boxmin -I/Users/frank/danse/refl1d/garefl/model1d -I/Users/frank/danse/refl1d/garefl/src -c setup.cc -o setup.o\n"
     ]
    },
    {
     "name": "stderr",
     "output_type": "stream",
     "text": [
      "setup.cc:93:14: warning: unused variable 'freepars' [-Wunused-variable]\n",
      "    fitpars *freepars = &fit[1].pars;\n",
      "             ^\n",
      "1 warning generated.\n"
     ]
    },
    {
     "name": "stdout",
     "output_type": "stream",
     "text": [
      "cd /Users/frank/danse/refl1d/garefl/boxmin && /Applications/Xcode.app/Contents/Developer/usr/bin/make\n",
      "make[1]: Nothing to be done for `all'.\n",
      "cd /Users/frank/danse/refl1d/garefl/model1d && /Applications/Xcode.app/Contents/Developer/usr/bin/make\n",
      "make[1]: Nothing to be done for `all'.\n",
      "cd /Users/frank/danse/refl1d/garefl/src && /Applications/Xcode.app/Contents/Developer/usr/bin/make\n",
      "make[1]: Nothing to be done for `all'.\n",
      "g++    -fPIC -o fit setup.o /Users/frank/danse/refl1d/garefl/src/ga_simul.o /Users/frank/danse/refl1d/garefl/src/ga.o -L/Users/frank/danse/refl1d/garefl/model1d -lrefl -L/Users/frank/danse/refl1d/garefl/boxmin -lboxmin  -lm \n",
      "g++ -shared -o model.so setup.o /Users/frank/danse/refl1d/garefl/src/refl1d.o -L/Users/frank/danse/refl1d/garefl/model1d -lrefl  -lm \n",
      "Here, here: garefl /Users/frank/Dropbox/My Mac (PN115993.campus.nist.gov)/Documents/programming/molgroups/examples/information_theory/entropy_gridsearch_singlethread/garefl/iteration_0 run <bumps.dream.state.MCMCDraw object at 0x7fc7791467d0>\n"
     ]
    },
    {
     "name": "stderr",
     "output_type": "stream",
     "text": [
      "../../../../information_theory/entropy.py:324: RuntimeWarning: divide by zero encountered in log\n",
      "  s_est = log(n_est) - mean(eval_logp)\n",
      "/Users/frank/opt/anaconda3/envs/Python37/lib/python3.7/site-packages/numpy/core/_methods.py:230: RuntimeWarning: invalid value encountered in subtract\n",
      "  x = asanyarray(arr - arrmean)\n",
      "../../../../information_theory/entropy.py:33: RuntimeWarning: invalid value encountered in double_scalars\n",
      "  s2 = fabs(result - element)\n",
      "rm: /Users/frank/Dropbox/My Mac (PN115993.campus.nist.gov)/Documents/programming/molgroups/examples/information_theory/entropy_gridsearch_singlethread/garefl/iteration_0/save/run-point.mc: No such file or directory\n",
      "rm: /Users/frank/Dropbox/My Mac (PN115993.campus.nist.gov)/Documents/programming/molgroups/examples/information_theory/entropy_gridsearch_singlethread/garefl/iteration_0/save/run-chain.mc: No such file or directory\n",
      "rm: /Users/frank/Dropbox/My Mac (PN115993.campus.nist.gov)/Documents/programming/molgroups/examples/information_theory/entropy_gridsearch_singlethread/garefl/iteration_0/save/run-stats.mc: No such file or directory\n"
     ]
    },
    {
     "name": "stdout",
     "output_type": "stream",
     "text": [
      "I am actually loading a state in CBumpsInteractor.__init__()\n",
      "None\n",
      "And here I am in fnRestoreState ...\n",
      "No file: /Users/frank/Dropbox/My Mac (PN115993.campus.nist.gov)/Documents/programming/molgroups/examples/information_theory/entropy_gridsearch_singlethread/garefl/iteration_1/save/run.py\n",
      "No state to reload.\n",
      "Still in CBumpsInteractor init: None\n",
      "No problem to reload.\n",
      "Found T/run.par \n",
      "\n",
      "Loading MCMC best-fit parameters ...\n",
      "/Users/frank/Dropbox/My Mac (PN115993.campus.nist.gov)/Documents/programming/molgroups/examples/information_theory/entropy_gridsearch_singlethread/garefl/setup.cc\n",
      "/Users/frank/Dropbox/My Mac (PN115993.campus.nist.gov)/Documents/programming/molgroups/examples/information_theory/entropy_gridsearch_singlethread/garefl/molgroups.cc\n",
      "l_siox 18.0\n",
      "rho_siox 3.55e-06\n",
      "l_submembrane 2.5\n",
      "l_lipid1 11.8\n",
      "l_lipid2 12.4\n",
      "vf_bilayer 0.95\n",
      "rho_solv_0 0.0\n",
      "global_rough 3.0\n",
      "sigma 2.5\n",
      "background_0 -8.0\n",
      "g++  -g -O2 -Wall  -fPIC -DUSE_DOUBLE -DReal=double -DHAVE_CONFIG_H -I/Users/frank/danse/refl1d/garefl/boxmin -I/Users/frank/danse/refl1d/garefl/model1d -I/Users/frank/danse/refl1d/garefl/src -c setup.cc -o setup.o\n"
     ]
    },
    {
     "name": "stderr",
     "output_type": "stream",
     "text": [
      "setup.cc:103:14: warning: unused variable 'freepars' [-Wunused-variable]\n",
      "    fitpars *freepars = &fit[1].pars;\n",
      "             ^\n",
      "1 warning generated.\n"
     ]
    },
    {
     "name": "stdout",
     "output_type": "stream",
     "text": [
      "cd /Users/frank/danse/refl1d/garefl/boxmin && /Applications/Xcode.app/Contents/Developer/usr/bin/make\n",
      "make[1]: Nothing to be done for `all'.\n",
      "cd /Users/frank/danse/refl1d/garefl/model1d && /Applications/Xcode.app/Contents/Developer/usr/bin/make\n",
      "make[1]: Nothing to be done for `all'.\n",
      "cd /Users/frank/danse/refl1d/garefl/src && /Applications/Xcode.app/Contents/Developer/usr/bin/make\n",
      "make[1]: Nothing to be done for `all'.\n",
      "g++    -fPIC -o fit setup.o /Users/frank/danse/refl1d/garefl/src/ga_simul.o /Users/frank/danse/refl1d/garefl/src/ga.o -L/Users/frank/danse/refl1d/garefl/model1d -lrefl -L/Users/frank/danse/refl1d/garefl/boxmin -lboxmin  -lm \n",
      "g++ -shared -o model.so setup.o /Users/frank/danse/refl1d/garefl/src/refl1d.o -L/Users/frank/danse/refl1d/garefl/model1d -lrefl  -lm \n",
      "chisq = 60.8173\n",
      "/Users/frank/Dropbox/My Mac (PN115993.campus.nist.gov)/Documents/programming/molgroups/examples/information_theory/entropy_gridsearch_singlethread/garefl/setup.cc\n",
      "/Users/frank/Dropbox/My Mac (PN115993.campus.nist.gov)/Documents/programming/molgroups/examples/information_theory/entropy_gridsearch_singlethread/garefl/molgroups.cc\n"
     ]
    },
    {
     "name": "stderr",
     "output_type": "stream",
     "text": [
      "rm: /Users/frank/Dropbox/My Mac (PN115993.campus.nist.gov)/Documents/programming/molgroups/examples/information_theory/entropy_gridsearch_singlethread/garefl/iteration_1/save: No such file or directory\n"
     ]
    },
    {
     "name": "stdout",
     "output_type": "stream",
     "text": [
      "g++  -g -O2 -Wall  -fPIC -DUSE_DOUBLE -DReal=double -DHAVE_CONFIG_H -I/Users/frank/danse/refl1d/garefl/boxmin -I/Users/frank/danse/refl1d/garefl/model1d -I/Users/frank/danse/refl1d/garefl/src -c setup.cc -o setup.o\n"
     ]
    },
    {
     "name": "stderr",
     "output_type": "stream",
     "text": [
      "setup.cc:93:14: warning: unused variable 'freepars' [-Wunused-variable]\n",
      "    fitpars *freepars = &fit[1].pars;\n",
      "             ^\n",
      "1 warning generated.\n"
     ]
    },
    {
     "name": "stdout",
     "output_type": "stream",
     "text": [
      "cd /Users/frank/danse/refl1d/garefl/boxmin && /Applications/Xcode.app/Contents/Developer/usr/bin/make\n",
      "make[1]: Nothing to be done for `all'.\n",
      "cd /Users/frank/danse/refl1d/garefl/model1d && /Applications/Xcode.app/Contents/Developer/usr/bin/make\n",
      "make[1]: Nothing to be done for `all'.\n",
      "cd /Users/frank/danse/refl1d/garefl/src && /Applications/Xcode.app/Contents/Developer/usr/bin/make\n",
      "make[1]: Nothing to be done for `all'.\n",
      "g++    -fPIC -o fit setup.o /Users/frank/danse/refl1d/garefl/src/ga_simul.o /Users/frank/danse/refl1d/garefl/src/ga.o -L/Users/frank/danse/refl1d/garefl/model1d -lrefl -L/Users/frank/danse/refl1d/garefl/boxmin -lboxmin  -lm \n",
      "ln -s /Users/frank/danse/refl1d/garefl/src/gaplot gaplot\n",
      "g++ -shared -o model.so setup.o /Users/frank/danse/refl1d/garefl/src/refl1d.o -L/Users/frank/danse/refl1d/garefl/model1d -lrefl  -lm \n",
      "# /Users/frank/opt/anaconda3/envs/Python37/bin/refl1d_cli.py /Users/frank/Dropbox/My Mac (PN115993.campus.nist.gov)/Documents/programming/molgroups/examples/information_theory/entropy_gridsearch_singlethread/garefl/iteration_1/run.py --fit=dream --parallel --init=lhs --batch --store=/Users/frank/Dropbox/My Mac (PN115993.campus.nist.gov)/Documents/programming/molgroups/examples/information_theory/entropy_gridsearch_singlethread/garefl/iteration_1/save --burn=100 --steps=10 --seed=56163\n",
      "[0] = l_siox = 10 in [10,30]\n",
      "[1] = rho_siox = 3.2 in [3.2,3.8]\n",
      "[2] = l_submembrane = 1 in [1,10]\n",
      "[3] = l_lipid1 = 10 in [10,15]\n",
      "[4] = l_lipid2 = 10 in [10,15]\n",
      "[5] = vf_bilayer = 0.9 in [0.9,1]\n",
      "[6] = rho_solv_0 = 0.06 in [-0.54,0.06]\n",
      "[7] = global_rough = 2 in [2,5]\n",
      "[8] = sigma = 2 in [2,5]\n",
      "[9] = background_0 = -5 in [-9,-5]\n",
      "\n",
      "[chisq=595.05(17), nllf=19934.3]\n",
      "# /Users/frank/opt/anaconda3/envs/Python37/bin/refl1d_cli.py /Users/frank/Dropbox/My Mac (PN115993.campus.nist.gov)/Documents/programming/molgroups/examples/information_theory/entropy_gridsearch_singlethread/garefl/iteration_1/run.py --fit=dream --parallel --init=lhs --batch --store=/Users/frank/Dropbox/My Mac (PN115993.campus.nist.gov)/Documents/programming/molgroups/examples/information_theory/entropy_gridsearch_singlethread/garefl/iteration_1/save --burn=100 --steps=10 --seed=56163\n",
      "[0] = l_siox = 10 in [10,30]\n",
      "[1] = rho_siox = 3.2 in [3.2,3.8]\n",
      "[2] = l_submembrane = 1 in [1,10]\n",
      "[3] = l_lipid1 = 10 in [10,15]\n",
      "[4] = l_lipid2 = 10 in [10,15]\n",
      "[5] = vf_bilayer = 0.9 in [0.9,1]\n",
      "[6] = rho_solv_0 = 0.06 in [-0.54,0.06]\n",
      "[7] = global_rough = 2 in [2,5]\n",
      "[8] = sigma = 2 in [2,5]\n",
      "[9] = background_0 = -5 in [-9,-5]\n",
      "\n",
      "[chisq=595.05(17), nllf=19934.3]\n",
      "I am actually loading a state in CBumpsInteractor.__init__()\n",
      "None\n",
      "And here I am in fnRestoreState ...\n",
      "Still in CBumpsInteractor init: <bumps.dream.state.MCMCDraw object at 0x7fc7408c2110>\n",
      "g++  -g -O2 -Wall  -fPIC -DUSE_DOUBLE -DReal=double -DHAVE_CONFIG_H -I/Users/frank/danse/refl1d/garefl/boxmin -I/Users/frank/danse/refl1d/garefl/model1d -I/Users/frank/danse/refl1d/garefl/src -c setup.cc -o setup.o\n"
     ]
    },
    {
     "name": "stderr",
     "output_type": "stream",
     "text": [
      "setup.cc:93:14: warning: unused variable 'freepars' [-Wunused-variable]\n",
      "    fitpars *freepars = &fit[1].pars;\n",
      "             ^\n",
      "1 warning generated.\n"
     ]
    },
    {
     "name": "stdout",
     "output_type": "stream",
     "text": [
      "cd /Users/frank/danse/refl1d/garefl/boxmin && /Applications/Xcode.app/Contents/Developer/usr/bin/make\n",
      "make[1]: Nothing to be done for `all'.\n",
      "cd /Users/frank/danse/refl1d/garefl/model1d && /Applications/Xcode.app/Contents/Developer/usr/bin/make\n",
      "make[1]: Nothing to be done for `all'.\n",
      "cd /Users/frank/danse/refl1d/garefl/src && /Applications/Xcode.app/Contents/Developer/usr/bin/make\n",
      "make[1]: Nothing to be done for `all'.\n",
      "g++    -fPIC -o fit setup.o /Users/frank/danse/refl1d/garefl/src/ga_simul.o /Users/frank/danse/refl1d/garefl/src/ga.o -L/Users/frank/danse/refl1d/garefl/model1d -lrefl -L/Users/frank/danse/refl1d/garefl/boxmin -lboxmin  -lm \n",
      "g++ -shared -o model.so setup.o /Users/frank/danse/refl1d/garefl/src/refl1d.o -L/Users/frank/danse/refl1d/garefl/model1d -lrefl  -lm \n",
      "Here, here: garefl /Users/frank/Dropbox/My Mac (PN115993.campus.nist.gov)/Documents/programming/molgroups/examples/information_theory/entropy_gridsearch_singlethread/garefl/iteration_1 run <bumps.dream.state.MCMCDraw object at 0x7fc7408c2110>\n"
     ]
    },
    {
     "name": "stderr",
     "output_type": "stream",
     "text": [
      "../../../../information_theory/entropy.py:324: RuntimeWarning: divide by zero encountered in log\n",
      "  s_est = log(n_est) - mean(eval_logp)\n",
      "/Users/frank/opt/anaconda3/envs/Python37/lib/python3.7/site-packages/numpy/core/_methods.py:230: RuntimeWarning: invalid value encountered in subtract\n",
      "  x = asanyarray(arr - arrmean)\n",
      "../../../../information_theory/entropy.py:33: RuntimeWarning: invalid value encountered in double_scalars\n",
      "  s2 = fabs(result - element)\n",
      "rm: /Users/frank/Dropbox/My Mac (PN115993.campus.nist.gov)/Documents/programming/molgroups/examples/information_theory/entropy_gridsearch_singlethread/garefl/iteration_1/save/run-point.mc: No such file or directory\n",
      "rm: /Users/frank/Dropbox/My Mac (PN115993.campus.nist.gov)/Documents/programming/molgroups/examples/information_theory/entropy_gridsearch_singlethread/garefl/iteration_1/save/run-chain.mc: No such file or directory\n",
      "rm: /Users/frank/Dropbox/My Mac (PN115993.campus.nist.gov)/Documents/programming/molgroups/examples/information_theory/entropy_gridsearch_singlethread/garefl/iteration_1/save/run-stats.mc: No such file or directory\n"
     ]
    },
    {
     "name": "stdout",
     "output_type": "stream",
     "text": [
      "I am actually loading a state in CBumpsInteractor.__init__()\n",
      "None\n",
      "And here I am in fnRestoreState ...\n",
      "No file: /Users/frank/Dropbox/My Mac (PN115993.campus.nist.gov)/Documents/programming/molgroups/examples/information_theory/entropy_gridsearch_singlethread/garefl/iteration_2/save/run.py\n",
      "No state to reload.\n",
      "Still in CBumpsInteractor init: None\n",
      "No problem to reload.\n",
      "Found T/run.par \n",
      "\n",
      "Loading MCMC best-fit parameters ...\n",
      "/Users/frank/Dropbox/My Mac (PN115993.campus.nist.gov)/Documents/programming/molgroups/examples/information_theory/entropy_gridsearch_singlethread/garefl/setup.cc\n",
      "/Users/frank/Dropbox/My Mac (PN115993.campus.nist.gov)/Documents/programming/molgroups/examples/information_theory/entropy_gridsearch_singlethread/garefl/molgroups.cc\n",
      "l_siox 18.0\n",
      "rho_siox 3.55e-06\n",
      "l_submembrane 2.5\n",
      "l_lipid1 11.8\n",
      "l_lipid2 12.4\n",
      "vf_bilayer 0.95\n",
      "rho_solv_0 5e-07\n",
      "global_rough 3.0\n",
      "sigma 2.5\n",
      "background_0 -8.0\n",
      "g++  -g -O2 -Wall  -fPIC -DUSE_DOUBLE -DReal=double -DHAVE_CONFIG_H -I/Users/frank/danse/refl1d/garefl/boxmin -I/Users/frank/danse/refl1d/garefl/model1d -I/Users/frank/danse/refl1d/garefl/src -c setup.cc -o setup.o\n"
     ]
    },
    {
     "name": "stderr",
     "output_type": "stream",
     "text": [
      "setup.cc:103:14: warning: unused variable 'freepars' [-Wunused-variable]\n",
      "    fitpars *freepars = &fit[1].pars;\n",
      "             ^\n",
      "1 warning generated.\n"
     ]
    },
    {
     "name": "stdout",
     "output_type": "stream",
     "text": [
      "cd /Users/frank/danse/refl1d/garefl/boxmin && /Applications/Xcode.app/Contents/Developer/usr/bin/make\n",
      "make[1]: Nothing to be done for `all'.\n",
      "cd /Users/frank/danse/refl1d/garefl/model1d && /Applications/Xcode.app/Contents/Developer/usr/bin/make\n",
      "make[1]: Nothing to be done for `all'.\n",
      "cd /Users/frank/danse/refl1d/garefl/src && /Applications/Xcode.app/Contents/Developer/usr/bin/make\n",
      "make[1]: Nothing to be done for `all'.\n",
      "g++    -fPIC -o fit setup.o /Users/frank/danse/refl1d/garefl/src/ga_simul.o /Users/frank/danse/refl1d/garefl/src/ga.o -L/Users/frank/danse/refl1d/garefl/model1d -lrefl -L/Users/frank/danse/refl1d/garefl/boxmin -lboxmin  -lm \n",
      "g++ -shared -o model.so setup.o /Users/frank/danse/refl1d/garefl/src/refl1d.o -L/Users/frank/danse/refl1d/garefl/model1d -lrefl  -lm \n",
      "chisq = 1.09039\n",
      "/Users/frank/Dropbox/My Mac (PN115993.campus.nist.gov)/Documents/programming/molgroups/examples/information_theory/entropy_gridsearch_singlethread/garefl/setup.cc\n",
      "/Users/frank/Dropbox/My Mac (PN115993.campus.nist.gov)/Documents/programming/molgroups/examples/information_theory/entropy_gridsearch_singlethread/garefl/molgroups.cc\n"
     ]
    },
    {
     "name": "stderr",
     "output_type": "stream",
     "text": [
      "rm: /Users/frank/Dropbox/My Mac (PN115993.campus.nist.gov)/Documents/programming/molgroups/examples/information_theory/entropy_gridsearch_singlethread/garefl/iteration_2/save: No such file or directory\n"
     ]
    },
    {
     "name": "stdout",
     "output_type": "stream",
     "text": [
      "g++  -g -O2 -Wall  -fPIC -DUSE_DOUBLE -DReal=double -DHAVE_CONFIG_H -I/Users/frank/danse/refl1d/garefl/boxmin -I/Users/frank/danse/refl1d/garefl/model1d -I/Users/frank/danse/refl1d/garefl/src -c setup.cc -o setup.o\n"
     ]
    },
    {
     "name": "stderr",
     "output_type": "stream",
     "text": [
      "setup.cc:93:14: warning: unused variable 'freepars' [-Wunused-variable]\n",
      "    fitpars *freepars = &fit[1].pars;\n",
      "             ^\n",
      "1 warning generated.\n"
     ]
    },
    {
     "name": "stdout",
     "output_type": "stream",
     "text": [
      "cd /Users/frank/danse/refl1d/garefl/boxmin && /Applications/Xcode.app/Contents/Developer/usr/bin/make\n",
      "make[1]: Nothing to be done for `all'.\n",
      "cd /Users/frank/danse/refl1d/garefl/model1d && /Applications/Xcode.app/Contents/Developer/usr/bin/make\n",
      "make[1]: Nothing to be done for `all'.\n",
      "cd /Users/frank/danse/refl1d/garefl/src && /Applications/Xcode.app/Contents/Developer/usr/bin/make\n",
      "make[1]: Nothing to be done for `all'.\n",
      "g++    -fPIC -o fit setup.o /Users/frank/danse/refl1d/garefl/src/ga_simul.o /Users/frank/danse/refl1d/garefl/src/ga.o -L/Users/frank/danse/refl1d/garefl/model1d -lrefl -L/Users/frank/danse/refl1d/garefl/boxmin -lboxmin  -lm \n",
      "ln -s /Users/frank/danse/refl1d/garefl/src/gaplot gaplot\n",
      "g++ -shared -o model.so setup.o /Users/frank/danse/refl1d/garefl/src/refl1d.o -L/Users/frank/danse/refl1d/garefl/model1d -lrefl  -lm \n",
      "# /Users/frank/opt/anaconda3/envs/Python37/bin/refl1d_cli.py /Users/frank/Dropbox/My Mac (PN115993.campus.nist.gov)/Documents/programming/molgroups/examples/information_theory/entropy_gridsearch_singlethread/garefl/iteration_2/run.py --fit=dream --parallel --init=lhs --batch --store=/Users/frank/Dropbox/My Mac (PN115993.campus.nist.gov)/Documents/programming/molgroups/examples/information_theory/entropy_gridsearch_singlethread/garefl/iteration_2/save --burn=100 --steps=10 --seed=655847\n",
      "[0] = l_siox = 10 in [10,30]\n",
      "[1] = rho_siox = 3.2 in [3.2,3.8]\n",
      "[2] = l_submembrane = 1 in [1,10]\n",
      "[3] = l_lipid1 = 10 in [10,15]\n",
      "[4] = l_lipid2 = 10 in [10,15]\n",
      "[5] = vf_bilayer = 0.9 in [0.9,1]\n",
      "[6] = rho_solv_0 = 0.56 in [-0.04,0.56]\n",
      "[7] = global_rough = 2 in [2,5]\n",
      "[8] = sigma = 2 in [2,5]\n",
      "[9] = background_0 = -5 in [-9,-5]\n",
      "\n",
      "[chisq=576.61(17), nllf=19316.3]\n",
      "# /Users/frank/opt/anaconda3/envs/Python37/bin/refl1d_cli.py /Users/frank/Dropbox/My Mac (PN115993.campus.nist.gov)/Documents/programming/molgroups/examples/information_theory/entropy_gridsearch_singlethread/garefl/iteration_2/run.py --fit=dream --parallel --init=lhs --batch --store=/Users/frank/Dropbox/My Mac (PN115993.campus.nist.gov)/Documents/programming/molgroups/examples/information_theory/entropy_gridsearch_singlethread/garefl/iteration_2/save --burn=100 --steps=10 --seed=655847\n",
      "[0] = l_siox = 10 in [10,30]\n",
      "[1] = rho_siox = 3.2 in [3.2,3.8]\n",
      "[2] = l_submembrane = 1 in [1,10]\n",
      "[3] = l_lipid1 = 10 in [10,15]\n",
      "[4] = l_lipid2 = 10 in [10,15]\n",
      "[5] = vf_bilayer = 0.9 in [0.9,1]\n",
      "[6] = rho_solv_0 = 0.56 in [-0.04,0.56]\n",
      "[7] = global_rough = 2 in [2,5]\n",
      "[8] = sigma = 2 in [2,5]\n",
      "[9] = background_0 = -5 in [-9,-5]\n",
      "\n",
      "[chisq=576.61(17), nllf=19316.3]\n",
      "I am actually loading a state in CBumpsInteractor.__init__()\n",
      "None\n",
      "And here I am in fnRestoreState ...\n",
      "Still in CBumpsInteractor init: <bumps.dream.state.MCMCDraw object at 0x7fc7408c2150>\n",
      "g++  -g -O2 -Wall  -fPIC -DUSE_DOUBLE -DReal=double -DHAVE_CONFIG_H -I/Users/frank/danse/refl1d/garefl/boxmin -I/Users/frank/danse/refl1d/garefl/model1d -I/Users/frank/danse/refl1d/garefl/src -c setup.cc -o setup.o\n"
     ]
    },
    {
     "name": "stderr",
     "output_type": "stream",
     "text": [
      "setup.cc:93:14: warning: unused variable 'freepars' [-Wunused-variable]\n",
      "    fitpars *freepars = &fit[1].pars;\n",
      "             ^\n",
      "1 warning generated.\n"
     ]
    },
    {
     "name": "stdout",
     "output_type": "stream",
     "text": [
      "cd /Users/frank/danse/refl1d/garefl/boxmin && /Applications/Xcode.app/Contents/Developer/usr/bin/make\n",
      "make[1]: Nothing to be done for `all'.\n",
      "cd /Users/frank/danse/refl1d/garefl/model1d && /Applications/Xcode.app/Contents/Developer/usr/bin/make\n",
      "make[1]: Nothing to be done for `all'.\n",
      "cd /Users/frank/danse/refl1d/garefl/src && /Applications/Xcode.app/Contents/Developer/usr/bin/make\n",
      "make[1]: Nothing to be done for `all'.\n",
      "g++    -fPIC -o fit setup.o /Users/frank/danse/refl1d/garefl/src/ga_simul.o /Users/frank/danse/refl1d/garefl/src/ga.o -L/Users/frank/danse/refl1d/garefl/model1d -lrefl -L/Users/frank/danse/refl1d/garefl/boxmin -lboxmin  -lm \n",
      "g++ -shared -o model.so setup.o /Users/frank/danse/refl1d/garefl/src/refl1d.o -L/Users/frank/danse/refl1d/garefl/model1d -lrefl  -lm \n",
      "Here, here: garefl /Users/frank/Dropbox/My Mac (PN115993.campus.nist.gov)/Documents/programming/molgroups/examples/information_theory/entropy_gridsearch_singlethread/garefl/iteration_2 run <bumps.dream.state.MCMCDraw object at 0x7fc7408c2150>\n"
     ]
    },
    {
     "name": "stderr",
     "output_type": "stream",
     "text": [
      "rm: /Users/frank/Dropbox/My Mac (PN115993.campus.nist.gov)/Documents/programming/molgroups/examples/information_theory/entropy_gridsearch_singlethread/garefl/iteration_2/save/run-point.mc: No such file or directory\n",
      "rm: /Users/frank/Dropbox/My Mac (PN115993.campus.nist.gov)/Documents/programming/molgroups/examples/information_theory/entropy_gridsearch_singlethread/garefl/iteration_2/save/run-chain.mc: No such file or directory\n",
      "rm: /Users/frank/Dropbox/My Mac (PN115993.campus.nist.gov)/Documents/programming/molgroups/examples/information_theory/entropy_gridsearch_singlethread/garefl/iteration_2/save/run-stats.mc: No such file or directory\n"
     ]
    },
    {
     "name": "stdout",
     "output_type": "stream",
     "text": [
      "I am actually loading a state in CBumpsInteractor.__init__()\n",
      "None\n",
      "And here I am in fnRestoreState ...\n",
      "No file: /Users/frank/Dropbox/My Mac (PN115993.campus.nist.gov)/Documents/programming/molgroups/examples/information_theory/entropy_gridsearch_singlethread/garefl/iteration_3/save/run.py\n",
      "No state to reload.\n",
      "Still in CBumpsInteractor init: None\n",
      "No problem to reload.\n",
      "Found T/run.par \n",
      "\n",
      "Loading MCMC best-fit parameters ...\n",
      "/Users/frank/Dropbox/My Mac (PN115993.campus.nist.gov)/Documents/programming/molgroups/examples/information_theory/entropy_gridsearch_singlethread/garefl/setup.cc\n",
      "/Users/frank/Dropbox/My Mac (PN115993.campus.nist.gov)/Documents/programming/molgroups/examples/information_theory/entropy_gridsearch_singlethread/garefl/molgroups.cc\n",
      "l_siox 18.0\n",
      "rho_siox 3.55e-06\n",
      "l_submembrane 2.5\n",
      "l_lipid1 11.8\n",
      "l_lipid2 12.4\n",
      "vf_bilayer 0.95\n",
      "rho_solv_0 1.0000000000000002e-06\n",
      "global_rough 3.0\n",
      "sigma 2.5\n",
      "background_0 -8.0\n",
      "g++  -g -O2 -Wall  -fPIC -DUSE_DOUBLE -DReal=double -DHAVE_CONFIG_H -I/Users/frank/danse/refl1d/garefl/boxmin -I/Users/frank/danse/refl1d/garefl/model1d -I/Users/frank/danse/refl1d/garefl/src -c setup.cc -o setup.o\n"
     ]
    },
    {
     "name": "stderr",
     "output_type": "stream",
     "text": [
      "setup.cc:103:14: warning: unused variable 'freepars' [-Wunused-variable]\n",
      "    fitpars *freepars = &fit[1].pars;\n",
      "             ^\n",
      "1 warning generated.\n"
     ]
    },
    {
     "name": "stdout",
     "output_type": "stream",
     "text": [
      "cd /Users/frank/danse/refl1d/garefl/boxmin && /Applications/Xcode.app/Contents/Developer/usr/bin/make\n",
      "make[1]: Nothing to be done for `all'.\n",
      "cd /Users/frank/danse/refl1d/garefl/model1d && /Applications/Xcode.app/Contents/Developer/usr/bin/make\n",
      "make[1]: Nothing to be done for `all'.\n",
      "cd /Users/frank/danse/refl1d/garefl/src && /Applications/Xcode.app/Contents/Developer/usr/bin/make\n",
      "make[1]: Nothing to be done for `all'.\n",
      "g++    -fPIC -o fit setup.o /Users/frank/danse/refl1d/garefl/src/ga_simul.o /Users/frank/danse/refl1d/garefl/src/ga.o -L/Users/frank/danse/refl1d/garefl/model1d -lrefl -L/Users/frank/danse/refl1d/garefl/boxmin -lboxmin  -lm \n",
      "g++ -shared -o model.so setup.o /Users/frank/danse/refl1d/garefl/src/refl1d.o -L/Users/frank/danse/refl1d/garefl/model1d -lrefl  -lm \n",
      "chisq = 52.7949\n",
      "/Users/frank/Dropbox/My Mac (PN115993.campus.nist.gov)/Documents/programming/molgroups/examples/information_theory/entropy_gridsearch_singlethread/garefl/setup.cc\n",
      "/Users/frank/Dropbox/My Mac (PN115993.campus.nist.gov)/Documents/programming/molgroups/examples/information_theory/entropy_gridsearch_singlethread/garefl/molgroups.cc\n"
     ]
    },
    {
     "name": "stderr",
     "output_type": "stream",
     "text": [
      "rm: /Users/frank/Dropbox/My Mac (PN115993.campus.nist.gov)/Documents/programming/molgroups/examples/information_theory/entropy_gridsearch_singlethread/garefl/iteration_3/save: No such file or directory\n"
     ]
    },
    {
     "name": "stdout",
     "output_type": "stream",
     "text": [
      "g++  -g -O2 -Wall  -fPIC -DUSE_DOUBLE -DReal=double -DHAVE_CONFIG_H -I/Users/frank/danse/refl1d/garefl/boxmin -I/Users/frank/danse/refl1d/garefl/model1d -I/Users/frank/danse/refl1d/garefl/src -c setup.cc -o setup.o\n"
     ]
    },
    {
     "name": "stderr",
     "output_type": "stream",
     "text": [
      "setup.cc:93:14: warning: unused variable 'freepars' [-Wunused-variable]\n",
      "    fitpars *freepars = &fit[1].pars;\n",
      "             ^\n",
      "1 warning generated.\n"
     ]
    },
    {
     "name": "stdout",
     "output_type": "stream",
     "text": [
      "cd /Users/frank/danse/refl1d/garefl/boxmin && /Applications/Xcode.app/Contents/Developer/usr/bin/make\n",
      "make[1]: Nothing to be done for `all'.\n",
      "cd /Users/frank/danse/refl1d/garefl/model1d && /Applications/Xcode.app/Contents/Developer/usr/bin/make\n",
      "make[1]: Nothing to be done for `all'.\n",
      "cd /Users/frank/danse/refl1d/garefl/src && /Applications/Xcode.app/Contents/Developer/usr/bin/make\n",
      "make[1]: Nothing to be done for `all'.\n",
      "g++    -fPIC -o fit setup.o /Users/frank/danse/refl1d/garefl/src/ga_simul.o /Users/frank/danse/refl1d/garefl/src/ga.o -L/Users/frank/danse/refl1d/garefl/model1d -lrefl -L/Users/frank/danse/refl1d/garefl/boxmin -lboxmin  -lm \n",
      "ln -s /Users/frank/danse/refl1d/garefl/src/gaplot gaplot\n",
      "g++ -shared -o model.so setup.o /Users/frank/danse/refl1d/garefl/src/refl1d.o -L/Users/frank/danse/refl1d/garefl/model1d -lrefl  -lm \n",
      "# /Users/frank/opt/anaconda3/envs/Python37/bin/refl1d_cli.py /Users/frank/Dropbox/My Mac (PN115993.campus.nist.gov)/Documents/programming/molgroups/examples/information_theory/entropy_gridsearch_singlethread/garefl/iteration_3/run.py --fit=dream --parallel --init=lhs --batch --store=/Users/frank/Dropbox/My Mac (PN115993.campus.nist.gov)/Documents/programming/molgroups/examples/information_theory/entropy_gridsearch_singlethread/garefl/iteration_3/save --burn=100 --steps=10 --seed=396676\n",
      "[0] = l_siox = 10 in [10,30]\n",
      "[1] = rho_siox = 3.2 in [3.2,3.8]\n",
      "[2] = l_submembrane = 1 in [1,10]\n",
      "[3] = l_lipid1 = 10 in [10,15]\n",
      "[4] = l_lipid2 = 10 in [10,15]\n",
      "[5] = vf_bilayer = 0.9 in [0.9,1]\n",
      "[6] = rho_solv_0 = 1.06 in [0.46,1.06]\n",
      "[7] = global_rough = 2 in [2,5]\n",
      "[8] = sigma = 2 in [2,5]\n",
      "[9] = background_0 = -5 in [-9,-5]\n",
      "\n",
      "[chisq=651.97(17), nllf=21841]\n",
      "# /Users/frank/opt/anaconda3/envs/Python37/bin/refl1d_cli.py /Users/frank/Dropbox/My Mac (PN115993.campus.nist.gov)/Documents/programming/molgroups/examples/information_theory/entropy_gridsearch_singlethread/garefl/iteration_3/run.py --fit=dream --parallel --init=lhs --batch --store=/Users/frank/Dropbox/My Mac (PN115993.campus.nist.gov)/Documents/programming/molgroups/examples/information_theory/entropy_gridsearch_singlethread/garefl/iteration_3/save --burn=100 --steps=10 --seed=396676\n",
      "[0] = l_siox = 10 in [10,30]\n",
      "[1] = rho_siox = 3.2 in [3.2,3.8]\n",
      "[2] = l_submembrane = 1 in [1,10]\n",
      "[3] = l_lipid1 = 10 in [10,15]\n",
      "[4] = l_lipid2 = 10 in [10,15]\n",
      "[5] = vf_bilayer = 0.9 in [0.9,1]\n",
      "[6] = rho_solv_0 = 1.06 in [0.46,1.06]\n",
      "[7] = global_rough = 2 in [2,5]\n",
      "[8] = sigma = 2 in [2,5]\n",
      "[9] = background_0 = -5 in [-9,-5]\n",
      "\n",
      "[chisq=651.97(17), nllf=21841]\n",
      "I am actually loading a state in CBumpsInteractor.__init__()\n",
      "None\n",
      "And here I am in fnRestoreState ...\n",
      "Still in CBumpsInteractor init: <bumps.dream.state.MCMCDraw object at 0x7fc7408c2d90>\n",
      "g++  -g -O2 -Wall  -fPIC -DUSE_DOUBLE -DReal=double -DHAVE_CONFIG_H -I/Users/frank/danse/refl1d/garefl/boxmin -I/Users/frank/danse/refl1d/garefl/model1d -I/Users/frank/danse/refl1d/garefl/src -c setup.cc -o setup.o\n"
     ]
    },
    {
     "name": "stderr",
     "output_type": "stream",
     "text": [
      "setup.cc:93:14: warning: unused variable 'freepars' [-Wunused-variable]\n",
      "    fitpars *freepars = &fit[1].pars;\n",
      "             ^\n",
      "1 warning generated.\n"
     ]
    },
    {
     "name": "stdout",
     "output_type": "stream",
     "text": [
      "cd /Users/frank/danse/refl1d/garefl/boxmin && /Applications/Xcode.app/Contents/Developer/usr/bin/make\n",
      "make[1]: Nothing to be done for `all'.\n",
      "cd /Users/frank/danse/refl1d/garefl/model1d && /Applications/Xcode.app/Contents/Developer/usr/bin/make\n",
      "make[1]: Nothing to be done for `all'.\n",
      "cd /Users/frank/danse/refl1d/garefl/src && /Applications/Xcode.app/Contents/Developer/usr/bin/make\n",
      "make[1]: Nothing to be done for `all'.\n",
      "g++    -fPIC -o fit setup.o /Users/frank/danse/refl1d/garefl/src/ga_simul.o /Users/frank/danse/refl1d/garefl/src/ga.o -L/Users/frank/danse/refl1d/garefl/model1d -lrefl -L/Users/frank/danse/refl1d/garefl/boxmin -lboxmin  -lm \n",
      "g++ -shared -o model.so setup.o /Users/frank/danse/refl1d/garefl/src/refl1d.o -L/Users/frank/danse/refl1d/garefl/model1d -lrefl  -lm \n",
      "Here, here: garefl /Users/frank/Dropbox/My Mac (PN115993.campus.nist.gov)/Documents/programming/molgroups/examples/information_theory/entropy_gridsearch_singlethread/garefl/iteration_3 run <bumps.dream.state.MCMCDraw object at 0x7fc7408c2d90>\n"
     ]
    },
    {
     "name": "stderr",
     "output_type": "stream",
     "text": [
      "rm: /Users/frank/Dropbox/My Mac (PN115993.campus.nist.gov)/Documents/programming/molgroups/examples/information_theory/entropy_gridsearch_singlethread/garefl/iteration_3/save/run-point.mc: No such file or directory\n",
      "rm: /Users/frank/Dropbox/My Mac (PN115993.campus.nist.gov)/Documents/programming/molgroups/examples/information_theory/entropy_gridsearch_singlethread/garefl/iteration_3/save/run-chain.mc: No such file or directory\n",
      "rm: /Users/frank/Dropbox/My Mac (PN115993.campus.nist.gov)/Documents/programming/molgroups/examples/information_theory/entropy_gridsearch_singlethread/garefl/iteration_3/save/run-stats.mc: No such file or directory\n"
     ]
    },
    {
     "name": "stdout",
     "output_type": "stream",
     "text": [
      "I am actually loading a state in CBumpsInteractor.__init__()\n",
      "None\n",
      "And here I am in fnRestoreState ...\n",
      "No file: /Users/frank/Dropbox/My Mac (PN115993.campus.nist.gov)/Documents/programming/molgroups/examples/information_theory/entropy_gridsearch_singlethread/garefl/iteration_4/save/run.py\n",
      "No state to reload.\n",
      "Still in CBumpsInteractor init: None\n",
      "No problem to reload.\n",
      "Found T/run.par \n",
      "\n",
      "Loading MCMC best-fit parameters ...\n",
      "/Users/frank/Dropbox/My Mac (PN115993.campus.nist.gov)/Documents/programming/molgroups/examples/information_theory/entropy_gridsearch_singlethread/garefl/setup.cc\n",
      "/Users/frank/Dropbox/My Mac (PN115993.campus.nist.gov)/Documents/programming/molgroups/examples/information_theory/entropy_gridsearch_singlethread/garefl/molgroups.cc\n",
      "l_siox 18.0\n",
      "rho_siox 3.55e-06\n",
      "l_submembrane 2.5\n",
      "l_lipid1 11.8\n",
      "l_lipid2 12.4\n",
      "vf_bilayer 0.95\n",
      "rho_solv_0 1.5e-06\n",
      "global_rough 3.0\n",
      "sigma 2.5\n",
      "background_0 -8.0\n",
      "g++  -g -O2 -Wall  -fPIC -DUSE_DOUBLE -DReal=double -DHAVE_CONFIG_H -I/Users/frank/danse/refl1d/garefl/boxmin -I/Users/frank/danse/refl1d/garefl/model1d -I/Users/frank/danse/refl1d/garefl/src -c setup.cc -o setup.o\n"
     ]
    },
    {
     "name": "stderr",
     "output_type": "stream",
     "text": [
      "setup.cc:103:14: warning: unused variable 'freepars' [-Wunused-variable]\n",
      "    fitpars *freepars = &fit[1].pars;\n",
      "             ^\n",
      "1 warning generated.\n"
     ]
    },
    {
     "name": "stdout",
     "output_type": "stream",
     "text": [
      "cd /Users/frank/danse/refl1d/garefl/boxmin && /Applications/Xcode.app/Contents/Developer/usr/bin/make\n",
      "make[1]: Nothing to be done for `all'.\n",
      "cd /Users/frank/danse/refl1d/garefl/model1d && /Applications/Xcode.app/Contents/Developer/usr/bin/make\n",
      "make[1]: Nothing to be done for `all'.\n",
      "cd /Users/frank/danse/refl1d/garefl/src && /Applications/Xcode.app/Contents/Developer/usr/bin/make\n",
      "make[1]: Nothing to be done for `all'.\n",
      "g++    -fPIC -o fit setup.o /Users/frank/danse/refl1d/garefl/src/ga_simul.o /Users/frank/danse/refl1d/garefl/src/ga.o -L/Users/frank/danse/refl1d/garefl/model1d -lrefl -L/Users/frank/danse/refl1d/garefl/boxmin -lboxmin  -lm \n",
      "g++ -shared -o model.so setup.o /Users/frank/danse/refl1d/garefl/src/refl1d.o -L/Users/frank/danse/refl1d/garefl/model1d -lrefl  -lm \n",
      "chisq = 170.082\n",
      "/Users/frank/Dropbox/My Mac (PN115993.campus.nist.gov)/Documents/programming/molgroups/examples/information_theory/entropy_gridsearch_singlethread/garefl/setup.cc\n",
      "/Users/frank/Dropbox/My Mac (PN115993.campus.nist.gov)/Documents/programming/molgroups/examples/information_theory/entropy_gridsearch_singlethread/garefl/molgroups.cc\n"
     ]
    },
    {
     "name": "stderr",
     "output_type": "stream",
     "text": [
      "rm: /Users/frank/Dropbox/My Mac (PN115993.campus.nist.gov)/Documents/programming/molgroups/examples/information_theory/entropy_gridsearch_singlethread/garefl/iteration_4/save: No such file or directory\n"
     ]
    },
    {
     "name": "stdout",
     "output_type": "stream",
     "text": [
      "g++  -g -O2 -Wall  -fPIC -DUSE_DOUBLE -DReal=double -DHAVE_CONFIG_H -I/Users/frank/danse/refl1d/garefl/boxmin -I/Users/frank/danse/refl1d/garefl/model1d -I/Users/frank/danse/refl1d/garefl/src -c setup.cc -o setup.o\n"
     ]
    },
    {
     "name": "stderr",
     "output_type": "stream",
     "text": [
      "setup.cc:93:14: warning: unused variable 'freepars' [-Wunused-variable]\n",
      "    fitpars *freepars = &fit[1].pars;\n",
      "             ^\n",
      "1 warning generated.\n"
     ]
    },
    {
     "name": "stdout",
     "output_type": "stream",
     "text": [
      "cd /Users/frank/danse/refl1d/garefl/boxmin && /Applications/Xcode.app/Contents/Developer/usr/bin/make\n",
      "make[1]: Nothing to be done for `all'.\n",
      "cd /Users/frank/danse/refl1d/garefl/model1d && /Applications/Xcode.app/Contents/Developer/usr/bin/make\n",
      "make[1]: Nothing to be done for `all'.\n",
      "cd /Users/frank/danse/refl1d/garefl/src && /Applications/Xcode.app/Contents/Developer/usr/bin/make\n",
      "make[1]: Nothing to be done for `all'.\n",
      "g++    -fPIC -o fit setup.o /Users/frank/danse/refl1d/garefl/src/ga_simul.o /Users/frank/danse/refl1d/garefl/src/ga.o -L/Users/frank/danse/refl1d/garefl/model1d -lrefl -L/Users/frank/danse/refl1d/garefl/boxmin -lboxmin  -lm \n",
      "ln -s /Users/frank/danse/refl1d/garefl/src/gaplot gaplot\n",
      "g++ -shared -o model.so setup.o /Users/frank/danse/refl1d/garefl/src/refl1d.o -L/Users/frank/danse/refl1d/garefl/model1d -lrefl  -lm \n",
      "# /Users/frank/opt/anaconda3/envs/Python37/bin/refl1d_cli.py /Users/frank/Dropbox/My Mac (PN115993.campus.nist.gov)/Documents/programming/molgroups/examples/information_theory/entropy_gridsearch_singlethread/garefl/iteration_4/run.py --fit=dream --parallel --init=lhs --batch --store=/Users/frank/Dropbox/My Mac (PN115993.campus.nist.gov)/Documents/programming/molgroups/examples/information_theory/entropy_gridsearch_singlethread/garefl/iteration_4/save --burn=100 --steps=10 --seed=369792\n",
      "[0] = l_siox = 10 in [10,30]\n",
      "[1] = rho_siox = 3.2 in [3.2,3.8]\n",
      "[2] = l_submembrane = 1 in [1,10]\n",
      "[3] = l_lipid1 = 10 in [10,15]\n",
      "[4] = l_lipid2 = 10 in [10,15]\n",
      "[5] = vf_bilayer = 0.9 in [0.9,1]\n",
      "[6] = rho_solv_0 = 1.56 in [0.96,1.56]\n",
      "[7] = global_rough = 2 in [2,5]\n",
      "[8] = sigma = 2 in [2,5]\n",
      "[9] = background_0 = -5 in [-9,-5]\n",
      "\n",
      "[chisq=765.34(17), nllf=25638.9]\n",
      "# /Users/frank/opt/anaconda3/envs/Python37/bin/refl1d_cli.py /Users/frank/Dropbox/My Mac (PN115993.campus.nist.gov)/Documents/programming/molgroups/examples/information_theory/entropy_gridsearch_singlethread/garefl/iteration_4/run.py --fit=dream --parallel --init=lhs --batch --store=/Users/frank/Dropbox/My Mac (PN115993.campus.nist.gov)/Documents/programming/molgroups/examples/information_theory/entropy_gridsearch_singlethread/garefl/iteration_4/save --burn=100 --steps=10 --seed=369792\n",
      "[0] = l_siox = 10 in [10,30]\n",
      "[1] = rho_siox = 3.2 in [3.2,3.8]\n",
      "[2] = l_submembrane = 1 in [1,10]\n",
      "[3] = l_lipid1 = 10 in [10,15]\n",
      "[4] = l_lipid2 = 10 in [10,15]\n",
      "[5] = vf_bilayer = 0.9 in [0.9,1]\n",
      "[6] = rho_solv_0 = 1.56 in [0.96,1.56]\n",
      "[7] = global_rough = 2 in [2,5]\n",
      "[8] = sigma = 2 in [2,5]\n",
      "[9] = background_0 = -5 in [-9,-5]\n",
      "\n",
      "[chisq=765.34(17), nllf=25638.9]\n",
      "I am actually loading a state in CBumpsInteractor.__init__()\n",
      "None\n",
      "And here I am in fnRestoreState ...\n",
      "Still in CBumpsInteractor init: <bumps.dream.state.MCMCDraw object at 0x7fc72893cf90>\n",
      "g++  -g -O2 -Wall  -fPIC -DUSE_DOUBLE -DReal=double -DHAVE_CONFIG_H -I/Users/frank/danse/refl1d/garefl/boxmin -I/Users/frank/danse/refl1d/garefl/model1d -I/Users/frank/danse/refl1d/garefl/src -c setup.cc -o setup.o\n"
     ]
    },
    {
     "name": "stderr",
     "output_type": "stream",
     "text": [
      "setup.cc:93:14: warning: unused variable 'freepars' [-Wunused-variable]\n",
      "    fitpars *freepars = &fit[1].pars;\n",
      "             ^\n",
      "1 warning generated.\n"
     ]
    },
    {
     "name": "stdout",
     "output_type": "stream",
     "text": [
      "cd /Users/frank/danse/refl1d/garefl/boxmin && /Applications/Xcode.app/Contents/Developer/usr/bin/make\n",
      "make[1]: Nothing to be done for `all'.\n",
      "cd /Users/frank/danse/refl1d/garefl/model1d && /Applications/Xcode.app/Contents/Developer/usr/bin/make\n",
      "make[1]: Nothing to be done for `all'.\n",
      "cd /Users/frank/danse/refl1d/garefl/src && /Applications/Xcode.app/Contents/Developer/usr/bin/make\n",
      "make[1]: Nothing to be done for `all'.\n",
      "g++    -fPIC -o fit setup.o /Users/frank/danse/refl1d/garefl/src/ga_simul.o /Users/frank/danse/refl1d/garefl/src/ga.o -L/Users/frank/danse/refl1d/garefl/model1d -lrefl -L/Users/frank/danse/refl1d/garefl/boxmin -lboxmin  -lm \n",
      "g++ -shared -o model.so setup.o /Users/frank/danse/refl1d/garefl/src/refl1d.o -L/Users/frank/danse/refl1d/garefl/model1d -lrefl  -lm \n",
      "Here, here: garefl /Users/frank/Dropbox/My Mac (PN115993.campus.nist.gov)/Documents/programming/molgroups/examples/information_theory/entropy_gridsearch_singlethread/garefl/iteration_4 run <bumps.dream.state.MCMCDraw object at 0x7fc72893cf90>\n"
     ]
    },
    {
     "name": "stderr",
     "output_type": "stream",
     "text": [
      "../../../../information_theory/entropy.py:324: RuntimeWarning: divide by zero encountered in log\n",
      "  s_est = log(n_est) - mean(eval_logp)\n",
      "/Users/frank/opt/anaconda3/envs/Python37/lib/python3.7/site-packages/numpy/core/_methods.py:230: RuntimeWarning: invalid value encountered in subtract\n",
      "  x = asanyarray(arr - arrmean)\n",
      "../../../../information_theory/entropy.py:33: RuntimeWarning: invalid value encountered in double_scalars\n",
      "  s2 = fabs(result - element)\n",
      "rm: /Users/frank/Dropbox/My Mac (PN115993.campus.nist.gov)/Documents/programming/molgroups/examples/information_theory/entropy_gridsearch_singlethread/garefl/iteration_4/save/run-point.mc: No such file or directory\n",
      "rm: /Users/frank/Dropbox/My Mac (PN115993.campus.nist.gov)/Documents/programming/molgroups/examples/information_theory/entropy_gridsearch_singlethread/garefl/iteration_4/save/run-chain.mc: No such file or directory\n",
      "rm: /Users/frank/Dropbox/My Mac (PN115993.campus.nist.gov)/Documents/programming/molgroups/examples/information_theory/entropy_gridsearch_singlethread/garefl/iteration_4/save/run-stats.mc: No such file or directory\n"
     ]
    },
    {
     "name": "stdout",
     "output_type": "stream",
     "text": [
      "I am actually loading a state in CBumpsInteractor.__init__()\n",
      "None\n",
      "And here I am in fnRestoreState ...\n",
      "No file: /Users/frank/Dropbox/My Mac (PN115993.campus.nist.gov)/Documents/programming/molgroups/examples/information_theory/entropy_gridsearch_singlethread/garefl/iteration_5/save/run.py\n",
      "No state to reload.\n",
      "Still in CBumpsInteractor init: None\n",
      "No problem to reload.\n",
      "Found T/run.par \n",
      "\n",
      "Loading MCMC best-fit parameters ...\n",
      "/Users/frank/Dropbox/My Mac (PN115993.campus.nist.gov)/Documents/programming/molgroups/examples/information_theory/entropy_gridsearch_singlethread/garefl/setup.cc\n",
      "/Users/frank/Dropbox/My Mac (PN115993.campus.nist.gov)/Documents/programming/molgroups/examples/information_theory/entropy_gridsearch_singlethread/garefl/molgroups.cc\n",
      "l_siox 18.0\n",
      "rho_siox 3.55e-06\n",
      "l_submembrane 2.5\n",
      "l_lipid1 11.8\n",
      "l_lipid2 12.4\n",
      "vf_bilayer 0.95\n",
      "rho_solv_0 2e-06\n",
      "global_rough 3.0\n",
      "sigma 2.5\n",
      "background_0 -8.0\n",
      "g++  -g -O2 -Wall  -fPIC -DUSE_DOUBLE -DReal=double -DHAVE_CONFIG_H -I/Users/frank/danse/refl1d/garefl/boxmin -I/Users/frank/danse/refl1d/garefl/model1d -I/Users/frank/danse/refl1d/garefl/src -c setup.cc -o setup.o\n"
     ]
    },
    {
     "name": "stderr",
     "output_type": "stream",
     "text": [
      "setup.cc:103:14: warning: unused variable 'freepars' [-Wunused-variable]\n",
      "    fitpars *freepars = &fit[1].pars;\n",
      "             ^\n",
      "1 warning generated.\n"
     ]
    },
    {
     "name": "stdout",
     "output_type": "stream",
     "text": [
      "cd /Users/frank/danse/refl1d/garefl/boxmin && /Applications/Xcode.app/Contents/Developer/usr/bin/make\n",
      "make[1]: Nothing to be done for `all'.\n",
      "cd /Users/frank/danse/refl1d/garefl/model1d && /Applications/Xcode.app/Contents/Developer/usr/bin/make\n",
      "make[1]: Nothing to be done for `all'.\n",
      "cd /Users/frank/danse/refl1d/garefl/src && /Applications/Xcode.app/Contents/Developer/usr/bin/make\n",
      "make[1]: Nothing to be done for `all'.\n",
      "g++    -fPIC -o fit setup.o /Users/frank/danse/refl1d/garefl/src/ga_simul.o /Users/frank/danse/refl1d/garefl/src/ga.o -L/Users/frank/danse/refl1d/garefl/model1d -lrefl -L/Users/frank/danse/refl1d/garefl/boxmin -lboxmin  -lm \n",
      "g++ -shared -o model.so setup.o /Users/frank/danse/refl1d/garefl/src/refl1d.o -L/Users/frank/danse/refl1d/garefl/model1d -lrefl  -lm \n",
      "chisq = 289.089\n",
      "/Users/frank/Dropbox/My Mac (PN115993.campus.nist.gov)/Documents/programming/molgroups/examples/information_theory/entropy_gridsearch_singlethread/garefl/setup.cc\n",
      "/Users/frank/Dropbox/My Mac (PN115993.campus.nist.gov)/Documents/programming/molgroups/examples/information_theory/entropy_gridsearch_singlethread/garefl/molgroups.cc\n"
     ]
    },
    {
     "name": "stderr",
     "output_type": "stream",
     "text": [
      "rm: /Users/frank/Dropbox/My Mac (PN115993.campus.nist.gov)/Documents/programming/molgroups/examples/information_theory/entropy_gridsearch_singlethread/garefl/iteration_5/save: No such file or directory\n"
     ]
    },
    {
     "name": "stdout",
     "output_type": "stream",
     "text": [
      "g++  -g -O2 -Wall  -fPIC -DUSE_DOUBLE -DReal=double -DHAVE_CONFIG_H -I/Users/frank/danse/refl1d/garefl/boxmin -I/Users/frank/danse/refl1d/garefl/model1d -I/Users/frank/danse/refl1d/garefl/src -c setup.cc -o setup.o\n"
     ]
    },
    {
     "name": "stderr",
     "output_type": "stream",
     "text": [
      "setup.cc:93:14: warning: unused variable 'freepars' [-Wunused-variable]\n",
      "    fitpars *freepars = &fit[1].pars;\n",
      "             ^\n",
      "1 warning generated.\n"
     ]
    },
    {
     "name": "stdout",
     "output_type": "stream",
     "text": [
      "cd /Users/frank/danse/refl1d/garefl/boxmin && /Applications/Xcode.app/Contents/Developer/usr/bin/make\n",
      "make[1]: Nothing to be done for `all'.\n",
      "cd /Users/frank/danse/refl1d/garefl/model1d && /Applications/Xcode.app/Contents/Developer/usr/bin/make\n",
      "make[1]: Nothing to be done for `all'.\n",
      "cd /Users/frank/danse/refl1d/garefl/src && /Applications/Xcode.app/Contents/Developer/usr/bin/make\n",
      "make[1]: Nothing to be done for `all'.\n",
      "g++    -fPIC -o fit setup.o /Users/frank/danse/refl1d/garefl/src/ga_simul.o /Users/frank/danse/refl1d/garefl/src/ga.o -L/Users/frank/danse/refl1d/garefl/model1d -lrefl -L/Users/frank/danse/refl1d/garefl/boxmin -lboxmin  -lm \n",
      "ln -s /Users/frank/danse/refl1d/garefl/src/gaplot gaplot\n",
      "g++ -shared -o model.so setup.o /Users/frank/danse/refl1d/garefl/src/refl1d.o -L/Users/frank/danse/refl1d/garefl/model1d -lrefl  -lm \n",
      "# /Users/frank/opt/anaconda3/envs/Python37/bin/refl1d_cli.py /Users/frank/Dropbox/My Mac (PN115993.campus.nist.gov)/Documents/programming/molgroups/examples/information_theory/entropy_gridsearch_singlethread/garefl/iteration_5/run.py --fit=dream --parallel --init=lhs --batch --store=/Users/frank/Dropbox/My Mac (PN115993.campus.nist.gov)/Documents/programming/molgroups/examples/information_theory/entropy_gridsearch_singlethread/garefl/iteration_5/save --burn=100 --steps=10 --seed=621288\n",
      "[0] = l_siox = 10 in [10,30]\n",
      "[1] = rho_siox = 3.2 in [3.2,3.8]\n",
      "[2] = l_submembrane = 1 in [1,10]\n",
      "[3] = l_lipid1 = 10 in [10,15]\n",
      "[4] = l_lipid2 = 10 in [10,15]\n",
      "[5] = vf_bilayer = 0.9 in [0.9,1]\n",
      "[6] = rho_solv_0 = 2.06 in [1.46,2.06]\n",
      "[7] = global_rough = 2 in [2,5]\n",
      "[8] = sigma = 2 in [2,5]\n",
      "[9] = background_0 = -5 in [-9,-5]\n",
      "\n",
      "[chisq=844.80(17), nllf=28300.7]\n",
      "# /Users/frank/opt/anaconda3/envs/Python37/bin/refl1d_cli.py /Users/frank/Dropbox/My Mac (PN115993.campus.nist.gov)/Documents/programming/molgroups/examples/information_theory/entropy_gridsearch_singlethread/garefl/iteration_5/run.py --fit=dream --parallel --init=lhs --batch --store=/Users/frank/Dropbox/My Mac (PN115993.campus.nist.gov)/Documents/programming/molgroups/examples/information_theory/entropy_gridsearch_singlethread/garefl/iteration_5/save --burn=100 --steps=10 --seed=621288\n",
      "[0] = l_siox = 10 in [10,30]\n",
      "[1] = rho_siox = 3.2 in [3.2,3.8]\n",
      "[2] = l_submembrane = 1 in [1,10]\n",
      "[3] = l_lipid1 = 10 in [10,15]\n",
      "[4] = l_lipid2 = 10 in [10,15]\n",
      "[5] = vf_bilayer = 0.9 in [0.9,1]\n",
      "[6] = rho_solv_0 = 2.06 in [1.46,2.06]\n",
      "[7] = global_rough = 2 in [2,5]\n",
      "[8] = sigma = 2 in [2,5]\n",
      "[9] = background_0 = -5 in [-9,-5]\n",
      "\n",
      "[chisq=844.80(17), nllf=28300.7]\n",
      "I am actually loading a state in CBumpsInteractor.__init__()\n",
      "None\n",
      "And here I am in fnRestoreState ...\n",
      "Still in CBumpsInteractor init: <bumps.dream.state.MCMCDraw object at 0x7fc728927110>\n",
      "g++  -g -O2 -Wall  -fPIC -DUSE_DOUBLE -DReal=double -DHAVE_CONFIG_H -I/Users/frank/danse/refl1d/garefl/boxmin -I/Users/frank/danse/refl1d/garefl/model1d -I/Users/frank/danse/refl1d/garefl/src -c setup.cc -o setup.o\n"
     ]
    },
    {
     "name": "stderr",
     "output_type": "stream",
     "text": [
      "setup.cc:93:14: warning: unused variable 'freepars' [-Wunused-variable]\n",
      "    fitpars *freepars = &fit[1].pars;\n",
      "             ^\n",
      "1 warning generated.\n"
     ]
    },
    {
     "name": "stdout",
     "output_type": "stream",
     "text": [
      "cd /Users/frank/danse/refl1d/garefl/boxmin && /Applications/Xcode.app/Contents/Developer/usr/bin/make\n",
      "make[1]: Nothing to be done for `all'.\n",
      "cd /Users/frank/danse/refl1d/garefl/model1d && /Applications/Xcode.app/Contents/Developer/usr/bin/make\n",
      "make[1]: Nothing to be done for `all'.\n",
      "cd /Users/frank/danse/refl1d/garefl/src && /Applications/Xcode.app/Contents/Developer/usr/bin/make\n",
      "make[1]: Nothing to be done for `all'.\n",
      "g++    -fPIC -o fit setup.o /Users/frank/danse/refl1d/garefl/src/ga_simul.o /Users/frank/danse/refl1d/garefl/src/ga.o -L/Users/frank/danse/refl1d/garefl/model1d -lrefl -L/Users/frank/danse/refl1d/garefl/boxmin -lboxmin  -lm \n",
      "g++ -shared -o model.so setup.o /Users/frank/danse/refl1d/garefl/src/refl1d.o -L/Users/frank/danse/refl1d/garefl/model1d -lrefl  -lm \n",
      "Here, here: garefl /Users/frank/Dropbox/My Mac (PN115993.campus.nist.gov)/Documents/programming/molgroups/examples/information_theory/entropy_gridsearch_singlethread/garefl/iteration_5 run <bumps.dream.state.MCMCDraw object at 0x7fc728927110>\n"
     ]
    },
    {
     "name": "stderr",
     "output_type": "stream",
     "text": [
      "../../../../information_theory/entropy.py:324: RuntimeWarning: divide by zero encountered in log\n",
      "  s_est = log(n_est) - mean(eval_logp)\n",
      "/Users/frank/opt/anaconda3/envs/Python37/lib/python3.7/site-packages/numpy/core/_methods.py:230: RuntimeWarning: invalid value encountered in subtract\n",
      "  x = asanyarray(arr - arrmean)\n",
      "../../../../information_theory/entropy.py:33: RuntimeWarning: invalid value encountered in double_scalars\n",
      "  s2 = fabs(result - element)\n",
      "rm: /Users/frank/Dropbox/My Mac (PN115993.campus.nist.gov)/Documents/programming/molgroups/examples/information_theory/entropy_gridsearch_singlethread/garefl/iteration_5/save/run-point.mc: No such file or directory\n",
      "rm: /Users/frank/Dropbox/My Mac (PN115993.campus.nist.gov)/Documents/programming/molgroups/examples/information_theory/entropy_gridsearch_singlethread/garefl/iteration_5/save/run-chain.mc: No such file or directory\n",
      "rm: /Users/frank/Dropbox/My Mac (PN115993.campus.nist.gov)/Documents/programming/molgroups/examples/information_theory/entropy_gridsearch_singlethread/garefl/iteration_5/save/run-stats.mc: No such file or directory\n"
     ]
    },
    {
     "name": "stdout",
     "output_type": "stream",
     "text": [
      "I am actually loading a state in CBumpsInteractor.__init__()\n",
      "None\n",
      "And here I am in fnRestoreState ...\n",
      "No file: /Users/frank/Dropbox/My Mac (PN115993.campus.nist.gov)/Documents/programming/molgroups/examples/information_theory/entropy_gridsearch_singlethread/garefl/iteration_6/save/run.py\n",
      "No state to reload.\n",
      "Still in CBumpsInteractor init: None\n",
      "No problem to reload.\n",
      "Found T/run.par \n",
      "\n",
      "Loading MCMC best-fit parameters ...\n",
      "/Users/frank/Dropbox/My Mac (PN115993.campus.nist.gov)/Documents/programming/molgroups/examples/information_theory/entropy_gridsearch_singlethread/garefl/setup.cc\n",
      "/Users/frank/Dropbox/My Mac (PN115993.campus.nist.gov)/Documents/programming/molgroups/examples/information_theory/entropy_gridsearch_singlethread/garefl/molgroups.cc\n",
      "l_siox 18.0\n",
      "rho_siox 3.55e-06\n",
      "l_submembrane 2.5\n",
      "l_lipid1 11.8\n",
      "l_lipid2 12.4\n",
      "vf_bilayer 0.95\n",
      "rho_solv_0 2.5e-06\n",
      "global_rough 3.0\n",
      "sigma 2.5\n",
      "background_0 -8.0\n",
      "g++  -g -O2 -Wall  -fPIC -DUSE_DOUBLE -DReal=double -DHAVE_CONFIG_H -I/Users/frank/danse/refl1d/garefl/boxmin -I/Users/frank/danse/refl1d/garefl/model1d -I/Users/frank/danse/refl1d/garefl/src -c setup.cc -o setup.o\n"
     ]
    },
    {
     "name": "stderr",
     "output_type": "stream",
     "text": [
      "setup.cc:103:14: warning: unused variable 'freepars' [-Wunused-variable]\n",
      "    fitpars *freepars = &fit[1].pars;\n",
      "             ^\n",
      "1 warning generated.\n"
     ]
    },
    {
     "name": "stdout",
     "output_type": "stream",
     "text": [
      "cd /Users/frank/danse/refl1d/garefl/boxmin && /Applications/Xcode.app/Contents/Developer/usr/bin/make\n",
      "make[1]: Nothing to be done for `all'.\n",
      "cd /Users/frank/danse/refl1d/garefl/model1d && /Applications/Xcode.app/Contents/Developer/usr/bin/make\n",
      "make[1]: Nothing to be done for `all'.\n",
      "cd /Users/frank/danse/refl1d/garefl/src && /Applications/Xcode.app/Contents/Developer/usr/bin/make\n",
      "make[1]: Nothing to be done for `all'.\n",
      "g++    -fPIC -o fit setup.o /Users/frank/danse/refl1d/garefl/src/ga_simul.o /Users/frank/danse/refl1d/garefl/src/ga.o -L/Users/frank/danse/refl1d/garefl/model1d -lrefl -L/Users/frank/danse/refl1d/garefl/boxmin -lboxmin  -lm \n",
      "g++ -shared -o model.so setup.o /Users/frank/danse/refl1d/garefl/src/refl1d.o -L/Users/frank/danse/refl1d/garefl/model1d -lrefl  -lm \n",
      "chisq = 333.382\n",
      "/Users/frank/Dropbox/My Mac (PN115993.campus.nist.gov)/Documents/programming/molgroups/examples/information_theory/entropy_gridsearch_singlethread/garefl/setup.cc\n",
      "/Users/frank/Dropbox/My Mac (PN115993.campus.nist.gov)/Documents/programming/molgroups/examples/information_theory/entropy_gridsearch_singlethread/garefl/molgroups.cc\n"
     ]
    },
    {
     "name": "stderr",
     "output_type": "stream",
     "text": [
      "rm: /Users/frank/Dropbox/My Mac (PN115993.campus.nist.gov)/Documents/programming/molgroups/examples/information_theory/entropy_gridsearch_singlethread/garefl/iteration_6/save: No such file or directory\n"
     ]
    },
    {
     "name": "stdout",
     "output_type": "stream",
     "text": [
      "g++  -g -O2 -Wall  -fPIC -DUSE_DOUBLE -DReal=double -DHAVE_CONFIG_H -I/Users/frank/danse/refl1d/garefl/boxmin -I/Users/frank/danse/refl1d/garefl/model1d -I/Users/frank/danse/refl1d/garefl/src -c setup.cc -o setup.o\n"
     ]
    },
    {
     "name": "stderr",
     "output_type": "stream",
     "text": [
      "setup.cc:93:14: warning: unused variable 'freepars' [-Wunused-variable]\n",
      "    fitpars *freepars = &fit[1].pars;\n",
      "             ^\n",
      "1 warning generated.\n"
     ]
    },
    {
     "name": "stdout",
     "output_type": "stream",
     "text": [
      "cd /Users/frank/danse/refl1d/garefl/boxmin && /Applications/Xcode.app/Contents/Developer/usr/bin/make\n",
      "make[1]: Nothing to be done for `all'.\n",
      "cd /Users/frank/danse/refl1d/garefl/model1d && /Applications/Xcode.app/Contents/Developer/usr/bin/make\n",
      "make[1]: Nothing to be done for `all'.\n",
      "cd /Users/frank/danse/refl1d/garefl/src && /Applications/Xcode.app/Contents/Developer/usr/bin/make\n",
      "make[1]: Nothing to be done for `all'.\n",
      "g++    -fPIC -o fit setup.o /Users/frank/danse/refl1d/garefl/src/ga_simul.o /Users/frank/danse/refl1d/garefl/src/ga.o -L/Users/frank/danse/refl1d/garefl/model1d -lrefl -L/Users/frank/danse/refl1d/garefl/boxmin -lboxmin  -lm \n",
      "ln -s /Users/frank/danse/refl1d/garefl/src/gaplot gaplot\n",
      "g++ -shared -o model.so setup.o /Users/frank/danse/refl1d/garefl/src/refl1d.o -L/Users/frank/danse/refl1d/garefl/model1d -lrefl  -lm \n",
      "# /Users/frank/opt/anaconda3/envs/Python37/bin/refl1d_cli.py /Users/frank/Dropbox/My Mac (PN115993.campus.nist.gov)/Documents/programming/molgroups/examples/information_theory/entropy_gridsearch_singlethread/garefl/iteration_6/run.py --fit=dream --parallel --init=lhs --batch --store=/Users/frank/Dropbox/My Mac (PN115993.campus.nist.gov)/Documents/programming/molgroups/examples/information_theory/entropy_gridsearch_singlethread/garefl/iteration_6/save --burn=100 --steps=10 --seed=350908\n",
      "[0] = l_siox = 10 in [10,30]\n",
      "[1] = rho_siox = 3.2 in [3.2,3.8]\n",
      "[2] = l_submembrane = 1 in [1,10]\n",
      "[3] = l_lipid1 = 10 in [10,15]\n",
      "[4] = l_lipid2 = 10 in [10,15]\n",
      "[5] = vf_bilayer = 0.9 in [0.9,1]\n",
      "[6] = rho_solv_0 = 2.56 in [1.96,2.56]\n",
      "[7] = global_rough = 2 in [2,5]\n",
      "[8] = sigma = 2 in [2,5]\n",
      "[9] = background_0 = -5 in [-9,-5]\n",
      "\n",
      "[chisq=817.00(17), nllf=27369.6]\n",
      "# /Users/frank/opt/anaconda3/envs/Python37/bin/refl1d_cli.py /Users/frank/Dropbox/My Mac (PN115993.campus.nist.gov)/Documents/programming/molgroups/examples/information_theory/entropy_gridsearch_singlethread/garefl/iteration_6/run.py --fit=dream --parallel --init=lhs --batch --store=/Users/frank/Dropbox/My Mac (PN115993.campus.nist.gov)/Documents/programming/molgroups/examples/information_theory/entropy_gridsearch_singlethread/garefl/iteration_6/save --burn=100 --steps=10 --seed=350908\n",
      "[0] = l_siox = 10 in [10,30]\n",
      "[1] = rho_siox = 3.2 in [3.2,3.8]\n",
      "[2] = l_submembrane = 1 in [1,10]\n",
      "[3] = l_lipid1 = 10 in [10,15]\n",
      "[4] = l_lipid2 = 10 in [10,15]\n",
      "[5] = vf_bilayer = 0.9 in [0.9,1]\n",
      "[6] = rho_solv_0 = 2.56 in [1.96,2.56]\n",
      "[7] = global_rough = 2 in [2,5]\n",
      "[8] = sigma = 2 in [2,5]\n",
      "[9] = background_0 = -5 in [-9,-5]\n",
      "\n",
      "[chisq=817.00(17), nllf=27369.6]\n",
      "I am actually loading a state in CBumpsInteractor.__init__()\n",
      "None\n",
      "And here I am in fnRestoreState ...\n",
      "Still in CBumpsInteractor init: <bumps.dream.state.MCMCDraw object at 0x7fc7408c2110>\n",
      "g++  -g -O2 -Wall  -fPIC -DUSE_DOUBLE -DReal=double -DHAVE_CONFIG_H -I/Users/frank/danse/refl1d/garefl/boxmin -I/Users/frank/danse/refl1d/garefl/model1d -I/Users/frank/danse/refl1d/garefl/src -c setup.cc -o setup.o\n"
     ]
    },
    {
     "name": "stderr",
     "output_type": "stream",
     "text": [
      "setup.cc:93:14: warning: unused variable 'freepars' [-Wunused-variable]\n",
      "    fitpars *freepars = &fit[1].pars;\n",
      "             ^\n",
      "1 warning generated.\n"
     ]
    },
    {
     "name": "stdout",
     "output_type": "stream",
     "text": [
      "cd /Users/frank/danse/refl1d/garefl/boxmin && /Applications/Xcode.app/Contents/Developer/usr/bin/make\n",
      "make[1]: Nothing to be done for `all'.\n",
      "cd /Users/frank/danse/refl1d/garefl/model1d && /Applications/Xcode.app/Contents/Developer/usr/bin/make\n",
      "make[1]: Nothing to be done for `all'.\n",
      "cd /Users/frank/danse/refl1d/garefl/src && /Applications/Xcode.app/Contents/Developer/usr/bin/make\n",
      "make[1]: Nothing to be done for `all'.\n",
      "g++    -fPIC -o fit setup.o /Users/frank/danse/refl1d/garefl/src/ga_simul.o /Users/frank/danse/refl1d/garefl/src/ga.o -L/Users/frank/danse/refl1d/garefl/model1d -lrefl -L/Users/frank/danse/refl1d/garefl/boxmin -lboxmin  -lm \n",
      "g++ -shared -o model.so setup.o /Users/frank/danse/refl1d/garefl/src/refl1d.o -L/Users/frank/danse/refl1d/garefl/model1d -lrefl  -lm \n",
      "Here, here: garefl /Users/frank/Dropbox/My Mac (PN115993.campus.nist.gov)/Documents/programming/molgroups/examples/information_theory/entropy_gridsearch_singlethread/garefl/iteration_6 run <bumps.dream.state.MCMCDraw object at 0x7fc7408c2110>\n"
     ]
    },
    {
     "name": "stderr",
     "output_type": "stream",
     "text": [
      "../../../../information_theory/entropy.py:324: RuntimeWarning: divide by zero encountered in log\n",
      "  s_est = log(n_est) - mean(eval_logp)\n",
      "/Users/frank/opt/anaconda3/envs/Python37/lib/python3.7/site-packages/numpy/core/_methods.py:230: RuntimeWarning: invalid value encountered in subtract\n",
      "  x = asanyarray(arr - arrmean)\n",
      "../../../../information_theory/entropy.py:33: RuntimeWarning: invalid value encountered in double_scalars\n",
      "  s2 = fabs(result - element)\n",
      "rm: /Users/frank/Dropbox/My Mac (PN115993.campus.nist.gov)/Documents/programming/molgroups/examples/information_theory/entropy_gridsearch_singlethread/garefl/iteration_6/save/run-point.mc: No such file or directory\n",
      "rm: /Users/frank/Dropbox/My Mac (PN115993.campus.nist.gov)/Documents/programming/molgroups/examples/information_theory/entropy_gridsearch_singlethread/garefl/iteration_6/save/run-chain.mc: No such file or directory\n",
      "rm: /Users/frank/Dropbox/My Mac (PN115993.campus.nist.gov)/Documents/programming/molgroups/examples/information_theory/entropy_gridsearch_singlethread/garefl/iteration_6/save/run-stats.mc: No such file or directory\n"
     ]
    },
    {
     "name": "stdout",
     "output_type": "stream",
     "text": [
      "I am actually loading a state in CBumpsInteractor.__init__()\n",
      "None\n",
      "And here I am in fnRestoreState ...\n",
      "No file: /Users/frank/Dropbox/My Mac (PN115993.campus.nist.gov)/Documents/programming/molgroups/examples/information_theory/entropy_gridsearch_singlethread/garefl/iteration_7/save/run.py\n",
      "No state to reload.\n",
      "Still in CBumpsInteractor init: None\n",
      "No problem to reload.\n",
      "Found T/run.par \n",
      "\n",
      "Loading MCMC best-fit parameters ...\n",
      "/Users/frank/Dropbox/My Mac (PN115993.campus.nist.gov)/Documents/programming/molgroups/examples/information_theory/entropy_gridsearch_singlethread/garefl/setup.cc\n",
      "/Users/frank/Dropbox/My Mac (PN115993.campus.nist.gov)/Documents/programming/molgroups/examples/information_theory/entropy_gridsearch_singlethread/garefl/molgroups.cc\n",
      "l_siox 18.0\n",
      "rho_siox 3.55e-06\n",
      "l_submembrane 2.5\n",
      "l_lipid1 11.8\n",
      "l_lipid2 12.4\n",
      "vf_bilayer 0.95\n",
      "rho_solv_0 3e-06\n",
      "global_rough 3.0\n",
      "sigma 2.5\n",
      "background_0 -8.0\n",
      "g++  -g -O2 -Wall  -fPIC -DUSE_DOUBLE -DReal=double -DHAVE_CONFIG_H -I/Users/frank/danse/refl1d/garefl/boxmin -I/Users/frank/danse/refl1d/garefl/model1d -I/Users/frank/danse/refl1d/garefl/src -c setup.cc -o setup.o\n"
     ]
    },
    {
     "name": "stderr",
     "output_type": "stream",
     "text": [
      "setup.cc:103:14: warning: unused variable 'freepars' [-Wunused-variable]\n",
      "    fitpars *freepars = &fit[1].pars;\n",
      "             ^\n",
      "1 warning generated.\n"
     ]
    },
    {
     "name": "stdout",
     "output_type": "stream",
     "text": [
      "cd /Users/frank/danse/refl1d/garefl/boxmin && /Applications/Xcode.app/Contents/Developer/usr/bin/make\n",
      "make[1]: Nothing to be done for `all'.\n",
      "cd /Users/frank/danse/refl1d/garefl/model1d && /Applications/Xcode.app/Contents/Developer/usr/bin/make\n",
      "make[1]: Nothing to be done for `all'.\n",
      "cd /Users/frank/danse/refl1d/garefl/src && /Applications/Xcode.app/Contents/Developer/usr/bin/make\n",
      "make[1]: Nothing to be done for `all'.\n",
      "g++    -fPIC -o fit setup.o /Users/frank/danse/refl1d/garefl/src/ga_simul.o /Users/frank/danse/refl1d/garefl/src/ga.o -L/Users/frank/danse/refl1d/garefl/model1d -lrefl -L/Users/frank/danse/refl1d/garefl/boxmin -lboxmin  -lm \n",
      "g++ -shared -o model.so setup.o /Users/frank/danse/refl1d/garefl/src/refl1d.o -L/Users/frank/danse/refl1d/garefl/model1d -lrefl  -lm \n",
      "chisq = 341.927\n",
      "/Users/frank/Dropbox/My Mac (PN115993.campus.nist.gov)/Documents/programming/molgroups/examples/information_theory/entropy_gridsearch_singlethread/garefl/setup.cc\n",
      "/Users/frank/Dropbox/My Mac (PN115993.campus.nist.gov)/Documents/programming/molgroups/examples/information_theory/entropy_gridsearch_singlethread/garefl/molgroups.cc\n"
     ]
    },
    {
     "name": "stderr",
     "output_type": "stream",
     "text": [
      "rm: /Users/frank/Dropbox/My Mac (PN115993.campus.nist.gov)/Documents/programming/molgroups/examples/information_theory/entropy_gridsearch_singlethread/garefl/iteration_7/save: No such file or directory\n"
     ]
    },
    {
     "name": "stdout",
     "output_type": "stream",
     "text": [
      "g++  -g -O2 -Wall  -fPIC -DUSE_DOUBLE -DReal=double -DHAVE_CONFIG_H -I/Users/frank/danse/refl1d/garefl/boxmin -I/Users/frank/danse/refl1d/garefl/model1d -I/Users/frank/danse/refl1d/garefl/src -c setup.cc -o setup.o\n"
     ]
    },
    {
     "name": "stderr",
     "output_type": "stream",
     "text": [
      "setup.cc:93:14: warning: unused variable 'freepars' [-Wunused-variable]\n",
      "    fitpars *freepars = &fit[1].pars;\n",
      "             ^\n",
      "1 warning generated.\n"
     ]
    },
    {
     "name": "stdout",
     "output_type": "stream",
     "text": [
      "cd /Users/frank/danse/refl1d/garefl/boxmin && /Applications/Xcode.app/Contents/Developer/usr/bin/make\n",
      "make[1]: Nothing to be done for `all'.\n",
      "cd /Users/frank/danse/refl1d/garefl/model1d && /Applications/Xcode.app/Contents/Developer/usr/bin/make\n",
      "make[1]: Nothing to be done for `all'.\n",
      "cd /Users/frank/danse/refl1d/garefl/src && /Applications/Xcode.app/Contents/Developer/usr/bin/make\n",
      "make[1]: Nothing to be done for `all'.\n",
      "g++    -fPIC -o fit setup.o /Users/frank/danse/refl1d/garefl/src/ga_simul.o /Users/frank/danse/refl1d/garefl/src/ga.o -L/Users/frank/danse/refl1d/garefl/model1d -lrefl -L/Users/frank/danse/refl1d/garefl/boxmin -lboxmin  -lm \n",
      "ln -s /Users/frank/danse/refl1d/garefl/src/gaplot gaplot\n",
      "g++ -shared -o model.so setup.o /Users/frank/danse/refl1d/garefl/src/refl1d.o -L/Users/frank/danse/refl1d/garefl/model1d -lrefl  -lm \n",
      "# /Users/frank/opt/anaconda3/envs/Python37/bin/refl1d_cli.py /Users/frank/Dropbox/My Mac (PN115993.campus.nist.gov)/Documents/programming/molgroups/examples/information_theory/entropy_gridsearch_singlethread/garefl/iteration_7/run.py --fit=dream --parallel --init=lhs --batch --store=/Users/frank/Dropbox/My Mac (PN115993.campus.nist.gov)/Documents/programming/molgroups/examples/information_theory/entropy_gridsearch_singlethread/garefl/iteration_7/save --burn=100 --steps=10 --seed=692569\n",
      "[0] = l_siox = 10 in [10,30]\n",
      "[1] = rho_siox = 3.2 in [3.2,3.8]\n",
      "[2] = l_submembrane = 1 in [1,10]\n",
      "[3] = l_lipid1 = 10 in [10,15]\n",
      "[4] = l_lipid2 = 10 in [10,15]\n",
      "[5] = vf_bilayer = 0.9 in [0.9,1]\n",
      "[6] = rho_solv_0 = 3.06 in [2.46,3.06]\n",
      "[7] = global_rough = 2 in [2,5]\n",
      "[8] = sigma = 2 in [2,5]\n",
      "[9] = background_0 = -5 in [-9,-5]\n",
      "\n",
      "[chisq=806.88(17), nllf=27030.5]\n",
      "# /Users/frank/opt/anaconda3/envs/Python37/bin/refl1d_cli.py /Users/frank/Dropbox/My Mac (PN115993.campus.nist.gov)/Documents/programming/molgroups/examples/information_theory/entropy_gridsearch_singlethread/garefl/iteration_7/run.py --fit=dream --parallel --init=lhs --batch --store=/Users/frank/Dropbox/My Mac (PN115993.campus.nist.gov)/Documents/programming/molgroups/examples/information_theory/entropy_gridsearch_singlethread/garefl/iteration_7/save --burn=100 --steps=10 --seed=692569\n",
      "[0] = l_siox = 10 in [10,30]\n",
      "[1] = rho_siox = 3.2 in [3.2,3.8]\n",
      "[2] = l_submembrane = 1 in [1,10]\n",
      "[3] = l_lipid1 = 10 in [10,15]\n",
      "[4] = l_lipid2 = 10 in [10,15]\n",
      "[5] = vf_bilayer = 0.9 in [0.9,1]\n",
      "[6] = rho_solv_0 = 3.06 in [2.46,3.06]\n",
      "[7] = global_rough = 2 in [2,5]\n",
      "[8] = sigma = 2 in [2,5]\n",
      "[9] = background_0 = -5 in [-9,-5]\n",
      "\n",
      "[chisq=806.88(17), nllf=27030.5]\n",
      "I am actually loading a state in CBumpsInteractor.__init__()\n",
      "None\n",
      "And here I am in fnRestoreState ...\n",
      "Still in CBumpsInteractor init: <bumps.dream.state.MCMCDraw object at 0x7fc78821c0d0>\n",
      "g++  -g -O2 -Wall  -fPIC -DUSE_DOUBLE -DReal=double -DHAVE_CONFIG_H -I/Users/frank/danse/refl1d/garefl/boxmin -I/Users/frank/danse/refl1d/garefl/model1d -I/Users/frank/danse/refl1d/garefl/src -c setup.cc -o setup.o\n"
     ]
    },
    {
     "name": "stderr",
     "output_type": "stream",
     "text": [
      "setup.cc:93:14: warning: unused variable 'freepars' [-Wunused-variable]\n",
      "    fitpars *freepars = &fit[1].pars;\n",
      "             ^\n",
      "1 warning generated.\n"
     ]
    },
    {
     "name": "stdout",
     "output_type": "stream",
     "text": [
      "cd /Users/frank/danse/refl1d/garefl/boxmin && /Applications/Xcode.app/Contents/Developer/usr/bin/make\n",
      "make[1]: Nothing to be done for `all'.\n",
      "cd /Users/frank/danse/refl1d/garefl/model1d && /Applications/Xcode.app/Contents/Developer/usr/bin/make\n",
      "make[1]: Nothing to be done for `all'.\n",
      "cd /Users/frank/danse/refl1d/garefl/src && /Applications/Xcode.app/Contents/Developer/usr/bin/make\n",
      "make[1]: Nothing to be done for `all'.\n",
      "g++    -fPIC -o fit setup.o /Users/frank/danse/refl1d/garefl/src/ga_simul.o /Users/frank/danse/refl1d/garefl/src/ga.o -L/Users/frank/danse/refl1d/garefl/model1d -lrefl -L/Users/frank/danse/refl1d/garefl/boxmin -lboxmin  -lm \n",
      "g++ -shared -o model.so setup.o /Users/frank/danse/refl1d/garefl/src/refl1d.o -L/Users/frank/danse/refl1d/garefl/model1d -lrefl  -lm \n",
      "Here, here: garefl /Users/frank/Dropbox/My Mac (PN115993.campus.nist.gov)/Documents/programming/molgroups/examples/information_theory/entropy_gridsearch_singlethread/garefl/iteration_7 run <bumps.dream.state.MCMCDraw object at 0x7fc78821c0d0>\n"
     ]
    },
    {
     "name": "stderr",
     "output_type": "stream",
     "text": [
      "../../../../information_theory/entropy.py:324: RuntimeWarning: divide by zero encountered in log\n",
      "  s_est = log(n_est) - mean(eval_logp)\n",
      "/Users/frank/opt/anaconda3/envs/Python37/lib/python3.7/site-packages/numpy/core/_methods.py:230: RuntimeWarning: invalid value encountered in subtract\n",
      "  x = asanyarray(arr - arrmean)\n",
      "../../../../information_theory/entropy.py:33: RuntimeWarning: invalid value encountered in double_scalars\n",
      "  s2 = fabs(result - element)\n",
      "rm: /Users/frank/Dropbox/My Mac (PN115993.campus.nist.gov)/Documents/programming/molgroups/examples/information_theory/entropy_gridsearch_singlethread/garefl/iteration_7/save/run-point.mc: No such file or directory\n",
      "rm: /Users/frank/Dropbox/My Mac (PN115993.campus.nist.gov)/Documents/programming/molgroups/examples/information_theory/entropy_gridsearch_singlethread/garefl/iteration_7/save/run-chain.mc: No such file or directory\n",
      "rm: /Users/frank/Dropbox/My Mac (PN115993.campus.nist.gov)/Documents/programming/molgroups/examples/information_theory/entropy_gridsearch_singlethread/garefl/iteration_7/save/run-stats.mc: No such file or directory\n"
     ]
    },
    {
     "name": "stdout",
     "output_type": "stream",
     "text": [
      "I am actually loading a state in CBumpsInteractor.__init__()\n",
      "None\n",
      "And here I am in fnRestoreState ...\n",
      "No file: /Users/frank/Dropbox/My Mac (PN115993.campus.nist.gov)/Documents/programming/molgroups/examples/information_theory/entropy_gridsearch_singlethread/garefl/iteration_8/save/run.py\n",
      "No state to reload.\n",
      "Still in CBumpsInteractor init: None\n",
      "No problem to reload.\n",
      "Found T/run.par \n",
      "\n",
      "Loading MCMC best-fit parameters ...\n",
      "/Users/frank/Dropbox/My Mac (PN115993.campus.nist.gov)/Documents/programming/molgroups/examples/information_theory/entropy_gridsearch_singlethread/garefl/setup.cc\n",
      "/Users/frank/Dropbox/My Mac (PN115993.campus.nist.gov)/Documents/programming/molgroups/examples/information_theory/entropy_gridsearch_singlethread/garefl/molgroups.cc\n",
      "l_siox 18.0\n",
      "rho_siox 3.55e-06\n",
      "l_submembrane 2.5\n",
      "l_lipid1 11.8\n",
      "l_lipid2 12.4\n",
      "vf_bilayer 0.95\n",
      "rho_solv_0 3.5e-06\n",
      "global_rough 3.0\n",
      "sigma 2.5\n",
      "background_0 -8.0\n",
      "g++  -g -O2 -Wall  -fPIC -DUSE_DOUBLE -DReal=double -DHAVE_CONFIG_H -I/Users/frank/danse/refl1d/garefl/boxmin -I/Users/frank/danse/refl1d/garefl/model1d -I/Users/frank/danse/refl1d/garefl/src -c setup.cc -o setup.o\n"
     ]
    },
    {
     "name": "stderr",
     "output_type": "stream",
     "text": [
      "setup.cc:103:14: warning: unused variable 'freepars' [-Wunused-variable]\n",
      "    fitpars *freepars = &fit[1].pars;\n",
      "             ^\n",
      "1 warning generated.\n"
     ]
    },
    {
     "name": "stdout",
     "output_type": "stream",
     "text": [
      "cd /Users/frank/danse/refl1d/garefl/boxmin && /Applications/Xcode.app/Contents/Developer/usr/bin/make\n",
      "make[1]: Nothing to be done for `all'.\n",
      "cd /Users/frank/danse/refl1d/garefl/model1d && /Applications/Xcode.app/Contents/Developer/usr/bin/make\n",
      "make[1]: Nothing to be done for `all'.\n",
      "cd /Users/frank/danse/refl1d/garefl/src && /Applications/Xcode.app/Contents/Developer/usr/bin/make\n",
      "make[1]: Nothing to be done for `all'.\n",
      "g++    -fPIC -o fit setup.o /Users/frank/danse/refl1d/garefl/src/ga_simul.o /Users/frank/danse/refl1d/garefl/src/ga.o -L/Users/frank/danse/refl1d/garefl/model1d -lrefl -L/Users/frank/danse/refl1d/garefl/boxmin -lboxmin  -lm \n",
      "g++ -shared -o model.so setup.o /Users/frank/danse/refl1d/garefl/src/refl1d.o -L/Users/frank/danse/refl1d/garefl/model1d -lrefl  -lm \n",
      "chisq = 4475.31\n",
      "/Users/frank/Dropbox/My Mac (PN115993.campus.nist.gov)/Documents/programming/molgroups/examples/information_theory/entropy_gridsearch_singlethread/garefl/setup.cc\n",
      "/Users/frank/Dropbox/My Mac (PN115993.campus.nist.gov)/Documents/programming/molgroups/examples/information_theory/entropy_gridsearch_singlethread/garefl/molgroups.cc\n"
     ]
    },
    {
     "name": "stderr",
     "output_type": "stream",
     "text": [
      "rm: /Users/frank/Dropbox/My Mac (PN115993.campus.nist.gov)/Documents/programming/molgroups/examples/information_theory/entropy_gridsearch_singlethread/garefl/iteration_8/save: No such file or directory\n"
     ]
    },
    {
     "name": "stdout",
     "output_type": "stream",
     "text": [
      "g++  -g -O2 -Wall  -fPIC -DUSE_DOUBLE -DReal=double -DHAVE_CONFIG_H -I/Users/frank/danse/refl1d/garefl/boxmin -I/Users/frank/danse/refl1d/garefl/model1d -I/Users/frank/danse/refl1d/garefl/src -c setup.cc -o setup.o\n"
     ]
    },
    {
     "name": "stderr",
     "output_type": "stream",
     "text": [
      "setup.cc:93:14: warning: unused variable 'freepars' [-Wunused-variable]\n",
      "    fitpars *freepars = &fit[1].pars;\n",
      "             ^\n",
      "1 warning generated.\n"
     ]
    },
    {
     "name": "stdout",
     "output_type": "stream",
     "text": [
      "cd /Users/frank/danse/refl1d/garefl/boxmin && /Applications/Xcode.app/Contents/Developer/usr/bin/make\n",
      "make[1]: Nothing to be done for `all'.\n",
      "cd /Users/frank/danse/refl1d/garefl/model1d && /Applications/Xcode.app/Contents/Developer/usr/bin/make\n",
      "make[1]: Nothing to be done for `all'.\n",
      "cd /Users/frank/danse/refl1d/garefl/src && /Applications/Xcode.app/Contents/Developer/usr/bin/make\n",
      "make[1]: Nothing to be done for `all'.\n",
      "g++    -fPIC -o fit setup.o /Users/frank/danse/refl1d/garefl/src/ga_simul.o /Users/frank/danse/refl1d/garefl/src/ga.o -L/Users/frank/danse/refl1d/garefl/model1d -lrefl -L/Users/frank/danse/refl1d/garefl/boxmin -lboxmin  -lm \n",
      "ln -s /Users/frank/danse/refl1d/garefl/src/gaplot gaplot\n",
      "g++ -shared -o model.so setup.o /Users/frank/danse/refl1d/garefl/src/refl1d.o -L/Users/frank/danse/refl1d/garefl/model1d -lrefl  -lm \n",
      "# /Users/frank/opt/anaconda3/envs/Python37/bin/refl1d_cli.py /Users/frank/Dropbox/My Mac (PN115993.campus.nist.gov)/Documents/programming/molgroups/examples/information_theory/entropy_gridsearch_singlethread/garefl/iteration_8/run.py --fit=dream --parallel --init=lhs --batch --store=/Users/frank/Dropbox/My Mac (PN115993.campus.nist.gov)/Documents/programming/molgroups/examples/information_theory/entropy_gridsearch_singlethread/garefl/iteration_8/save --burn=100 --steps=10 --seed=166235\n",
      "[0] = l_siox = 10 in [10,30]\n",
      "[1] = rho_siox = 3.2 in [3.2,3.8]\n",
      "[2] = l_submembrane = 1 in [1,10]\n",
      "[3] = l_lipid1 = 10 in [10,15]\n",
      "[4] = l_lipid2 = 10 in [10,15]\n",
      "[5] = vf_bilayer = 0.9 in [0.9,1]\n",
      "[6] = rho_solv_0 = 3.56 in [2.96,3.56]\n",
      "[7] = global_rough = 2 in [2,5]\n",
      "[8] = sigma = 2 in [2,5]\n",
      "[9] = background_0 = -5 in [-9,-5]\n",
      "\n",
      "[chisq=10150.78(17), nllf=340051]\n",
      "# /Users/frank/opt/anaconda3/envs/Python37/bin/refl1d_cli.py /Users/frank/Dropbox/My Mac (PN115993.campus.nist.gov)/Documents/programming/molgroups/examples/information_theory/entropy_gridsearch_singlethread/garefl/iteration_8/run.py --fit=dream --parallel --init=lhs --batch --store=/Users/frank/Dropbox/My Mac (PN115993.campus.nist.gov)/Documents/programming/molgroups/examples/information_theory/entropy_gridsearch_singlethread/garefl/iteration_8/save --burn=100 --steps=10 --seed=166235\n",
      "[0] = l_siox = 10 in [10,30]\n",
      "[1] = rho_siox = 3.2 in [3.2,3.8]\n",
      "[2] = l_submembrane = 1 in [1,10]\n",
      "[3] = l_lipid1 = 10 in [10,15]\n",
      "[4] = l_lipid2 = 10 in [10,15]\n",
      "[5] = vf_bilayer = 0.9 in [0.9,1]\n",
      "[6] = rho_solv_0 = 3.56 in [2.96,3.56]\n",
      "[7] = global_rough = 2 in [2,5]\n",
      "[8] = sigma = 2 in [2,5]\n",
      "[9] = background_0 = -5 in [-9,-5]\n",
      "\n",
      "[chisq=10150.78(17), nllf=340051]\n",
      "I am actually loading a state in CBumpsInteractor.__init__()\n",
      "None\n",
      "And here I am in fnRestoreState ...\n",
      "Still in CBumpsInteractor init: <bumps.dream.state.MCMCDraw object at 0x7fc779146850>\n",
      "g++  -g -O2 -Wall  -fPIC -DUSE_DOUBLE -DReal=double -DHAVE_CONFIG_H -I/Users/frank/danse/refl1d/garefl/boxmin -I/Users/frank/danse/refl1d/garefl/model1d -I/Users/frank/danse/refl1d/garefl/src -c setup.cc -o setup.o\n"
     ]
    },
    {
     "name": "stderr",
     "output_type": "stream",
     "text": [
      "setup.cc:93:14: warning: unused variable 'freepars' [-Wunused-variable]\n",
      "    fitpars *freepars = &fit[1].pars;\n",
      "             ^\n",
      "1 warning generated.\n"
     ]
    },
    {
     "name": "stdout",
     "output_type": "stream",
     "text": [
      "cd /Users/frank/danse/refl1d/garefl/boxmin && /Applications/Xcode.app/Contents/Developer/usr/bin/make\n",
      "make[1]: Nothing to be done for `all'.\n",
      "cd /Users/frank/danse/refl1d/garefl/model1d && /Applications/Xcode.app/Contents/Developer/usr/bin/make\n",
      "make[1]: Nothing to be done for `all'.\n",
      "cd /Users/frank/danse/refl1d/garefl/src && /Applications/Xcode.app/Contents/Developer/usr/bin/make\n",
      "make[1]: Nothing to be done for `all'.\n",
      "g++    -fPIC -o fit setup.o /Users/frank/danse/refl1d/garefl/src/ga_simul.o /Users/frank/danse/refl1d/garefl/src/ga.o -L/Users/frank/danse/refl1d/garefl/model1d -lrefl -L/Users/frank/danse/refl1d/garefl/boxmin -lboxmin  -lm \n",
      "g++ -shared -o model.so setup.o /Users/frank/danse/refl1d/garefl/src/refl1d.o -L/Users/frank/danse/refl1d/garefl/model1d -lrefl  -lm \n",
      "Here, here: garefl /Users/frank/Dropbox/My Mac (PN115993.campus.nist.gov)/Documents/programming/molgroups/examples/information_theory/entropy_gridsearch_singlethread/garefl/iteration_8 run <bumps.dream.state.MCMCDraw object at 0x7fc779146850>\n"
     ]
    },
    {
     "name": "stderr",
     "output_type": "stream",
     "text": [
      "../../../../information_theory/entropy.py:324: RuntimeWarning: divide by zero encountered in log\n",
      "  s_est = log(n_est) - mean(eval_logp)\n",
      "/Users/frank/opt/anaconda3/envs/Python37/lib/python3.7/site-packages/numpy/core/_methods.py:230: RuntimeWarning: invalid value encountered in subtract\n",
      "  x = asanyarray(arr - arrmean)\n",
      "../../../../information_theory/entropy.py:33: RuntimeWarning: invalid value encountered in double_scalars\n",
      "  s2 = fabs(result - element)\n",
      "rm: /Users/frank/Dropbox/My Mac (PN115993.campus.nist.gov)/Documents/programming/molgroups/examples/information_theory/entropy_gridsearch_singlethread/garefl/iteration_8/save/run-point.mc: No such file or directory\n",
      "rm: /Users/frank/Dropbox/My Mac (PN115993.campus.nist.gov)/Documents/programming/molgroups/examples/information_theory/entropy_gridsearch_singlethread/garefl/iteration_8/save/run-chain.mc: No such file or directory\n",
      "rm: /Users/frank/Dropbox/My Mac (PN115993.campus.nist.gov)/Documents/programming/molgroups/examples/information_theory/entropy_gridsearch_singlethread/garefl/iteration_8/save/run-stats.mc: No such file or directory\n"
     ]
    },
    {
     "name": "stdout",
     "output_type": "stream",
     "text": [
      "I am actually loading a state in CBumpsInteractor.__init__()\n",
      "None\n",
      "And here I am in fnRestoreState ...\n",
      "No file: /Users/frank/Dropbox/My Mac (PN115993.campus.nist.gov)/Documents/programming/molgroups/examples/information_theory/entropy_gridsearch_singlethread/garefl/iteration_9/save/run.py\n",
      "No state to reload.\n",
      "Still in CBumpsInteractor init: None\n",
      "No problem to reload.\n",
      "Found T/run.par \n",
      "\n",
      "Loading MCMC best-fit parameters ...\n",
      "/Users/frank/Dropbox/My Mac (PN115993.campus.nist.gov)/Documents/programming/molgroups/examples/information_theory/entropy_gridsearch_singlethread/garefl/setup.cc\n",
      "/Users/frank/Dropbox/My Mac (PN115993.campus.nist.gov)/Documents/programming/molgroups/examples/information_theory/entropy_gridsearch_singlethread/garefl/molgroups.cc\n",
      "l_siox 18.0\n",
      "rho_siox 3.55e-06\n",
      "l_submembrane 2.5\n",
      "l_lipid1 11.8\n",
      "l_lipid2 12.4\n",
      "vf_bilayer 0.95\n",
      "rho_solv_0 4e-06\n",
      "global_rough 3.0\n",
      "sigma 2.5\n",
      "background_0 -8.0\n",
      "g++  -g -O2 -Wall  -fPIC -DUSE_DOUBLE -DReal=double -DHAVE_CONFIG_H -I/Users/frank/danse/refl1d/garefl/boxmin -I/Users/frank/danse/refl1d/garefl/model1d -I/Users/frank/danse/refl1d/garefl/src -c setup.cc -o setup.o\n"
     ]
    },
    {
     "name": "stderr",
     "output_type": "stream",
     "text": [
      "setup.cc:103:14: warning: unused variable 'freepars' [-Wunused-variable]\n",
      "    fitpars *freepars = &fit[1].pars;\n",
      "             ^\n",
      "make: *** [setup.o] Interrupt: 2\n"
     ]
    },
    {
     "ename": "KeyboardInterrupt",
     "evalue": "",
     "output_type": "error",
     "traceback": [
      "\u001b[0;31m---------------------------------------------------------------------------\u001b[0m",
      "\u001b[0;31mKeyboardInterrupt\u001b[0m                         Traceback (most recent call last)",
      "\u001b[0;32m/var/folders/7q/k364l1n13p5fbgbj474pdw2w0000gp/T/ipykernel_65702/3216403484.py\u001b[0m in \u001b[0;36m<module>\u001b[0;34m\u001b[0m\n\u001b[0;32m----> 1\u001b[0;31m \u001b[0mentr\u001b[0m\u001b[0;34m.\u001b[0m\u001b[0mrun_optimization\u001b[0m\u001b[0;34m(\u001b[0m\u001b[0;34m)\u001b[0m\u001b[0;34m\u001b[0m\u001b[0;34m\u001b[0m\u001b[0m\n\u001b[0m",
      "\u001b[0;32m~/Dropbox/My Mac (PN115993.campus.nist.gov)/Documents/programming/molgroups/information_theory/entropy.py\u001b[0m in \u001b[0;36mrun_optimization\u001b[0;34m(self)\u001b[0m\n\u001b[1;32m    780\u001b[0m         \u001b[0mbRefinement\u001b[0m \u001b[0;34m=\u001b[0m \u001b[0;32mFalse\u001b[0m\u001b[0;34m\u001b[0m\u001b[0;34m\u001b[0m\u001b[0m\n\u001b[1;32m    781\u001b[0m         \u001b[0;32mwhile\u001b[0m \u001b[0;32mTrue\u001b[0m\u001b[0;34m:\u001b[0m\u001b[0;34m\u001b[0m\u001b[0;34m\u001b[0m\u001b[0m\n\u001b[0;32m--> 782\u001b[0;31m             \u001b[0;32mif\u001b[0m \u001b[0;32mnot\u001b[0m \u001b[0miterate_over_all_indices\u001b[0m\u001b[0;34m(\u001b[0m\u001b[0mbRefinement\u001b[0m\u001b[0;34m)\u001b[0m\u001b[0;34m:\u001b[0m\u001b[0;34m\u001b[0m\u001b[0;34m\u001b[0m\u001b[0m\n\u001b[0m\u001b[1;32m    783\u001b[0m                 \u001b[0;32mif\u001b[0m \u001b[0;32mnot\u001b[0m \u001b[0mbRefinement\u001b[0m\u001b[0;34m:\u001b[0m\u001b[0;34m\u001b[0m\u001b[0;34m\u001b[0m\u001b[0m\n\u001b[1;32m    784\u001b[0m                     \u001b[0;31m# Repeats is False while no_zeros is False means that the algorithm went over all iterations but has\u001b[0m\u001b[0;34m\u001b[0m\u001b[0;34m\u001b[0m\u001b[0;34m\u001b[0m\u001b[0m\n",
      "\u001b[0;32m~/Dropbox/My Mac (PN115993.campus.nist.gov)/Documents/programming/molgroups/information_theory/entropy.py\u001b[0m in \u001b[0;36miterate_over_all_indices\u001b[0;34m(refinement)\u001b[0m\n\u001b[1;32m    769\u001b[0m                     \u001b[0;32mif\u001b[0m \u001b[0moutlier\u001b[0m \u001b[0;32mor\u001b[0m \u001b[0minvalid_result\u001b[0m \u001b[0;32mor\u001b[0m \u001b[0minsufficient_iterations\u001b[0m \u001b[0;32mor\u001b[0m \u001b[0mself\u001b[0m\u001b[0;34m.\u001b[0m\u001b[0mbFetchMode\u001b[0m\u001b[0;34m:\u001b[0m\u001b[0;34m\u001b[0m\u001b[0;34m\u001b[0m\u001b[0m\n\u001b[1;32m    770\u001b[0m                         \u001b[0mbWorkedOnIndex\u001b[0m \u001b[0;34m=\u001b[0m \u001b[0;32mTrue\u001b[0m\u001b[0;34m\u001b[0m\u001b[0;34m\u001b[0m\u001b[0m\n\u001b[0;32m--> 771\u001b[0;31m                         \u001b[0mwork_on_index\u001b[0m\u001b[0;34m(\u001b[0m\u001b[0miteration\u001b[0m\u001b[0;34m,\u001b[0m \u001b[0mit\u001b[0m\u001b[0;34m,\u001b[0m \u001b[0mitindex\u001b[0m\u001b[0;34m)\u001b[0m\u001b[0;34m\u001b[0m\u001b[0;34m\u001b[0m\u001b[0m\n\u001b[0m\u001b[1;32m    772\u001b[0m \u001b[0;34m\u001b[0m\u001b[0m\n\u001b[1;32m    773\u001b[0m                     \u001b[0;31m# iterations are only increased if this index is not dropped because of symmetry\u001b[0m\u001b[0;34m\u001b[0m\u001b[0;34m\u001b[0m\u001b[0;34m\u001b[0m\u001b[0m\n",
      "\u001b[0;32m~/Dropbox/My Mac (PN115993.campus.nist.gov)/Documents/programming/molgroups/information_theory/entropy.py\u001b[0m in \u001b[0;36mwork_on_index\u001b[0;34m(iteration, it, itindex)\u001b[0m\n\u001b[1;32m    721\u001b[0m                 \u001b[0mpre\u001b[0m\u001b[0;34m,\u001b[0m \u001b[0mqrange\u001b[0m \u001b[0;34m=\u001b[0m \u001b[0mset_sim_pars_for_index\u001b[0m\u001b[0;34m(\u001b[0m\u001b[0mit\u001b[0m\u001b[0;34m)\u001b[0m\u001b[0;34m\u001b[0m\u001b[0;34m\u001b[0m\u001b[0m\n\u001b[1;32m    722\u001b[0m                 \u001b[0mself\u001b[0m\u001b[0;34m.\u001b[0m\u001b[0msimpar\u001b[0m\u001b[0;34m.\u001b[0m\u001b[0mto_csv\u001b[0m\u001b[0;34m(\u001b[0m\u001b[0;34m'simpar.dat'\u001b[0m\u001b[0;34m,\u001b[0m \u001b[0msep\u001b[0m\u001b[0;34m=\u001b[0m\u001b[0;34m' '\u001b[0m\u001b[0;34m,\u001b[0m \u001b[0mheader\u001b[0m\u001b[0;34m=\u001b[0m\u001b[0;32mNone\u001b[0m\u001b[0;34m,\u001b[0m \u001b[0mindex\u001b[0m\u001b[0;34m=\u001b[0m\u001b[0;32mFalse\u001b[0m\u001b[0;34m)\u001b[0m\u001b[0;34m\u001b[0m\u001b[0;34m\u001b[0m\u001b[0m\n\u001b[0;32m--> 723\u001b[0;31m                 \u001b[0mself\u001b[0m\u001b[0;34m.\u001b[0m\u001b[0mmolstat\u001b[0m\u001b[0;34m.\u001b[0m\u001b[0mfnSimulateData\u001b[0m\u001b[0;34m(\u001b[0m\u001b[0mmode\u001b[0m\u001b[0;34m=\u001b[0m\u001b[0mself\u001b[0m\u001b[0;34m.\u001b[0m\u001b[0mmode\u001b[0m\u001b[0;34m,\u001b[0m \u001b[0mpre\u001b[0m\u001b[0;34m=\u001b[0m\u001b[0mpre\u001b[0m\u001b[0;34m,\u001b[0m \u001b[0mqrange\u001b[0m\u001b[0;34m=\u001b[0m\u001b[0mqrange\u001b[0m\u001b[0;34m)\u001b[0m\u001b[0;34m\u001b[0m\u001b[0;34m\u001b[0m\u001b[0m\n\u001b[0m\u001b[1;32m    724\u001b[0m                 \u001b[0mself\u001b[0m\u001b[0;34m.\u001b[0m\u001b[0mmolstat\u001b[0m\u001b[0;34m.\u001b[0m\u001b[0mInteractor\u001b[0m\u001b[0;34m.\u001b[0m\u001b[0mfnBackup\u001b[0m\u001b[0;34m(\u001b[0m\u001b[0morigin\u001b[0m\u001b[0;34m=\u001b[0m\u001b[0mself\u001b[0m\u001b[0;34m.\u001b[0m\u001b[0mspath\u001b[0m\u001b[0;34m,\u001b[0m \u001b[0mtarget\u001b[0m\u001b[0;34m=\u001b[0m\u001b[0mfulldirname\u001b[0m\u001b[0;34m)\u001b[0m\u001b[0;34m\u001b[0m\u001b[0;34m\u001b[0m\u001b[0m\n\u001b[1;32m    725\u001b[0m                 \u001b[0mcall\u001b[0m\u001b[0;34m(\u001b[0m\u001b[0;34m[\u001b[0m\u001b[0;34m'rm'\u001b[0m\u001b[0;34m,\u001b[0m \u001b[0;34m'-r'\u001b[0m\u001b[0;34m,\u001b[0m \u001b[0mfulldirname\u001b[0m \u001b[0;34m+\u001b[0m \u001b[0;34m'/save'\u001b[0m\u001b[0;34m]\u001b[0m\u001b[0;34m)\u001b[0m\u001b[0;34m\u001b[0m\u001b[0;34m\u001b[0m\u001b[0m\n",
      "\u001b[0;32m~/Dropbox/My Mac (PN115993.campus.nist.gov)/Documents/programming/molgroups/PlottingAndAnalysis/rs.py\u001b[0m in \u001b[0;36mfnSimulateData\u001b[0;34m(self, qmin, qmax, s1min, s1max, s2min, s2max, tmin, tmax, nmin, rhomin, rhomax, cbmatmin, cbmatmax, mode, pre, qrange)\u001b[0m\n\u001b[1;32m   1945\u001b[0m \u001b[0;34m\u001b[0m\u001b[0m\n\u001b[1;32m   1946\u001b[0m             \u001b[0;31m# simulate data, works on sim.dat files\u001b[0m\u001b[0;34m\u001b[0m\u001b[0;34m\u001b[0m\u001b[0;34m\u001b[0m\u001b[0m\n\u001b[0;32m-> 1947\u001b[0;31m             \u001b[0mself\u001b[0m\u001b[0;34m.\u001b[0m\u001b[0mInteractor\u001b[0m\u001b[0;34m.\u001b[0m\u001b[0mfnSimulateData\u001b[0m\u001b[0;34m(\u001b[0m\u001b[0mliAddition\u001b[0m\u001b[0;34m)\u001b[0m\u001b[0;34m\u001b[0m\u001b[0;34m\u001b[0m\u001b[0m\n\u001b[0m\u001b[1;32m   1948\u001b[0m             \u001b[0;31m# simulate error bars, works on sim.dat files\u001b[0m\u001b[0;34m\u001b[0m\u001b[0;34m\u001b[0m\u001b[0;34m\u001b[0m\u001b[0m\n\u001b[1;32m   1949\u001b[0m             self.Interactor.fnSimulateErrorBars(simpar, qmin=qmin, qmax=qmax, s1min=s1min, s1max=s1max, s2min=s2min,\n",
      "\u001b[0;32m~/Dropbox/My Mac (PN115993.campus.nist.gov)/Documents/programming/molgroups/PlottingAndAnalysis/rsdi.py\u001b[0m in \u001b[0;36mfnSimulateData\u001b[0;34m(self, liExpression)\u001b[0m\n\u001b[1;32m    888\u001b[0m     \u001b[0;32mdef\u001b[0m \u001b[0mfnSimulateData\u001b[0m\u001b[0;34m(\u001b[0m\u001b[0mself\u001b[0m\u001b[0;34m,\u001b[0m \u001b[0mliExpression\u001b[0m\u001b[0;34m)\u001b[0m\u001b[0;34m:\u001b[0m\u001b[0;34m\u001b[0m\u001b[0;34m\u001b[0m\u001b[0m\n\u001b[1;32m    889\u001b[0m         \u001b[0mself\u001b[0m\u001b[0;34m.\u001b[0m\u001b[0mfnWriteConstraint2Runfile\u001b[0m\u001b[0;34m(\u001b[0m\u001b[0mliExpression\u001b[0m\u001b[0;34m)\u001b[0m                        \u001b[0;31m# change runfile to quasi-fix all parameters\u001b[0m\u001b[0;34m\u001b[0m\u001b[0;34m\u001b[0m\u001b[0m\n\u001b[0;32m--> 890\u001b[0;31m         \u001b[0mself\u001b[0m\u001b[0;34m.\u001b[0m\u001b[0mfnMake\u001b[0m\u001b[0;34m(\u001b[0m\u001b[0;34m)\u001b[0m                                                       \u001b[0;31m# compile changed setup.c\u001b[0m\u001b[0;34m\u001b[0m\u001b[0;34m\u001b[0m\u001b[0m\n\u001b[0m\u001b[1;32m    891\u001b[0m         \u001b[0mcall\u001b[0m\u001b[0;34m(\u001b[0m\u001b[0;34m[\u001b[0m\u001b[0;34m\"rm\"\u001b[0m\u001b[0;34m,\u001b[0m \u001b[0;34m\"-f\"\u001b[0m\u001b[0;34m,\u001b[0m \u001b[0;34m\"mol.dat\"\u001b[0m\u001b[0;34m]\u001b[0m\u001b[0;34m)\u001b[0m\u001b[0;34m\u001b[0m\u001b[0;34m\u001b[0m\u001b[0m\n\u001b[1;32m    892\u001b[0m         \u001b[0mcall\u001b[0m\u001b[0;34m(\u001b[0m\u001b[0;34m[\u001b[0m\u001b[0;34m\"./fit\"\u001b[0m\u001b[0;34m,\u001b[0m \u001b[0;34m\"-g\"\u001b[0m\u001b[0;34m]\u001b[0m\u001b[0;34m)\u001b[0m                                               \u001b[0;31m# write out profile.dat and fit.dat\u001b[0m\u001b[0;34m\u001b[0m\u001b[0;34m\u001b[0m\u001b[0m\n",
      "\u001b[0;32m~/Dropbox/My Mac (PN115993.campus.nist.gov)/Documents/programming/molgroups/PlottingAndAnalysis/rsdi.py\u001b[0m in \u001b[0;36mfnMake\u001b[0;34m(self)\u001b[0m\n\u001b[1;32m    795\u001b[0m         \u001b[0mcall\u001b[0m\u001b[0;34m(\u001b[0m\u001b[0;34m[\u001b[0m\u001b[0;34m\"sync\"\u001b[0m\u001b[0;34m]\u001b[0m\u001b[0;34m)\u001b[0m  \u001b[0;31m# synchronize file system\u001b[0m\u001b[0;34m\u001b[0m\u001b[0;34m\u001b[0m\u001b[0m\n\u001b[1;32m    796\u001b[0m         \u001b[0msleep\u001b[0m\u001b[0;34m(\u001b[0m\u001b[0;36m1\u001b[0m\u001b[0;34m)\u001b[0m  \u001b[0;31m# wait for system to clean up\u001b[0m\u001b[0;34m\u001b[0m\u001b[0;34m\u001b[0m\u001b[0m\n\u001b[0;32m--> 797\u001b[0;31m         \u001b[0mcall\u001b[0m\u001b[0;34m(\u001b[0m\u001b[0;34m[\u001b[0m\u001b[0;34m'make'\u001b[0m\u001b[0;34m,\u001b[0m \u001b[0;34m'-C'\u001b[0m\u001b[0;34m,\u001b[0m \u001b[0mself\u001b[0m\u001b[0;34m.\u001b[0m\u001b[0mspath\u001b[0m\u001b[0;34m]\u001b[0m\u001b[0;34m)\u001b[0m\u001b[0;34m\u001b[0m\u001b[0;34m\u001b[0m\u001b[0m\n\u001b[0m\u001b[1;32m    798\u001b[0m \u001b[0;34m\u001b[0m\u001b[0m\n\u001b[1;32m    799\u001b[0m     \u001b[0;32mdef\u001b[0m \u001b[0mfnReplaceParameterLimitsInSetup\u001b[0m\u001b[0;34m(\u001b[0m\u001b[0mself\u001b[0m\u001b[0;34m,\u001b[0m \u001b[0msname\u001b[0m\u001b[0;34m,\u001b[0m \u001b[0mflowerlimit\u001b[0m\u001b[0;34m,\u001b[0m \u001b[0mfupperlimit\u001b[0m\u001b[0;34m)\u001b[0m\u001b[0;34m:\u001b[0m\u001b[0;34m\u001b[0m\u001b[0;34m\u001b[0m\u001b[0m\n",
      "\u001b[0;32m~/opt/anaconda3/envs/Python37/lib/python3.7/subprocess.py\u001b[0m in \u001b[0;36mcall\u001b[0;34m(timeout, *popenargs, **kwargs)\u001b[0m\n\u001b[1;32m    339\u001b[0m     \u001b[0;32mwith\u001b[0m \u001b[0mPopen\u001b[0m\u001b[0;34m(\u001b[0m\u001b[0;34m*\u001b[0m\u001b[0mpopenargs\u001b[0m\u001b[0;34m,\u001b[0m \u001b[0;34m**\u001b[0m\u001b[0mkwargs\u001b[0m\u001b[0;34m)\u001b[0m \u001b[0;32mas\u001b[0m \u001b[0mp\u001b[0m\u001b[0;34m:\u001b[0m\u001b[0;34m\u001b[0m\u001b[0;34m\u001b[0m\u001b[0m\n\u001b[1;32m    340\u001b[0m         \u001b[0;32mtry\u001b[0m\u001b[0;34m:\u001b[0m\u001b[0;34m\u001b[0m\u001b[0;34m\u001b[0m\u001b[0m\n\u001b[0;32m--> 341\u001b[0;31m             \u001b[0;32mreturn\u001b[0m \u001b[0mp\u001b[0m\u001b[0;34m.\u001b[0m\u001b[0mwait\u001b[0m\u001b[0;34m(\u001b[0m\u001b[0mtimeout\u001b[0m\u001b[0;34m=\u001b[0m\u001b[0mtimeout\u001b[0m\u001b[0;34m)\u001b[0m\u001b[0;34m\u001b[0m\u001b[0;34m\u001b[0m\u001b[0m\n\u001b[0m\u001b[1;32m    342\u001b[0m         \u001b[0;32mexcept\u001b[0m\u001b[0;34m:\u001b[0m  \u001b[0;31m# Including KeyboardInterrupt, wait handled that.\u001b[0m\u001b[0;34m\u001b[0m\u001b[0;34m\u001b[0m\u001b[0m\n\u001b[1;32m    343\u001b[0m             \u001b[0mp\u001b[0m\u001b[0;34m.\u001b[0m\u001b[0mkill\u001b[0m\u001b[0;34m(\u001b[0m\u001b[0;34m)\u001b[0m\u001b[0;34m\u001b[0m\u001b[0;34m\u001b[0m\u001b[0m\n",
      "\u001b[0;32m~/opt/anaconda3/envs/Python37/lib/python3.7/subprocess.py\u001b[0m in \u001b[0;36mwait\u001b[0;34m(self, timeout)\u001b[0m\n\u001b[1;32m   1017\u001b[0m             \u001b[0mendtime\u001b[0m \u001b[0;34m=\u001b[0m \u001b[0m_time\u001b[0m\u001b[0;34m(\u001b[0m\u001b[0;34m)\u001b[0m \u001b[0;34m+\u001b[0m \u001b[0mtimeout\u001b[0m\u001b[0;34m\u001b[0m\u001b[0;34m\u001b[0m\u001b[0m\n\u001b[1;32m   1018\u001b[0m         \u001b[0;32mtry\u001b[0m\u001b[0;34m:\u001b[0m\u001b[0;34m\u001b[0m\u001b[0;34m\u001b[0m\u001b[0m\n\u001b[0;32m-> 1019\u001b[0;31m             \u001b[0;32mreturn\u001b[0m \u001b[0mself\u001b[0m\u001b[0;34m.\u001b[0m\u001b[0m_wait\u001b[0m\u001b[0;34m(\u001b[0m\u001b[0mtimeout\u001b[0m\u001b[0;34m=\u001b[0m\u001b[0mtimeout\u001b[0m\u001b[0;34m)\u001b[0m\u001b[0;34m\u001b[0m\u001b[0;34m\u001b[0m\u001b[0m\n\u001b[0m\u001b[1;32m   1020\u001b[0m         \u001b[0;32mexcept\u001b[0m \u001b[0mKeyboardInterrupt\u001b[0m\u001b[0;34m:\u001b[0m\u001b[0;34m\u001b[0m\u001b[0;34m\u001b[0m\u001b[0m\n\u001b[1;32m   1021\u001b[0m             \u001b[0;31m# https://bugs.python.org/issue25942\u001b[0m\u001b[0;34m\u001b[0m\u001b[0;34m\u001b[0m\u001b[0;34m\u001b[0m\u001b[0m\n",
      "\u001b[0;32m~/opt/anaconda3/envs/Python37/lib/python3.7/subprocess.py\u001b[0m in \u001b[0;36m_wait\u001b[0;34m(self, timeout)\u001b[0m\n\u001b[1;32m   1651\u001b[0m                         \u001b[0;32mif\u001b[0m \u001b[0mself\u001b[0m\u001b[0;34m.\u001b[0m\u001b[0mreturncode\u001b[0m \u001b[0;32mis\u001b[0m \u001b[0;32mnot\u001b[0m \u001b[0;32mNone\u001b[0m\u001b[0;34m:\u001b[0m\u001b[0;34m\u001b[0m\u001b[0;34m\u001b[0m\u001b[0m\n\u001b[1;32m   1652\u001b[0m                             \u001b[0;32mbreak\u001b[0m  \u001b[0;31m# Another thread waited.\u001b[0m\u001b[0;34m\u001b[0m\u001b[0;34m\u001b[0m\u001b[0m\n\u001b[0;32m-> 1653\u001b[0;31m                         \u001b[0;34m(\u001b[0m\u001b[0mpid\u001b[0m\u001b[0;34m,\u001b[0m \u001b[0msts\u001b[0m\u001b[0;34m)\u001b[0m \u001b[0;34m=\u001b[0m \u001b[0mself\u001b[0m\u001b[0;34m.\u001b[0m\u001b[0m_try_wait\u001b[0m\u001b[0;34m(\u001b[0m\u001b[0;36m0\u001b[0m\u001b[0;34m)\u001b[0m\u001b[0;34m\u001b[0m\u001b[0;34m\u001b[0m\u001b[0m\n\u001b[0m\u001b[1;32m   1654\u001b[0m                         \u001b[0;31m# Check the pid and loop as waitpid has been known to\u001b[0m\u001b[0;34m\u001b[0m\u001b[0;34m\u001b[0m\u001b[0;34m\u001b[0m\u001b[0m\n\u001b[1;32m   1655\u001b[0m                         \u001b[0;31m# return 0 even without WNOHANG in odd situations.\u001b[0m\u001b[0;34m\u001b[0m\u001b[0;34m\u001b[0m\u001b[0;34m\u001b[0m\u001b[0m\n",
      "\u001b[0;32m~/opt/anaconda3/envs/Python37/lib/python3.7/subprocess.py\u001b[0m in \u001b[0;36m_try_wait\u001b[0;34m(self, wait_flags)\u001b[0m\n\u001b[1;32m   1609\u001b[0m             \u001b[0;34m\"\"\"All callers to this function MUST hold self._waitpid_lock.\"\"\"\u001b[0m\u001b[0;34m\u001b[0m\u001b[0;34m\u001b[0m\u001b[0m\n\u001b[1;32m   1610\u001b[0m             \u001b[0;32mtry\u001b[0m\u001b[0;34m:\u001b[0m\u001b[0;34m\u001b[0m\u001b[0;34m\u001b[0m\u001b[0m\n\u001b[0;32m-> 1611\u001b[0;31m                 \u001b[0;34m(\u001b[0m\u001b[0mpid\u001b[0m\u001b[0;34m,\u001b[0m \u001b[0msts\u001b[0m\u001b[0;34m)\u001b[0m \u001b[0;34m=\u001b[0m \u001b[0mos\u001b[0m\u001b[0;34m.\u001b[0m\u001b[0mwaitpid\u001b[0m\u001b[0;34m(\u001b[0m\u001b[0mself\u001b[0m\u001b[0;34m.\u001b[0m\u001b[0mpid\u001b[0m\u001b[0;34m,\u001b[0m \u001b[0mwait_flags\u001b[0m\u001b[0;34m)\u001b[0m\u001b[0;34m\u001b[0m\u001b[0;34m\u001b[0m\u001b[0m\n\u001b[0m\u001b[1;32m   1612\u001b[0m             \u001b[0;32mexcept\u001b[0m \u001b[0mChildProcessError\u001b[0m\u001b[0;34m:\u001b[0m\u001b[0;34m\u001b[0m\u001b[0;34m\u001b[0m\u001b[0m\n\u001b[1;32m   1613\u001b[0m                 \u001b[0;31m# This happens if SIGCLD is set to be ignored or waiting\u001b[0m\u001b[0;34m\u001b[0m\u001b[0;34m\u001b[0m\u001b[0;34m\u001b[0m\u001b[0m\n",
      "\u001b[0;31mKeyboardInterrupt\u001b[0m: "
     ]
    }
   ],
   "source": [
    "entr.run_optimization()"
   ]
  },
  {
   "cell_type": "code",
   "execution_count": null,
   "id": "63e19b1e",
   "metadata": {},
   "outputs": [],
   "source": [
    "import pandas\n",
    "\n",
    "fig, ax = plt.subplots()\n",
    "\n",
    "i = 0\n",
    "while os.path.isfile('sim' + str(i) + '.dat'):\n",
    "    simdata = pandas.read_csv('sim' + str(i) + '.dat', sep=' ', skip_blank_lines=True,comment='#')\n",
    "    ax.errorbar(simdata['Q'], simdata['R'], simdata['dR'], label=\"sim \" + str(i))\n",
    "    i += 1\n",
    "\n",
    "ax.legend(fontsize=8)\n",
    "ax.set_ylabel(\"R\", fontsize=10)\n",
    "ax.set_yscale('log')\n",
    "ax.minorticks_on()\n",
    "ax.tick_params(which=\"both\", direction=\"in\", labelsize=10)\n",
    "ax.tick_params(bottom=True, top=True, left=True, right=True, which=\"both\")\n",
    "ax.set_xlabel(\"$q_z$ (Å$^{-1}$)\", fontsize=10)\n",
    "ax.figure.set_size_inches(12.5, 7.5)\n",
    "plt.savefig(store + \"/model_comparison.png\", facecolor=\"white\")\n",
    "plt.show()\n"
   ]
  },
  {
   "cell_type": "code",
   "execution_count": null,
   "id": "5c5866a3",
   "metadata": {},
   "outputs": [],
   "source": []
  }
 ],
 "metadata": {
  "interpreter": {
   "hash": "05d582df831dd7fae68dfffc73e5ea31ad7a23d6a2275d5f88151c2f48f29d76"
  },
  "kernelspec": {
   "display_name": "Python 3 (ipykernel)",
   "language": "python",
   "name": "python3"
  },
  "language_info": {
   "codemirror_mode": {
    "name": "ipython",
    "version": 3
   },
   "file_extension": ".py",
   "mimetype": "text/x-python",
   "name": "python",
   "nbconvert_exporter": "python",
   "pygments_lexer": "ipython3",
   "version": "3.7.12"
  }
 },
 "nbformat": 4,
 "nbformat_minor": 5
}
