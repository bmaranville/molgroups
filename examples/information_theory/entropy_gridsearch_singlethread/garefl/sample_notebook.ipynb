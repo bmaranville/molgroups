{
 "cells": [
  {
   "cell_type": "markdown",
   "id": "551d0249",
   "metadata": {},
   "source": [
    "# Imports"
   ]
  },
  {
   "cell_type": "code",
   "execution_count": 1,
   "id": "4c0454bf",
   "metadata": {
    "scrolled": true
   },
   "outputs": [
    {
     "name": "stdout",
     "output_type": "stream",
     "text": [
      "/Users/frank/Dropbox/My Mac (PN115993.campus.nist.gov)/Documents/programming/molgroups/examples/information_theory/entropy_gridsearch_singlethread/garefl\r\n"
     ]
    }
   ],
   "source": [
    "!pwd\n",
    "import sys\n",
    "from bumps.names import Curve, fit, FitProblem\n",
    "from bumps.dream.state import load_state\n",
    "import matplotlib.pyplot as plt\n",
    "import numpy as np\n",
    "import scipy.fft as fft\n",
    "import os\n",
    "\n",
    "sys.path.append(\"../../../..\")\n",
    "import molgroups as mol\n",
    "\n",
    "sys.path.append(\"../../../../PlottingAndAnalysis\")\n",
    "import rs\n",
    "import rsdi\n",
    "\n",
    "sys.path.append(\"../../../../information_theory\")\n",
    "import entropy"
   ]
  },
  {
   "cell_type": "markdown",
   "id": "a67a7a38",
   "metadata": {},
   "source": [
    "# Create Short Example Fit"
   ]
  },
  {
   "cell_type": "code",
   "execution_count": 2,
   "id": "26b01c0e",
   "metadata": {},
   "outputs": [
    {
     "name": "stdout",
     "output_type": "stream",
     "text": [
      "zsh:1: /usr/local/bin//refl1d: bad interpreter: /usr/local/opt/python@3.8/bin/python3.8: no such file or directory\n",
      "# /Users/frank/opt/anaconda3/envs/Python37/bin/refl1d run.py --fit=dream --store=T --init=lhs --parallel --burn=100 --steps=5 --overwrite --seed=450457\n",
      "[0] = l_siox = 18 in [10,30]\n",
      "[1] = rho_siox = 3.55 in [3.2,3.8]\n",
      "[2] = l_submembrane = 2.5 in [1,10]\n",
      "[3] = l_lipid1 = 11.8 in [10,15]\n",
      "[4] = l_lipid2 = 12.4 in [10,15]\n",
      "[5] = vf_bilayer = 0.95 in [0.9,1]\n",
      "[6] = rho_solv_0 = -0.5 in [-1.04,-0.44]\n",
      "[7] = global_rough = 3 in [2,5]\n",
      "[8] = sigma = 2.5 in [2,5]\n",
      "[9] = background_0 = -8 in [-9,-5]\n",
      "\n",
      "[chisq=264.32(17), nllf=8854.56]\n",
      "# steps: 5, # draws: 500\n",
      "step 1 cost 264.32(17)\n",
      "                                  l_siox ...|......         18 in (10,30)\n",
      "                                rho_siox .....|....       3.55 in (3.2,3.8)\n",
      "                           l_submembrane .|........        2.5 in (1,10)\n",
      "                                l_lipid1 ...|......       11.8 in (10,15)\n",
      "                                l_lipid2 ....|.....       12.4 in (10,15)\n",
      "                              vf_bilayer ....|.....       0.95 in (0.9,1)\n",
      "                              rho_solv_0 ........|.       -0.5 in (-1.04,-0.44)\n",
      "                            global_rough ...|......          3 in (2,5)\n",
      "                                   sigma .|........        2.5 in (2,5)\n",
      "                            background_0 ..|.......         -8 in (-9,-5)\n",
      "step 12 cost 264.32(17)\n",
      "step 26 cost 264.32(17)\n",
      "step 44 cost 264.32(17)\n",
      "step 65 cost 264.32(17)\n",
      "step 90 cost 264.32(17)\n",
      "Did not converge!\n",
      "Traceback (most recent call last):\n",
      "  File \"/Users/frank/opt/anaconda3/envs/Python37/bin/refl1d\", line 8, in <module>\n",
      "    sys.exit(cli())\n",
      "  File \"/Users/frank/opt/anaconda3/envs/Python37/lib/python3.7/site-packages/refl1d/main.py\", line 45, in cli\n",
      "    bumps.cli.main()\n",
      "  File \"/Users/frank/opt/anaconda3/envs/Python37/lib/python3.7/site-packages/bumps/cli.py\", line 707, in main\n",
      "    save_best(fitdriver, problem, best, view=opts.view)\n",
      "  File \"/Users/frank/opt/anaconda3/envs/Python37/lib/python3.7/site-packages/bumps/cli.py\", line 135, in save_best\n",
      "    fitdriver.plot(output_path=problem.output_path, view=view)\n",
      "  File \"/Users/frank/opt/anaconda3/envs/Python37/lib/python3.7/site-packages/bumps/fitters.py\", line 1158, in plot\n",
      "    self.fitter.plot(output_path=output_path)\n",
      "  File \"/Users/frank/opt/anaconda3/envs/Python37/lib/python3.7/site-packages/bumps/fitters.py\", line 871, in plot\n",
      "    self.state.show(figfile=output_path, portion=self._trimmed)\n",
      "  File \"/Users/frank/opt/anaconda3/envs/Python37/lib/python3.7/site-packages/bumps/dream/state.py\", line 434, in show\n",
      "    plot_all(self, portion=portion, figfile=figfile)\n",
      "  File \"/Users/frank/opt/anaconda3/envs/Python37/lib/python3.7/site-packages/bumps/dream/views.py\", line 70, in plot_all\n",
      "    parcoord.plot(draw, control_var=0)\n",
      "  File \"/Users/frank/opt/anaconda3/envs/Python37/lib/python3.7/site-packages/bumps/dream/parcoord.py\", line 51, in plot\n",
      "    value=color_value, value_label=color_label)\n",
      "  File \"/Users/frank/opt/anaconda3/envs/Python37/lib/python3.7/site-packages/bumps/dream/parcoord.py\", line 146, in parallel_coordinates\n",
      "    data = scale(data, axis=0)\n",
      "  File \"/Users/frank/opt/anaconda3/envs/Python37/lib/python3.7/site-packages/bumps/dream/parcoord.py\", line 171, in scale\n",
      "    low = x.min(axis=axis, keepdims=True)\n",
      "  File \"/Users/frank/opt/anaconda3/envs/Python37/lib/python3.7/site-packages/numpy/core/_methods.py\", line 44, in _amin\n",
      "    return umr_minimum(a, axis, None, out, keepdims, initial, where)\n",
      "ValueError: zero-size array to reduction operation minimum which has no identity\n"
     ]
    }
   ],
   "source": [
    "!refl1d run.py --fit=dream --store=T --init=lhs --parallel --burn=100 --steps=5 --overwrite"
   ]
  },
  {
   "cell_type": "markdown",
   "id": "edd90e18",
   "metadata": {},
   "source": [
    "# Variables"
   ]
  },
  {
   "cell_type": "code",
   "execution_count": 3,
   "id": "5e6c29ab",
   "metadata": {},
   "outputs": [],
   "source": [
    "# general fit setup\n",
    "setupdir = os.getcwd()\n",
    "runfile = \"run\"\n",
    "store = 'T'\n",
    "fitsource = \"garefl\"\n",
    "\n",
    "# particular entropy setup\n",
    "burn = 8000\n",
    "steps = 500\n",
    "convergence = 2.0\n",
    "miniter = 1\n",
    "mode = 'water'\n",
    "bClusterMode = False\n",
    "bFetchMode = False\n",
    "time = 2\n",
    "bcalcsymmetric = True\n",
    "upper_info_plotlevel = None\n",
    "plotlimits_filename = \" \"\n",
    "calcsingle = False\n",
    "\n",
    "# setup batchscript for SLURM (if used)\n",
    "script = []\n",
    "script.append('#!/bin/bash\\n')\n",
    "script.append('#SBATCH --job-name=entro {mcmc_iteration}\\n')\n",
    "script.append('#SBATCH -A mc4s9np\\n')\n",
    "script.append('#SBATCH -p RM\\n')\n",
    "script.append('#SBATCH -t 0' + str(time) + ':00:00\\n')\n",
    "script.append('#SBATCH -N 4\\n')\n",
    "script.append('#SBATCH --ntasks-per-node 28\\n')\n",
    "script.append('\\n')\n",
    "script.append('set +x\\n')\n",
    "script.append('cd $SLURM_SUBMIT_DIR\\n')\n",
    "# script.append('cd '+dirname+'\\n')\n",
    "script.append('\\n')\n",
    "script.append('module load python/2.7.11_gcc\\n')\n",
    "script.append('export PYTHONPATH=/home/hoogerhe/bin/lib/python2.7/site-packages:/home/hoogerhe/src/bumps\\n')\n",
    "script.append('\\n')\n",
    "script.append('mpirun -np 112 python /home/hoogerhe/src/refl1d/bin/refl1d_cli.py {mcmc_dirname}/run.py --fit=dream --mpi --init=lhs --batch --pop=28 --time=' \n",
    "              + str(float(time) - 0.1) + ' --thin=20 --store={mcmc_dirname}/save --burn=' + str(burn) \n",
    "              + ' --steps=' + str(steps) + '\\n')\n"
   ]
  },
  {
   "cell_type": "markdown",
   "id": "13a6038b",
   "metadata": {},
   "source": [
    "# Fit Setup"
   ]
  },
  {
   "cell_type": "code",
   "execution_count": 4,
   "id": "353e45f9",
   "metadata": {},
   "outputs": [
    {
     "name": "stdout",
     "output_type": "stream",
     "text": [
      "g++  -g -O2 -Wall  -fPIC -DUSE_DOUBLE -DReal=double -DHAVE_CONFIG_H -I/Users/frank/danse/refl1d/garefl/boxmin -I/Users/frank/danse/refl1d/garefl/model1d -I/Users/frank/danse/refl1d/garefl/src -c setup.cc -o setup.o\n"
     ]
    },
    {
     "name": "stderr",
     "output_type": "stream",
     "text": [
      "setup.cc:93:14: warning: unused variable 'freepars' [-Wunused-variable]\n",
      "    fitpars *freepars = &fit[1].pars;\n",
      "             ^\n",
      "1 warning generated.\n"
     ]
    },
    {
     "name": "stdout",
     "output_type": "stream",
     "text": [
      "cd /Users/frank/danse/refl1d/garefl/boxmin && /Applications/Xcode.app/Contents/Developer/usr/bin/make\n",
      "make[1]: Nothing to be done for `all'.\n",
      "cd /Users/frank/danse/refl1d/garefl/model1d && /Applications/Xcode.app/Contents/Developer/usr/bin/make\n",
      "make[1]: Nothing to be done for `all'.\n",
      "cd /Users/frank/danse/refl1d/garefl/src && /Applications/Xcode.app/Contents/Developer/usr/bin/make\n",
      "make[1]: Nothing to be done for `all'.\n",
      "g++    -fPIC -o fit setup.o /Users/frank/danse/refl1d/garefl/src/ga_simul.o /Users/frank/danse/refl1d/garefl/src/ga.o -L/Users/frank/danse/refl1d/garefl/model1d -lrefl -L/Users/frank/danse/refl1d/garefl/boxmin -lboxmin  -lm \n",
      "g++ -shared -o model.so setup.o /Users/frank/danse/refl1d/garefl/src/refl1d.o -L/Users/frank/danse/refl1d/garefl/model1d -lrefl  -lm \n"
     ]
    }
   ],
   "source": [
    "entr = entropy.Entropy(\n",
    "    fitsource=fitsource,\n",
    "    spath=setupdir,\n",
    "    mcmcpath=store,\n",
    "    runfile=runfile,\n",
    "    mcmcburn=burn, \n",
    "    mcmcsteps=steps, \n",
    "    convergence=convergence, \n",
    "    miniter=miniter, \n",
    "    mode=mode,                      \n",
    "    bClusterMode=bClusterMode, \n",
    "    bFetchMode=bFetchMode, \n",
    "    calc_symmetric=bcalcsymmetric,\n",
    "    upper_info_plotlevel=upper_info_plotlevel, \n",
    "    plotlimits_filename=plotlimits_filename,\n",
    "    slurmscript=script\n",
    ")"
   ]
  },
  {
   "cell_type": "code",
   "execution_count": null,
   "id": "72068763",
   "metadata": {},
   "outputs": [
    {
     "name": "stdout",
     "output_type": "stream",
     "text": [
      "No file: /Users/frank/Dropbox/My Mac (PN115993.campus.nist.gov)/Documents/programming/molgroups/examples/information_theory/entropy_gridsearch_singlethread/garefl/iteration_0/save/run.py\n",
      "No state to reload.\n",
      "No problem to reload.\n",
      "Found T/run.par \n",
      "\n",
      "Loading MCMC best-fit parameters ...\n",
      "l_siox 18.0\n",
      "rho_siox 3.55e-06\n",
      "l_submembrane 2.5\n",
      "l_lipid1 11.8\n",
      "l_lipid2 12.4\n",
      "vf_bilayer 0.95\n",
      "rho_solv_0 -5e-07\n",
      "global_rough 3.0\n",
      "sigma 2.5\n",
      "background_0 -8.0\n",
      "g++  -g -O2 -Wall  -fPIC -DUSE_DOUBLE -DReal=double -DHAVE_CONFIG_H -I/Users/frank/danse/refl1d/garefl/boxmin -I/Users/frank/danse/refl1d/garefl/model1d -I/Users/frank/danse/refl1d/garefl/src -c setup.cc -o setup.o\n"
     ]
    },
    {
     "name": "stderr",
     "output_type": "stream",
     "text": [
      "setup.cc:103:14: warning: unused variable 'freepars' [-Wunused-variable]\n",
      "    fitpars *freepars = &fit[1].pars;\n",
      "             ^\n",
      "1 warning generated.\n"
     ]
    },
    {
     "name": "stdout",
     "output_type": "stream",
     "text": [
      "cd /Users/frank/danse/refl1d/garefl/boxmin && /Applications/Xcode.app/Contents/Developer/usr/bin/make\n",
      "make[1]: Nothing to be done for `all'.\n",
      "cd /Users/frank/danse/refl1d/garefl/model1d && /Applications/Xcode.app/Contents/Developer/usr/bin/make\n",
      "make[1]: Nothing to be done for `all'.\n",
      "cd /Users/frank/danse/refl1d/garefl/src && /Applications/Xcode.app/Contents/Developer/usr/bin/make\n",
      "make[1]: Nothing to be done for `all'.\n",
      "g++    -fPIC -o fit setup.o /Users/frank/danse/refl1d/garefl/src/ga_simul.o /Users/frank/danse/refl1d/garefl/src/ga.o -L/Users/frank/danse/refl1d/garefl/model1d -lrefl -L/Users/frank/danse/refl1d/garefl/boxmin -lboxmin  -lm \n",
      "g++ -shared -o model.so setup.o /Users/frank/danse/refl1d/garefl/src/refl1d.o -L/Users/frank/danse/refl1d/garefl/model1d -lrefl  -lm \n",
      "chisq = 264.315\n"
     ]
    },
    {
     "name": "stderr",
     "output_type": "stream",
     "text": [
      "rm: /Users/frank/Dropbox/My Mac (PN115993.campus.nist.gov)/Documents/programming/molgroups/examples/information_theory/entropy_gridsearch_singlethread/garefl/iteration_0/save: No such file or directory\n"
     ]
    },
    {
     "name": "stdout",
     "output_type": "stream",
     "text": [
      "g++  -g -O2 -Wall  -fPIC -DUSE_DOUBLE -DReal=double -DHAVE_CONFIG_H -I/Users/frank/danse/refl1d/garefl/boxmin -I/Users/frank/danse/refl1d/garefl/model1d -I/Users/frank/danse/refl1d/garefl/src -c setup.cc -o setup.o\n"
     ]
    },
    {
     "name": "stderr",
     "output_type": "stream",
     "text": [
      "setup.cc:93:14: warning: unused variable 'freepars' [-Wunused-variable]\n",
      "    fitpars *freepars = &fit[1].pars;\n",
      "             ^\n",
      "1 warning generated.\n"
     ]
    },
    {
     "name": "stdout",
     "output_type": "stream",
     "text": [
      "cd /Users/frank/danse/refl1d/garefl/boxmin && /Applications/Xcode.app/Contents/Developer/usr/bin/make\n",
      "make[1]: Nothing to be done for `all'.\n",
      "cd /Users/frank/danse/refl1d/garefl/model1d && /Applications/Xcode.app/Contents/Developer/usr/bin/make\n",
      "make[1]: Nothing to be done for `all'.\n",
      "cd /Users/frank/danse/refl1d/garefl/src && /Applications/Xcode.app/Contents/Developer/usr/bin/make\n",
      "make[1]: Nothing to be done for `all'.\n",
      "g++    -fPIC -o fit setup.o /Users/frank/danse/refl1d/garefl/src/ga_simul.o /Users/frank/danse/refl1d/garefl/src/ga.o -L/Users/frank/danse/refl1d/garefl/model1d -lrefl -L/Users/frank/danse/refl1d/garefl/boxmin -lboxmin  -lm \n",
      "ln -s /Users/frank/danse/refl1d/garefl/src/gaplot gaplot\n",
      "g++ -shared -o model.so setup.o /Users/frank/danse/refl1d/garefl/src/refl1d.o -L/Users/frank/danse/refl1d/garefl/model1d -lrefl  -lm \n"
     ]
    }
   ],
   "source": [
    "entr.run_optimization()"
   ]
  },
  {
   "cell_type": "code",
   "execution_count": null,
   "id": "63e19b1e",
   "metadata": {},
   "outputs": [],
   "source": [
    "import pandas\n",
    "\n",
    "fig, ax = plt.subplots()\n",
    "\n",
    "i = 0\n",
    "while os.path.isfile('sim' + str(i) + '.dat'):\n",
    "    simdata = pandas.read_csv('sim' + str(i) + '.dat', sep=' ', skip_blank_lines=True,comment='#')\n",
    "    ax.errorbar(simdata['Q'], simdata['R'], simdata['dR'], label=\"sim \" + str(i))\n",
    "    i += 1\n",
    "\n",
    "ax.legend(fontsize=8)\n",
    "ax.set_ylabel(\"R\", fontsize=10)\n",
    "ax.set_yscale('log')\n",
    "ax.minorticks_on()\n",
    "ax.tick_params(which=\"both\", direction=\"in\", labelsize=10)\n",
    "ax.tick_params(bottom=True, top=True, left=True, right=True, which=\"both\")\n",
    "ax.set_xlabel(\"$q_z$ (Å$^{-1}$)\", fontsize=10)\n",
    "ax.figure.set_size_inches(12.5, 7.5)\n",
    "plt.savefig(store + \"/model_comparison.png\", facecolor=\"white\")\n",
    "plt.show()\n"
   ]
  },
  {
   "cell_type": "code",
   "execution_count": null,
   "id": "5c5866a3",
   "metadata": {},
   "outputs": [],
   "source": []
  }
 ],
 "metadata": {
  "interpreter": {
   "hash": "05d582df831dd7fae68dfffc73e5ea31ad7a23d6a2275d5f88151c2f48f29d76"
  },
  "kernelspec": {
   "display_name": "Python 3 (ipykernel)",
   "language": "python",
   "name": "python3"
  },
  "language_info": {
   "codemirror_mode": {
    "name": "ipython",
    "version": 3
   },
   "file_extension": ".py",
   "mimetype": "text/x-python",
   "name": "python",
   "nbconvert_exporter": "python",
   "pygments_lexer": "ipython3",
   "version": "3.7.12"
  }
 },
 "nbformat": 4,
 "nbformat_minor": 5
}
