{
 "cells": [
  {
   "cell_type": "markdown",
   "id": "551d0249",
   "metadata": {},
   "source": [
    "# Imports"
   ]
  },
  {
   "cell_type": "code",
   "execution_count": 1,
   "id": "4c0454bf",
   "metadata": {
    "scrolled": true
   },
   "outputs": [
    {
     "name": "stdout",
     "output_type": "stream",
     "text": [
      "/Users/frank/Dropbox/My Mac (PN115993.campus.nist.gov)/Documents/programming/molgroups/examples/information_theory/entropy_gridsearch_singlethread/garefl\r\n"
     ]
    }
   ],
   "source": [
    "!pwd\n",
    "import sys\n",
    "from bumps.names import Curve, fit, FitProblem\n",
    "from bumps.dream.state import load_state\n",
    "import matplotlib.pyplot as plt\n",
    "import numpy as np\n",
    "import scipy.fft as fft\n",
    "import os\n",
    "\n",
    "sys.path.append(\"../../../../src/molgroups\")\n",
    "import molgroups as mol\n",
    "\n",
    "sys.path.append(\"../../../../src/scatpy\")\n",
    "import rs\n",
    "import rsdi\n",
    "\n",
    "sys.path.append(\"../../../../src/infotheory\")\n",
    "import entropy"
   ]
  },
  {
   "cell_type": "markdown",
   "id": "a67a7a38",
   "metadata": {},
   "source": [
    "# Create Short Example Fit"
   ]
  },
  {
   "cell_type": "code",
   "execution_count": 9,
   "id": "26b01c0e",
   "metadata": {},
   "outputs": [
    {
     "name": "stdout",
     "output_type": "stream",
     "text": [
      "rm -f setup.o\n",
      "g++  -g -O2 -Wall  -fPIC -DUSE_DOUBLE -DReal=double -DHAVE_CONFIG_H -I/Users/frank/danse/refl1d/garefl/boxmin -I/Users/frank/danse/refl1d/garefl/model1d -I/Users/frank/danse/refl1d/garefl/src -c setup.cc -o setup.o\n",
      "\u001b[1msetup.cc:93:14: \u001b[0m\u001b[0;1;35mwarning: \u001b[0m\u001b[1munused variable 'freepars' [-Wunused-variable]\u001b[0m\n",
      "    fitpars *freepars = &fit[1].pars;\n",
      "\u001b[0;1;32m             ^\n",
      "\u001b[0m1 warning generated.\n",
      "cd /Users/frank/danse/refl1d/garefl/boxmin && /Applications/Xcode.app/Contents/Developer/usr/bin/make\n",
      "make[1]: Nothing to be done for `all'.\n",
      "cd /Users/frank/danse/refl1d/garefl/model1d && /Applications/Xcode.app/Contents/Developer/usr/bin/make\n",
      "make[1]: Nothing to be done for `all'.\n",
      "cd /Users/frank/danse/refl1d/garefl/src && /Applications/Xcode.app/Contents/Developer/usr/bin/make\n",
      "make[1]: Nothing to be done for `all'.\n",
      "g++    -fPIC -o fit setup.o /Users/frank/danse/refl1d/garefl/src/ga_simul.o /Users/frank/danse/refl1d/garefl/src/ga.o -L/Users/frank/danse/refl1d/garefl/model1d -lrefl -L/Users/frank/danse/refl1d/garefl/boxmin -lboxmin  -lm \n",
      "g++ -shared -o model.so setup.o /Users/frank/danse/refl1d/garefl/src/refl1d.o -L/Users/frank/danse/refl1d/garefl/model1d -lrefl  -lm \n",
      "zsh:1: /usr/local/bin//refl1d: bad interpreter: /usr/local/opt/python@3.8/bin/python3.8: no such file or directory\n",
      "# /Users/frank/opt/anaconda3/envs/Python37/bin/refl1d run.py --fit=dream --store=T --init=lhs --parallel --burn=100 --steps=5 --overwrite --seed=453376\n",
      "[0] = l_siox = 10 in [10,30]\n",
      "[1] = rho_siox = 3.2 in [3.2,3.8]\n",
      "[2] = l_submembrane = 1 in [1,10]\n",
      "[3] = l_lipid1 = 10 in [10,15]\n",
      "[4] = l_lipid2 = 10 in [10,15]\n",
      "[5] = vf_bilayer = 0.9 in [0.9,1]\n",
      "[6] = rho_solv_0 = 0.06 in [-0.54,0.06]\n",
      "[7] = global_rough = 2 in [2,5]\n",
      "[8] = sigma = 2 in [2,5]\n",
      "[9] = background_0 = -5 in [-9,-5]\n",
      "\n",
      "[chisq=678.43(17), nllf=22727.5]\n",
      "# steps: 5, # draws: 500\n",
      "step 1 cost 397.40(17)\n",
      "                                  l_siox ....|.....    18.4184 in (10,30)\n",
      "                                rho_siox ..|.......    3.32277 in (3.2,3.8)\n",
      "                           l_submembrane ......|...    6.78433 in (1,10)\n",
      "                                l_lipid1 ....|.....    12.3455 in (10,15)\n",
      "                                l_lipid2 .......|..    13.5593 in (10,15)\n",
      "                              vf_bilayer ..|.......   0.928965 in (0.9,1)\n",
      "                              rho_solv_0 |.........  -0.511069 in (-0.54,0.06)\n",
      "                            global_rough ........|.    4.65042 in (2,5)\n",
      "                                   sigma .......|..    4.19548 in (2,5)\n",
      "                            background_0 ...|......    -7.5567 in (-9,-5)\n",
      "step 25 cost 390.74(17)\n",
      "step 48 cost 389.18(17)\n",
      "step 70 cost 389.17(17)\n",
      "step 94 cost 389.02(17)\n",
      "Did not converge!\n",
      "[0] = l_siox = 23.6778 in [10,30]\n",
      "[1] = rho_siox = 3.20589 in [3.2,3.8]\n",
      "[2] = l_submembrane = 3.65572 in [1,10]\n",
      "[3] = l_lipid1 = 12.3211 in [10,15]\n",
      "[4] = l_lipid2 = 11.0694 in [10,15]\n",
      "[5] = vf_bilayer = 0.993575 in [0.9,1]\n",
      "[6] = rho_solv_0 = -0.539891 in [-0.54,0.06]\n",
      "[7] = global_rough = 4.85893 in [2,5]\n",
      "[8] = sigma = 2.63739 in [2,5]\n",
      "[9] = background_0 = -8.48736 in [-9,-5]\n",
      "\n",
      "[chisq=388.88(17), nllf=13027.5]\n",
      "\u0007\n",
      "Figure(640x480)\n",
      "Figure(1415x700)\n",
      "Figure(640x480)\n",
      "Figure(640x480)\n",
      "Figure(640x480)\n",
      "Figure(640x480)\n",
      "Figure(640x480)\n"
     ]
    }
   ],
   "source": [
    "!make clean\n",
    "!make\n",
    "!cp hk054.refl sim0.dat\n",
    "!refl1d run.py --fit=dream --store=T --init=lhs --parallel --burn=100 --steps=5 --overwrite"
   ]
  },
  {
   "cell_type": "markdown",
   "id": "b18e61c0",
   "metadata": {},
   "source": [
    "# Defining Optimization Parameters in simpar.dat"
   ]
  },
  {
   "cell_type": "markdown",
   "id": "9312ca15",
   "metadata": {},
   "source": [
    "Simpar.dat contains a list of all fit parameters with a designation, whether they are marginal (d) or nuisance (i) parameters. This is followed by the parameter name, the initial parameter value, and the fit boundaries. If three more numbers are given, this designates that an information content search over this parameter is performed (start, stop, step). A preceding f (fi or fd) at the beginning of the line indicates that the fit boundaries for such a search parameter are fixed (for example for volume fractions between 0 and 1), otherwise the fit boundary moves according to the varied parameter and the initally given fit boundaries."
   ]
  },
  {
   "cell_type": "code",
   "execution_count": 3,
   "id": "167483a5",
   "metadata": {},
   "outputs": [
    {
     "name": "stdout",
     "output_type": "stream",
     "text": [
      "Overwriting simpar.dat\n"
     ]
    }
   ],
   "source": [
    "%%writefile simpar.dat\n",
    "i l_siox 18 10 30\n",
    "i rho_siox 3.55e-6 3.20e-6 3.80e-6\n",
    "i l_submembrane 2.5 1.0 10.0\n",
    "d l_lipid1 11.8 10.0 15.0\n",
    "d l_lipid2 12.4 10.0 15.0\n",
    "d vf_bilayer 0.95 0.90 1.00\n",
    "i rho_solv_0 6.34e-6 5.8e-6 6.4e-6 -0.5e-6 6.5e-6 0.5e-6\n",
    "i global_rough 3.0 2.0 5.0\n",
    "i sigma 2.5 2.0 5.0\n",
    "i background_0 -8.0 -9.0 -5.0\n",
    "n prefactor 2.58496"
   ]
  },
  {
   "cell_type": "markdown",
   "id": "edd90e18",
   "metadata": {},
   "source": [
    "# Variables"
   ]
  },
  {
   "cell_type": "code",
   "execution_count": 4,
   "id": "5e6c29ab",
   "metadata": {},
   "outputs": [],
   "source": [
    "# general fit setup\n",
    "setupdir = os.getcwd()\n",
    "runfile = \"run\"\n",
    "store = 'T'\n",
    "fitsource = \"garefl\"\n",
    "\n",
    "# particular entropy setup\n",
    "burn = 8000\n",
    "steps = 500\n",
    "convergence = 2.0\n",
    "miniter = 2\n",
    "mode = 'water'\n",
    "bClusterMode = False\n",
    "bFetchMode = False\n",
    "time = 2\n",
    "bcalcsymmetric = True\n",
    "upper_info_plotlevel = None\n",
    "plotlimits_filename = \"\"\n",
    "calcsingle = False\n",
    "\n",
    "# setup batchscript for SLURM (if used)\n",
    "script = []\n",
    "script.append('#!/bin/bash\\n')\n",
    "script.append('#SBATCH --job-name=entro {mcmc_iteration}\\n')\n",
    "script.append('#SBATCH -A mc4s9np\\n')\n",
    "script.append('#SBATCH -p RM\\n')\n",
    "script.append('#SBATCH -t 0' + str(time) + ':00:00\\n')\n",
    "script.append('#SBATCH -N 4\\n')\n",
    "script.append('#SBATCH --ntasks-per-node 28\\n')\n",
    "script.append('\\n')\n",
    "script.append('set +x\\n')\n",
    "script.append('cd $SLURM_SUBMIT_DIR\\n')\n",
    "# script.append('cd '+dirname+'\\n')\n",
    "script.append('\\n')\n",
    "script.append('module load python/2.7.11_gcc\\n')\n",
    "script.append('export PYTHONPATH=/home/hoogerhe/bin/lib/python2.7/site-packages:/home/hoogerhe/src/bumps\\n')\n",
    "script.append('\\n')\n",
    "script.append('mpirun -np 112 python /home/hoogerhe/src/refl1d/bin/refl1d_cli.py {mcmc_dirname}/run.py --fit=dream --mpi --init=lhs --batch --pop=28 --time=' \n",
    "              + str(float(time) - 0.1) + ' --thin=20 --store={mcmc_dirname}/save --burn=' + str(burn) \n",
    "              + ' --steps=' + str(steps) + '\\n')\n"
   ]
  },
  {
   "cell_type": "markdown",
   "id": "13a6038b",
   "metadata": {},
   "source": [
    "# Fit Setup"
   ]
  },
  {
   "cell_type": "code",
   "execution_count": 5,
   "id": "353e45f9",
   "metadata": {},
   "outputs": [
    {
     "name": "stdout",
     "output_type": "stream",
     "text": [
      "g++  -g -O2 -Wall  -fPIC -DUSE_DOUBLE -DReal=double -DHAVE_CONFIG_H -I/Users/frank/danse/refl1d/garefl/boxmin -I/Users/frank/danse/refl1d/garefl/model1d -I/Users/frank/danse/refl1d/garefl/src -c setup.cc -o setup.o\n"
     ]
    },
    {
     "name": "stderr",
     "output_type": "stream",
     "text": [
      "setup.cc:93:14: warning: unused variable 'freepars' [-Wunused-variable]\n",
      "    fitpars *freepars = &fit[1].pars;\n",
      "             ^\n",
      "1 warning generated.\n"
     ]
    },
    {
     "name": "stdout",
     "output_type": "stream",
     "text": [
      "cd /Users/frank/danse/refl1d/garefl/boxmin && /Applications/Xcode.app/Contents/Developer/usr/bin/make\n",
      "make[1]: Nothing to be done for `all'.\n",
      "cd /Users/frank/danse/refl1d/garefl/model1d && /Applications/Xcode.app/Contents/Developer/usr/bin/make\n",
      "make[1]: Nothing to be done for `all'.\n",
      "cd /Users/frank/danse/refl1d/garefl/src && /Applications/Xcode.app/Contents/Developer/usr/bin/make\n",
      "make[1]: Nothing to be done for `all'.\n",
      "g++    -fPIC -o fit setup.o /Users/frank/danse/refl1d/garefl/src/ga_simul.o /Users/frank/danse/refl1d/garefl/src/ga.o -L/Users/frank/danse/refl1d/garefl/model1d -lrefl -L/Users/frank/danse/refl1d/garefl/boxmin -lboxmin  -lm \n",
      "g++ -shared -o model.so setup.o /Users/frank/danse/refl1d/garefl/src/refl1d.o -L/Users/frank/danse/refl1d/garefl/model1d -lrefl  -lm \n"
     ]
    }
   ],
   "source": [
    "entr = entropy.Entropy(\n",
    "    fitsource=fitsource,\n",
    "    spath=setupdir,\n",
    "    mcmcpath=store,\n",
    "    runfile=runfile,\n",
    "    mcmcburn=burn, \n",
    "    mcmcsteps=steps, \n",
    "    convergence=convergence, \n",
    "    miniter=miniter, \n",
    "    mode=mode,                      \n",
    "    bClusterMode=bClusterMode, \n",
    "    bFetchMode=bFetchMode, \n",
    "    calc_symmetric=bcalcsymmetric,\n",
    "    upper_info_plotlevel=upper_info_plotlevel, \n",
    "    plotlimits_filename=plotlimits_filename,\n",
    "    slurmscript=script\n",
    ")"
   ]
  },
  {
   "cell_type": "code",
   "execution_count": 6,
   "id": "72068763",
   "metadata": {},
   "outputs": [],
   "source": [
    "entr.run_optimization()"
   ]
  },
  {
   "cell_type": "code",
   "execution_count": 7,
   "id": "63e19b1e",
   "metadata": {},
   "outputs": [],
   "source": [
    "entr.plot_results()"
   ]
  },
  {
   "cell_type": "code",
   "execution_count": null,
   "id": "dec2fd75",
   "metadata": {},
   "outputs": [],
   "source": []
  }
 ],
 "metadata": {
  "interpreter": {
   "hash": "05d582df831dd7fae68dfffc73e5ea31ad7a23d6a2275d5f88151c2f48f29d76"
  },
  "kernelspec": {
   "display_name": "Python 3 (ipykernel)",
   "language": "python",
   "name": "python3"
  },
  "language_info": {
   "codemirror_mode": {
    "name": "ipython",
    "version": 3
   },
   "file_extension": ".py",
   "mimetype": "text/x-python",
   "name": "python",
   "nbconvert_exporter": "python",
   "pygments_lexer": "ipython3",
   "version": "3.7.12"
  }
 },
 "nbformat": 4,
 "nbformat_minor": 5
}
