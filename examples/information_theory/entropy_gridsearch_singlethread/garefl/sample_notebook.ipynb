{
 "cells": [
  {
   "cell_type": "markdown",
   "id": "551d0249",
   "metadata": {},
   "source": [
    "# Imports"
   ]
  },
  {
   "cell_type": "code",
   "execution_count": 1,
   "id": "4c0454bf",
   "metadata": {
    "scrolled": true
   },
   "outputs": [
    {
     "name": "stdout",
     "output_type": "stream",
     "text": [
      "/Users/frank/Dropbox/My Mac (PN115993.campus.nist.gov)/Documents/programming/molgroups/examples/information_theory/entropy_gridsearch_singlethread/garefl\r\n"
     ]
    }
   ],
   "source": [
    "!pwd\n",
    "import sys\n",
    "from bumps.names import Curve, fit, FitProblem\n",
    "from bumps.dream.state import load_state\n",
    "import matplotlib.pyplot as plt\n",
    "import numpy as np\n",
    "import scipy.fft as fft\n",
    "import os\n",
    "\n",
    "sys.path.append(\"../../../..\")\n",
    "import molgroups as mol\n",
    "\n",
    "sys.path.append(\"../../../../PlottingAndAnalysis\")\n",
    "import rs\n",
    "import rsdi\n",
    "\n",
    "sys.path.append(\"../../../../information_theory\")\n",
    "import entropy"
   ]
  },
  {
   "cell_type": "markdown",
   "id": "a67a7a38",
   "metadata": {},
   "source": [
    "# Create Short Example Fit"
   ]
  },
  {
   "cell_type": "code",
   "execution_count": 2,
   "id": "26b01c0e",
   "metadata": {},
   "outputs": [
    {
     "name": "stdout",
     "output_type": "stream",
     "text": [
      "zsh:1: /usr/local/bin//refl1d: bad interpreter: /usr/local/opt/python@3.8/bin/python3.8: no such file or directory\n",
      "# /Users/frank/opt/anaconda3/envs/Python37/bin/refl1d run.py --fit=dream --store=T --init=lhs --parallel --burn=100 --steps=5 --overwrite --seed=323501\n",
      "[0] = l_siox = 10 in [10,30]\n",
      "[1] = rho_siox = 3.2 in [3.2,3.8]\n",
      "[2] = l_submembrane = 1 in [1,10]\n",
      "[3] = l_lipid1 = 10 in [10,15]\n",
      "[4] = l_lipid2 = 10 in [10,15]\n",
      "[5] = vf_bilayer = 0.9 in [0.9,1]\n",
      "[6] = rho_solv_0 = 0.06 in [-0.54,0.06]\n",
      "[7] = global_rough = 2 in [2,5]\n",
      "[8] = sigma = 2 in [2,5]\n",
      "[9] = background_0 = -5 in [-9,-5]\n",
      "\n",
      "[chisq=595.05(17), nllf=19934.3]\n",
      "# steps: 5, # draws: 500\n",
      "step 1 cost 48.74(17)\n",
      "                                  l_siox ...|......    17.9689 in (10,30)\n",
      "                                rho_siox ....|.....    3.49079 in (3.2,3.8)\n",
      "                           l_submembrane ..|.......      2.949 in (1,10)\n",
      "                                l_lipid1 ........|.     14.184 in (10,15)\n",
      "                                l_lipid2 ......|...    13.2167 in (10,15)\n",
      "                              vf_bilayer ..|.......   0.922285 in (0.9,1)\n",
      "                              rho_solv_0 .........|  0.0434786 in (-0.54,0.06)\n",
      "                            global_rough |.........    2.13255 in (2,5)\n",
      "                                   sigma ...|......    3.10981 in (2,5)\n",
      "                            background_0 .....|....   -6.85914 in (-9,-5)\n",
      "step 26 cost 37.11(17)\n",
      "step 51 cost 36.01(17)\n",
      "step 75 cost 34.10(17)\n",
      "step 96 cost 33.85(17)\n",
      "Did not converge!\n",
      "[0] = l_siox = 12.719 in [10,30]\n",
      "[1] = rho_siox = 3.71845 in [3.2,3.8]\n",
      "[2] = l_submembrane = 1.40169 in [1,10]\n",
      "[3] = l_lipid1 = 14.6611 in [10,15]\n",
      "[4] = l_lipid2 = 14.974 in [10,15]\n",
      "[5] = vf_bilayer = 0.998137 in [0.9,1]\n",
      "[6] = rho_solv_0 = 0.0592726 in [-0.54,0.06]\n",
      "[7] = global_rough = 2.40211 in [2,5]\n",
      "[8] = sigma = 2.8322 in [2,5]\n",
      "[9] = background_0 = -7.44715 in [-9,-5]\n",
      "\n",
      "[chisq=33.77(17), nllf=1131.33]\n",
      "\u0007\n",
      "Figure(640x480)\n",
      "Figure(1415x700)\n",
      "Figure(640x480)\n",
      "Figure(640x480)\n",
      "Figure(640x480)\n",
      "Figure(640x480)\n",
      "Figure(640x480)\n"
     ]
    }
   ],
   "source": [
    "!refl1d run.py --fit=dream --store=T --init=lhs --parallel --burn=100 --steps=5 --overwrite"
   ]
  },
  {
   "cell_type": "markdown",
   "id": "2464704f",
   "metadata": {},
   "source": [
    "# Defining Optimization Parameters in simpar.dat"
   ]
  },
  {
   "cell_type": "markdown",
   "id": "fab82c02",
   "metadata": {},
   "source": [
    "Simpar.dat contains a list of all fit parameters with a designation, whether they are marginal (d) or nuisance (i) parameters. This is followed by the parameter name, the initial parameter value, and the fit boundaries. If three more numbers are given, this designates that an information content search over this parameter is performed (start, stop, step). A preceding f (fi or fd) at the beginning of the line indicates that the fit boundaries for such a search parameter are fixed (for example for volume fractions between 0 and 1), otherwise the fit boundary moves according to the varied parameter and the initally given fit boundaries."
   ]
  },
  {
   "cell_type": "code",
   "execution_count": 3,
   "id": "ae21bfc5",
   "metadata": {},
   "outputs": [
    {
     "name": "stdout",
     "output_type": "stream",
     "text": [
      "Overwriting simpar.dat\n"
     ]
    }
   ],
   "source": [
    "%%writefile simpar.dat\n",
    "i l_siox 18 10 30\n",
    "i rho_siox 3.55e-6 3.20e-6 3.80e-6\n",
    "i l_submembrane 2.5 1.0 10.0\n",
    "d l_lipid1 11.8 10.0 15.0\n",
    "d l_lipid2 12.4 10.0 15.0\n",
    "d vf_bilayer 0.95 0.90 1.00\n",
    "i rho_solv_0 6.34e-6 5.8e-6 6.4e-6 -0.5e-6 6.5e-6 0.5e-6\n",
    "i global_rough 3.0 2.0 5.0\n",
    "i sigma 2.5 2.0 5.0\n",
    "i background_0 -8.0 -9.0 -5.0\n",
    "n prefactor 2.58496"
   ]
  },
  {
   "cell_type": "markdown",
   "id": "edd90e18",
   "metadata": {},
   "source": [
    "# Variables"
   ]
  },
  {
   "cell_type": "code",
   "execution_count": 4,
   "id": "5e6c29ab",
   "metadata": {},
   "outputs": [],
   "source": [
    "# general fit setup\n",
    "setupdir = os.getcwd()\n",
    "runfile = \"run\"\n",
    "store = 'T'\n",
    "fitsource = \"garefl\"\n",
    "\n",
    "# particular entropy setup\n",
    "burn = 8000\n",
    "steps = 500\n",
    "convergence = 2.0\n",
    "miniter = 2\n",
    "mode = 'water'\n",
    "bClusterMode = False\n",
    "bFetchMode = False\n",
    "time = 2\n",
    "bcalcsymmetric = True\n",
    "upper_info_plotlevel = None\n",
    "plotlimits_filename = \"\"\n",
    "calcsingle = False\n",
    "\n",
    "# setup batchscript for SLURM (if used)\n",
    "script = []\n",
    "script.append('#!/bin/bash\\n')\n",
    "script.append('#SBATCH --job-name=entro {mcmc_iteration}\\n')\n",
    "script.append('#SBATCH -A mc4s9np\\n')\n",
    "script.append('#SBATCH -p RM\\n')\n",
    "script.append('#SBATCH -t 0' + str(time) + ':00:00\\n')\n",
    "script.append('#SBATCH -N 4\\n')\n",
    "script.append('#SBATCH --ntasks-per-node 28\\n')\n",
    "script.append('\\n')\n",
    "script.append('set +x\\n')\n",
    "script.append('cd $SLURM_SUBMIT_DIR\\n')\n",
    "# script.append('cd '+dirname+'\\n')\n",
    "script.append('\\n')\n",
    "script.append('module load python/2.7.11_gcc\\n')\n",
    "script.append('export PYTHONPATH=/home/hoogerhe/bin/lib/python2.7/site-packages:/home/hoogerhe/src/bumps\\n')\n",
    "script.append('\\n')\n",
    "script.append('mpirun -np 112 python /home/hoogerhe/src/refl1d/bin/refl1d_cli.py {mcmc_dirname}/run.py --fit=dream --mpi --init=lhs --batch --pop=28 --time=' \n",
    "              + str(float(time) - 0.1) + ' --thin=20 --store={mcmc_dirname}/save --burn=' + str(burn) \n",
    "              + ' --steps=' + str(steps) + '\\n')\n"
   ]
  },
  {
   "cell_type": "markdown",
   "id": "13a6038b",
   "metadata": {},
   "source": [
    "# Fit Setup"
   ]
  },
  {
   "cell_type": "code",
   "execution_count": 5,
   "id": "353e45f9",
   "metadata": {},
   "outputs": [
    {
     "name": "stdout",
     "output_type": "stream",
     "text": [
      "g++  -g -O2 -Wall  -fPIC -DUSE_DOUBLE -DReal=double -DHAVE_CONFIG_H -I/Users/frank/danse/refl1d/garefl/boxmin -I/Users/frank/danse/refl1d/garefl/model1d -I/Users/frank/danse/refl1d/garefl/src -c setup.cc -o setup.o\n"
     ]
    },
    {
     "name": "stderr",
     "output_type": "stream",
     "text": [
      "setup.cc:93:14: warning: unused variable 'freepars' [-Wunused-variable]\n",
      "    fitpars *freepars = &fit[1].pars;\n",
      "             ^\n",
      "1 warning generated.\n"
     ]
    },
    {
     "name": "stdout",
     "output_type": "stream",
     "text": [
      "cd /Users/frank/danse/refl1d/garefl/boxmin && /Applications/Xcode.app/Contents/Developer/usr/bin/make\n",
      "make[1]: Nothing to be done for `all'.\n",
      "cd /Users/frank/danse/refl1d/garefl/model1d && /Applications/Xcode.app/Contents/Developer/usr/bin/make\n",
      "make[1]: Nothing to be done for `all'.\n",
      "cd /Users/frank/danse/refl1d/garefl/src && /Applications/Xcode.app/Contents/Developer/usr/bin/make\n",
      "make[1]: Nothing to be done for `all'.\n",
      "g++    -fPIC -o fit setup.o /Users/frank/danse/refl1d/garefl/src/ga_simul.o /Users/frank/danse/refl1d/garefl/src/ga.o -L/Users/frank/danse/refl1d/garefl/model1d -lrefl -L/Users/frank/danse/refl1d/garefl/boxmin -lboxmin  -lm \n",
      "g++ -shared -o model.so setup.o /Users/frank/danse/refl1d/garefl/src/refl1d.o -L/Users/frank/danse/refl1d/garefl/model1d -lrefl  -lm \n"
     ]
    }
   ],
   "source": [
    "entr = entropy.Entropy(\n",
    "    fitsource=fitsource,\n",
    "    spath=setupdir,\n",
    "    mcmcpath=store,\n",
    "    runfile=runfile,\n",
    "    mcmcburn=burn, \n",
    "    mcmcsteps=steps, \n",
    "    convergence=convergence, \n",
    "    miniter=miniter, \n",
    "    mode=mode,                      \n",
    "    bClusterMode=bClusterMode, \n",
    "    bFetchMode=bFetchMode, \n",
    "    calc_symmetric=bcalcsymmetric,\n",
    "    upper_info_plotlevel=upper_info_plotlevel, \n",
    "    plotlimits_filename=plotlimits_filename,\n",
    "    slurmscript=script\n",
    ")"
   ]
  },
  {
   "cell_type": "code",
   "execution_count": 6,
   "id": "72068763",
   "metadata": {},
   "outputs": [
    {
     "name": "stdout",
     "output_type": "stream",
     "text": [
      "g++  -g -O2 -Wall  -fPIC -DUSE_DOUBLE -DReal=double -DHAVE_CONFIG_H -I/Users/frank/danse/refl1d/garefl/boxmin -I/Users/frank/danse/refl1d/garefl/model1d -I/Users/frank/danse/refl1d/garefl/src -c setup.cc -o setup.o\n"
     ]
    },
    {
     "name": "stderr",
     "output_type": "stream",
     "text": [
      "setup.cc:93:14: warning: unused variable 'freepars' [-Wunused-variable]\n",
      "    fitpars *freepars = &fit[1].pars;\n",
      "             ^\n",
      "1 warning generated.\n"
     ]
    },
    {
     "name": "stdout",
     "output_type": "stream",
     "text": [
      "cd /Users/frank/danse/refl1d/garefl/boxmin && /Applications/Xcode.app/Contents/Developer/usr/bin/make\n",
      "make[1]: Nothing to be done for `all'.\n",
      "cd /Users/frank/danse/refl1d/garefl/model1d && /Applications/Xcode.app/Contents/Developer/usr/bin/make\n",
      "make[1]: Nothing to be done for `all'.\n",
      "cd /Users/frank/danse/refl1d/garefl/src && /Applications/Xcode.app/Contents/Developer/usr/bin/make\n",
      "make[1]: Nothing to be done for `all'.\n",
      "g++    -fPIC -o fit setup.o /Users/frank/danse/refl1d/garefl/src/ga_simul.o /Users/frank/danse/refl1d/garefl/src/ga.o -L/Users/frank/danse/refl1d/garefl/model1d -lrefl -L/Users/frank/danse/refl1d/garefl/boxmin -lboxmin  -lm \n",
      "g++ -shared -o model.so setup.o /Users/frank/danse/refl1d/garefl/src/refl1d.o -L/Users/frank/danse/refl1d/garefl/model1d -lrefl  -lm \n",
      "Found T/run.par \n",
      "\n",
      "Loading MCMC best-fit parameters ...\n",
      "l_siox 18.0\n",
      "rho_siox 3.55e-06\n",
      "l_submembrane 2.5\n",
      "l_lipid1 11.8\n",
      "l_lipid2 12.4\n",
      "vf_bilayer 0.95\n",
      "rho_solv_0 -5e-07\n",
      "global_rough 3.0\n",
      "sigma 2.5\n",
      "background_0 -8.0\n",
      "g++  -g -O2 -Wall  -fPIC -DUSE_DOUBLE -DReal=double -DHAVE_CONFIG_H -I/Users/frank/danse/refl1d/garefl/boxmin -I/Users/frank/danse/refl1d/garefl/model1d -I/Users/frank/danse/refl1d/garefl/src -c setup.cc -o setup.o\n"
     ]
    },
    {
     "name": "stderr",
     "output_type": "stream",
     "text": [
      "setup.cc:103:14: warning: unused variable 'freepars' [-Wunused-variable]\n",
      "    fitpars *freepars = &fit[1].pars;\n",
      "             ^\n",
      "1 warning generated.\n"
     ]
    },
    {
     "name": "stdout",
     "output_type": "stream",
     "text": [
      "cd /Users/frank/danse/refl1d/garefl/boxmin && /Applications/Xcode.app/Contents/Developer/usr/bin/make\n",
      "make[1]: Nothing to be done for `all'.\n",
      "cd /Users/frank/danse/refl1d/garefl/model1d && /Applications/Xcode.app/Contents/Developer/usr/bin/make\n",
      "make[1]: Nothing to be done for `all'.\n",
      "cd /Users/frank/danse/refl1d/garefl/src && /Applications/Xcode.app/Contents/Developer/usr/bin/make\n",
      "make[1]: Nothing to be done for `all'.\n",
      "g++    -fPIC -o fit setup.o /Users/frank/danse/refl1d/garefl/src/ga_simul.o /Users/frank/danse/refl1d/garefl/src/ga.o -L/Users/frank/danse/refl1d/garefl/model1d -lrefl -L/Users/frank/danse/refl1d/garefl/boxmin -lboxmin  -lm \n",
      "g++ -shared -o model.so setup.o /Users/frank/danse/refl1d/garefl/src/refl1d.o -L/Users/frank/danse/refl1d/garefl/model1d -lrefl  -lm \n",
      "chisq = 264.315\n",
      "g++  -g -O2 -Wall  -fPIC -DUSE_DOUBLE -DReal=double -DHAVE_CONFIG_H -I/Users/frank/danse/refl1d/garefl/boxmin -I/Users/frank/danse/refl1d/garefl/model1d -I/Users/frank/danse/refl1d/garefl/src -c setup.cc -o setup.o\n"
     ]
    },
    {
     "name": "stderr",
     "output_type": "stream",
     "text": [
      "setup.cc:93:14: warning: unused variable 'freepars' [-Wunused-variable]\n",
      "    fitpars *freepars = &fit[1].pars;\n",
      "             ^\n",
      "1 warning generated.\n"
     ]
    },
    {
     "name": "stdout",
     "output_type": "stream",
     "text": [
      "cd /Users/frank/danse/refl1d/garefl/boxmin && /Applications/Xcode.app/Contents/Developer/usr/bin/make\n",
      "make[1]: Nothing to be done for `all'.\n",
      "cd /Users/frank/danse/refl1d/garefl/model1d && /Applications/Xcode.app/Contents/Developer/usr/bin/make\n",
      "make[1]: Nothing to be done for `all'.\n",
      "cd /Users/frank/danse/refl1d/garefl/src && /Applications/Xcode.app/Contents/Developer/usr/bin/make\n",
      "make[1]: Nothing to be done for `all'.\n",
      "g++    -fPIC -o fit setup.o /Users/frank/danse/refl1d/garefl/src/ga_simul.o /Users/frank/danse/refl1d/garefl/src/ga.o -L/Users/frank/danse/refl1d/garefl/model1d -lrefl -L/Users/frank/danse/refl1d/garefl/boxmin -lboxmin  -lm \n",
      "g++ -shared -o model.so setup.o /Users/frank/danse/refl1d/garefl/src/refl1d.o -L/Users/frank/danse/refl1d/garefl/model1d -lrefl  -lm \n",
      "# /Users/frank/opt/anaconda3/envs/Python37/bin/refl1d_cli.py /Users/frank/Dropbox/My Mac (PN115993.campus.nist.gov)/Documents/programming/molgroups/examples/information_theory/entropy_gridsearch_singlethread/garefl/iteration_0/run.py --fit=dream --parallel --init=lhs --batch --store=/Users/frank/Dropbox/My Mac (PN115993.campus.nist.gov)/Documents/programming/molgroups/examples/information_theory/entropy_gridsearch_singlethread/garefl/iteration_0/save --burn=8000 --steps=500 --seed=523334\n",
      "[0] = l_siox = 10 in [10,30]\n",
      "[1] = rho_siox = 3.2 in [3.2,3.8]\n",
      "[2] = l_submembrane = 1 in [1,10]\n",
      "[3] = l_lipid1 = 10 in [10,15]\n",
      "[4] = l_lipid2 = 10 in [10,15]\n",
      "[5] = vf_bilayer = 0.9 in [0.9,1]\n",
      "[6] = rho_solv_0 = -0.44 in [-1.04,-0.44]\n",
      "[7] = global_rough = 2 in [2,5]\n",
      "[8] = sigma = 2 in [2,5]\n",
      "[9] = background_0 = -5 in [-9,-5]\n",
      "\n",
      "[chisq=453.87(17), nllf=15204.7]\n",
      "# /Users/frank/opt/anaconda3/envs/Python37/bin/refl1d_cli.py /Users/frank/Dropbox/My Mac (PN115993.campus.nist.gov)/Documents/programming/molgroups/examples/information_theory/entropy_gridsearch_singlethread/garefl/iteration_0/run.py --fit=dream --parallel --init=lhs --batch --store=/Users/frank/Dropbox/My Mac (PN115993.campus.nist.gov)/Documents/programming/molgroups/examples/information_theory/entropy_gridsearch_singlethread/garefl/iteration_0/save --burn=8000 --steps=500 --seed=523334\n",
      "[0] = l_siox = 10 in [10,30]\n",
      "[1] = rho_siox = 3.2 in [3.2,3.8]\n",
      "[2] = l_submembrane = 1 in [1,10]\n",
      "[3] = l_lipid1 = 10 in [10,15]\n",
      "[4] = l_lipid2 = 10 in [10,15]\n",
      "[5] = vf_bilayer = 0.9 in [0.9,1]\n",
      "[6] = rho_solv_0 = -0.44 in [-1.04,-0.44]\n",
      "[7] = global_rough = 2 in [2,5]\n",
      "[8] = sigma = 2 in [2,5]\n",
      "[9] = background_0 = -5 in [-9,-5]\n",
      "\n",
      "[chisq=453.87(17), nllf=15204.7]\n",
      "g++  -g -O2 -Wall  -fPIC -DUSE_DOUBLE -DReal=double -DHAVE_CONFIG_H -I/Users/frank/danse/refl1d/garefl/boxmin -I/Users/frank/danse/refl1d/garefl/model1d -I/Users/frank/danse/refl1d/garefl/src -c setup.cc -o setup.o\n"
     ]
    },
    {
     "name": "stderr",
     "output_type": "stream",
     "text": [
      "setup.cc:93:14: warning: unused variable 'freepars' [-Wunused-variable]\n",
      "    fitpars *freepars = &fit[1].pars;\n",
      "             ^\n",
      "1 warning generated.\n"
     ]
    },
    {
     "name": "stdout",
     "output_type": "stream",
     "text": [
      "cd /Users/frank/danse/refl1d/garefl/boxmin && /Applications/Xcode.app/Contents/Developer/usr/bin/make\n",
      "make[1]: Nothing to be done for `all'.\n",
      "cd /Users/frank/danse/refl1d/garefl/model1d && /Applications/Xcode.app/Contents/Developer/usr/bin/make\n",
      "make[1]: Nothing to be done for `all'.\n",
      "cd /Users/frank/danse/refl1d/garefl/src && /Applications/Xcode.app/Contents/Developer/usr/bin/make\n",
      "make[1]: Nothing to be done for `all'.\n",
      "g++    -fPIC -o fit setup.o /Users/frank/danse/refl1d/garefl/src/ga_simul.o /Users/frank/danse/refl1d/garefl/src/ga.o -L/Users/frank/danse/refl1d/garefl/model1d -lrefl -L/Users/frank/danse/refl1d/garefl/boxmin -lboxmin  -lm \n",
      "g++ -shared -o model.so setup.o /Users/frank/danse/refl1d/garefl/src/refl1d.o -L/Users/frank/danse/refl1d/garefl/model1d -lrefl  -lm \n"
     ]
    },
    {
     "name": "stderr",
     "output_type": "stream",
     "text": [
      "rm: /Users/frank/Dropbox/My Mac (PN115993.campus.nist.gov)/Documents/programming/molgroups/examples/information_theory/entropy_gridsearch_singlethread/garefl/iteration_0/save/run-point.mc: No such file or directory\n",
      "rm: /Users/frank/Dropbox/My Mac (PN115993.campus.nist.gov)/Documents/programming/molgroups/examples/information_theory/entropy_gridsearch_singlethread/garefl/iteration_0/save/run-chain.mc: No such file or directory\n",
      "rm: /Users/frank/Dropbox/My Mac (PN115993.campus.nist.gov)/Documents/programming/molgroups/examples/information_theory/entropy_gridsearch_singlethread/garefl/iteration_0/save/run-stats.mc: No such file or directory\n"
     ]
    },
    {
     "name": "stdout",
     "output_type": "stream",
     "text": [
      "g++  -g -O2 -Wall  -fPIC -DUSE_DOUBLE -DReal=double -DHAVE_CONFIG_H -I/Users/frank/danse/refl1d/garefl/boxmin -I/Users/frank/danse/refl1d/garefl/model1d -I/Users/frank/danse/refl1d/garefl/src -c setup.cc -o setup.o\n"
     ]
    },
    {
     "name": "stderr",
     "output_type": "stream",
     "text": [
      "setup.cc:93:14: warning: unused variable 'freepars' [-Wunused-variable]\n",
      "    fitpars *freepars = &fit[1].pars;\n",
      "             ^\n",
      "1 warning generated.\n"
     ]
    },
    {
     "name": "stdout",
     "output_type": "stream",
     "text": [
      "cd /Users/frank/danse/refl1d/garefl/boxmin && /Applications/Xcode.app/Contents/Developer/usr/bin/make\n",
      "make[1]: Nothing to be done for `all'.\n",
      "cd /Users/frank/danse/refl1d/garefl/model1d && /Applications/Xcode.app/Contents/Developer/usr/bin/make\n",
      "make[1]: Nothing to be done for `all'.\n",
      "cd /Users/frank/danse/refl1d/garefl/src && /Applications/Xcode.app/Contents/Developer/usr/bin/make\n",
      "make[1]: Nothing to be done for `all'.\n",
      "g++    -fPIC -o fit setup.o /Users/frank/danse/refl1d/garefl/src/ga_simul.o /Users/frank/danse/refl1d/garefl/src/ga.o -L/Users/frank/danse/refl1d/garefl/model1d -lrefl -L/Users/frank/danse/refl1d/garefl/boxmin -lboxmin  -lm \n",
      "g++ -shared -o model.so setup.o /Users/frank/danse/refl1d/garefl/src/refl1d.o -L/Users/frank/danse/refl1d/garefl/model1d -lrefl  -lm \n",
      "Found T/run.par \n",
      "\n",
      "Loading MCMC best-fit parameters ...\n",
      "l_siox 18.0\n",
      "rho_siox 3.55e-06\n",
      "l_submembrane 2.5\n",
      "l_lipid1 11.8\n",
      "l_lipid2 12.4\n",
      "vf_bilayer 0.95\n",
      "rho_solv_0 0.0\n",
      "global_rough 3.0\n",
      "sigma 2.5\n",
      "background_0 -8.0\n",
      "g++  -g -O2 -Wall  -fPIC -DUSE_DOUBLE -DReal=double -DHAVE_CONFIG_H -I/Users/frank/danse/refl1d/garefl/boxmin -I/Users/frank/danse/refl1d/garefl/model1d -I/Users/frank/danse/refl1d/garefl/src -c setup.cc -o setup.o\n"
     ]
    },
    {
     "name": "stderr",
     "output_type": "stream",
     "text": [
      "setup.cc:103:14: warning: unused variable 'freepars' [-Wunused-variable]\n",
      "    fitpars *freepars = &fit[1].pars;\n",
      "             ^\n",
      "1 warning generated.\n"
     ]
    },
    {
     "name": "stdout",
     "output_type": "stream",
     "text": [
      "cd /Users/frank/danse/refl1d/garefl/boxmin && /Applications/Xcode.app/Contents/Developer/usr/bin/make\n",
      "make[1]: Nothing to be done for `all'.\n",
      "cd /Users/frank/danse/refl1d/garefl/model1d && /Applications/Xcode.app/Contents/Developer/usr/bin/make\n",
      "make[1]: Nothing to be done for `all'.\n",
      "cd /Users/frank/danse/refl1d/garefl/src && /Applications/Xcode.app/Contents/Developer/usr/bin/make\n",
      "make[1]: Nothing to be done for `all'.\n",
      "g++    -fPIC -o fit setup.o /Users/frank/danse/refl1d/garefl/src/ga_simul.o /Users/frank/danse/refl1d/garefl/src/ga.o -L/Users/frank/danse/refl1d/garefl/model1d -lrefl -L/Users/frank/danse/refl1d/garefl/boxmin -lboxmin  -lm \n",
      "g++ -shared -o model.so setup.o /Users/frank/danse/refl1d/garefl/src/refl1d.o -L/Users/frank/danse/refl1d/garefl/model1d -lrefl  -lm \n",
      "chisq = 60.8173\n",
      "g++  -g -O2 -Wall  -fPIC -DUSE_DOUBLE -DReal=double -DHAVE_CONFIG_H -I/Users/frank/danse/refl1d/garefl/boxmin -I/Users/frank/danse/refl1d/garefl/model1d -I/Users/frank/danse/refl1d/garefl/src -c setup.cc -o setup.o\n"
     ]
    },
    {
     "name": "stderr",
     "output_type": "stream",
     "text": [
      "setup.cc:93:14: warning: unused variable 'freepars' [-Wunused-variable]\n",
      "    fitpars *freepars = &fit[1].pars;\n",
      "             ^\n",
      "1 warning generated.\n"
     ]
    },
    {
     "name": "stdout",
     "output_type": "stream",
     "text": [
      "cd /Users/frank/danse/refl1d/garefl/boxmin && /Applications/Xcode.app/Contents/Developer/usr/bin/make\n",
      "make[1]: Nothing to be done for `all'.\n",
      "cd /Users/frank/danse/refl1d/garefl/model1d && /Applications/Xcode.app/Contents/Developer/usr/bin/make\n",
      "make[1]: Nothing to be done for `all'.\n",
      "cd /Users/frank/danse/refl1d/garefl/src && /Applications/Xcode.app/Contents/Developer/usr/bin/make\n",
      "make[1]: Nothing to be done for `all'.\n",
      "g++    -fPIC -o fit setup.o /Users/frank/danse/refl1d/garefl/src/ga_simul.o /Users/frank/danse/refl1d/garefl/src/ga.o -L/Users/frank/danse/refl1d/garefl/model1d -lrefl -L/Users/frank/danse/refl1d/garefl/boxmin -lboxmin  -lm \n",
      "g++ -shared -o model.so setup.o /Users/frank/danse/refl1d/garefl/src/refl1d.o -L/Users/frank/danse/refl1d/garefl/model1d -lrefl  -lm \n",
      "# /Users/frank/opt/anaconda3/envs/Python37/bin/refl1d_cli.py /Users/frank/Dropbox/My Mac (PN115993.campus.nist.gov)/Documents/programming/molgroups/examples/information_theory/entropy_gridsearch_singlethread/garefl/iteration_1/run.py --fit=dream --parallel --init=lhs --batch --store=/Users/frank/Dropbox/My Mac (PN115993.campus.nist.gov)/Documents/programming/molgroups/examples/information_theory/entropy_gridsearch_singlethread/garefl/iteration_1/save --burn=8000 --steps=500 --seed=978326\n",
      "[0] = l_siox = 10 in [10,30]\n",
      "[1] = rho_siox = 3.2 in [3.2,3.8]\n",
      "[2] = l_submembrane = 1 in [1,10]\n",
      "[3] = l_lipid1 = 10 in [10,15]\n",
      "[4] = l_lipid2 = 10 in [10,15]\n",
      "[5] = vf_bilayer = 0.9 in [0.9,1]\n",
      "[6] = rho_solv_0 = 0.06 in [-0.54,0.06]\n",
      "[7] = global_rough = 2 in [2,5]\n",
      "[8] = sigma = 2 in [2,5]\n",
      "[9] = background_0 = -5 in [-9,-5]\n",
      "\n",
      "[chisq=510.69(17), nllf=17108.1]\n",
      "# /Users/frank/opt/anaconda3/envs/Python37/bin/refl1d_cli.py /Users/frank/Dropbox/My Mac (PN115993.campus.nist.gov)/Documents/programming/molgroups/examples/information_theory/entropy_gridsearch_singlethread/garefl/iteration_1/run.py --fit=dream --parallel --init=lhs --batch --store=/Users/frank/Dropbox/My Mac (PN115993.campus.nist.gov)/Documents/programming/molgroups/examples/information_theory/entropy_gridsearch_singlethread/garefl/iteration_1/save --burn=8000 --steps=500 --seed=978326\n",
      "[0] = l_siox = 10 in [10,30]\n",
      "[1] = rho_siox = 3.2 in [3.2,3.8]\n",
      "[2] = l_submembrane = 1 in [1,10]\n",
      "[3] = l_lipid1 = 10 in [10,15]\n",
      "[4] = l_lipid2 = 10 in [10,15]\n",
      "[5] = vf_bilayer = 0.9 in [0.9,1]\n",
      "[6] = rho_solv_0 = 0.06 in [-0.54,0.06]\n",
      "[7] = global_rough = 2 in [2,5]\n",
      "[8] = sigma = 2 in [2,5]\n",
      "[9] = background_0 = -5 in [-9,-5]\n",
      "\n",
      "[chisq=510.69(17), nllf=17108.1]\n",
      "g++  -g -O2 -Wall  -fPIC -DUSE_DOUBLE -DReal=double -DHAVE_CONFIG_H -I/Users/frank/danse/refl1d/garefl/boxmin -I/Users/frank/danse/refl1d/garefl/model1d -I/Users/frank/danse/refl1d/garefl/src -c setup.cc -o setup.o\n"
     ]
    },
    {
     "name": "stderr",
     "output_type": "stream",
     "text": [
      "setup.cc:93:14: warning: unused variable 'freepars' [-Wunused-variable]\n",
      "    fitpars *freepars = &fit[1].pars;\n",
      "             ^\n",
      "1 warning generated.\n"
     ]
    },
    {
     "name": "stdout",
     "output_type": "stream",
     "text": [
      "cd /Users/frank/danse/refl1d/garefl/boxmin && /Applications/Xcode.app/Contents/Developer/usr/bin/make\n",
      "make[1]: Nothing to be done for `all'.\n",
      "cd /Users/frank/danse/refl1d/garefl/model1d && /Applications/Xcode.app/Contents/Developer/usr/bin/make\n",
      "make[1]: Nothing to be done for `all'.\n",
      "cd /Users/frank/danse/refl1d/garefl/src && /Applications/Xcode.app/Contents/Developer/usr/bin/make\n",
      "make[1]: Nothing to be done for `all'.\n",
      "g++    -fPIC -o fit setup.o /Users/frank/danse/refl1d/garefl/src/ga_simul.o /Users/frank/danse/refl1d/garefl/src/ga.o -L/Users/frank/danse/refl1d/garefl/model1d -lrefl -L/Users/frank/danse/refl1d/garefl/boxmin -lboxmin  -lm \n",
      "g++ -shared -o model.so setup.o /Users/frank/danse/refl1d/garefl/src/refl1d.o -L/Users/frank/danse/refl1d/garefl/model1d -lrefl  -lm \n"
     ]
    },
    {
     "name": "stderr",
     "output_type": "stream",
     "text": [
      "rm: /Users/frank/Dropbox/My Mac (PN115993.campus.nist.gov)/Documents/programming/molgroups/examples/information_theory/entropy_gridsearch_singlethread/garefl/iteration_1/save/run-point.mc: No such file or directory\n",
      "rm: /Users/frank/Dropbox/My Mac (PN115993.campus.nist.gov)/Documents/programming/molgroups/examples/information_theory/entropy_gridsearch_singlethread/garefl/iteration_1/save/run-chain.mc: No such file or directory\n",
      "rm: /Users/frank/Dropbox/My Mac (PN115993.campus.nist.gov)/Documents/programming/molgroups/examples/information_theory/entropy_gridsearch_singlethread/garefl/iteration_1/save/run-stats.mc: No such file or directory\n"
     ]
    },
    {
     "name": "stdout",
     "output_type": "stream",
     "text": [
      "g++  -g -O2 -Wall  -fPIC -DUSE_DOUBLE -DReal=double -DHAVE_CONFIG_H -I/Users/frank/danse/refl1d/garefl/boxmin -I/Users/frank/danse/refl1d/garefl/model1d -I/Users/frank/danse/refl1d/garefl/src -c setup.cc -o setup.o\n"
     ]
    },
    {
     "name": "stderr",
     "output_type": "stream",
     "text": [
      "setup.cc:93:14: warning: unused variable 'freepars' [-Wunused-variable]\n",
      "    fitpars *freepars = &fit[1].pars;\n",
      "             ^\n",
      "1 warning generated.\n"
     ]
    },
    {
     "name": "stdout",
     "output_type": "stream",
     "text": [
      "cd /Users/frank/danse/refl1d/garefl/boxmin && /Applications/Xcode.app/Contents/Developer/usr/bin/make\n",
      "make[1]: Nothing to be done for `all'.\n",
      "cd /Users/frank/danse/refl1d/garefl/model1d && /Applications/Xcode.app/Contents/Developer/usr/bin/make\n",
      "make[1]: Nothing to be done for `all'.\n",
      "cd /Users/frank/danse/refl1d/garefl/src && /Applications/Xcode.app/Contents/Developer/usr/bin/make\n",
      "make[1]: Nothing to be done for `all'.\n",
      "g++    -fPIC -o fit setup.o /Users/frank/danse/refl1d/garefl/src/ga_simul.o /Users/frank/danse/refl1d/garefl/src/ga.o -L/Users/frank/danse/refl1d/garefl/model1d -lrefl -L/Users/frank/danse/refl1d/garefl/boxmin -lboxmin  -lm \n",
      "g++ -shared -o model.so setup.o /Users/frank/danse/refl1d/garefl/src/refl1d.o -L/Users/frank/danse/refl1d/garefl/model1d -lrefl  -lm \n",
      "Found T/run.par \n",
      "\n",
      "Loading MCMC best-fit parameters ...\n",
      "l_siox 18.0\n",
      "rho_siox 3.55e-06\n",
      "l_submembrane 2.5\n",
      "l_lipid1 11.8\n",
      "l_lipid2 12.4\n",
      "vf_bilayer 0.95\n",
      "rho_solv_0 5e-07\n",
      "global_rough 3.0\n",
      "sigma 2.5\n",
      "background_0 -8.0\n",
      "g++  -g -O2 -Wall  -fPIC -DUSE_DOUBLE -DReal=double -DHAVE_CONFIG_H -I/Users/frank/danse/refl1d/garefl/boxmin -I/Users/frank/danse/refl1d/garefl/model1d -I/Users/frank/danse/refl1d/garefl/src -c setup.cc -o setup.o\n"
     ]
    },
    {
     "name": "stderr",
     "output_type": "stream",
     "text": [
      "setup.cc:103:14: warning: unused variable 'freepars' [-Wunused-variable]\n",
      "    fitpars *freepars = &fit[1].pars;\n",
      "             ^\n",
      "1 warning generated.\n"
     ]
    },
    {
     "name": "stdout",
     "output_type": "stream",
     "text": [
      "cd /Users/frank/danse/refl1d/garefl/boxmin && /Applications/Xcode.app/Contents/Developer/usr/bin/make\n",
      "make[1]: Nothing to be done for `all'.\n",
      "cd /Users/frank/danse/refl1d/garefl/model1d && /Applications/Xcode.app/Contents/Developer/usr/bin/make\n",
      "make[1]: Nothing to be done for `all'.\n",
      "cd /Users/frank/danse/refl1d/garefl/src && /Applications/Xcode.app/Contents/Developer/usr/bin/make\n",
      "make[1]: Nothing to be done for `all'.\n",
      "g++    -fPIC -o fit setup.o /Users/frank/danse/refl1d/garefl/src/ga_simul.o /Users/frank/danse/refl1d/garefl/src/ga.o -L/Users/frank/danse/refl1d/garefl/model1d -lrefl -L/Users/frank/danse/refl1d/garefl/boxmin -lboxmin  -lm \n",
      "g++ -shared -o model.so setup.o /Users/frank/danse/refl1d/garefl/src/refl1d.o -L/Users/frank/danse/refl1d/garefl/model1d -lrefl  -lm \n",
      "chisq = 1.09039\n",
      "g++  -g -O2 -Wall  -fPIC -DUSE_DOUBLE -DReal=double -DHAVE_CONFIG_H -I/Users/frank/danse/refl1d/garefl/boxmin -I/Users/frank/danse/refl1d/garefl/model1d -I/Users/frank/danse/refl1d/garefl/src -c setup.cc -o setup.o\n"
     ]
    },
    {
     "name": "stderr",
     "output_type": "stream",
     "text": [
      "setup.cc:93:14: warning: unused variable 'freepars' [-Wunused-variable]\n",
      "    fitpars *freepars = &fit[1].pars;\n",
      "             ^\n",
      "1 warning generated.\n"
     ]
    },
    {
     "name": "stdout",
     "output_type": "stream",
     "text": [
      "cd /Users/frank/danse/refl1d/garefl/boxmin && /Applications/Xcode.app/Contents/Developer/usr/bin/make\n",
      "make[1]: Nothing to be done for `all'.\n",
      "cd /Users/frank/danse/refl1d/garefl/model1d && /Applications/Xcode.app/Contents/Developer/usr/bin/make\n",
      "make[1]: Nothing to be done for `all'.\n",
      "cd /Users/frank/danse/refl1d/garefl/src && /Applications/Xcode.app/Contents/Developer/usr/bin/make\n",
      "make[1]: Nothing to be done for `all'.\n",
      "g++    -fPIC -o fit setup.o /Users/frank/danse/refl1d/garefl/src/ga_simul.o /Users/frank/danse/refl1d/garefl/src/ga.o -L/Users/frank/danse/refl1d/garefl/model1d -lrefl -L/Users/frank/danse/refl1d/garefl/boxmin -lboxmin  -lm \n",
      "g++ -shared -o model.so setup.o /Users/frank/danse/refl1d/garefl/src/refl1d.o -L/Users/frank/danse/refl1d/garefl/model1d -lrefl  -lm \n",
      "# /Users/frank/opt/anaconda3/envs/Python37/bin/refl1d_cli.py /Users/frank/Dropbox/My Mac (PN115993.campus.nist.gov)/Documents/programming/molgroups/examples/information_theory/entropy_gridsearch_singlethread/garefl/iteration_2/run.py --fit=dream --parallel --init=lhs --batch --store=/Users/frank/Dropbox/My Mac (PN115993.campus.nist.gov)/Documents/programming/molgroups/examples/information_theory/entropy_gridsearch_singlethread/garefl/iteration_2/save --burn=8000 --steps=500 --seed=26977\n",
      "[0] = l_siox = 10 in [10,30]\n",
      "[1] = rho_siox = 3.2 in [3.2,3.8]\n",
      "[2] = l_submembrane = 1 in [1,10]\n",
      "[3] = l_lipid1 = 10 in [10,15]\n",
      "[4] = l_lipid2 = 10 in [10,15]\n",
      "[5] = vf_bilayer = 0.9 in [0.9,1]\n",
      "[6] = rho_solv_0 = 0.56 in [-0.04,0.56]\n",
      "[7] = global_rough = 2 in [2,5]\n",
      "[8] = sigma = 2 in [2,5]\n",
      "[9] = background_0 = -5 in [-9,-5]\n",
      "\n",
      "[chisq=575.31(17), nllf=19272.9]\n",
      "# /Users/frank/opt/anaconda3/envs/Python37/bin/refl1d_cli.py /Users/frank/Dropbox/My Mac (PN115993.campus.nist.gov)/Documents/programming/molgroups/examples/information_theory/entropy_gridsearch_singlethread/garefl/iteration_2/run.py --fit=dream --parallel --init=lhs --batch --store=/Users/frank/Dropbox/My Mac (PN115993.campus.nist.gov)/Documents/programming/molgroups/examples/information_theory/entropy_gridsearch_singlethread/garefl/iteration_2/save --burn=8000 --steps=500 --seed=26977\n",
      "[0] = l_siox = 10 in [10,30]\n",
      "[1] = rho_siox = 3.2 in [3.2,3.8]\n",
      "[2] = l_submembrane = 1 in [1,10]\n",
      "[3] = l_lipid1 = 10 in [10,15]\n",
      "[4] = l_lipid2 = 10 in [10,15]\n",
      "[5] = vf_bilayer = 0.9 in [0.9,1]\n",
      "[6] = rho_solv_0 = 0.56 in [-0.04,0.56]\n",
      "[7] = global_rough = 2 in [2,5]\n",
      "[8] = sigma = 2 in [2,5]\n",
      "[9] = background_0 = -5 in [-9,-5]\n",
      "\n",
      "[chisq=575.31(17), nllf=19272.9]\n",
      "g++  -g -O2 -Wall  -fPIC -DUSE_DOUBLE -DReal=double -DHAVE_CONFIG_H -I/Users/frank/danse/refl1d/garefl/boxmin -I/Users/frank/danse/refl1d/garefl/model1d -I/Users/frank/danse/refl1d/garefl/src -c setup.cc -o setup.o\n"
     ]
    },
    {
     "name": "stderr",
     "output_type": "stream",
     "text": [
      "setup.cc:93:14: warning: unused variable 'freepars' [-Wunused-variable]\n",
      "    fitpars *freepars = &fit[1].pars;\n",
      "             ^\n",
      "1 warning generated.\n"
     ]
    },
    {
     "name": "stdout",
     "output_type": "stream",
     "text": [
      "cd /Users/frank/danse/refl1d/garefl/boxmin && /Applications/Xcode.app/Contents/Developer/usr/bin/make\n",
      "make[1]: Nothing to be done for `all'.\n",
      "cd /Users/frank/danse/refl1d/garefl/model1d && /Applications/Xcode.app/Contents/Developer/usr/bin/make\n",
      "make[1]: Nothing to be done for `all'.\n",
      "cd /Users/frank/danse/refl1d/garefl/src && /Applications/Xcode.app/Contents/Developer/usr/bin/make\n",
      "make[1]: Nothing to be done for `all'.\n",
      "g++    -fPIC -o fit setup.o /Users/frank/danse/refl1d/garefl/src/ga_simul.o /Users/frank/danse/refl1d/garefl/src/ga.o -L/Users/frank/danse/refl1d/garefl/model1d -lrefl -L/Users/frank/danse/refl1d/garefl/boxmin -lboxmin  -lm \n",
      "g++ -shared -o model.so setup.o /Users/frank/danse/refl1d/garefl/src/refl1d.o -L/Users/frank/danse/refl1d/garefl/model1d -lrefl  -lm \n"
     ]
    },
    {
     "name": "stderr",
     "output_type": "stream",
     "text": [
      "rm: /Users/frank/Dropbox/My Mac (PN115993.campus.nist.gov)/Documents/programming/molgroups/examples/information_theory/entropy_gridsearch_singlethread/garefl/iteration_2/save/run-point.mc: No such file or directory\n",
      "rm: /Users/frank/Dropbox/My Mac (PN115993.campus.nist.gov)/Documents/programming/molgroups/examples/information_theory/entropy_gridsearch_singlethread/garefl/iteration_2/save/run-chain.mc: No such file or directory\n",
      "rm: /Users/frank/Dropbox/My Mac (PN115993.campus.nist.gov)/Documents/programming/molgroups/examples/information_theory/entropy_gridsearch_singlethread/garefl/iteration_2/save/run-stats.mc: No such file or directory\n"
     ]
    },
    {
     "name": "stdout",
     "output_type": "stream",
     "text": [
      "g++  -g -O2 -Wall  -fPIC -DUSE_DOUBLE -DReal=double -DHAVE_CONFIG_H -I/Users/frank/danse/refl1d/garefl/boxmin -I/Users/frank/danse/refl1d/garefl/model1d -I/Users/frank/danse/refl1d/garefl/src -c setup.cc -o setup.o\n"
     ]
    },
    {
     "name": "stderr",
     "output_type": "stream",
     "text": [
      "setup.cc:93:14: warning: unused variable 'freepars' [-Wunused-variable]\n",
      "    fitpars *freepars = &fit[1].pars;\n",
      "             ^\n",
      "1 warning generated.\n"
     ]
    },
    {
     "name": "stdout",
     "output_type": "stream",
     "text": [
      "cd /Users/frank/danse/refl1d/garefl/boxmin && /Applications/Xcode.app/Contents/Developer/usr/bin/make\n",
      "make[1]: Nothing to be done for `all'.\n",
      "cd /Users/frank/danse/refl1d/garefl/model1d && /Applications/Xcode.app/Contents/Developer/usr/bin/make\n",
      "make[1]: Nothing to be done for `all'.\n",
      "cd /Users/frank/danse/refl1d/garefl/src && /Applications/Xcode.app/Contents/Developer/usr/bin/make\n",
      "make[1]: Nothing to be done for `all'.\n",
      "g++    -fPIC -o fit setup.o /Users/frank/danse/refl1d/garefl/src/ga_simul.o /Users/frank/danse/refl1d/garefl/src/ga.o -L/Users/frank/danse/refl1d/garefl/model1d -lrefl -L/Users/frank/danse/refl1d/garefl/boxmin -lboxmin  -lm \n",
      "g++ -shared -o model.so setup.o /Users/frank/danse/refl1d/garefl/src/refl1d.o -L/Users/frank/danse/refl1d/garefl/model1d -lrefl  -lm \n",
      "Found T/run.par \n",
      "\n",
      "Loading MCMC best-fit parameters ...\n",
      "l_siox 18.0\n",
      "rho_siox 3.55e-06\n",
      "l_submembrane 2.5\n",
      "l_lipid1 11.8\n",
      "l_lipid2 12.4\n",
      "vf_bilayer 0.95\n",
      "rho_solv_0 1.0000000000000002e-06\n",
      "global_rough 3.0\n",
      "sigma 2.5\n",
      "background_0 -8.0\n",
      "g++  -g -O2 -Wall  -fPIC -DUSE_DOUBLE -DReal=double -DHAVE_CONFIG_H -I/Users/frank/danse/refl1d/garefl/boxmin -I/Users/frank/danse/refl1d/garefl/model1d -I/Users/frank/danse/refl1d/garefl/src -c setup.cc -o setup.o\n"
     ]
    },
    {
     "name": "stderr",
     "output_type": "stream",
     "text": [
      "setup.cc:103:14: warning: unused variable 'freepars' [-Wunused-variable]\n",
      "    fitpars *freepars = &fit[1].pars;\n",
      "             ^\n",
      "1 warning generated.\n"
     ]
    },
    {
     "name": "stdout",
     "output_type": "stream",
     "text": [
      "cd /Users/frank/danse/refl1d/garefl/boxmin && /Applications/Xcode.app/Contents/Developer/usr/bin/make\n",
      "make[1]: Nothing to be done for `all'.\n",
      "cd /Users/frank/danse/refl1d/garefl/model1d && /Applications/Xcode.app/Contents/Developer/usr/bin/make\n",
      "make[1]: Nothing to be done for `all'.\n",
      "cd /Users/frank/danse/refl1d/garefl/src && /Applications/Xcode.app/Contents/Developer/usr/bin/make\n",
      "make[1]: Nothing to be done for `all'.\n",
      "g++    -fPIC -o fit setup.o /Users/frank/danse/refl1d/garefl/src/ga_simul.o /Users/frank/danse/refl1d/garefl/src/ga.o -L/Users/frank/danse/refl1d/garefl/model1d -lrefl -L/Users/frank/danse/refl1d/garefl/boxmin -lboxmin  -lm \n",
      "g++ -shared -o model.so setup.o /Users/frank/danse/refl1d/garefl/src/refl1d.o -L/Users/frank/danse/refl1d/garefl/model1d -lrefl  -lm \n",
      "chisq = 52.7949\n",
      "g++  -g -O2 -Wall  -fPIC -DUSE_DOUBLE -DReal=double -DHAVE_CONFIG_H -I/Users/frank/danse/refl1d/garefl/boxmin -I/Users/frank/danse/refl1d/garefl/model1d -I/Users/frank/danse/refl1d/garefl/src -c setup.cc -o setup.o\n"
     ]
    },
    {
     "name": "stderr",
     "output_type": "stream",
     "text": [
      "setup.cc:93:14: warning: unused variable 'freepars' [-Wunused-variable]\n",
      "    fitpars *freepars = &fit[1].pars;\n",
      "             ^\n",
      "1 warning generated.\n"
     ]
    },
    {
     "name": "stdout",
     "output_type": "stream",
     "text": [
      "cd /Users/frank/danse/refl1d/garefl/boxmin && /Applications/Xcode.app/Contents/Developer/usr/bin/make\n",
      "make[1]: Nothing to be done for `all'.\n",
      "cd /Users/frank/danse/refl1d/garefl/model1d && /Applications/Xcode.app/Contents/Developer/usr/bin/make\n",
      "make[1]: Nothing to be done for `all'.\n",
      "cd /Users/frank/danse/refl1d/garefl/src && /Applications/Xcode.app/Contents/Developer/usr/bin/make\n",
      "make[1]: Nothing to be done for `all'.\n",
      "g++    -fPIC -o fit setup.o /Users/frank/danse/refl1d/garefl/src/ga_simul.o /Users/frank/danse/refl1d/garefl/src/ga.o -L/Users/frank/danse/refl1d/garefl/model1d -lrefl -L/Users/frank/danse/refl1d/garefl/boxmin -lboxmin  -lm \n",
      "g++ -shared -o model.so setup.o /Users/frank/danse/refl1d/garefl/src/refl1d.o -L/Users/frank/danse/refl1d/garefl/model1d -lrefl  -lm \n",
      "# /Users/frank/opt/anaconda3/envs/Python37/bin/refl1d_cli.py /Users/frank/Dropbox/My Mac (PN115993.campus.nist.gov)/Documents/programming/molgroups/examples/information_theory/entropy_gridsearch_singlethread/garefl/iteration_3/run.py --fit=dream --parallel --init=lhs --batch --store=/Users/frank/Dropbox/My Mac (PN115993.campus.nist.gov)/Documents/programming/molgroups/examples/information_theory/entropy_gridsearch_singlethread/garefl/iteration_3/save --burn=8000 --steps=500 --seed=613231\n",
      "[0] = l_siox = 10 in [10,30]\n",
      "[1] = rho_siox = 3.2 in [3.2,3.8]\n",
      "[2] = l_submembrane = 1 in [1,10]\n",
      "[3] = l_lipid1 = 10 in [10,15]\n",
      "[4] = l_lipid2 = 10 in [10,15]\n",
      "[5] = vf_bilayer = 0.9 in [0.9,1]\n",
      "[6] = rho_solv_0 = 1.06 in [0.46,1.06]\n",
      "[7] = global_rough = 2 in [2,5]\n",
      "[8] = sigma = 2 in [2,5]\n",
      "[9] = background_0 = -5 in [-9,-5]\n",
      "\n",
      "[chisq=672.27(17), nllf=22521]\n",
      "# /Users/frank/opt/anaconda3/envs/Python37/bin/refl1d_cli.py /Users/frank/Dropbox/My Mac (PN115993.campus.nist.gov)/Documents/programming/molgroups/examples/information_theory/entropy_gridsearch_singlethread/garefl/iteration_3/run.py --fit=dream --parallel --init=lhs --batch --store=/Users/frank/Dropbox/My Mac (PN115993.campus.nist.gov)/Documents/programming/molgroups/examples/information_theory/entropy_gridsearch_singlethread/garefl/iteration_3/save --burn=8000 --steps=500 --seed=613231\n",
      "[0] = l_siox = 10 in [10,30]\n",
      "[1] = rho_siox = 3.2 in [3.2,3.8]\n",
      "[2] = l_submembrane = 1 in [1,10]\n",
      "[3] = l_lipid1 = 10 in [10,15]\n",
      "[4] = l_lipid2 = 10 in [10,15]\n",
      "[5] = vf_bilayer = 0.9 in [0.9,1]\n",
      "[6] = rho_solv_0 = 1.06 in [0.46,1.06]\n",
      "[7] = global_rough = 2 in [2,5]\n",
      "[8] = sigma = 2 in [2,5]\n",
      "[9] = background_0 = -5 in [-9,-5]\n",
      "\n",
      "[chisq=672.27(17), nllf=22521]\n",
      "g++  -g -O2 -Wall  -fPIC -DUSE_DOUBLE -DReal=double -DHAVE_CONFIG_H -I/Users/frank/danse/refl1d/garefl/boxmin -I/Users/frank/danse/refl1d/garefl/model1d -I/Users/frank/danse/refl1d/garefl/src -c setup.cc -o setup.o\n"
     ]
    },
    {
     "name": "stderr",
     "output_type": "stream",
     "text": [
      "setup.cc:93:14: warning: unused variable 'freepars' [-Wunused-variable]\n",
      "    fitpars *freepars = &fit[1].pars;\n",
      "             ^\n",
      "1 warning generated.\n"
     ]
    },
    {
     "name": "stdout",
     "output_type": "stream",
     "text": [
      "cd /Users/frank/danse/refl1d/garefl/boxmin && /Applications/Xcode.app/Contents/Developer/usr/bin/make\n",
      "make[1]: Nothing to be done for `all'.\n",
      "cd /Users/frank/danse/refl1d/garefl/model1d && /Applications/Xcode.app/Contents/Developer/usr/bin/make\n",
      "make[1]: Nothing to be done for `all'.\n",
      "cd /Users/frank/danse/refl1d/garefl/src && /Applications/Xcode.app/Contents/Developer/usr/bin/make\n",
      "make[1]: Nothing to be done for `all'.\n",
      "g++    -fPIC -o fit setup.o /Users/frank/danse/refl1d/garefl/src/ga_simul.o /Users/frank/danse/refl1d/garefl/src/ga.o -L/Users/frank/danse/refl1d/garefl/model1d -lrefl -L/Users/frank/danse/refl1d/garefl/boxmin -lboxmin  -lm \n",
      "g++ -shared -o model.so setup.o /Users/frank/danse/refl1d/garefl/src/refl1d.o -L/Users/frank/danse/refl1d/garefl/model1d -lrefl  -lm \n"
     ]
    },
    {
     "name": "stderr",
     "output_type": "stream",
     "text": [
      "rm: /Users/frank/Dropbox/My Mac (PN115993.campus.nist.gov)/Documents/programming/molgroups/examples/information_theory/entropy_gridsearch_singlethread/garefl/iteration_3/save/run-point.mc: No such file or directory\n",
      "rm: /Users/frank/Dropbox/My Mac (PN115993.campus.nist.gov)/Documents/programming/molgroups/examples/information_theory/entropy_gridsearch_singlethread/garefl/iteration_3/save/run-chain.mc: No such file or directory\n",
      "rm: /Users/frank/Dropbox/My Mac (PN115993.campus.nist.gov)/Documents/programming/molgroups/examples/information_theory/entropy_gridsearch_singlethread/garefl/iteration_3/save/run-stats.mc: No such file or directory\n"
     ]
    },
    {
     "name": "stdout",
     "output_type": "stream",
     "text": [
      "g++  -g -O2 -Wall  -fPIC -DUSE_DOUBLE -DReal=double -DHAVE_CONFIG_H -I/Users/frank/danse/refl1d/garefl/boxmin -I/Users/frank/danse/refl1d/garefl/model1d -I/Users/frank/danse/refl1d/garefl/src -c setup.cc -o setup.o\n"
     ]
    },
    {
     "name": "stderr",
     "output_type": "stream",
     "text": [
      "setup.cc:93:14: warning: unused variable 'freepars' [-Wunused-variable]\n",
      "    fitpars *freepars = &fit[1].pars;\n",
      "             ^\n",
      "1 warning generated.\n"
     ]
    },
    {
     "name": "stdout",
     "output_type": "stream",
     "text": [
      "cd /Users/frank/danse/refl1d/garefl/boxmin && /Applications/Xcode.app/Contents/Developer/usr/bin/make\n",
      "make[1]: Nothing to be done for `all'.\n",
      "cd /Users/frank/danse/refl1d/garefl/model1d && /Applications/Xcode.app/Contents/Developer/usr/bin/make\n",
      "make[1]: Nothing to be done for `all'.\n",
      "cd /Users/frank/danse/refl1d/garefl/src && /Applications/Xcode.app/Contents/Developer/usr/bin/make\n",
      "make[1]: Nothing to be done for `all'.\n",
      "g++    -fPIC -o fit setup.o /Users/frank/danse/refl1d/garefl/src/ga_simul.o /Users/frank/danse/refl1d/garefl/src/ga.o -L/Users/frank/danse/refl1d/garefl/model1d -lrefl -L/Users/frank/danse/refl1d/garefl/boxmin -lboxmin  -lm \n",
      "g++ -shared -o model.so setup.o /Users/frank/danse/refl1d/garefl/src/refl1d.o -L/Users/frank/danse/refl1d/garefl/model1d -lrefl  -lm \n",
      "Found T/run.par \n",
      "\n",
      "Loading MCMC best-fit parameters ...\n",
      "l_siox 18.0\n",
      "rho_siox 3.55e-06\n",
      "l_submembrane 2.5\n",
      "l_lipid1 11.8\n",
      "l_lipid2 12.4\n",
      "vf_bilayer 0.95\n",
      "rho_solv_0 1.5e-06\n",
      "global_rough 3.0\n",
      "sigma 2.5\n",
      "background_0 -8.0\n",
      "g++  -g -O2 -Wall  -fPIC -DUSE_DOUBLE -DReal=double -DHAVE_CONFIG_H -I/Users/frank/danse/refl1d/garefl/boxmin -I/Users/frank/danse/refl1d/garefl/model1d -I/Users/frank/danse/refl1d/garefl/src -c setup.cc -o setup.o\n"
     ]
    },
    {
     "name": "stderr",
     "output_type": "stream",
     "text": [
      "setup.cc:103:14: warning: unused variable 'freepars' [-Wunused-variable]\n",
      "    fitpars *freepars = &fit[1].pars;\n",
      "             ^\n",
      "1 warning generated.\n"
     ]
    },
    {
     "name": "stdout",
     "output_type": "stream",
     "text": [
      "cd /Users/frank/danse/refl1d/garefl/boxmin && /Applications/Xcode.app/Contents/Developer/usr/bin/make\n",
      "make[1]: Nothing to be done for `all'.\n",
      "cd /Users/frank/danse/refl1d/garefl/model1d && /Applications/Xcode.app/Contents/Developer/usr/bin/make\n",
      "make[1]: Nothing to be done for `all'.\n",
      "cd /Users/frank/danse/refl1d/garefl/src && /Applications/Xcode.app/Contents/Developer/usr/bin/make\n",
      "make[1]: Nothing to be done for `all'.\n",
      "g++    -fPIC -o fit setup.o /Users/frank/danse/refl1d/garefl/src/ga_simul.o /Users/frank/danse/refl1d/garefl/src/ga.o -L/Users/frank/danse/refl1d/garefl/model1d -lrefl -L/Users/frank/danse/refl1d/garefl/boxmin -lboxmin  -lm \n",
      "g++ -shared -o model.so setup.o /Users/frank/danse/refl1d/garefl/src/refl1d.o -L/Users/frank/danse/refl1d/garefl/model1d -lrefl  -lm \n",
      "chisq = 170.082\n",
      "g++  -g -O2 -Wall  -fPIC -DUSE_DOUBLE -DReal=double -DHAVE_CONFIG_H -I/Users/frank/danse/refl1d/garefl/boxmin -I/Users/frank/danse/refl1d/garefl/model1d -I/Users/frank/danse/refl1d/garefl/src -c setup.cc -o setup.o\n"
     ]
    },
    {
     "name": "stderr",
     "output_type": "stream",
     "text": [
      "setup.cc:93:14: warning: unused variable 'freepars' [-Wunused-variable]\n",
      "    fitpars *freepars = &fit[1].pars;\n",
      "             ^\n",
      "1 warning generated.\n"
     ]
    },
    {
     "name": "stdout",
     "output_type": "stream",
     "text": [
      "cd /Users/frank/danse/refl1d/garefl/boxmin && /Applications/Xcode.app/Contents/Developer/usr/bin/make\n",
      "make[1]: Nothing to be done for `all'.\n",
      "cd /Users/frank/danse/refl1d/garefl/model1d && /Applications/Xcode.app/Contents/Developer/usr/bin/make\n",
      "make[1]: Nothing to be done for `all'.\n",
      "cd /Users/frank/danse/refl1d/garefl/src && /Applications/Xcode.app/Contents/Developer/usr/bin/make\n",
      "make[1]: Nothing to be done for `all'.\n",
      "g++    -fPIC -o fit setup.o /Users/frank/danse/refl1d/garefl/src/ga_simul.o /Users/frank/danse/refl1d/garefl/src/ga.o -L/Users/frank/danse/refl1d/garefl/model1d -lrefl -L/Users/frank/danse/refl1d/garefl/boxmin -lboxmin  -lm \n",
      "g++ -shared -o model.so setup.o /Users/frank/danse/refl1d/garefl/src/refl1d.o -L/Users/frank/danse/refl1d/garefl/model1d -lrefl  -lm \n",
      "# /Users/frank/opt/anaconda3/envs/Python37/bin/refl1d_cli.py /Users/frank/Dropbox/My Mac (PN115993.campus.nist.gov)/Documents/programming/molgroups/examples/information_theory/entropy_gridsearch_singlethread/garefl/iteration_4/run.py --fit=dream --parallel --init=lhs --batch --store=/Users/frank/Dropbox/My Mac (PN115993.campus.nist.gov)/Documents/programming/molgroups/examples/information_theory/entropy_gridsearch_singlethread/garefl/iteration_4/save --burn=8000 --steps=500 --seed=841759\n",
      "[0] = l_siox = 10 in [10,30]\n",
      "[1] = rho_siox = 3.2 in [3.2,3.8]\n",
      "[2] = l_submembrane = 1 in [1,10]\n",
      "[3] = l_lipid1 = 10 in [10,15]\n",
      "[4] = l_lipid2 = 10 in [10,15]\n",
      "[5] = vf_bilayer = 0.9 in [0.9,1]\n",
      "[6] = rho_solv_0 = 1.56 in [0.96,1.56]\n",
      "[7] = global_rough = 2 in [2,5]\n",
      "[8] = sigma = 2 in [2,5]\n",
      "[9] = background_0 = -5 in [-9,-5]\n",
      "\n",
      "[chisq=763.93(17), nllf=25591.7]\n",
      "# /Users/frank/opt/anaconda3/envs/Python37/bin/refl1d_cli.py /Users/frank/Dropbox/My Mac (PN115993.campus.nist.gov)/Documents/programming/molgroups/examples/information_theory/entropy_gridsearch_singlethread/garefl/iteration_4/run.py --fit=dream --parallel --init=lhs --batch --store=/Users/frank/Dropbox/My Mac (PN115993.campus.nist.gov)/Documents/programming/molgroups/examples/information_theory/entropy_gridsearch_singlethread/garefl/iteration_4/save --burn=8000 --steps=500 --seed=841759\n",
      "[0] = l_siox = 10 in [10,30]\n",
      "[1] = rho_siox = 3.2 in [3.2,3.8]\n",
      "[2] = l_submembrane = 1 in [1,10]\n",
      "[3] = l_lipid1 = 10 in [10,15]\n",
      "[4] = l_lipid2 = 10 in [10,15]\n",
      "[5] = vf_bilayer = 0.9 in [0.9,1]\n",
      "[6] = rho_solv_0 = 1.56 in [0.96,1.56]\n",
      "[7] = global_rough = 2 in [2,5]\n",
      "[8] = sigma = 2 in [2,5]\n",
      "[9] = background_0 = -5 in [-9,-5]\n",
      "\n",
      "[chisq=763.93(17), nllf=25591.7]\n",
      "g++  -g -O2 -Wall  -fPIC -DUSE_DOUBLE -DReal=double -DHAVE_CONFIG_H -I/Users/frank/danse/refl1d/garefl/boxmin -I/Users/frank/danse/refl1d/garefl/model1d -I/Users/frank/danse/refl1d/garefl/src -c setup.cc -o setup.o\n"
     ]
    },
    {
     "name": "stderr",
     "output_type": "stream",
     "text": [
      "setup.cc:93:14: warning: unused variable 'freepars' [-Wunused-variable]\n",
      "    fitpars *freepars = &fit[1].pars;\n",
      "             ^\n",
      "1 warning generated.\n"
     ]
    },
    {
     "name": "stdout",
     "output_type": "stream",
     "text": [
      "cd /Users/frank/danse/refl1d/garefl/boxmin && /Applications/Xcode.app/Contents/Developer/usr/bin/make\n",
      "make[1]: Nothing to be done for `all'.\n",
      "cd /Users/frank/danse/refl1d/garefl/model1d && /Applications/Xcode.app/Contents/Developer/usr/bin/make\n",
      "make[1]: Nothing to be done for `all'.\n",
      "cd /Users/frank/danse/refl1d/garefl/src && /Applications/Xcode.app/Contents/Developer/usr/bin/make\n",
      "make[1]: Nothing to be done for `all'.\n",
      "g++    -fPIC -o fit setup.o /Users/frank/danse/refl1d/garefl/src/ga_simul.o /Users/frank/danse/refl1d/garefl/src/ga.o -L/Users/frank/danse/refl1d/garefl/model1d -lrefl -L/Users/frank/danse/refl1d/garefl/boxmin -lboxmin  -lm \n",
      "g++ -shared -o model.so setup.o /Users/frank/danse/refl1d/garefl/src/refl1d.o -L/Users/frank/danse/refl1d/garefl/model1d -lrefl  -lm \n"
     ]
    },
    {
     "name": "stderr",
     "output_type": "stream",
     "text": [
      "rm: /Users/frank/Dropbox/My Mac (PN115993.campus.nist.gov)/Documents/programming/molgroups/examples/information_theory/entropy_gridsearch_singlethread/garefl/iteration_4/save/run-point.mc: No such file or directory\n",
      "rm: /Users/frank/Dropbox/My Mac (PN115993.campus.nist.gov)/Documents/programming/molgroups/examples/information_theory/entropy_gridsearch_singlethread/garefl/iteration_4/save/run-chain.mc: No such file or directory\n",
      "rm: /Users/frank/Dropbox/My Mac (PN115993.campus.nist.gov)/Documents/programming/molgroups/examples/information_theory/entropy_gridsearch_singlethread/garefl/iteration_4/save/run-stats.mc: No such file or directory\n"
     ]
    },
    {
     "name": "stdout",
     "output_type": "stream",
     "text": [
      "g++  -g -O2 -Wall  -fPIC -DUSE_DOUBLE -DReal=double -DHAVE_CONFIG_H -I/Users/frank/danse/refl1d/garefl/boxmin -I/Users/frank/danse/refl1d/garefl/model1d -I/Users/frank/danse/refl1d/garefl/src -c setup.cc -o setup.o\n"
     ]
    },
    {
     "name": "stderr",
     "output_type": "stream",
     "text": [
      "setup.cc:93:14: warning: unused variable 'freepars' [-Wunused-variable]\n",
      "    fitpars *freepars = &fit[1].pars;\n",
      "             ^\n",
      "1 warning generated.\n"
     ]
    },
    {
     "name": "stdout",
     "output_type": "stream",
     "text": [
      "cd /Users/frank/danse/refl1d/garefl/boxmin && /Applications/Xcode.app/Contents/Developer/usr/bin/make\n",
      "make[1]: Nothing to be done for `all'.\n",
      "cd /Users/frank/danse/refl1d/garefl/model1d && /Applications/Xcode.app/Contents/Developer/usr/bin/make\n",
      "make[1]: Nothing to be done for `all'.\n",
      "cd /Users/frank/danse/refl1d/garefl/src && /Applications/Xcode.app/Contents/Developer/usr/bin/make\n",
      "make[1]: Nothing to be done for `all'.\n",
      "g++    -fPIC -o fit setup.o /Users/frank/danse/refl1d/garefl/src/ga_simul.o /Users/frank/danse/refl1d/garefl/src/ga.o -L/Users/frank/danse/refl1d/garefl/model1d -lrefl -L/Users/frank/danse/refl1d/garefl/boxmin -lboxmin  -lm \n",
      "g++ -shared -o model.so setup.o /Users/frank/danse/refl1d/garefl/src/refl1d.o -L/Users/frank/danse/refl1d/garefl/model1d -lrefl  -lm \n",
      "Found T/run.par \n",
      "\n",
      "Loading MCMC best-fit parameters ...\n",
      "l_siox 18.0\n",
      "rho_siox 3.55e-06\n",
      "l_submembrane 2.5\n",
      "l_lipid1 11.8\n",
      "l_lipid2 12.4\n",
      "vf_bilayer 0.95\n",
      "rho_solv_0 2.5e-06\n",
      "global_rough 3.0\n",
      "sigma 2.5\n",
      "background_0 -8.0\n",
      "g++  -g -O2 -Wall  -fPIC -DUSE_DOUBLE -DReal=double -DHAVE_CONFIG_H -I/Users/frank/danse/refl1d/garefl/boxmin -I/Users/frank/danse/refl1d/garefl/model1d -I/Users/frank/danse/refl1d/garefl/src -c setup.cc -o setup.o\n"
     ]
    },
    {
     "name": "stderr",
     "output_type": "stream",
     "text": [
      "setup.cc:103:14: warning: unused variable 'freepars' [-Wunused-variable]\n",
      "    fitpars *freepars = &fit[1].pars;\n",
      "             ^\n",
      "1 warning generated.\n"
     ]
    },
    {
     "name": "stdout",
     "output_type": "stream",
     "text": [
      "cd /Users/frank/danse/refl1d/garefl/boxmin && /Applications/Xcode.app/Contents/Developer/usr/bin/make\n",
      "make[1]: Nothing to be done for `all'.\n",
      "cd /Users/frank/danse/refl1d/garefl/model1d && /Applications/Xcode.app/Contents/Developer/usr/bin/make\n",
      "make[1]: Nothing to be done for `all'.\n",
      "cd /Users/frank/danse/refl1d/garefl/src && /Applications/Xcode.app/Contents/Developer/usr/bin/make\n",
      "make[1]: Nothing to be done for `all'.\n",
      "g++    -fPIC -o fit setup.o /Users/frank/danse/refl1d/garefl/src/ga_simul.o /Users/frank/danse/refl1d/garefl/src/ga.o -L/Users/frank/danse/refl1d/garefl/model1d -lrefl -L/Users/frank/danse/refl1d/garefl/boxmin -lboxmin  -lm \n",
      "g++ -shared -o model.so setup.o /Users/frank/danse/refl1d/garefl/src/refl1d.o -L/Users/frank/danse/refl1d/garefl/model1d -lrefl  -lm \n",
      "chisq = 333.382\n",
      "g++  -g -O2 -Wall  -fPIC -DUSE_DOUBLE -DReal=double -DHAVE_CONFIG_H -I/Users/frank/danse/refl1d/garefl/boxmin -I/Users/frank/danse/refl1d/garefl/model1d -I/Users/frank/danse/refl1d/garefl/src -c setup.cc -o setup.o\n"
     ]
    },
    {
     "name": "stderr",
     "output_type": "stream",
     "text": [
      "setup.cc:93:14: warning: unused variable 'freepars' [-Wunused-variable]\n",
      "    fitpars *freepars = &fit[1].pars;\n",
      "             ^\n",
      "1 warning generated.\n"
     ]
    },
    {
     "name": "stdout",
     "output_type": "stream",
     "text": [
      "cd /Users/frank/danse/refl1d/garefl/boxmin && /Applications/Xcode.app/Contents/Developer/usr/bin/make\n",
      "make[1]: Nothing to be done for `all'.\n",
      "cd /Users/frank/danse/refl1d/garefl/model1d && /Applications/Xcode.app/Contents/Developer/usr/bin/make\n",
      "make[1]: Nothing to be done for `all'.\n",
      "cd /Users/frank/danse/refl1d/garefl/src && /Applications/Xcode.app/Contents/Developer/usr/bin/make\n",
      "make[1]: Nothing to be done for `all'.\n",
      "g++    -fPIC -o fit setup.o /Users/frank/danse/refl1d/garefl/src/ga_simul.o /Users/frank/danse/refl1d/garefl/src/ga.o -L/Users/frank/danse/refl1d/garefl/model1d -lrefl -L/Users/frank/danse/refl1d/garefl/boxmin -lboxmin  -lm \n",
      "g++ -shared -o model.so setup.o /Users/frank/danse/refl1d/garefl/src/refl1d.o -L/Users/frank/danse/refl1d/garefl/model1d -lrefl  -lm \n",
      "# /Users/frank/opt/anaconda3/envs/Python37/bin/refl1d_cli.py /Users/frank/Dropbox/My Mac (PN115993.campus.nist.gov)/Documents/programming/molgroups/examples/information_theory/entropy_gridsearch_singlethread/garefl/iteration_6/run.py --fit=dream --parallel --init=lhs --batch --store=/Users/frank/Dropbox/My Mac (PN115993.campus.nist.gov)/Documents/programming/molgroups/examples/information_theory/entropy_gridsearch_singlethread/garefl/iteration_6/save --burn=8000 --steps=500 --seed=768426\n",
      "[0] = l_siox = 10 in [10,30]\n",
      "[1] = rho_siox = 3.2 in [3.2,3.8]\n",
      "[2] = l_submembrane = 1 in [1,10]\n",
      "[3] = l_lipid1 = 10 in [10,15]\n",
      "[4] = l_lipid2 = 10 in [10,15]\n",
      "[5] = vf_bilayer = 0.9 in [0.9,1]\n",
      "[6] = rho_solv_0 = 2.56 in [1.96,2.56]\n",
      "[7] = global_rough = 2 in [2,5]\n",
      "[8] = sigma = 2 in [2,5]\n",
      "[9] = background_0 = -5 in [-9,-5]\n",
      "\n",
      "[chisq=1026.77(17), nllf=34396.8]\n",
      "# /Users/frank/opt/anaconda3/envs/Python37/bin/refl1d_cli.py /Users/frank/Dropbox/My Mac (PN115993.campus.nist.gov)/Documents/programming/molgroups/examples/information_theory/entropy_gridsearch_singlethread/garefl/iteration_6/run.py --fit=dream --parallel --init=lhs --batch --store=/Users/frank/Dropbox/My Mac (PN115993.campus.nist.gov)/Documents/programming/molgroups/examples/information_theory/entropy_gridsearch_singlethread/garefl/iteration_6/save --burn=8000 --steps=500 --seed=768426\n",
      "[0] = l_siox = 10 in [10,30]\n",
      "[1] = rho_siox = 3.2 in [3.2,3.8]\n",
      "[2] = l_submembrane = 1 in [1,10]\n",
      "[3] = l_lipid1 = 10 in [10,15]\n",
      "[4] = l_lipid2 = 10 in [10,15]\n",
      "[5] = vf_bilayer = 0.9 in [0.9,1]\n",
      "[6] = rho_solv_0 = 2.56 in [1.96,2.56]\n",
      "[7] = global_rough = 2 in [2,5]\n",
      "[8] = sigma = 2 in [2,5]\n",
      "[9] = background_0 = -5 in [-9,-5]\n",
      "\n",
      "[chisq=1026.77(17), nllf=34396.8]\n",
      "g++  -g -O2 -Wall  -fPIC -DUSE_DOUBLE -DReal=double -DHAVE_CONFIG_H -I/Users/frank/danse/refl1d/garefl/boxmin -I/Users/frank/danse/refl1d/garefl/model1d -I/Users/frank/danse/refl1d/garefl/src -c setup.cc -o setup.o\n"
     ]
    },
    {
     "name": "stderr",
     "output_type": "stream",
     "text": [
      "setup.cc:93:14: warning: unused variable 'freepars' [-Wunused-variable]\n",
      "    fitpars *freepars = &fit[1].pars;\n",
      "             ^\n",
      "1 warning generated.\n"
     ]
    },
    {
     "name": "stdout",
     "output_type": "stream",
     "text": [
      "cd /Users/frank/danse/refl1d/garefl/boxmin && /Applications/Xcode.app/Contents/Developer/usr/bin/make\n",
      "make[1]: Nothing to be done for `all'.\n",
      "cd /Users/frank/danse/refl1d/garefl/model1d && /Applications/Xcode.app/Contents/Developer/usr/bin/make\n",
      "make[1]: Nothing to be done for `all'.\n",
      "cd /Users/frank/danse/refl1d/garefl/src && /Applications/Xcode.app/Contents/Developer/usr/bin/make\n",
      "make[1]: Nothing to be done for `all'.\n",
      "g++    -fPIC -o fit setup.o /Users/frank/danse/refl1d/garefl/src/ga_simul.o /Users/frank/danse/refl1d/garefl/src/ga.o -L/Users/frank/danse/refl1d/garefl/model1d -lrefl -L/Users/frank/danse/refl1d/garefl/boxmin -lboxmin  -lm \n",
      "g++ -shared -o model.so setup.o /Users/frank/danse/refl1d/garefl/src/refl1d.o -L/Users/frank/danse/refl1d/garefl/model1d -lrefl  -lm \n"
     ]
    },
    {
     "name": "stderr",
     "output_type": "stream",
     "text": [
      "rm: /Users/frank/Dropbox/My Mac (PN115993.campus.nist.gov)/Documents/programming/molgroups/examples/information_theory/entropy_gridsearch_singlethread/garefl/iteration_6/save/run-point.mc: No such file or directory\n",
      "rm: /Users/frank/Dropbox/My Mac (PN115993.campus.nist.gov)/Documents/programming/molgroups/examples/information_theory/entropy_gridsearch_singlethread/garefl/iteration_6/save/run-chain.mc: No such file or directory\n",
      "rm: /Users/frank/Dropbox/My Mac (PN115993.campus.nist.gov)/Documents/programming/molgroups/examples/information_theory/entropy_gridsearch_singlethread/garefl/iteration_6/save/run-stats.mc: No such file or directory\n"
     ]
    },
    {
     "name": "stdout",
     "output_type": "stream",
     "text": [
      "g++  -g -O2 -Wall  -fPIC -DUSE_DOUBLE -DReal=double -DHAVE_CONFIG_H -I/Users/frank/danse/refl1d/garefl/boxmin -I/Users/frank/danse/refl1d/garefl/model1d -I/Users/frank/danse/refl1d/garefl/src -c setup.cc -o setup.o\n"
     ]
    },
    {
     "name": "stderr",
     "output_type": "stream",
     "text": [
      "setup.cc:93:14: warning: unused variable 'freepars' [-Wunused-variable]\n",
      "    fitpars *freepars = &fit[1].pars;\n",
      "             ^\n",
      "1 warning generated.\n"
     ]
    },
    {
     "name": "stdout",
     "output_type": "stream",
     "text": [
      "cd /Users/frank/danse/refl1d/garefl/boxmin && /Applications/Xcode.app/Contents/Developer/usr/bin/make\n",
      "make[1]: Nothing to be done for `all'.\n",
      "cd /Users/frank/danse/refl1d/garefl/model1d && /Applications/Xcode.app/Contents/Developer/usr/bin/make\n",
      "make[1]: Nothing to be done for `all'.\n",
      "cd /Users/frank/danse/refl1d/garefl/src && /Applications/Xcode.app/Contents/Developer/usr/bin/make\n",
      "make[1]: Nothing to be done for `all'.\n",
      "g++    -fPIC -o fit setup.o /Users/frank/danse/refl1d/garefl/src/ga_simul.o /Users/frank/danse/refl1d/garefl/src/ga.o -L/Users/frank/danse/refl1d/garefl/model1d -lrefl -L/Users/frank/danse/refl1d/garefl/boxmin -lboxmin  -lm \n",
      "g++ -shared -o model.so setup.o /Users/frank/danse/refl1d/garefl/src/refl1d.o -L/Users/frank/danse/refl1d/garefl/model1d -lrefl  -lm \n",
      "Found T/run.par \n",
      "\n",
      "Loading MCMC best-fit parameters ...\n",
      "l_siox 18.0\n",
      "rho_siox 3.55e-06\n",
      "l_submembrane 2.5\n",
      "l_lipid1 11.8\n",
      "l_lipid2 12.4\n",
      "vf_bilayer 0.95\n",
      "rho_solv_0 3e-06\n",
      "global_rough 3.0\n",
      "sigma 2.5\n",
      "background_0 -8.0\n",
      "g++  -g -O2 -Wall  -fPIC -DUSE_DOUBLE -DReal=double -DHAVE_CONFIG_H -I/Users/frank/danse/refl1d/garefl/boxmin -I/Users/frank/danse/refl1d/garefl/model1d -I/Users/frank/danse/refl1d/garefl/src -c setup.cc -o setup.o\n"
     ]
    },
    {
     "name": "stderr",
     "output_type": "stream",
     "text": [
      "setup.cc:103:14: warning: unused variable 'freepars' [-Wunused-variable]\n",
      "    fitpars *freepars = &fit[1].pars;\n",
      "             ^\n",
      "1 warning generated.\n"
     ]
    },
    {
     "name": "stdout",
     "output_type": "stream",
     "text": [
      "cd /Users/frank/danse/refl1d/garefl/boxmin && /Applications/Xcode.app/Contents/Developer/usr/bin/make\n",
      "make[1]: Nothing to be done for `all'.\n",
      "cd /Users/frank/danse/refl1d/garefl/model1d && /Applications/Xcode.app/Contents/Developer/usr/bin/make\n",
      "make[1]: Nothing to be done for `all'.\n",
      "cd /Users/frank/danse/refl1d/garefl/src && /Applications/Xcode.app/Contents/Developer/usr/bin/make\n",
      "make[1]: Nothing to be done for `all'.\n",
      "g++    -fPIC -o fit setup.o /Users/frank/danse/refl1d/garefl/src/ga_simul.o /Users/frank/danse/refl1d/garefl/src/ga.o -L/Users/frank/danse/refl1d/garefl/model1d -lrefl -L/Users/frank/danse/refl1d/garefl/boxmin -lboxmin  -lm \n",
      "g++ -shared -o model.so setup.o /Users/frank/danse/refl1d/garefl/src/refl1d.o -L/Users/frank/danse/refl1d/garefl/model1d -lrefl  -lm \n",
      "chisq = 341.927\n",
      "g++  -g -O2 -Wall  -fPIC -DUSE_DOUBLE -DReal=double -DHAVE_CONFIG_H -I/Users/frank/danse/refl1d/garefl/boxmin -I/Users/frank/danse/refl1d/garefl/model1d -I/Users/frank/danse/refl1d/garefl/src -c setup.cc -o setup.o\n"
     ]
    },
    {
     "name": "stderr",
     "output_type": "stream",
     "text": [
      "setup.cc:93:14: warning: unused variable 'freepars' [-Wunused-variable]\n",
      "    fitpars *freepars = &fit[1].pars;\n",
      "             ^\n",
      "1 warning generated.\n"
     ]
    },
    {
     "name": "stdout",
     "output_type": "stream",
     "text": [
      "cd /Users/frank/danse/refl1d/garefl/boxmin && /Applications/Xcode.app/Contents/Developer/usr/bin/make\n",
      "make[1]: Nothing to be done for `all'.\n",
      "cd /Users/frank/danse/refl1d/garefl/model1d && /Applications/Xcode.app/Contents/Developer/usr/bin/make\n",
      "make[1]: Nothing to be done for `all'.\n",
      "cd /Users/frank/danse/refl1d/garefl/src && /Applications/Xcode.app/Contents/Developer/usr/bin/make\n",
      "make[1]: Nothing to be done for `all'.\n",
      "g++    -fPIC -o fit setup.o /Users/frank/danse/refl1d/garefl/src/ga_simul.o /Users/frank/danse/refl1d/garefl/src/ga.o -L/Users/frank/danse/refl1d/garefl/model1d -lrefl -L/Users/frank/danse/refl1d/garefl/boxmin -lboxmin  -lm \n",
      "g++ -shared -o model.so setup.o /Users/frank/danse/refl1d/garefl/src/refl1d.o -L/Users/frank/danse/refl1d/garefl/model1d -lrefl  -lm \n",
      "# /Users/frank/opt/anaconda3/envs/Python37/bin/refl1d_cli.py /Users/frank/Dropbox/My Mac (PN115993.campus.nist.gov)/Documents/programming/molgroups/examples/information_theory/entropy_gridsearch_singlethread/garefl/iteration_7/run.py --fit=dream --parallel --init=lhs --batch --store=/Users/frank/Dropbox/My Mac (PN115993.campus.nist.gov)/Documents/programming/molgroups/examples/information_theory/entropy_gridsearch_singlethread/garefl/iteration_7/save --burn=8000 --steps=500 --seed=608923\n",
      "[0] = l_siox = 10 in [10,30]\n",
      "[1] = rho_siox = 3.2 in [3.2,3.8]\n",
      "[2] = l_submembrane = 1 in [1,10]\n",
      "[3] = l_lipid1 = 10 in [10,15]\n",
      "[4] = l_lipid2 = 10 in [10,15]\n",
      "[5] = vf_bilayer = 0.9 in [0.9,1]\n",
      "[6] = rho_solv_0 = 3.06 in [2.46,3.06]\n",
      "[7] = global_rough = 2 in [2,5]\n",
      "[8] = sigma = 2 in [2,5]\n",
      "[9] = background_0 = -5 in [-9,-5]\n",
      "\n",
      "[chisq=1216.46(17), nllf=40751.6]\n",
      "# /Users/frank/opt/anaconda3/envs/Python37/bin/refl1d_cli.py /Users/frank/Dropbox/My Mac (PN115993.campus.nist.gov)/Documents/programming/molgroups/examples/information_theory/entropy_gridsearch_singlethread/garefl/iteration_7/run.py --fit=dream --parallel --init=lhs --batch --store=/Users/frank/Dropbox/My Mac (PN115993.campus.nist.gov)/Documents/programming/molgroups/examples/information_theory/entropy_gridsearch_singlethread/garefl/iteration_7/save --burn=8000 --steps=500 --seed=608923\n",
      "[0] = l_siox = 10 in [10,30]\n",
      "[1] = rho_siox = 3.2 in [3.2,3.8]\n",
      "[2] = l_submembrane = 1 in [1,10]\n",
      "[3] = l_lipid1 = 10 in [10,15]\n",
      "[4] = l_lipid2 = 10 in [10,15]\n",
      "[5] = vf_bilayer = 0.9 in [0.9,1]\n",
      "[6] = rho_solv_0 = 3.06 in [2.46,3.06]\n",
      "[7] = global_rough = 2 in [2,5]\n",
      "[8] = sigma = 2 in [2,5]\n",
      "[9] = background_0 = -5 in [-9,-5]\n",
      "\n",
      "[chisq=1216.46(17), nllf=40751.6]\n",
      "g++  -g -O2 -Wall  -fPIC -DUSE_DOUBLE -DReal=double -DHAVE_CONFIG_H -I/Users/frank/danse/refl1d/garefl/boxmin -I/Users/frank/danse/refl1d/garefl/model1d -I/Users/frank/danse/refl1d/garefl/src -c setup.cc -o setup.o\n"
     ]
    },
    {
     "name": "stderr",
     "output_type": "stream",
     "text": [
      "setup.cc:93:14: warning: unused variable 'freepars' [-Wunused-variable]\n",
      "    fitpars *freepars = &fit[1].pars;\n",
      "             ^\n",
      "1 warning generated.\n"
     ]
    },
    {
     "name": "stdout",
     "output_type": "stream",
     "text": [
      "cd /Users/frank/danse/refl1d/garefl/boxmin && /Applications/Xcode.app/Contents/Developer/usr/bin/make\n",
      "make[1]: Nothing to be done for `all'.\n",
      "cd /Users/frank/danse/refl1d/garefl/model1d && /Applications/Xcode.app/Contents/Developer/usr/bin/make\n",
      "make[1]: Nothing to be done for `all'.\n",
      "cd /Users/frank/danse/refl1d/garefl/src && /Applications/Xcode.app/Contents/Developer/usr/bin/make\n",
      "make[1]: Nothing to be done for `all'.\n",
      "g++    -fPIC -o fit setup.o /Users/frank/danse/refl1d/garefl/src/ga_simul.o /Users/frank/danse/refl1d/garefl/src/ga.o -L/Users/frank/danse/refl1d/garefl/model1d -lrefl -L/Users/frank/danse/refl1d/garefl/boxmin -lboxmin  -lm \n",
      "g++ -shared -o model.so setup.o /Users/frank/danse/refl1d/garefl/src/refl1d.o -L/Users/frank/danse/refl1d/garefl/model1d -lrefl  -lm \n"
     ]
    },
    {
     "name": "stderr",
     "output_type": "stream",
     "text": [
      "rm: /Users/frank/Dropbox/My Mac (PN115993.campus.nist.gov)/Documents/programming/molgroups/examples/information_theory/entropy_gridsearch_singlethread/garefl/iteration_7/save/run-point.mc: No such file or directory\n",
      "rm: /Users/frank/Dropbox/My Mac (PN115993.campus.nist.gov)/Documents/programming/molgroups/examples/information_theory/entropy_gridsearch_singlethread/garefl/iteration_7/save/run-chain.mc: No such file or directory\n",
      "rm: /Users/frank/Dropbox/My Mac (PN115993.campus.nist.gov)/Documents/programming/molgroups/examples/information_theory/entropy_gridsearch_singlethread/garefl/iteration_7/save/run-stats.mc: No such file or directory\n"
     ]
    },
    {
     "name": "stdout",
     "output_type": "stream",
     "text": [
      "g++  -g -O2 -Wall  -fPIC -DUSE_DOUBLE -DReal=double -DHAVE_CONFIG_H -I/Users/frank/danse/refl1d/garefl/boxmin -I/Users/frank/danse/refl1d/garefl/model1d -I/Users/frank/danse/refl1d/garefl/src -c setup.cc -o setup.o\n"
     ]
    },
    {
     "name": "stderr",
     "output_type": "stream",
     "text": [
      "setup.cc:93:14: warning: unused variable 'freepars' [-Wunused-variable]\n",
      "    fitpars *freepars = &fit[1].pars;\n",
      "             ^\n",
      "1 warning generated.\n"
     ]
    },
    {
     "name": "stdout",
     "output_type": "stream",
     "text": [
      "cd /Users/frank/danse/refl1d/garefl/boxmin && /Applications/Xcode.app/Contents/Developer/usr/bin/make\n",
      "make[1]: Nothing to be done for `all'.\n",
      "cd /Users/frank/danse/refl1d/garefl/model1d && /Applications/Xcode.app/Contents/Developer/usr/bin/make\n",
      "make[1]: Nothing to be done for `all'.\n",
      "cd /Users/frank/danse/refl1d/garefl/src && /Applications/Xcode.app/Contents/Developer/usr/bin/make\n",
      "make[1]: Nothing to be done for `all'.\n",
      "g++    -fPIC -o fit setup.o /Users/frank/danse/refl1d/garefl/src/ga_simul.o /Users/frank/danse/refl1d/garefl/src/ga.o -L/Users/frank/danse/refl1d/garefl/model1d -lrefl -L/Users/frank/danse/refl1d/garefl/boxmin -lboxmin  -lm \n",
      "g++ -shared -o model.so setup.o /Users/frank/danse/refl1d/garefl/src/refl1d.o -L/Users/frank/danse/refl1d/garefl/model1d -lrefl  -lm \n",
      "Found T/run.par \n",
      "\n",
      "Loading MCMC best-fit parameters ...\n",
      "l_siox 18.0\n",
      "rho_siox 3.55e-06\n",
      "l_submembrane 2.5\n",
      "l_lipid1 11.8\n",
      "l_lipid2 12.4\n",
      "vf_bilayer 0.95\n",
      "rho_solv_0 3.5e-06\n",
      "global_rough 3.0\n",
      "sigma 2.5\n",
      "background_0 -8.0\n",
      "g++  -g -O2 -Wall  -fPIC -DUSE_DOUBLE -DReal=double -DHAVE_CONFIG_H -I/Users/frank/danse/refl1d/garefl/boxmin -I/Users/frank/danse/refl1d/garefl/model1d -I/Users/frank/danse/refl1d/garefl/src -c setup.cc -o setup.o\n"
     ]
    },
    {
     "name": "stderr",
     "output_type": "stream",
     "text": [
      "setup.cc:103:14: warning: unused variable 'freepars' [-Wunused-variable]\n",
      "    fitpars *freepars = &fit[1].pars;\n",
      "             ^\n",
      "1 warning generated.\n"
     ]
    },
    {
     "name": "stdout",
     "output_type": "stream",
     "text": [
      "cd /Users/frank/danse/refl1d/garefl/boxmin && /Applications/Xcode.app/Contents/Developer/usr/bin/make\n",
      "make[1]: Nothing to be done for `all'.\n",
      "cd /Users/frank/danse/refl1d/garefl/model1d && /Applications/Xcode.app/Contents/Developer/usr/bin/make\n",
      "make[1]: Nothing to be done for `all'.\n",
      "cd /Users/frank/danse/refl1d/garefl/src && /Applications/Xcode.app/Contents/Developer/usr/bin/make\n",
      "make[1]: Nothing to be done for `all'.\n",
      "g++    -fPIC -o fit setup.o /Users/frank/danse/refl1d/garefl/src/ga_simul.o /Users/frank/danse/refl1d/garefl/src/ga.o -L/Users/frank/danse/refl1d/garefl/model1d -lrefl -L/Users/frank/danse/refl1d/garefl/boxmin -lboxmin  -lm \n",
      "g++ -shared -o model.so setup.o /Users/frank/danse/refl1d/garefl/src/refl1d.o -L/Users/frank/danse/refl1d/garefl/model1d -lrefl  -lm \n",
      "chisq = 4475.31\n",
      "g++  -g -O2 -Wall  -fPIC -DUSE_DOUBLE -DReal=double -DHAVE_CONFIG_H -I/Users/frank/danse/refl1d/garefl/boxmin -I/Users/frank/danse/refl1d/garefl/model1d -I/Users/frank/danse/refl1d/garefl/src -c setup.cc -o setup.o\n"
     ]
    },
    {
     "name": "stderr",
     "output_type": "stream",
     "text": [
      "setup.cc:93:14: warning: unused variable 'freepars' [-Wunused-variable]\n",
      "    fitpars *freepars = &fit[1].pars;\n",
      "             ^\n",
      "1 warning generated.\n"
     ]
    },
    {
     "name": "stdout",
     "output_type": "stream",
     "text": [
      "cd /Users/frank/danse/refl1d/garefl/boxmin && /Applications/Xcode.app/Contents/Developer/usr/bin/make\n",
      "make[1]: Nothing to be done for `all'.\n",
      "cd /Users/frank/danse/refl1d/garefl/model1d && /Applications/Xcode.app/Contents/Developer/usr/bin/make\n",
      "make[1]: Nothing to be done for `all'.\n",
      "cd /Users/frank/danse/refl1d/garefl/src && /Applications/Xcode.app/Contents/Developer/usr/bin/make\n",
      "make[1]: Nothing to be done for `all'.\n",
      "g++    -fPIC -o fit setup.o /Users/frank/danse/refl1d/garefl/src/ga_simul.o /Users/frank/danse/refl1d/garefl/src/ga.o -L/Users/frank/danse/refl1d/garefl/model1d -lrefl -L/Users/frank/danse/refl1d/garefl/boxmin -lboxmin  -lm \n",
      "g++ -shared -o model.so setup.o /Users/frank/danse/refl1d/garefl/src/refl1d.o -L/Users/frank/danse/refl1d/garefl/model1d -lrefl  -lm \n",
      "# /Users/frank/opt/anaconda3/envs/Python37/bin/refl1d_cli.py /Users/frank/Dropbox/My Mac (PN115993.campus.nist.gov)/Documents/programming/molgroups/examples/information_theory/entropy_gridsearch_singlethread/garefl/iteration_8/run.py --fit=dream --parallel --init=lhs --batch --store=/Users/frank/Dropbox/My Mac (PN115993.campus.nist.gov)/Documents/programming/molgroups/examples/information_theory/entropy_gridsearch_singlethread/garefl/iteration_8/save --burn=8000 --steps=500 --seed=615735\n",
      "[0] = l_siox = 10 in [10,30]\n",
      "[1] = rho_siox = 3.2 in [3.2,3.8]\n",
      "[2] = l_submembrane = 1 in [1,10]\n",
      "[3] = l_lipid1 = 10 in [10,15]\n",
      "[4] = l_lipid2 = 10 in [10,15]\n",
      "[5] = vf_bilayer = 0.9 in [0.9,1]\n",
      "[6] = rho_solv_0 = 3.56 in [2.96,3.56]\n",
      "[7] = global_rough = 2 in [2,5]\n",
      "[8] = sigma = 2 in [2,5]\n",
      "[9] = background_0 = -5 in [-9,-5]\n",
      "\n",
      "[chisq=1536.97(17), nllf=51488.7]\n",
      "# /Users/frank/opt/anaconda3/envs/Python37/bin/refl1d_cli.py /Users/frank/Dropbox/My Mac (PN115993.campus.nist.gov)/Documents/programming/molgroups/examples/information_theory/entropy_gridsearch_singlethread/garefl/iteration_8/run.py --fit=dream --parallel --init=lhs --batch --store=/Users/frank/Dropbox/My Mac (PN115993.campus.nist.gov)/Documents/programming/molgroups/examples/information_theory/entropy_gridsearch_singlethread/garefl/iteration_8/save --burn=8000 --steps=500 --seed=615735\n",
      "[0] = l_siox = 10 in [10,30]\n",
      "[1] = rho_siox = 3.2 in [3.2,3.8]\n",
      "[2] = l_submembrane = 1 in [1,10]\n",
      "[3] = l_lipid1 = 10 in [10,15]\n",
      "[4] = l_lipid2 = 10 in [10,15]\n",
      "[5] = vf_bilayer = 0.9 in [0.9,1]\n",
      "[6] = rho_solv_0 = 3.56 in [2.96,3.56]\n",
      "[7] = global_rough = 2 in [2,5]\n",
      "[8] = sigma = 2 in [2,5]\n",
      "[9] = background_0 = -5 in [-9,-5]\n",
      "\n",
      "[chisq=1536.97(17), nllf=51488.7]\n",
      "g++  -g -O2 -Wall  -fPIC -DUSE_DOUBLE -DReal=double -DHAVE_CONFIG_H -I/Users/frank/danse/refl1d/garefl/boxmin -I/Users/frank/danse/refl1d/garefl/model1d -I/Users/frank/danse/refl1d/garefl/src -c setup.cc -o setup.o\n"
     ]
    },
    {
     "name": "stderr",
     "output_type": "stream",
     "text": [
      "setup.cc:93:14: warning: unused variable 'freepars' [-Wunused-variable]\n",
      "    fitpars *freepars = &fit[1].pars;\n",
      "             ^\n",
      "1 warning generated.\n"
     ]
    },
    {
     "name": "stdout",
     "output_type": "stream",
     "text": [
      "cd /Users/frank/danse/refl1d/garefl/boxmin && /Applications/Xcode.app/Contents/Developer/usr/bin/make\n",
      "make[1]: Nothing to be done for `all'.\n",
      "cd /Users/frank/danse/refl1d/garefl/model1d && /Applications/Xcode.app/Contents/Developer/usr/bin/make\n",
      "make[1]: Nothing to be done for `all'.\n",
      "cd /Users/frank/danse/refl1d/garefl/src && /Applications/Xcode.app/Contents/Developer/usr/bin/make\n",
      "make[1]: Nothing to be done for `all'.\n",
      "g++    -fPIC -o fit setup.o /Users/frank/danse/refl1d/garefl/src/ga_simul.o /Users/frank/danse/refl1d/garefl/src/ga.o -L/Users/frank/danse/refl1d/garefl/model1d -lrefl -L/Users/frank/danse/refl1d/garefl/boxmin -lboxmin  -lm \n",
      "g++ -shared -o model.so setup.o /Users/frank/danse/refl1d/garefl/src/refl1d.o -L/Users/frank/danse/refl1d/garefl/model1d -lrefl  -lm \n"
     ]
    },
    {
     "name": "stderr",
     "output_type": "stream",
     "text": [
      "rm: /Users/frank/Dropbox/My Mac (PN115993.campus.nist.gov)/Documents/programming/molgroups/examples/information_theory/entropy_gridsearch_singlethread/garefl/iteration_8/save/run-point.mc: No such file or directory\n",
      "rm: /Users/frank/Dropbox/My Mac (PN115993.campus.nist.gov)/Documents/programming/molgroups/examples/information_theory/entropy_gridsearch_singlethread/garefl/iteration_8/save/run-chain.mc: No such file or directory\n",
      "rm: /Users/frank/Dropbox/My Mac (PN115993.campus.nist.gov)/Documents/programming/molgroups/examples/information_theory/entropy_gridsearch_singlethread/garefl/iteration_8/save/run-stats.mc: No such file or directory\n"
     ]
    },
    {
     "name": "stdout",
     "output_type": "stream",
     "text": [
      "g++  -g -O2 -Wall  -fPIC -DUSE_DOUBLE -DReal=double -DHAVE_CONFIG_H -I/Users/frank/danse/refl1d/garefl/boxmin -I/Users/frank/danse/refl1d/garefl/model1d -I/Users/frank/danse/refl1d/garefl/src -c setup.cc -o setup.o\n"
     ]
    },
    {
     "name": "stderr",
     "output_type": "stream",
     "text": [
      "setup.cc:93:14: warning: unused variable 'freepars' [-Wunused-variable]\n",
      "    fitpars *freepars = &fit[1].pars;\n",
      "             ^\n",
      "1 warning generated.\n"
     ]
    },
    {
     "name": "stdout",
     "output_type": "stream",
     "text": [
      "cd /Users/frank/danse/refl1d/garefl/boxmin && /Applications/Xcode.app/Contents/Developer/usr/bin/make\n",
      "make[1]: Nothing to be done for `all'.\n",
      "cd /Users/frank/danse/refl1d/garefl/model1d && /Applications/Xcode.app/Contents/Developer/usr/bin/make\n",
      "make[1]: Nothing to be done for `all'.\n",
      "cd /Users/frank/danse/refl1d/garefl/src && /Applications/Xcode.app/Contents/Developer/usr/bin/make\n",
      "make[1]: Nothing to be done for `all'.\n",
      "g++    -fPIC -o fit setup.o /Users/frank/danse/refl1d/garefl/src/ga_simul.o /Users/frank/danse/refl1d/garefl/src/ga.o -L/Users/frank/danse/refl1d/garefl/model1d -lrefl -L/Users/frank/danse/refl1d/garefl/boxmin -lboxmin  -lm \n",
      "g++ -shared -o model.so setup.o /Users/frank/danse/refl1d/garefl/src/refl1d.o -L/Users/frank/danse/refl1d/garefl/model1d -lrefl  -lm \n",
      "Found T/run.par \n",
      "\n",
      "Loading MCMC best-fit parameters ...\n",
      "l_siox 18.0\n",
      "rho_siox 3.55e-06\n",
      "l_submembrane 2.5\n",
      "l_lipid1 11.8\n",
      "l_lipid2 12.4\n",
      "vf_bilayer 0.95\n",
      "rho_solv_0 5.5e-06\n",
      "global_rough 3.0\n",
      "sigma 2.5\n",
      "background_0 -8.0\n",
      "g++  -g -O2 -Wall  -fPIC -DUSE_DOUBLE -DReal=double -DHAVE_CONFIG_H -I/Users/frank/danse/refl1d/garefl/boxmin -I/Users/frank/danse/refl1d/garefl/model1d -I/Users/frank/danse/refl1d/garefl/src -c setup.cc -o setup.o\n"
     ]
    },
    {
     "name": "stderr",
     "output_type": "stream",
     "text": [
      "setup.cc:103:14: warning: unused variable 'freepars' [-Wunused-variable]\n",
      "    fitpars *freepars = &fit[1].pars;\n",
      "             ^\n",
      "1 warning generated.\n"
     ]
    },
    {
     "name": "stdout",
     "output_type": "stream",
     "text": [
      "cd /Users/frank/danse/refl1d/garefl/boxmin && /Applications/Xcode.app/Contents/Developer/usr/bin/make\n",
      "make[1]: Nothing to be done for `all'.\n",
      "cd /Users/frank/danse/refl1d/garefl/model1d && /Applications/Xcode.app/Contents/Developer/usr/bin/make\n",
      "make[1]: Nothing to be done for `all'.\n",
      "cd /Users/frank/danse/refl1d/garefl/src && /Applications/Xcode.app/Contents/Developer/usr/bin/make\n",
      "make[1]: Nothing to be done for `all'.\n",
      "g++    -fPIC -o fit setup.o /Users/frank/danse/refl1d/garefl/src/ga_simul.o /Users/frank/danse/refl1d/garefl/src/ga.o -L/Users/frank/danse/refl1d/garefl/model1d -lrefl -L/Users/frank/danse/refl1d/garefl/boxmin -lboxmin  -lm \n",
      "g++ -shared -o model.so setup.o /Users/frank/danse/refl1d/garefl/src/refl1d.o -L/Users/frank/danse/refl1d/garefl/model1d -lrefl  -lm \n",
      "chisq = 500496\n",
      "g++  -g -O2 -Wall  -fPIC -DUSE_DOUBLE -DReal=double -DHAVE_CONFIG_H -I/Users/frank/danse/refl1d/garefl/boxmin -I/Users/frank/danse/refl1d/garefl/model1d -I/Users/frank/danse/refl1d/garefl/src -c setup.cc -o setup.o\n"
     ]
    },
    {
     "name": "stderr",
     "output_type": "stream",
     "text": [
      "setup.cc:93:14: warning: unused variable 'freepars' [-Wunused-variable]\n",
      "    fitpars *freepars = &fit[1].pars;\n",
      "             ^\n",
      "1 warning generated.\n"
     ]
    },
    {
     "name": "stdout",
     "output_type": "stream",
     "text": [
      "cd /Users/frank/danse/refl1d/garefl/boxmin && /Applications/Xcode.app/Contents/Developer/usr/bin/make\n",
      "make[1]: Nothing to be done for `all'.\n",
      "cd /Users/frank/danse/refl1d/garefl/model1d && /Applications/Xcode.app/Contents/Developer/usr/bin/make\n",
      "make[1]: Nothing to be done for `all'.\n",
      "cd /Users/frank/danse/refl1d/garefl/src && /Applications/Xcode.app/Contents/Developer/usr/bin/make\n",
      "make[1]: Nothing to be done for `all'.\n",
      "g++    -fPIC -o fit setup.o /Users/frank/danse/refl1d/garefl/src/ga_simul.o /Users/frank/danse/refl1d/garefl/src/ga.o -L/Users/frank/danse/refl1d/garefl/model1d -lrefl -L/Users/frank/danse/refl1d/garefl/boxmin -lboxmin  -lm \n",
      "g++ -shared -o model.so setup.o /Users/frank/danse/refl1d/garefl/src/refl1d.o -L/Users/frank/danse/refl1d/garefl/model1d -lrefl  -lm \n",
      "# /Users/frank/opt/anaconda3/envs/Python37/bin/refl1d_cli.py /Users/frank/Dropbox/My Mac (PN115993.campus.nist.gov)/Documents/programming/molgroups/examples/information_theory/entropy_gridsearch_singlethread/garefl/iteration_12/run.py --fit=dream --parallel --init=lhs --batch --store=/Users/frank/Dropbox/My Mac (PN115993.campus.nist.gov)/Documents/programming/molgroups/examples/information_theory/entropy_gridsearch_singlethread/garefl/iteration_12/save --burn=8000 --steps=500 --seed=278140\n",
      "[0] = l_siox = 10 in [10,30]\n",
      "[1] = rho_siox = 3.2 in [3.2,3.8]\n",
      "[2] = l_submembrane = 1 in [1,10]\n",
      "[3] = l_lipid1 = 10 in [10,15]\n",
      "[4] = l_lipid2 = 10 in [10,15]\n",
      "[5] = vf_bilayer = 0.9 in [0.9,1]\n",
      "[6] = rho_solv_0 = 5.56 in [4.96,5.56]\n",
      "[7] = global_rough = 2 in [2,5]\n",
      "[8] = sigma = 2 in [2,5]\n",
      "[9] = background_0 = -5 in [-9,-5]\n",
      "\n",
      "[chisq=3309.58(17), nllf=110871]\n",
      "# /Users/frank/opt/anaconda3/envs/Python37/bin/refl1d_cli.py /Users/frank/Dropbox/My Mac (PN115993.campus.nist.gov)/Documents/programming/molgroups/examples/information_theory/entropy_gridsearch_singlethread/garefl/iteration_12/run.py --fit=dream --parallel --init=lhs --batch --store=/Users/frank/Dropbox/My Mac (PN115993.campus.nist.gov)/Documents/programming/molgroups/examples/information_theory/entropy_gridsearch_singlethread/garefl/iteration_12/save --burn=8000 --steps=500 --seed=278140\n",
      "[0] = l_siox = 10 in [10,30]\n",
      "[1] = rho_siox = 3.2 in [3.2,3.8]\n",
      "[2] = l_submembrane = 1 in [1,10]\n",
      "[3] = l_lipid1 = 10 in [10,15]\n",
      "[4] = l_lipid2 = 10 in [10,15]\n",
      "[5] = vf_bilayer = 0.9 in [0.9,1]\n",
      "[6] = rho_solv_0 = 5.56 in [4.96,5.56]\n",
      "[7] = global_rough = 2 in [2,5]\n",
      "[8] = sigma = 2 in [2,5]\n",
      "[9] = background_0 = -5 in [-9,-5]\n",
      "\n",
      "[chisq=3309.58(17), nllf=110871]\n",
      "g++  -g -O2 -Wall  -fPIC -DUSE_DOUBLE -DReal=double -DHAVE_CONFIG_H -I/Users/frank/danse/refl1d/garefl/boxmin -I/Users/frank/danse/refl1d/garefl/model1d -I/Users/frank/danse/refl1d/garefl/src -c setup.cc -o setup.o\n"
     ]
    },
    {
     "name": "stderr",
     "output_type": "stream",
     "text": [
      "setup.cc:93:14: warning: unused variable 'freepars' [-Wunused-variable]\n",
      "    fitpars *freepars = &fit[1].pars;\n",
      "             ^\n",
      "1 warning generated.\n"
     ]
    },
    {
     "name": "stdout",
     "output_type": "stream",
     "text": [
      "cd /Users/frank/danse/refl1d/garefl/boxmin && /Applications/Xcode.app/Contents/Developer/usr/bin/make\n",
      "make[1]: Nothing to be done for `all'.\n",
      "cd /Users/frank/danse/refl1d/garefl/model1d && /Applications/Xcode.app/Contents/Developer/usr/bin/make\n",
      "make[1]: Nothing to be done for `all'.\n",
      "cd /Users/frank/danse/refl1d/garefl/src && /Applications/Xcode.app/Contents/Developer/usr/bin/make\n",
      "make[1]: Nothing to be done for `all'.\n",
      "g++    -fPIC -o fit setup.o /Users/frank/danse/refl1d/garefl/src/ga_simul.o /Users/frank/danse/refl1d/garefl/src/ga.o -L/Users/frank/danse/refl1d/garefl/model1d -lrefl -L/Users/frank/danse/refl1d/garefl/boxmin -lboxmin  -lm \n",
      "g++ -shared -o model.so setup.o /Users/frank/danse/refl1d/garefl/src/refl1d.o -L/Users/frank/danse/refl1d/garefl/model1d -lrefl  -lm \n"
     ]
    },
    {
     "name": "stderr",
     "output_type": "stream",
     "text": [
      "rm: /Users/frank/Dropbox/My Mac (PN115993.campus.nist.gov)/Documents/programming/molgroups/examples/information_theory/entropy_gridsearch_singlethread/garefl/iteration_12/save/run-point.mc: No such file or directory\n",
      "rm: /Users/frank/Dropbox/My Mac (PN115993.campus.nist.gov)/Documents/programming/molgroups/examples/information_theory/entropy_gridsearch_singlethread/garefl/iteration_12/save/run-chain.mc: No such file or directory\n",
      "rm: /Users/frank/Dropbox/My Mac (PN115993.campus.nist.gov)/Documents/programming/molgroups/examples/information_theory/entropy_gridsearch_singlethread/garefl/iteration_12/save/run-stats.mc: No such file or directory\n"
     ]
    },
    {
     "name": "stdout",
     "output_type": "stream",
     "text": [
      "g++  -g -O2 -Wall  -fPIC -DUSE_DOUBLE -DReal=double -DHAVE_CONFIG_H -I/Users/frank/danse/refl1d/garefl/boxmin -I/Users/frank/danse/refl1d/garefl/model1d -I/Users/frank/danse/refl1d/garefl/src -c setup.cc -o setup.o\n"
     ]
    },
    {
     "name": "stderr",
     "output_type": "stream",
     "text": [
      "setup.cc:93:14: warning: unused variable 'freepars' [-Wunused-variable]\n",
      "    fitpars *freepars = &fit[1].pars;\n",
      "             ^\n",
      "1 warning generated.\n"
     ]
    },
    {
     "name": "stdout",
     "output_type": "stream",
     "text": [
      "cd /Users/frank/danse/refl1d/garefl/boxmin && /Applications/Xcode.app/Contents/Developer/usr/bin/make\n",
      "make[1]: Nothing to be done for `all'.\n",
      "cd /Users/frank/danse/refl1d/garefl/model1d && /Applications/Xcode.app/Contents/Developer/usr/bin/make\n",
      "make[1]: Nothing to be done for `all'.\n",
      "cd /Users/frank/danse/refl1d/garefl/src && /Applications/Xcode.app/Contents/Developer/usr/bin/make\n",
      "make[1]: Nothing to be done for `all'.\n",
      "g++    -fPIC -o fit setup.o /Users/frank/danse/refl1d/garefl/src/ga_simul.o /Users/frank/danse/refl1d/garefl/src/ga.o -L/Users/frank/danse/refl1d/garefl/model1d -lrefl -L/Users/frank/danse/refl1d/garefl/boxmin -lboxmin  -lm \n",
      "g++ -shared -o model.so setup.o /Users/frank/danse/refl1d/garefl/src/refl1d.o -L/Users/frank/danse/refl1d/garefl/model1d -lrefl  -lm \n",
      "Found T/run.par \n",
      "\n",
      "Loading MCMC best-fit parameters ...\n",
      "l_siox 18.0\n",
      "rho_siox 3.55e-06\n",
      "l_submembrane 2.5\n",
      "l_lipid1 11.8\n",
      "l_lipid2 12.4\n",
      "vf_bilayer 0.95\n",
      "rho_solv_0 5.999999999999999e-06\n",
      "global_rough 3.0\n",
      "sigma 2.5\n",
      "background_0 -8.0\n",
      "g++  -g -O2 -Wall  -fPIC -DUSE_DOUBLE -DReal=double -DHAVE_CONFIG_H -I/Users/frank/danse/refl1d/garefl/boxmin -I/Users/frank/danse/refl1d/garefl/model1d -I/Users/frank/danse/refl1d/garefl/src -c setup.cc -o setup.o\n"
     ]
    },
    {
     "name": "stderr",
     "output_type": "stream",
     "text": [
      "setup.cc:103:14: warning: unused variable 'freepars' [-Wunused-variable]\n",
      "    fitpars *freepars = &fit[1].pars;\n",
      "             ^\n",
      "1 warning generated.\n"
     ]
    },
    {
     "name": "stdout",
     "output_type": "stream",
     "text": [
      "cd /Users/frank/danse/refl1d/garefl/boxmin && /Applications/Xcode.app/Contents/Developer/usr/bin/make\n",
      "make[1]: Nothing to be done for `all'.\n",
      "cd /Users/frank/danse/refl1d/garefl/model1d && /Applications/Xcode.app/Contents/Developer/usr/bin/make\n",
      "make[1]: Nothing to be done for `all'.\n",
      "cd /Users/frank/danse/refl1d/garefl/src && /Applications/Xcode.app/Contents/Developer/usr/bin/make\n",
      "make[1]: Nothing to be done for `all'.\n",
      "g++    -fPIC -o fit setup.o /Users/frank/danse/refl1d/garefl/src/ga_simul.o /Users/frank/danse/refl1d/garefl/src/ga.o -L/Users/frank/danse/refl1d/garefl/model1d -lrefl -L/Users/frank/danse/refl1d/garefl/boxmin -lboxmin  -lm \n",
      "g++ -shared -o model.so setup.o /Users/frank/danse/refl1d/garefl/src/refl1d.o -L/Users/frank/danse/refl1d/garefl/model1d -lrefl  -lm \n",
      "chisq = 887013\n",
      "g++  -g -O2 -Wall  -fPIC -DUSE_DOUBLE -DReal=double -DHAVE_CONFIG_H -I/Users/frank/danse/refl1d/garefl/boxmin -I/Users/frank/danse/refl1d/garefl/model1d -I/Users/frank/danse/refl1d/garefl/src -c setup.cc -o setup.o\n"
     ]
    },
    {
     "name": "stderr",
     "output_type": "stream",
     "text": [
      "setup.cc:93:14: warning: unused variable 'freepars' [-Wunused-variable]\n",
      "    fitpars *freepars = &fit[1].pars;\n",
      "             ^\n",
      "1 warning generated.\n"
     ]
    },
    {
     "name": "stdout",
     "output_type": "stream",
     "text": [
      "cd /Users/frank/danse/refl1d/garefl/boxmin && /Applications/Xcode.app/Contents/Developer/usr/bin/make\n",
      "make[1]: Nothing to be done for `all'.\n",
      "cd /Users/frank/danse/refl1d/garefl/model1d && /Applications/Xcode.app/Contents/Developer/usr/bin/make\n",
      "make[1]: Nothing to be done for `all'.\n",
      "cd /Users/frank/danse/refl1d/garefl/src && /Applications/Xcode.app/Contents/Developer/usr/bin/make\n",
      "make[1]: Nothing to be done for `all'.\n",
      "g++    -fPIC -o fit setup.o /Users/frank/danse/refl1d/garefl/src/ga_simul.o /Users/frank/danse/refl1d/garefl/src/ga.o -L/Users/frank/danse/refl1d/garefl/model1d -lrefl -L/Users/frank/danse/refl1d/garefl/boxmin -lboxmin  -lm \n",
      "g++ -shared -o model.so setup.o /Users/frank/danse/refl1d/garefl/src/refl1d.o -L/Users/frank/danse/refl1d/garefl/model1d -lrefl  -lm \n",
      "# /Users/frank/opt/anaconda3/envs/Python37/bin/refl1d_cli.py /Users/frank/Dropbox/My Mac (PN115993.campus.nist.gov)/Documents/programming/molgroups/examples/information_theory/entropy_gridsearch_singlethread/garefl/iteration_13/run.py --fit=dream --parallel --init=lhs --batch --store=/Users/frank/Dropbox/My Mac (PN115993.campus.nist.gov)/Documents/programming/molgroups/examples/information_theory/entropy_gridsearch_singlethread/garefl/iteration_13/save --burn=8000 --steps=500 --seed=795419\n",
      "[0] = l_siox = 10 in [10,30]\n",
      "[1] = rho_siox = 3.2 in [3.2,3.8]\n",
      "[2] = l_submembrane = 1 in [1,10]\n",
      "[3] = l_lipid1 = 10 in [10,15]\n",
      "[4] = l_lipid2 = 10 in [10,15]\n",
      "[5] = vf_bilayer = 0.9 in [0.9,1]\n",
      "[6] = rho_solv_0 = 6.06 in [5.46,6.06]\n",
      "[7] = global_rough = 2 in [2,5]\n",
      "[8] = sigma = 2 in [2,5]\n",
      "[9] = background_0 = -5 in [-9,-5]\n",
      "\n",
      "[chisq=4476.41(17), nllf=149960]\n",
      "# /Users/frank/opt/anaconda3/envs/Python37/bin/refl1d_cli.py /Users/frank/Dropbox/My Mac (PN115993.campus.nist.gov)/Documents/programming/molgroups/examples/information_theory/entropy_gridsearch_singlethread/garefl/iteration_13/run.py --fit=dream --parallel --init=lhs --batch --store=/Users/frank/Dropbox/My Mac (PN115993.campus.nist.gov)/Documents/programming/molgroups/examples/information_theory/entropy_gridsearch_singlethread/garefl/iteration_13/save --burn=8000 --steps=500 --seed=795419\n",
      "[0] = l_siox = 10 in [10,30]\n",
      "[1] = rho_siox = 3.2 in [3.2,3.8]\n",
      "[2] = l_submembrane = 1 in [1,10]\n",
      "[3] = l_lipid1 = 10 in [10,15]\n",
      "[4] = l_lipid2 = 10 in [10,15]\n",
      "[5] = vf_bilayer = 0.9 in [0.9,1]\n",
      "[6] = rho_solv_0 = 6.06 in [5.46,6.06]\n",
      "[7] = global_rough = 2 in [2,5]\n",
      "[8] = sigma = 2 in [2,5]\n",
      "[9] = background_0 = -5 in [-9,-5]\n",
      "\n",
      "[chisq=4476.41(17), nllf=149960]\n",
      "g++  -g -O2 -Wall  -fPIC -DUSE_DOUBLE -DReal=double -DHAVE_CONFIG_H -I/Users/frank/danse/refl1d/garefl/boxmin -I/Users/frank/danse/refl1d/garefl/model1d -I/Users/frank/danse/refl1d/garefl/src -c setup.cc -o setup.o\n"
     ]
    },
    {
     "name": "stderr",
     "output_type": "stream",
     "text": [
      "setup.cc:93:14: warning: unused variable 'freepars' [-Wunused-variable]\n",
      "    fitpars *freepars = &fit[1].pars;\n",
      "             ^\n",
      "1 warning generated.\n"
     ]
    },
    {
     "name": "stdout",
     "output_type": "stream",
     "text": [
      "cd /Users/frank/danse/refl1d/garefl/boxmin && /Applications/Xcode.app/Contents/Developer/usr/bin/make\n",
      "make[1]: Nothing to be done for `all'.\n",
      "cd /Users/frank/danse/refl1d/garefl/model1d && /Applications/Xcode.app/Contents/Developer/usr/bin/make\n",
      "make[1]: Nothing to be done for `all'.\n",
      "cd /Users/frank/danse/refl1d/garefl/src && /Applications/Xcode.app/Contents/Developer/usr/bin/make\n",
      "make[1]: Nothing to be done for `all'.\n",
      "g++    -fPIC -o fit setup.o /Users/frank/danse/refl1d/garefl/src/ga_simul.o /Users/frank/danse/refl1d/garefl/src/ga.o -L/Users/frank/danse/refl1d/garefl/model1d -lrefl -L/Users/frank/danse/refl1d/garefl/boxmin -lboxmin  -lm \n",
      "g++ -shared -o model.so setup.o /Users/frank/danse/refl1d/garefl/src/refl1d.o -L/Users/frank/danse/refl1d/garefl/model1d -lrefl  -lm \n"
     ]
    },
    {
     "name": "stderr",
     "output_type": "stream",
     "text": [
      "rm: /Users/frank/Dropbox/My Mac (PN115993.campus.nist.gov)/Documents/programming/molgroups/examples/information_theory/entropy_gridsearch_singlethread/garefl/iteration_13/save/run-point.mc: No such file or directory\n",
      "rm: /Users/frank/Dropbox/My Mac (PN115993.campus.nist.gov)/Documents/programming/molgroups/examples/information_theory/entropy_gridsearch_singlethread/garefl/iteration_13/save/run-chain.mc: No such file or directory\n",
      "rm: /Users/frank/Dropbox/My Mac (PN115993.campus.nist.gov)/Documents/programming/molgroups/examples/information_theory/entropy_gridsearch_singlethread/garefl/iteration_13/save/run-stats.mc: No such file or directory\n"
     ]
    },
    {
     "name": "stdout",
     "output_type": "stream",
     "text": [
      "g++  -g -O2 -Wall  -fPIC -DUSE_DOUBLE -DReal=double -DHAVE_CONFIG_H -I/Users/frank/danse/refl1d/garefl/boxmin -I/Users/frank/danse/refl1d/garefl/model1d -I/Users/frank/danse/refl1d/garefl/src -c setup.cc -o setup.o\n"
     ]
    },
    {
     "name": "stderr",
     "output_type": "stream",
     "text": [
      "setup.cc:93:14: warning: unused variable 'freepars' [-Wunused-variable]\n",
      "    fitpars *freepars = &fit[1].pars;\n",
      "             ^\n",
      "1 warning generated.\n"
     ]
    },
    {
     "name": "stdout",
     "output_type": "stream",
     "text": [
      "cd /Users/frank/danse/refl1d/garefl/boxmin && /Applications/Xcode.app/Contents/Developer/usr/bin/make\n",
      "make[1]: Nothing to be done for `all'.\n",
      "cd /Users/frank/danse/refl1d/garefl/model1d && /Applications/Xcode.app/Contents/Developer/usr/bin/make\n",
      "make[1]: Nothing to be done for `all'.\n",
      "cd /Users/frank/danse/refl1d/garefl/src && /Applications/Xcode.app/Contents/Developer/usr/bin/make\n",
      "make[1]: Nothing to be done for `all'.\n",
      "g++    -fPIC -o fit setup.o /Users/frank/danse/refl1d/garefl/src/ga_simul.o /Users/frank/danse/refl1d/garefl/src/ga.o -L/Users/frank/danse/refl1d/garefl/model1d -lrefl -L/Users/frank/danse/refl1d/garefl/boxmin -lboxmin  -lm \n",
      "g++ -shared -o model.so setup.o /Users/frank/danse/refl1d/garefl/src/refl1d.o -L/Users/frank/danse/refl1d/garefl/model1d -lrefl  -lm \n",
      "Found T/run.par \n",
      "\n",
      "Loading MCMC best-fit parameters ...\n",
      "l_siox 18.0\n",
      "rho_siox 3.55e-06\n",
      "l_submembrane 2.5\n",
      "l_lipid1 11.8\n",
      "l_lipid2 12.4\n",
      "vf_bilayer 0.95\n",
      "rho_solv_0 6.5e-06\n",
      "global_rough 3.0\n",
      "sigma 2.5\n",
      "background_0 -8.0\n",
      "g++  -g -O2 -Wall  -fPIC -DUSE_DOUBLE -DReal=double -DHAVE_CONFIG_H -I/Users/frank/danse/refl1d/garefl/boxmin -I/Users/frank/danse/refl1d/garefl/model1d -I/Users/frank/danse/refl1d/garefl/src -c setup.cc -o setup.o\n"
     ]
    },
    {
     "name": "stderr",
     "output_type": "stream",
     "text": [
      "setup.cc:103:14: warning: unused variable 'freepars' [-Wunused-variable]\n",
      "    fitpars *freepars = &fit[1].pars;\n",
      "             ^\n",
      "1 warning generated.\n"
     ]
    },
    {
     "name": "stdout",
     "output_type": "stream",
     "text": [
      "cd /Users/frank/danse/refl1d/garefl/boxmin && /Applications/Xcode.app/Contents/Developer/usr/bin/make\n",
      "make[1]: Nothing to be done for `all'.\n",
      "cd /Users/frank/danse/refl1d/garefl/model1d && /Applications/Xcode.app/Contents/Developer/usr/bin/make\n",
      "make[1]: Nothing to be done for `all'.\n",
      "cd /Users/frank/danse/refl1d/garefl/src && /Applications/Xcode.app/Contents/Developer/usr/bin/make\n",
      "make[1]: Nothing to be done for `all'.\n",
      "g++    -fPIC -o fit setup.o /Users/frank/danse/refl1d/garefl/src/ga_simul.o /Users/frank/danse/refl1d/garefl/src/ga.o -L/Users/frank/danse/refl1d/garefl/model1d -lrefl -L/Users/frank/danse/refl1d/garefl/boxmin -lboxmin  -lm \n",
      "g++ -shared -o model.so setup.o /Users/frank/danse/refl1d/garefl/src/refl1d.o -L/Users/frank/danse/refl1d/garefl/model1d -lrefl  -lm \n",
      "chisq = 983312\n",
      "g++  -g -O2 -Wall  -fPIC -DUSE_DOUBLE -DReal=double -DHAVE_CONFIG_H -I/Users/frank/danse/refl1d/garefl/boxmin -I/Users/frank/danse/refl1d/garefl/model1d -I/Users/frank/danse/refl1d/garefl/src -c setup.cc -o setup.o\n"
     ]
    },
    {
     "name": "stderr",
     "output_type": "stream",
     "text": [
      "setup.cc:93:14: warning: unused variable 'freepars' [-Wunused-variable]\n",
      "    fitpars *freepars = &fit[1].pars;\n",
      "             ^\n",
      "1 warning generated.\n"
     ]
    },
    {
     "name": "stdout",
     "output_type": "stream",
     "text": [
      "cd /Users/frank/danse/refl1d/garefl/boxmin && /Applications/Xcode.app/Contents/Developer/usr/bin/make\n",
      "make[1]: Nothing to be done for `all'.\n",
      "cd /Users/frank/danse/refl1d/garefl/model1d && /Applications/Xcode.app/Contents/Developer/usr/bin/make\n",
      "make[1]: Nothing to be done for `all'.\n",
      "cd /Users/frank/danse/refl1d/garefl/src && /Applications/Xcode.app/Contents/Developer/usr/bin/make\n",
      "make[1]: Nothing to be done for `all'.\n",
      "g++    -fPIC -o fit setup.o /Users/frank/danse/refl1d/garefl/src/ga_simul.o /Users/frank/danse/refl1d/garefl/src/ga.o -L/Users/frank/danse/refl1d/garefl/model1d -lrefl -L/Users/frank/danse/refl1d/garefl/boxmin -lboxmin  -lm \n",
      "g++ -shared -o model.so setup.o /Users/frank/danse/refl1d/garefl/src/refl1d.o -L/Users/frank/danse/refl1d/garefl/model1d -lrefl  -lm \n",
      "# /Users/frank/opt/anaconda3/envs/Python37/bin/refl1d_cli.py /Users/frank/Dropbox/My Mac (PN115993.campus.nist.gov)/Documents/programming/molgroups/examples/information_theory/entropy_gridsearch_singlethread/garefl/iteration_14/run.py --fit=dream --parallel --init=lhs --batch --store=/Users/frank/Dropbox/My Mac (PN115993.campus.nist.gov)/Documents/programming/molgroups/examples/information_theory/entropy_gridsearch_singlethread/garefl/iteration_14/save --burn=8000 --steps=500 --seed=903911\n",
      "[0] = l_siox = 10 in [10,30]\n",
      "[1] = rho_siox = 3.2 in [3.2,3.8]\n",
      "[2] = l_submembrane = 1 in [1,10]\n",
      "[3] = l_lipid1 = 10 in [10,15]\n",
      "[4] = l_lipid2 = 10 in [10,15]\n",
      "[5] = vf_bilayer = 0.9 in [0.9,1]\n",
      "[6] = rho_solv_0 = 6.35 in [5.96,6.56]\n",
      "[7] = global_rough = 2 in [2,5]\n",
      "[8] = sigma = 2 in [2,5]\n",
      "[9] = background_0 = -5 in [-9,-5]\n",
      "\n",
      "[chisq=6657.44(17), nllf=223024]\n",
      "# /Users/frank/opt/anaconda3/envs/Python37/bin/refl1d_cli.py /Users/frank/Dropbox/My Mac (PN115993.campus.nist.gov)/Documents/programming/molgroups/examples/information_theory/entropy_gridsearch_singlethread/garefl/iteration_14/run.py --fit=dream --parallel --init=lhs --batch --store=/Users/frank/Dropbox/My Mac (PN115993.campus.nist.gov)/Documents/programming/molgroups/examples/information_theory/entropy_gridsearch_singlethread/garefl/iteration_14/save --burn=8000 --steps=500 --seed=903911\n",
      "[0] = l_siox = 10 in [10,30]\n",
      "[1] = rho_siox = 3.2 in [3.2,3.8]\n",
      "[2] = l_submembrane = 1 in [1,10]\n",
      "[3] = l_lipid1 = 10 in [10,15]\n",
      "[4] = l_lipid2 = 10 in [10,15]\n",
      "[5] = vf_bilayer = 0.9 in [0.9,1]\n",
      "[6] = rho_solv_0 = 6.35 in [5.96,6.56]\n",
      "[7] = global_rough = 2 in [2,5]\n",
      "[8] = sigma = 2 in [2,5]\n",
      "[9] = background_0 = -5 in [-9,-5]\n",
      "\n",
      "[chisq=6657.44(17), nllf=223024]\n",
      "g++  -g -O2 -Wall  -fPIC -DUSE_DOUBLE -DReal=double -DHAVE_CONFIG_H -I/Users/frank/danse/refl1d/garefl/boxmin -I/Users/frank/danse/refl1d/garefl/model1d -I/Users/frank/danse/refl1d/garefl/src -c setup.cc -o setup.o\n"
     ]
    },
    {
     "name": "stderr",
     "output_type": "stream",
     "text": [
      "setup.cc:93:14: warning: unused variable 'freepars' [-Wunused-variable]\n",
      "    fitpars *freepars = &fit[1].pars;\n",
      "             ^\n",
      "1 warning generated.\n"
     ]
    },
    {
     "name": "stdout",
     "output_type": "stream",
     "text": [
      "cd /Users/frank/danse/refl1d/garefl/boxmin && /Applications/Xcode.app/Contents/Developer/usr/bin/make\n",
      "make[1]: Nothing to be done for `all'.\n",
      "cd /Users/frank/danse/refl1d/garefl/model1d && /Applications/Xcode.app/Contents/Developer/usr/bin/make\n",
      "make[1]: Nothing to be done for `all'.\n",
      "cd /Users/frank/danse/refl1d/garefl/src && /Applications/Xcode.app/Contents/Developer/usr/bin/make\n",
      "make[1]: Nothing to be done for `all'.\n",
      "g++    -fPIC -o fit setup.o /Users/frank/danse/refl1d/garefl/src/ga_simul.o /Users/frank/danse/refl1d/garefl/src/ga.o -L/Users/frank/danse/refl1d/garefl/model1d -lrefl -L/Users/frank/danse/refl1d/garefl/boxmin -lboxmin  -lm \n",
      "g++ -shared -o model.so setup.o /Users/frank/danse/refl1d/garefl/src/refl1d.o -L/Users/frank/danse/refl1d/garefl/model1d -lrefl  -lm \n"
     ]
    },
    {
     "name": "stderr",
     "output_type": "stream",
     "text": [
      "rm: /Users/frank/Dropbox/My Mac (PN115993.campus.nist.gov)/Documents/programming/molgroups/examples/information_theory/entropy_gridsearch_singlethread/garefl/iteration_14/save/run-point.mc: No such file or directory\n",
      "rm: /Users/frank/Dropbox/My Mac (PN115993.campus.nist.gov)/Documents/programming/molgroups/examples/information_theory/entropy_gridsearch_singlethread/garefl/iteration_14/save/run-chain.mc: No such file or directory\n",
      "rm: /Users/frank/Dropbox/My Mac (PN115993.campus.nist.gov)/Documents/programming/molgroups/examples/information_theory/entropy_gridsearch_singlethread/garefl/iteration_14/save/run-stats.mc: No such file or directory\n"
     ]
    }
   ],
   "source": [
    "entr.run_optimization()"
   ]
  },
  {
   "cell_type": "code",
   "execution_count": 7,
   "id": "63e19b1e",
   "metadata": {},
   "outputs": [],
   "source": [
    "entr.plot_results()"
   ]
  },
  {
   "cell_type": "code",
   "execution_count": null,
   "id": "0df1ffa9",
   "metadata": {},
   "outputs": [],
   "source": []
  }
 ],
 "metadata": {
  "interpreter": {
   "hash": "05d582df831dd7fae68dfffc73e5ea31ad7a23d6a2275d5f88151c2f48f29d76"
  },
  "kernelspec": {
   "display_name": "Python 3 (ipykernel)",
   "language": "python",
   "name": "python3"
  },
  "language_info": {
   "codemirror_mode": {
    "name": "ipython",
    "version": 3
   },
   "file_extension": ".py",
   "mimetype": "text/x-python",
   "name": "python",
   "nbconvert_exporter": "python",
   "pygments_lexer": "ipython3",
   "version": "3.7.12"
  }
 },
 "nbformat": 4,
 "nbformat_minor": 5
}
