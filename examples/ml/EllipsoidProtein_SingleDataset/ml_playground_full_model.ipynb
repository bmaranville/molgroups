{
 "cells": [
  {
   "cell_type": "code",
   "execution_count": 1,
   "outputs": [],
   "source": [
    "import matplotlib.pyplot as plt\n",
    "import numpy\n",
    "import pandas\n",
    "\n",
    "import tensorflow as tf\n",
    "from tensorflow import keras\n",
    "from tensorflow.keras import layers\n",
    "\n",
    "from keras.models import Sequential\n",
    "from keras.layers import Dense\n",
    "\n",
    "import sklearn.utils\n",
    "\n",
    "import pickle\n",
    "def fnSaveObject(save_object, sFileName):\n",
    "    with open(sFileName, \"wb\") as file:\n",
    "        pickle.dump(save_object, file)\n",
    "\n",
    "def fnLoadObject(sFileName):\n",
    "    with open(sFileName, 'rb') as file:\n",
    "        load_object = pickle.load(file)\n",
    "    return load_object\n",
    "\n",
    "sans_models = ['core_shell_cylinder', 'core_shell_ellipsoid', 'three_pearl_necklace', 'lamellar']\n",
    "# sans_models = ['core_shell_cylinder', 'core_shell_cylinder', 'core_shell_cylinder', 'core_shell_cylinder']"
   ],
   "metadata": {
    "collapsed": false
   }
  },
  {
   "cell_type": "code",
   "execution_count": 2,
   "outputs": [
    {
     "name": "stdout",
     "output_type": "stream",
     "text": [
      "core_shell_cylinder\n",
      "core_shell_ellipsoid\n",
      "three_pearl_necklace\n",
      "lamellar\n"
     ]
    }
   ],
   "source": [
    "# data preparation\n",
    "def y_encode(model, ydata, modellist, ydim):\n",
    "    def onehot(y_cl, num_classes):\n",
    "        y = numpy.zeros((len(y_cl), num_classes))\n",
    "        y[numpy.arange(len(y_cl)), y_cl] = 1\n",
    "        return y\n",
    "\n",
    "    result = []\n",
    "    class_number = None\n",
    "    for i, modelname in enumerate(modellist):\n",
    "        # regression outputs\n",
    "        if model == modelname:\n",
    "            # fill output for particular model with training values\n",
    "            result.append(ydata)\n",
    "            class_number = i\n",
    "        else:\n",
    "            # the outputs for the other models are set to zero\n",
    "            result.append(numpy.zeros(shape=(ydata.shape[0], ydim[i])).astype('float32'))\n",
    "\n",
    "    # classification output, one-hot encoding for the particular model\n",
    "    oh = numpy.full((ydata.shape[0]), class_number)\n",
    "    oh = onehot(oh, len(modellist)).astype('float32')\n",
    "    result.append(oh)\n",
    "\n",
    "    return result\n",
    "\n",
    "\n",
    "# step-by-step model loading and data augmentation\n",
    "data_x_pandas = []\n",
    "data_y_pandas = []\n",
    "data_x = None\n",
    "data_y = None\n",
    "ydim = []\n",
    "for sansmodel in sans_models:\n",
    "    print(sansmodel)\n",
    "    data_x_pandas.append(fnLoadObject('train_'+sansmodel+'_x.dat'))\n",
    "    data_y_pandas.append(fnLoadObject('train_'+sansmodel+'_y.dat'))\n",
    "    # number of parameters knowing that scale and sld_solvent will be dropped\n",
    "    ydim.append(data_y_pandas[-1][0].shape[0]-2)\n",
    "\n",
    "\n",
    "for i, sansmodel in enumerate(sans_models):\n",
    "    parlist = data_y_pandas[i][0]['par'].values.tolist()\n",
    "    modparlist = []\n",
    "    for par in parlist:\n",
    "        if 'sld' in par and par != 'sld_solvent':\n",
    "            modparlist.append(par)\n",
    "\n",
    "    for frame in data_y_pandas[i]:\n",
    "        solvent_sld = frame.loc[frame.par =='sld_solvent', 'value'].squeeze()\n",
    "\n",
    "        # reduce all sld values in the model to their difference to the solvent sld\n",
    "        for par in modparlist:\n",
    "            sld = frame.loc[frame.par == par, 'value'].squeeze()\n",
    "            frame.loc[frame.par == par, 'value'] = solvent_sld - sld\n",
    "\n",
    "        # remove solvent sld and scale factor, since they cannot be resolved\n",
    "        index_names = frame[ frame['par'] == 'scale'].index\n",
    "        frame.drop(index_names, inplace = True)\n",
    "        index_names = frame[ frame['par'] == 'sld_solvent'].index\n",
    "        frame.drop(index_names, inplace = True)\n",
    "\n",
    "    new_x = numpy.row_stack([frame['I'].to_numpy() for frame in data_x_pandas[i]])\n",
    "    new_x = numpy.log10(new_x).astype('float32')\n",
    "    new_y = numpy.row_stack([frame['value'].to_numpy() for frame in data_y_pandas[i]]).astype('float32')\n",
    "    new_y = y_encode(sansmodel, new_y, sans_models, ydim)\n",
    "\n",
    "    if data_x is None:\n",
    "        data_x = new_x\n",
    "    else:\n",
    "        data_x = numpy.concatenate((data_x, new_x), axis=0)\n",
    "\n",
    "    if data_y is None:\n",
    "        data_y = new_y\n",
    "    else:\n",
    "        for j in range(len(sans_models)+1):\n",
    "            data_y[j] = numpy.concatenate((data_y[j], new_y[j]), axis=0)\n",
    "\n",
    "# Prepare for proper training\n",
    "# randomly sort examples\n",
    "data_y.append(data_x)\n",
    "data_y = sklearn.utils.shuffle(*data_y, random_state=0)\n",
    "data_x = data_y[-1]\n",
    "data_y = data_y[:-1]\n",
    "pass"
   ],
   "metadata": {
    "collapsed": false
   }
  },
  {
   "cell_type": "code",
   "execution_count": 3,
   "metadata": {
    "collapsed": true
   },
   "outputs": [],
   "source": [
    "# model construction\n",
    "input_dim = data_x.shape[1]\n",
    "n_input_layers = 4\n",
    "n_branch_layers = 4\n",
    "output_layers = []\n",
    "\n",
    "node_n = input_dim\n",
    "\n",
    "activation = \"relu\"\n",
    "reg_strategy = keras.regularizers.l1_l2(l1=0.001, l2=0.001)  # use L1 and L2 regularization\n",
    "\n",
    "# common input layers\n",
    "sans_input = keras.Input(shape=(input_dim, ))\n",
    "x = layers.Dense(node_n, activation=activation, kernel_regularizer=reg_strategy)(sans_input)\n",
    "for _ in range(n_input_layers-1):\n",
    "    x = layers.Dense(node_n, activation=activation, kernel_regularizer=reg_strategy)(x)\n",
    "\n",
    "# split into different model regression layers plus classification\n",
    "# regression\n",
    "for j, sans_model in enumerate(sans_models):\n",
    "    x2 = layers.Dense(node_n, activation=activation, kernel_regularizer=reg_strategy)(x)\n",
    "    for i in range(n_branch_layers-1):\n",
    "        x2 = layers.Dense(node_n, activation=activation, kernel_regularizer=reg_strategy)(x2)\n",
    "    output_layers.append(Dense(data_y[j].shape[1], activation=\"linear\")(x2))\n",
    "\n",
    "# classification\n",
    "x2 = layers.Dense(node_n, activation=activation, kernel_regularizer=reg_strategy)(x)\n",
    "for _ in range(n_branch_layers-1):\n",
    "    x2 = layers.Dense(node_n, activation=activation, kernel_regularizer=reg_strategy)(x2)\n",
    "output_layers.append(Dense(len(sans_models), activation=\"softmax\")(x2))\n",
    "\n",
    "#model\n",
    "model = keras.Model(\n",
    "    inputs=[sans_input],\n",
    "    outputs=output_layers,\n",
    ")\n"
   ]
  },
  {
   "cell_type": "code",
   "execution_count": 4,
   "outputs": [
    {
     "name": "stdout",
     "output_type": "stream",
     "text": [
      "Model: \"model\"\n",
      "__________________________________________________________________________________________________\n",
      " Layer (type)                   Output Shape         Param #     Connected to                     \n",
      "==================================================================================================\n",
      " input_1 (InputLayer)           [(None, 105)]        0           []                               \n",
      "                                                                                                  \n",
      " dense (Dense)                  (None, 105)          11130       ['input_1[0][0]']                \n",
      "                                                                                                  \n",
      " dense_1 (Dense)                (None, 105)          11130       ['dense[0][0]']                  \n",
      "                                                                                                  \n",
      " dense_2 (Dense)                (None, 105)          11130       ['dense_1[0][0]']                \n",
      "                                                                                                  \n",
      " dense_3 (Dense)                (None, 105)          11130       ['dense_2[0][0]']                \n",
      "                                                                                                  \n",
      " dense_4 (Dense)                (None, 105)          11130       ['dense_3[0][0]']                \n",
      "                                                                                                  \n",
      " dense_9 (Dense)                (None, 105)          11130       ['dense_3[0][0]']                \n",
      "                                                                                                  \n",
      " dense_14 (Dense)               (None, 105)          11130       ['dense_3[0][0]']                \n",
      "                                                                                                  \n",
      " dense_19 (Dense)               (None, 105)          11130       ['dense_3[0][0]']                \n",
      "                                                                                                  \n",
      " dense_24 (Dense)               (None, 105)          11130       ['dense_3[0][0]']                \n",
      "                                                                                                  \n",
      " dense_5 (Dense)                (None, 105)          11130       ['dense_4[0][0]']                \n",
      "                                                                                                  \n",
      " dense_10 (Dense)               (None, 105)          11130       ['dense_9[0][0]']                \n",
      "                                                                                                  \n",
      " dense_15 (Dense)               (None, 105)          11130       ['dense_14[0][0]']               \n",
      "                                                                                                  \n",
      " dense_20 (Dense)               (None, 105)          11130       ['dense_19[0][0]']               \n",
      "                                                                                                  \n",
      " dense_25 (Dense)               (None, 105)          11130       ['dense_24[0][0]']               \n",
      "                                                                                                  \n",
      " dense_6 (Dense)                (None, 105)          11130       ['dense_5[0][0]']                \n",
      "                                                                                                  \n",
      " dense_11 (Dense)               (None, 105)          11130       ['dense_10[0][0]']               \n",
      "                                                                                                  \n",
      " dense_16 (Dense)               (None, 105)          11130       ['dense_15[0][0]']               \n",
      "                                                                                                  \n",
      " dense_21 (Dense)               (None, 105)          11130       ['dense_20[0][0]']               \n",
      "                                                                                                  \n",
      " dense_26 (Dense)               (None, 105)          11130       ['dense_25[0][0]']               \n",
      "                                                                                                  \n",
      " dense_7 (Dense)                (None, 105)          11130       ['dense_6[0][0]']                \n",
      "                                                                                                  \n",
      " dense_12 (Dense)               (None, 105)          11130       ['dense_11[0][0]']               \n",
      "                                                                                                  \n",
      " dense_17 (Dense)               (None, 105)          11130       ['dense_16[0][0]']               \n",
      "                                                                                                  \n",
      " dense_22 (Dense)               (None, 105)          11130       ['dense_21[0][0]']               \n",
      "                                                                                                  \n",
      " dense_27 (Dense)               (None, 105)          11130       ['dense_26[0][0]']               \n",
      "                                                                                                  \n",
      " dense_8 (Dense)                (None, 5)            530         ['dense_7[0][0]']                \n",
      "                                                                                                  \n",
      " dense_13 (Dense)               (None, 6)            636         ['dense_12[0][0]']               \n",
      "                                                                                                  \n",
      " dense_18 (Dense)               (None, 5)            530         ['dense_17[0][0]']               \n",
      "                                                                                                  \n",
      " dense_23 (Dense)               (None, 2)            212         ['dense_22[0][0]']               \n",
      "                                                                                                  \n",
      " dense_28 (Dense)               (None, 4)            424         ['dense_27[0][0]']               \n",
      "                                                                                                  \n",
      "==================================================================================================\n",
      "Total params: 269,452\n",
      "Trainable params: 269,452\n",
      "Non-trainable params: 0\n",
      "__________________________________________________________________________________________________\n",
      "None\n"
     ]
    }
   ],
   "source": [
    "def fn_regression_loss(y_true, y_pred):\n",
    "    # rank = tf.rank(y_true)\n",
    "    # if rank == 2:\n",
    "    pattern = tf.zeros_like(y_true[0])\n",
    "    shape = y_true.shape[1]\n",
    "    mask = tf.math.equal(y_true, pattern)\n",
    "    split = tf.split(mask, num_or_size_splits=shape, axis=1)\n",
    "\n",
    "    '''\n",
    "        else:\n",
    "        # unsure this function will ever get a one-dimensional vector\n",
    "        pattern = tf.zeros_like(y_true)\n",
    "        shape = y_true.shape[0]\n",
    "        mask = tf.math.equal(y_true, pattern)\n",
    "        split = tf.split(mask, num_or_size_splits=shape, axis=0)\n",
    "    '''\n",
    "\n",
    "    y_mult = split[0]\n",
    "    for i in range(1, shape):\n",
    "        y_mult = tf.math.logical_and(y_mult, split[i])\n",
    "    y_mult = tf.where(y_mult, 0., 1.)\n",
    "\n",
    "    mse = tf.reduce_mean((tf.squeeze(y_pred)-tf.squeeze(y_true))**2, axis=1)\n",
    "    mse_masked = tf.math.multiply(tf.squeeze(mse), tf.squeeze(y_mult))\n",
    "    result = tf.reduce_mean(mse_masked)\n",
    "\n",
    "    return result\n",
    "\n",
    "opt = keras.optimizers.Adam(learning_rate=0.0005)\n",
    "losslist = [fn_regression_loss] * len(sans_models)\n",
    "losslist.append(keras.losses.CategoricalCrossentropy(from_logits=False))\n",
    "\n",
    "model.compile(optimizer=opt, loss=losslist)\n",
    "print(model.summary())"
   ],
   "metadata": {
    "collapsed": false
   }
  },
  {
   "cell_type": "code",
   "execution_count": 5,
   "outputs": [
    {
     "name": "stdout",
     "output_type": "stream",
     "text": [
      "You must install pydot (`pip install pydot`) and install graphviz (see instructions at https://graphviz.gitlab.io/download/) for plot_model to work.\n"
     ]
    }
   ],
   "source": [
    "tf.keras.utils.plot_model(model)"
   ],
   "metadata": {
    "collapsed": false
   }
  },
  {
   "cell_type": "code",
   "execution_count": 6,
   "outputs": [
    {
     "name": "stdout",
     "output_type": "stream",
     "text": [
      "Epoch 1/10\n",
      "2000/2000 [==============================] - 10s 4ms/step - loss: 2549.0427 - dense_8_loss: 467.3531 - dense_13_loss: 255.3739 - dense_18_loss: 1650.1970 - dense_23_loss: 163.9850 - dense_28_loss: 1.3616 - val_loss: 2052.1882 - val_dense_8_loss: 429.5264 - val_dense_13_loss: 217.8139 - val_dense_18_loss: 1343.1697 - val_dense_23_loss: 51.7696 - val_dense_28_loss: 1.3261\n",
      "Epoch 2/10\n",
      "2000/2000 [==============================] - 7s 4ms/step - loss: 1986.5863 - dense_8_loss: 419.6346 - dense_13_loss: 222.4438 - dense_18_loss: 1289.4309 - dense_23_loss: 45.8085 - dense_28_loss: 1.3222 - val_loss: 1967.2085 - val_dense_8_loss: 409.0842 - val_dense_13_loss: 212.6947 - val_dense_18_loss: 1295.8181 - val_dense_23_loss: 40.8332 - val_dense_28_loss: 1.3116\n",
      "Epoch 3/10\n",
      "2000/2000 [==============================] - 7s 3ms/step - loss: 1887.1431 - dense_8_loss: 408.0553 - dense_13_loss: 217.8968 - dense_18_loss: 1217.0618 - dense_23_loss: 35.6410 - dense_28_loss: 1.3099 - val_loss: 1875.8062 - val_dense_8_loss: 417.7517 - val_dense_13_loss: 219.7340 - val_dense_18_loss: 1169.2476 - val_dense_23_loss: 60.8328 - val_dense_28_loss: 1.3159\n",
      "Epoch 4/10\n",
      "2000/2000 [==============================] - 7s 3ms/step - loss: 1787.7545 - dense_8_loss: 397.7910 - dense_13_loss: 213.7067 - dense_18_loss: 1136.0118 - dense_23_loss: 32.2167 - dense_28_loss: 1.2987 - val_loss: 1677.3143 - val_dense_8_loss: 388.8584 - val_dense_13_loss: 221.9731 - val_dense_18_loss: 1034.5044 - val_dense_23_loss: 24.1186 - val_dense_28_loss: 1.3098\n",
      "Epoch 5/10\n",
      "2000/2000 [==============================] - 7s 3ms/step - loss: 1730.9026 - dense_8_loss: 388.0776 - dense_13_loss: 208.9201 - dense_18_loss: 1094.7242 - dense_23_loss: 31.4947 - dense_28_loss: 1.2910 - val_loss: 1685.9536 - val_dense_8_loss: 440.4919 - val_dense_13_loss: 213.9439 - val_dense_18_loss: 1000.5439 - val_dense_23_loss: 23.4491 - val_dense_28_loss: 1.2750\n",
      "Epoch 6/10\n",
      "2000/2000 [==============================] - 7s 3ms/step - loss: 1683.5227 - dense_8_loss: 378.1817 - dense_13_loss: 206.6582 - dense_18_loss: 1062.7916 - dense_23_loss: 28.5091 - dense_28_loss: 1.2661 - val_loss: 1558.0118 - val_dense_8_loss: 364.7096 - val_dense_13_loss: 198.8414 - val_dense_18_loss: 964.4683 - val_dense_23_loss: 22.7409 - val_dense_28_loss: 1.2669\n",
      "Epoch 7/10\n",
      "2000/2000 [==============================] - 7s 3ms/step - loss: 1661.8448 - dense_8_loss: 369.8224 - dense_13_loss: 202.1128 - dense_18_loss: 1053.5302 - dense_23_loss: 29.2483 - dense_28_loss: 1.2460 - val_loss: 1640.4697 - val_dense_8_loss: 372.7110 - val_dense_13_loss: 201.9907 - val_dense_18_loss: 1038.4943 - val_dense_23_loss: 20.2528 - val_dense_28_loss: 1.2276\n",
      "Epoch 8/10\n",
      "2000/2000 [==============================] - 7s 3ms/step - loss: 1605.2845 - dense_8_loss: 356.3591 - dense_13_loss: 198.3165 - dense_18_loss: 1017.2072 - dense_23_loss: 26.4627 - dense_28_loss: 1.2245 - val_loss: 1540.9846 - val_dense_8_loss: 358.0206 - val_dense_13_loss: 218.0480 - val_dense_18_loss: 920.1462 - val_dense_23_loss: 37.9312 - val_dense_28_loss: 1.1877\n",
      "Epoch 9/10\n",
      "2000/2000 [==============================] - 7s 3ms/step - loss: 1551.6123 - dense_8_loss: 346.6867 - dense_13_loss: 197.1439 - dense_18_loss: 975.7759 - dense_23_loss: 25.2212 - dense_28_loss: 1.1852 - val_loss: 1520.3604 - val_dense_8_loss: 351.0109 - val_dense_13_loss: 197.9759 - val_dense_18_loss: 943.8080 - val_dense_23_loss: 20.8601 - val_dense_28_loss: 1.1461\n",
      "Epoch 10/10\n",
      "2000/2000 [==============================] - 7s 3ms/step - loss: 1508.4996 - dense_8_loss: 341.0193 - dense_13_loss: 193.2948 - dense_18_loss: 942.8346 - dense_23_loss: 24.7079 - dense_28_loss: 1.1047 - val_loss: 1370.2185 - val_dense_8_loss: 322.7334 - val_dense_13_loss: 185.5490 - val_dense_18_loss: 837.8503 - val_dense_23_loss: 17.5437 - val_dense_28_loss: 1.0327\n"
     ]
    }
   ],
   "source": [
    "epochs_n = 1000\n",
    "batch_size = 16\n",
    "\n",
    "save_period = 20  # after how many epochs the model should be saved?\n",
    "chkpnt_saver = keras.callbacks.ModelCheckpoint(\"weights-{epoch:02d}.hdf5\",\n",
    "                                               save_weights_only=False,\n",
    "                                               save_freq='epoch')\n",
    "\n",
    "\n",
    "history = model.fit(data_x, data_y,\n",
    "                    epochs=epochs_n,\n",
    "                    batch_size=batch_size,\n",
    "                    verbose=1,\n",
    "                    validation_split = 0.3,\n",
    "                    shuffle=True,\n",
    "                    callbacks=[chkpnt_saver]\n",
    "                    )\n"
   ],
   "metadata": {
    "collapsed": false
   }
  },
  {
   "cell_type": "code",
   "execution_count": 7,
   "outputs": [
    {
     "name": "stderr",
     "output_type": "stream",
     "text": [
      "WARNING:absl:Found untraced functions such as _update_step_xla while saving (showing 1 of 1). These functions will not be directly callable after loading.\n"
     ]
    },
    {
     "name": "stdout",
     "output_type": "stream",
     "text": [
      "INFO:tensorflow:Assets written to: ml_model\\assets\n"
     ]
    },
    {
     "name": "stderr",
     "output_type": "stream",
     "text": [
      "INFO:tensorflow:Assets written to: ml_model\\assets\n"
     ]
    }
   ],
   "source": [
    "model.save('ml_model')"
   ],
   "metadata": {
    "collapsed": false
   }
  },
  {
   "cell_type": "code",
   "execution_count": 10,
   "outputs": [],
   "source": [
    "# The history object returned by the model training above\n",
    "# contains the values of the loss function (the mean-squared-error)\n",
    "# at different epochs\n",
    "# We discard the first epoch as the loss value is very high,\n",
    "# obscuring the rest of the distribution\n",
    "train_loss = history.history[\"loss\"][1:]\n",
    "test_loss = history.history[\"val_loss\"][1:]"
   ],
   "metadata": {
    "collapsed": false
   }
  },
  {
   "cell_type": "code",
   "execution_count": 11,
   "outputs": [
    {
     "name": "stdout",
     "output_type": "stream",
     "text": [
      "dict_keys(['loss', 'dense_8_loss', 'dense_13_loss', 'dense_18_loss', 'dense_23_loss', 'dense_28_loss', 'val_loss', 'val_dense_8_loss', 'val_dense_13_loss', 'val_dense_18_loss', 'val_dense_23_loss', 'val_dense_28_loss'])\n"
     ]
    }
   ],
   "source": [
    "print(history.history.keys())"
   ],
   "metadata": {
    "collapsed": false
   }
  },
  {
   "cell_type": "code",
   "execution_count": 12,
   "outputs": [
    {
     "data": {
      "text/plain": "<Figure size 640x480 with 1 Axes>",
      "image/png": "[encoded data removed]"
     },
     "metadata": {},
     "output_type": "display_data"
    }
   ],
   "source": [
    "# Prepare and plot loss over time\n",
    "plt.plot(train_loss,label=\"train\")\n",
    "plt.plot(test_loss,label=\"test\")\n",
    "plt.legend()\n",
    "plt.xlabel(\"Epoch-1\")\n",
    "plt.ylabel(\"Loss\")\n",
    "plt.show()"
   ],
   "metadata": {
    "collapsed": false
   }
  },
  {
   "cell_type": "code",
   "execution_count": null,
   "outputs": [],
   "source": [],
   "metadata": {
    "collapsed": false
   }
  }
 ],
 "metadata": {
  "kernelspec": {
   "display_name": "Python 3",
   "language": "python",
   "name": "python3"
  },
  "language_info": {
   "codemirror_mode": {
    "name": "ipython",
    "version": 2
   },
   "file_extension": ".py",
   "mimetype": "text/x-python",
   "name": "python",
   "nbconvert_exporter": "python",
   "pygments_lexer": "ipython2",
   "version": "2.7.6"
  }
 },
 "nbformat": 4,
 "nbformat_minor": 0
}
