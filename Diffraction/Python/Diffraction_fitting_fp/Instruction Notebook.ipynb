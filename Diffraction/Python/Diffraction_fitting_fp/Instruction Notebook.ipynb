{
 "cells": [
  {
   "cell_type": "markdown",
   "metadata": {},
   "source": [
    "aaa\n",
    "\n",
    "get the modules listed here + the modules needed to run them "
   ]
  },
  {
   "cell_type": "code",
   "execution_count": 1,
   "metadata": {
    "scrolled": true
   },
   "outputs": [
    {
     "name": "stdout",
     "output_type": "stream",
     "text": [
      "/Users/alyssa/Documents/GitHub/molgroups/Diffraction/Python/Diffraction_fitting_fp\n"
     ]
    }
   ],
   "source": [
    "!pwd\n",
    "from bumps.names import *\n",
    "import matplotlib.pyplot as plt\n",
    "import numpy as np\n",
    "import scipy.integrate\n",
    "import scipy.fft as fft\n",
    "import molgroups as mol"
   ]
  },
  {
   "cell_type": "code",
   "execution_count": 2,
   "metadata": {},
   "outputs": [],
   "source": [
    "def getSLD(aArea, aSL, dimension, stepsize, normArea, bulknsld):\n",
    "    aSLD = np.zeros(dimension).tolist()\n",
    "    for i in range(dimension):\n",
    "        if aArea[i] != 0:\n",
    "            aSLD[i] = aSL[i] / (aArea[i]*stepsize) * aArea[i] / normArea + bulknsld * (1 - aArea[i]/normArea)\n",
    "        else:\n",
    "            aSLD[i] = bulknsld\n",
    "    return aSLD"
   ]
  },
  {
   "cell_type": "code",
   "execution_count": 3,
   "metadata": {},
   "outputs": [],
   "source": [
    "def computeFormFactor(lq, aSLD, dimension, stepsize, bulknsld, prefactor, dq):\n",
    "    center = bilayer.fnGetCenter()\n",
    "    center = center//stepsize\n",
    "    canvas_center = dimension//2\n",
    "    n = int(canvas_center - center)\n",
    "    centered_bilayer = np.roll(aSLD, n)\n",
    "    symmetrized_bilayer = np.add(centered_bilayer, centered_bilayer[::-1])*0.5\n",
    "    symmetrized_bilayer -= bulknsld\n",
    "    half_bilayer = symmetrized_bilayer[int(dimension/2):]\n",
    "\n",
    "    # TODO: Make sure that lq and x are roughly comparable\n",
    "    dct_dimension = 5000\n",
    "    F = fft.dct(half_bilayer, n=dct_dimension)\n",
    "    F = np.abs(F)\n",
    "    x = np.array([np.pi/(2*dct_dimension*stepsize)*(2*i) + dq for i in range(int(dct_dimension))])\n",
    "\n",
    "    # interpolate (x, F) onto lq -> (lq, modelform)\n",
    "    return np.interp(lq, x, F, left=None, right=None, period=None)*prefactor"
   ]
  },
  {
   "cell_type": "code",
   "execution_count": 4,
   "metadata": {},
   "outputs": [],
   "source": [
    "def setBilayer(startz, l_lipid, sigma, bulknsld, rel_pos, hg_thickness, methyl_sigma):\n",
    "    bilayer.headgroup1.fnSet(hg_thickness, rel_pos)\n",
    "    bilayer.headgroup2.fnSet(hg_thickness, rel_pos)\n",
    "    bilayer.methyl_sigma = methyl_sigma\n",
    "    bilayer.fnSet(sigma, bulknsld, startz, l_lipid, l_lipid, vf_bilayer=1)"
   ]
  },
  {
   "cell_type": "code",
   "execution_count": 5,
   "metadata": {},
   "outputs": [],
   "source": [
    "def modelformfactor(lq, l_lipid, sigma, bulknsld, prefactor, dq, rel_pos, hg_thickness, methyl_sigma):\n",
    "    setBilayer(startz, l_lipid, sigma, bulknsld, rel_pos, hg_thickness, methyl_sigma)\n",
    "    normArea, aArea, aSL = bilayer.fnWriteProfile(np.zeros(dimension), np.zeros(dimension), dimension, stepsize, maxarea)\n",
    "    aSLD = getSLD(aArea, aSL, dimension, stepsize, normArea, bulknsld)\n",
    "    modelform = computeFormFactor(lq, aSLD, dimension, stepsize, bulknsld, prefactor, dq)\n",
    "    return modelform"
   ]
  },
  {
   "cell_type": "markdown",
   "metadata": {},
   "source": [
    "Global Variables"
   ]
  },
  {
   "cell_type": "code",
   "execution_count": 6,
   "metadata": {},
   "outputs": [],
   "source": [
    "    maxarea = 100\n",
    "    stepsize = 0.5\n",
    "    dimension = 300\n",
    "    startz = 50"
   ]
  },
  {
   "cell_type": "markdown",
   "metadata": {},
   "source": [
    "Load Experimental Data"
   ]
  },
  {
   "cell_type": "code",
   "execution_count": 7,
   "metadata": {},
   "outputs": [],
   "source": [
    "F2 = np.loadtxt(\"Experimental_form_factors/dopc.dat\", skiprows=1)\n",
    "F2 = np.abs(F2)\n",
    "q_exp = F2[:,0]\n",
    "form_exp = F2[:,1]\n",
    "#constant error bar estimate of .05 Å\n",
    "dform_exp = [0.05]*len(form_exp)"
   ]
  },
  {
   "cell_type": "code",
   "execution_count": 8,
   "metadata": {},
   "outputs": [],
   "source": [
    "bilayer = mol.BLM_quaternary()\n",
    "na1, nh1, nm1, va1, vm1, vh1, lh1 = 7.5978E-03, 4.6150E-03, 5.0652E-04, 972.00, 98, 331.00, 9.56\n",
    "bilayer.fnInit(va1, na1, vm1, nm1, vh1, nh1, lh1)"
   ]
  },
  {
   "cell_type": "code",
   "execution_count": 9,
   "metadata": {},
   "outputs": [],
   "source": [
    "l_lipid = 11.6\n",
    "sigma = 2.0\n",
    "bulknsld = 9.4114E-06\n",
    "prefactor = 15000\n",
    "dq = 0.\n",
    "rel_pos = .5\n",
    "methyl_sigma = 2"
   ]
  },
  {
   "cell_type": "code",
   "execution_count": 10,
   "metadata": {},
   "outputs": [],
   "source": [
    "M1 = Curve(modelformfactor, q_exp, form_exp, dform_exp, l_lipid=l_lipid, sigma=sigma, bulknsld=bulknsld,\n",
    "           prefactor=prefactor, dq=dq, rel_pos=rel_pos, hg_thickness=lh1, methyl_sigma=methyl_sigma)"
   ]
  },
  {
   "cell_type": "code",
   "execution_count": 11,
   "metadata": {},
   "outputs": [
    {
     "data": {
      "text/plain": [
       "Parameter(methyl_sigma)"
      ]
     },
     "execution_count": 11,
     "metadata": {},
     "output_type": "execute_result"
    }
   ],
   "source": [
    "M1.l_lipid.range(9, 13)\n",
    "M1.sigma.range(1.0, 4.0)\n",
    "M1.bulknsld.range(9e-6, 10e-6)\n",
    "M1.prefactor.range(5000, 30000)\n",
    "M1.dq.range(-0.02, 0.02)\n",
    "M1.hg_thickness.range(8, 14)\n",
    "M1.rel_pos.range(0, 1)\n",
    "M1.methyl_sigma.range(0, 4)"
   ]
  },
  {
   "cell_type": "code",
   "execution_count": 12,
   "metadata": {},
   "outputs": [],
   "source": [
    "model = M1\n",
    "problem = FitProblem(model)"
   ]
  },
  {
   "cell_type": "code",
   "execution_count": 13,
   "metadata": {},
   "outputs": [
    {
     "name": "stdout",
     "output_type": "stream",
     "text": [
      "# steps: 10, # draws: 800\n",
      "Did not converge!\n"
     ]
    }
   ],
   "source": [
    "result = fit(problem, method='dream', samples=10, burn=10, steps=10, thin=1, alpha=0, outliers='none', trim = 'none')"
   ]
  },
  {
   "cell_type": "code",
   "execution_count": 14,
   "metadata": {},
   "outputs": [
    {
     "name": "stdout",
     "output_type": "stream",
     "text": [
      "final chisq 3.608(11)\n",
      "              Parameter       mean  median    best [   68% interval] [   95% interval]\n",
      " 1             bulknsld 9.419(33)e-6 0.000009411 0.000009881 [0.00000941 0.00000942] [0.00000941 0.00000951]\n",
      " 2                   dq 0.04(20)e-3 0.000000 0.002803 [-0.00000 0.00003] [-0.00003 0.00069]\n",
      " 3         hg_thickness  9.566(33)  9.5600  9.9673 [  9.560   9.566] [  9.551   9.639]\n",
      " 4              l_lipid 11.599(16) 11.6000 11.3601 [ 11.599  11.602] [ 11.578  11.612]\n",
      " 5         methyl_sigma  1.994(27)  2.0000  1.6283 [  1.997   2.000] [  1.920   2.002]\n",
      " 6            prefactor 15000.6(51) 15000.01 15043.26 [14999.2 15001.8] [14992.5 15015.6]\n",
      " 7              rel_pos  0.502(10)  0.5000  0.6417 [  0.500   0.502] [  0.500   0.529]\n",
      " 8                sigma  1.998(20)  2.0000  1.6562 [  1.999   2.000] [  1.956   2.003]\n"
     ]
    }
   ],
   "source": [
    "from bumps.dream.stats import var_stats, format_vars, save_vars\n",
    "print(\"final chisq\", problem.chisq_str())\n",
    "draw = result.state.draw(portion=1)\n",
    "all_vstats = var_stats(draw)\n",
    "print(format_vars(all_vstats))"
   ]
  },
  {
   "cell_type": "code",
   "execution_count": 30,
   "metadata": {},
   "outputs": [],
   "source": [
    "import math\n",
    "# Set space between plots in horiz and vert.\n",
    "H_SPACE = 0.2\n",
    "V_SPACE = 0.2\n",
    "\n",
    "# Set top, bottom, left margins.\n",
    "T_MARGIN = 0.2\n",
    "B_MARGIN = 0.2\n",
    "L_MARGIN = 0.2\n",
    "R_MARGIN = 0.4\n",
    "\n",
    "# Set desired plot sizes.\n",
    "TILE_W = 3.0\n",
    "TILE_H = 2.0\n",
    "CBAR_WIDTH = 0.75\n",
    "\n",
    "\n",
    "def var_plot_size(n):\n",
    "    ncol, nrow = tile_axes_square(n)\n",
    "\n",
    "    # Calculate total width and figure size\n",
    "    plots_width = (TILE_W+H_SPACE)*ncol\n",
    "    figwidth = plots_width + CBAR_WIDTH + L_MARGIN + R_MARGIN\n",
    "    figheight = (TILE_H+V_SPACE)*nrow + T_MARGIN + B_MARGIN\n",
    "    return figwidth, figheight\n",
    "\n",
    "def _make_var_axes(n):\n",
    "    \"\"\"\n",
    "    Build a figure with one axis per parameter,\n",
    "    and one axis (the last one) to contain the colorbar.\n",
    "    Use to make the vars histogram figure.\n",
    "    \"\"\"\n",
    "    fig = plt.gcf()\n",
    "    fig.clf()\n",
    "    total_width, total_height = fig.get_size_inches()\n",
    "\n",
    "    ncol, nrow = tile_axes_square(n)\n",
    "\n",
    "    # Calculate dimensions as a faction of figure size.\n",
    "    v_space_f = V_SPACE/total_height\n",
    "    h_space_f = H_SPACE/total_width\n",
    "    t_margin_f = T_MARGIN/total_height\n",
    "    b_margin_f = B_MARGIN/total_height\n",
    "    l_margin_f = L_MARGIN/total_width\n",
    "    top = 1 - t_margin_f+v_space_f\n",
    "    left = l_margin_f\n",
    "\n",
    "    tile_h = (total_height - T_MARGIN - B_MARGIN)/nrow - V_SPACE\n",
    "    tile_w = (total_width - L_MARGIN - R_MARGIN - CBAR_WIDTH)/ncol - H_SPACE\n",
    "    tile_h_f = tile_h/total_height\n",
    "    tile_w_f = tile_w/total_width\n",
    "\n",
    "    # Calculate colorbar location (left, bottom) and colorbar height.\n",
    "    l_cbar_f = l_margin_f + ncol*(tile_w_f+h_space_f)\n",
    "    b_cbar_f = b_margin_f + v_space_f\n",
    "    cbar_w_f = CBAR_WIDTH/total_width\n",
    "    cbar_h_f = 1 - t_margin_f - b_margin_f - v_space_f\n",
    "    cbar_box = [l_cbar_f, b_cbar_f, cbar_w_f, cbar_h_f]\n",
    "\n",
    "    k = 0\n",
    "    for j in range(1, nrow+1):\n",
    "        for i in range(0, ncol):\n",
    "            if k >= n:\n",
    "                break\n",
    "            dims = [left + i*(tile_w_f+h_space_f),\n",
    "                    top - j*(tile_h_f+v_space_f),\n",
    "                    tile_w_f,\n",
    "                    tile_h_f]\n",
    "            ax = fig.add_axes(dims)\n",
    "            ax.set_facecolor('none')\n",
    "            k += 1\n",
    "\n",
    "    fig.add_axes(cbar_box)\n",
    "    #fig.set_size_inches(total_width, total_height)\n",
    "    return fig\n",
    "\n",
    "\n",
    "def tile_axes_square(n):\n",
    "    \"\"\"\n",
    "    Determine number of columns by finding the\n",
    "    next greatest square, then determine number\n",
    "    of rows needed.\n",
    "    \"\"\"\n",
    "    cols = int(math.ceil(sqrt(n)))\n",
    "    rows = int(math.ceil(n/float(cols)))\n",
    "    return cols, rows\n",
    "\n",
    "\n",
    "def plot_vars(draw, all_vstats, **kw):\n",
    "    n = len(all_vstats)\n",
    "    fig = _make_var_axes(n)\n",
    "    cbar = _make_fig_colorbar(draw.logp)\n",
    "    for k, vstats in enumerate(all_vstats):\n",
    "        fig.sca(fig.axes[k])\n",
    "        plot_var(draw, vstats, k, cbar, **kw)\n",
    "\n",
    "\n",
    "def plot_var(draw, vstats, var, cbar, nbins=30):\n",
    "    values = draw.points[:, var].flatten()\n",
    "    _make_logp_histogram(values, draw.logp, nbins, vstats.p95_range,\n",
    "                         draw.weights, cbar)\n",
    "    _decorate_histogram(vstats)\n",
    "\n",
    "\n",
    "def _decorate_histogram(vstats):\n",
    "    import pylab\n",
    "    from matplotlib.transforms import blended_transform_factory as blend\n",
    "\n",
    "    l95, h95 = vstats.p95_range\n",
    "    l68, h68 = vstats.p68_range\n",
    "\n",
    "    # Shade things inside 1-sigma\n",
    "    pylab.axvspan(l68, h68, color='gold', alpha=0.5, zorder=-1)\n",
    "    # build transform with x=data, y=axes(0,1)\n",
    "    ax = pylab.gca()\n",
    "    transform = blend(ax.transData, ax.transAxes)\n",
    "\n",
    "    def marker(symbol, position):\n",
    "        if position < l95:\n",
    "            symbol, position, ha = '<'+symbol, l95, 'left'\n",
    "        elif position > h95:\n",
    "            symbol, position, ha = '>'+symbol, h95, 'right'\n",
    "        else:\n",
    "            symbol, position, ha = symbol, position, 'center'\n",
    "        pylab.text(position, 0.95, symbol, va='top', ha=ha,\n",
    "                   transform=transform, zorder=3, color='g')\n",
    "        #pylab.axvline(v)\n",
    "\n",
    "    marker('|', vstats.median)\n",
    "    marker('E', vstats.mean)\n",
    "    marker('*', vstats.best)\n",
    "\n",
    "    pylab.text(0.01, 0.95, vstats.label, zorder=2,\n",
    "               backgroundcolor=(1, 1, 0, 0.2),\n",
    "               verticalalignment='top',\n",
    "               horizontalalignment='left',\n",
    "               transform=pylab.gca().transAxes)\n",
    "    ax.set_yticklabels([])\n",
    "\n",
    "\n",
    "def _make_fig_colorbar(logp):\n",
    "    import matplotlib as mpl\n",
    "    import pylab\n",
    "\n",
    "    # Option 1: min to min + 4\n",
    "    #vmin=-max(logp); vmax=vmin+4\n",
    "    # Option 1b: min to min log10(num samples)\n",
    "    #vmin=-max(logp); vmax=vmin+log10(len(logp))\n",
    "    # Option 2: full range of best 98%\n",
    "    snllf = pylab.sort(-logp)\n",
    "    vmin, vmax = snllf[0], snllf[int(0.98*(len(snllf)-1))]  # robust range\n",
    "    # Option 3: full range\n",
    "    #vmin,vmax = -max(logp),-min(logp)\n",
    "\n",
    "    fig = pylab.gcf()\n",
    "    ax = fig.axes[-1]\n",
    "    cmap = mpl.cm.copper\n",
    "\n",
    "    # Set the colormap and norm to correspond to the data for which\n",
    "    # the colorbar will be used.\n",
    "    norm = mpl.colors.Normalize(vmin=vmin, vmax=vmax)\n",
    "\n",
    "    # ColorbarBase derives from ScalarMappable and puts a colorbar\n",
    "    # in a specified axes, so it has everything needed for a\n",
    "    # standalone colorbar.  There are many more kwargs, but the\n",
    "    # following gives a basic continuous colorbar with ticks\n",
    "    # and labels.\n",
    "    class MinDigitsFormatter(mpl.ticker.Formatter):\n",
    "        def __init__(self, low, high):\n",
    "            self.delta = high - low\n",
    "\n",
    "        def __call__(self, x, pos=None):\n",
    "            return format_value(x, self.delta)\n",
    "\n",
    "    ticks = ()  #(vmin, vmax)\n",
    "    formatter = MinDigitsFormatter(vmin, vmax)\n",
    "    cb = mpl.colorbar.ColorbarBase(ax, cmap=cmap, norm=norm,\n",
    "                                   ticks=ticks, format=formatter,\n",
    "                                   orientation='vertical')\n",
    "    #cb.set_ticks(ticks)\n",
    "    #cb.set_ticklabels(labels)\n",
    "    #cb.set_label('negative log likelihood')\n",
    "\n",
    "    cbar_box = ax.get_position().bounds\n",
    "    fig.text(cbar_box[0],cbar_box[1],\n",
    "             '{:.3G}'.format(vmin), va='top')\n",
    "    fig.text(cbar_box[0], cbar_box[1]+cbar_box[3],\n",
    "             '{:.3G}'.format(vmax), va='bottom')\n",
    "\n",
    "    return vmin, vmax, cmap\n",
    "\n",
    "\n",
    "def _make_logp_histogram(values, logp, nbins, ci, weights, cbar):\n",
    "    from numpy import (ones_like, searchsorted, linspace, cumsum, diff,\n",
    "                       argsort, array, hstack, exp)\n",
    "    if weights is None:\n",
    "        weights = ones_like(logp)\n",
    "    # TODO: values are being sorted to collect stats and again to plot\n",
    "    idx = argsort(values)\n",
    "    values, weights, logp = values[idx], weights[idx], logp[idx]\n",
    "    #open('/tmp/out','a').write(\"ci=%s, range=%s\\n\"\n",
    "    #                           % (ci,(min(values),max(values))))\n",
    "    edges = linspace(ci[0], ci[1], nbins+1)\n",
    "    idx = searchsorted(values[1:-1], edges)\n",
    "    weightsum = cumsum(weights)\n",
    "    heights = diff(weightsum[idx])/weightsum[-1]  # normalized weights\n",
    "\n",
    "    import pylab\n",
    "    vmin, vmax, cmap = cbar\n",
    "    cmap_steps = linspace(vmin, vmax, cmap.N+1)\n",
    "    bins = []  # marginalized maximum likelihood\n",
    "    for h, s, e, xlo, xhi \\\n",
    "            in zip(heights, idx[:-1], idx[1:], edges[:-1], edges[1:]):\n",
    "        if s == e:\n",
    "            continue\n",
    "        pv = -logp[s:e]\n",
    "        pidx = argsort(pv)\n",
    "        pw = weights[s:e][pidx]\n",
    "        x = array([xlo, xhi], 'd')\n",
    "        y = hstack((0, cumsum(pw)))\n",
    "        z = pv[pidx][:, None]\n",
    "        # centerpoint, histogram height, maximum likelihood for each bin\n",
    "        bins.append(((xlo+xhi)/2, y[-1], exp(vmin-z[0])))\n",
    "        if len(z) > cmap.N:\n",
    "            # downsample histogram bar according to number of colors\n",
    "            pidx = searchsorted(z[1:-1].flatten(), cmap_steps)\n",
    "            if pidx[-1] < len(z)-1:\n",
    "                pidx = hstack((pidx, -1))\n",
    "            y, z = y[pidx], z[pidx]\n",
    "        pylab.pcolormesh(x, y, z, vmin=vmin, vmax=vmax, cmap=cmap, shading='gouraud')\n",
    "    # Check for broken distribution\n",
    "    if not bins:\n",
    "        return\n",
    "    centers, height, maxlikelihood = array(bins).T\n",
    "    # Normalize maximum likelihood plot so it contains the same area as the\n",
    "    # histogram, unless it is really spikey, in which case make sure it has\n",
    "    # about the same height as the histogram.\n",
    "    maxlikelihood *= np.sum(height)/np.sum(maxlikelihood)\n",
    "    hist_peak = np.max(height)\n",
    "    ml_peak = np.max(maxlikelihood)\n",
    "    if ml_peak > hist_peak*1.3:\n",
    "        maxlikelihood *= hist_peak*1.3/ml_peak\n",
    "    pylab.plot(centers, maxlikelihood, '-g')\n",
    "\n",
    "    ## plot marginal gaussian approximation along with histogram\n",
    "    #def G(x, mean, std):\n",
    "    #    return np.exp(-((x-mean)/std)**2/2)/np.sqrt(2*np.pi*std**2)\n",
    "    ## TODO: use weighted average for standard deviation\n",
    "    #mean, std = np.average(values, weights=weights), np.std(values, ddof=1)\n",
    "    #pdf = G(centers, mean, std)\n",
    "    #pylab.plot(centers, pdf*np.sum(height)/np.sum(pdf), '-b')\n",
    "\n",
    "\n",
    "def _make_var_histogram(values, logp, nbins, ci, weights):\n",
    "    # Produce a histogram\n",
    "    hist, bins = np.histogram(values, bins=nbins, range=ci,\n",
    "                              #new=True,\n",
    "                              density=True, weights=weights)\n",
    "\n",
    "    # Find the max likelihood for values in each bin\n",
    "    edges = np.searchsorted(values, bins)\n",
    "    histbest = [np.max(logp[edges[i]:edges[i+1]])\n",
    "                if edges[i] < edges[i+1] else -np.inf\n",
    "                for i in range(nbins)]\n",
    "\n",
    "    # scale to marginalized probability with peak the same height as hist\n",
    "    histbest = np.exp(np.asarray(histbest) - max(logp)) * np.max(hist)\n",
    "\n",
    "    import pylab\n",
    "    # Plot the histogram\n",
    "    pylab.bar(bins[:-1], hist, width=bins[1]-bins[0])\n",
    "\n",
    "    # Plot the kernel density estimate\n",
    "    #density = KDE1D(values)\n",
    "    #x = linspace(bins[0],bins[-1],100)\n",
    "    #pylab.plot(x, density(x), '-k')\n",
    "\n",
    "    # Plot the marginal maximum likelihood\n",
    "    centers = (bins[:-1]+bins[1:])/2\n",
    "    pylab.plot(centers, histbest, '-g')"
   ]
  },
  {
   "cell_type": "code",
   "execution_count": 31,
   "metadata": {},
   "outputs": [
    {
     "name": "stderr",
     "output_type": "stream",
     "text": [
      "<ipython-input-30-32b0ac362196>:230: MatplotlibDeprecationWarning: shading='flat' when X and Y have the same dimensions as C is deprecated since 3.3.  Either specify the corners of the quadrilaterals with X and Y, or pass shading='auto', 'nearest' or 'gouraud', or set rcParams['pcolor.shading'].  This will become an error two minor releases later.\n",
      "  pylab.pcolormesh(x, y, z, vmin=vmin, vmax=vmax, cmap=cmap, shading='auto')\n",
      "<ipython-input-30-32b0ac362196>:234: VisibleDeprecationWarning: Creating an ndarray from ragged nested sequences (which is a list-or-tuple of lists-or-tuples-or ndarrays with different lengths or shapes) is deprecated. If you meant to do this, you must specify 'dtype=object' when creating the ndarray.\n",
      "  centers, height, maxlikelihood = array(bins).T\n",
      "<ipython-input-30-32b0ac362196>:230: MatplotlibDeprecationWarning: shading='flat' when X and Y have the same dimensions as C is deprecated since 3.3.  Either specify the corners of the quadrilaterals with X and Y, or pass shading='auto', 'nearest' or 'gouraud', or set rcParams['pcolor.shading'].  This will become an error two minor releases later.\n",
      "  pylab.pcolormesh(x, y, z, vmin=vmin, vmax=vmax, cmap=cmap, shading='auto')\n",
      "<ipython-input-30-32b0ac362196>:234: VisibleDeprecationWarning: Creating an ndarray from ragged nested sequences (which is a list-or-tuple of lists-or-tuples-or ndarrays with different lengths or shapes) is deprecated. If you meant to do this, you must specify 'dtype=object' when creating the ndarray.\n",
      "  centers, height, maxlikelihood = array(bins).T\n",
      "<ipython-input-30-32b0ac362196>:230: MatplotlibDeprecationWarning: shading='flat' when X and Y have the same dimensions as C is deprecated since 3.3.  Either specify the corners of the quadrilaterals with X and Y, or pass shading='auto', 'nearest' or 'gouraud', or set rcParams['pcolor.shading'].  This will become an error two minor releases later.\n",
      "  pylab.pcolormesh(x, y, z, vmin=vmin, vmax=vmax, cmap=cmap, shading='auto')\n",
      "<ipython-input-30-32b0ac362196>:234: VisibleDeprecationWarning: Creating an ndarray from ragged nested sequences (which is a list-or-tuple of lists-or-tuples-or ndarrays with different lengths or shapes) is deprecated. If you meant to do this, you must specify 'dtype=object' when creating the ndarray.\n",
      "  centers, height, maxlikelihood = array(bins).T\n",
      "<ipython-input-30-32b0ac362196>:230: MatplotlibDeprecationWarning: shading='flat' when X and Y have the same dimensions as C is deprecated since 3.3.  Either specify the corners of the quadrilaterals with X and Y, or pass shading='auto', 'nearest' or 'gouraud', or set rcParams['pcolor.shading'].  This will become an error two minor releases later.\n",
      "  pylab.pcolormesh(x, y, z, vmin=vmin, vmax=vmax, cmap=cmap, shading='auto')\n",
      "<ipython-input-30-32b0ac362196>:234: VisibleDeprecationWarning: Creating an ndarray from ragged nested sequences (which is a list-or-tuple of lists-or-tuples-or ndarrays with different lengths or shapes) is deprecated. If you meant to do this, you must specify 'dtype=object' when creating the ndarray.\n",
      "  centers, height, maxlikelihood = array(bins).T\n",
      "<ipython-input-30-32b0ac362196>:230: MatplotlibDeprecationWarning: shading='flat' when X and Y have the same dimensions as C is deprecated since 3.3.  Either specify the corners of the quadrilaterals with X and Y, or pass shading='auto', 'nearest' or 'gouraud', or set rcParams['pcolor.shading'].  This will become an error two minor releases later.\n",
      "  pylab.pcolormesh(x, y, z, vmin=vmin, vmax=vmax, cmap=cmap, shading='auto')\n",
      "<ipython-input-30-32b0ac362196>:234: VisibleDeprecationWarning: Creating an ndarray from ragged nested sequences (which is a list-or-tuple of lists-or-tuples-or ndarrays with different lengths or shapes) is deprecated. If you meant to do this, you must specify 'dtype=object' when creating the ndarray.\n",
      "  centers, height, maxlikelihood = array(bins).T\n",
      "<ipython-input-30-32b0ac362196>:230: MatplotlibDeprecationWarning: shading='flat' when X and Y have the same dimensions as C is deprecated since 3.3.  Either specify the corners of the quadrilaterals with X and Y, or pass shading='auto', 'nearest' or 'gouraud', or set rcParams['pcolor.shading'].  This will become an error two minor releases later.\n",
      "  pylab.pcolormesh(x, y, z, vmin=vmin, vmax=vmax, cmap=cmap, shading='auto')\n",
      "<ipython-input-30-32b0ac362196>:234: VisibleDeprecationWarning: Creating an ndarray from ragged nested sequences (which is a list-or-tuple of lists-or-tuples-or ndarrays with different lengths or shapes) is deprecated. If you meant to do this, you must specify 'dtype=object' when creating the ndarray.\n",
      "  centers, height, maxlikelihood = array(bins).T\n",
      "<ipython-input-30-32b0ac362196>:230: MatplotlibDeprecationWarning: shading='flat' when X and Y have the same dimensions as C is deprecated since 3.3.  Either specify the corners of the quadrilaterals with X and Y, or pass shading='auto', 'nearest' or 'gouraud', or set rcParams['pcolor.shading'].  This will become an error two minor releases later.\n",
      "  pylab.pcolormesh(x, y, z, vmin=vmin, vmax=vmax, cmap=cmap, shading='auto')\n",
      "<ipython-input-30-32b0ac362196>:234: VisibleDeprecationWarning: Creating an ndarray from ragged nested sequences (which is a list-or-tuple of lists-or-tuples-or ndarrays with different lengths or shapes) is deprecated. If you meant to do this, you must specify 'dtype=object' when creating the ndarray.\n",
      "  centers, height, maxlikelihood = array(bins).T\n",
      "<ipython-input-30-32b0ac362196>:230: MatplotlibDeprecationWarning: shading='flat' when X and Y have the same dimensions as C is deprecated since 3.3.  Either specify the corners of the quadrilaterals with X and Y, or pass shading='auto', 'nearest' or 'gouraud', or set rcParams['pcolor.shading'].  This will become an error two minor releases later.\n",
      "  pylab.pcolormesh(x, y, z, vmin=vmin, vmax=vmax, cmap=cmap, shading='auto')\n",
      "<ipython-input-30-32b0ac362196>:234: VisibleDeprecationWarning: Creating an ndarray from ragged nested sequences (which is a list-or-tuple of lists-or-tuples-or ndarrays with different lengths or shapes) is deprecated. If you meant to do this, you must specify 'dtype=object' when creating the ndarray.\n",
      "  centers, height, maxlikelihood = array(bins).T\n"
     ]
    },
    {
     "data": {
      "image/png": "[encoded data removed]",
      "text/plain": [
       "<Figure size 788.4x504 with 9 Axes>"
      ]
     },
     "metadata": {
      "needs_background": "light"
     },
     "output_type": "display_data"
    }
   ],
   "source": [
    "from bumps.dream import corrplot, varplot\n",
    "from pylab import figure, savefig, suptitle, rcParams\n",
    "figure(figsize=var_plot_size(len(all_vstats)))\n",
    "nbins = max(min(draw.points.shape[0]//10000, 400), 30)\n",
    "plot_vars(draw, all_vstats, nbins=nbins)"
   ]
  },
  {
   "cell_type": "code",
   "execution_count": 32,
   "metadata": {},
   "outputs": [
    {
     "data": {
      "image/png": "[encoded data removed]",
      "text/plain": [
       "<Figure size 432x288 with 29 Axes>"
      ]
     },
     "metadata": {
      "needs_background": "light"
     },
     "output_type": "display_data"
    }
   ],
   "source": [
    "if draw.num_vars <= 25:\n",
    "    figure()\n",
    "    c = corrplot.Corr2d(draw.points.T, bins=nbins, labels=draw.labels)\n",
    "    c.plot()"
   ]
  },
  {
   "cell_type": "code",
   "execution_count": 33,
   "metadata": {},
   "outputs": [
    {
     "data": {
      "image/png": "[encoded data removed]",
      "text/plain": [
       "<Figure size 432x288 with 3 Axes>"
      ]
     },
     "metadata": {
      "needs_background": "light"
     },
     "output_type": "display_data"
    }
   ],
   "source": [
    "import plot\n",
    "bulknsld, dq, hg_thickness, l_lipid, methyl_sigma, prefactor, rel_pos, sigma = result.x\n",
    "setBilayer(50, l_lipid, sigma, bulknsld, rel_pos, hg_thickness, methyl_sigma)\n",
    "plot.graphProfiles(bilayer, dimension, stepsize, maxarea, bulknsld, show=True, savefile=None)"
   ]
  }
 ],
 "metadata": {
  "interpreter": {
   "hash": "85b8c46388142de3df3f08e1055a3e2a83e8a33a5cec652125644d36b7fa7fc2"
  },
  "kernelspec": {
   "display_name": "Python 3.8.10 64-bit ('fitting': conda)",
   "name": "python3"
  },
  "language_info": {
   "codemirror_mode": {
    "name": "ipython",
    "version": 3
   },
   "file_extension": ".py",
   "mimetype": "text/x-python",
   "name": "python",
   "nbconvert_exporter": "python",
   "pygments_lexer": "ipython3",
   "version": "3.8.10"
  }
 },
 "nbformat": 4,
 "nbformat_minor": 5
}