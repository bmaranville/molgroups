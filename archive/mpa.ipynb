{
 "cells": [
  {
   "cell_type": "code",
   "execution_count": 1,
   "id": "accad99f",
   "metadata": {},
   "outputs": [
    {
     "name": "stdout",
     "output_type": "stream",
     "text": [
      "/Users/frank/Dropbox/My Mac (PN115993.campus.nist.gov)/Documents/programming/molgroups/PlottingAndAnalysis\r\n"
     ]
    }
   ],
   "source": [
    "import rs\n",
    "import os\n",
    "!pwd"
   ]
  },
  {
   "cell_type": "markdown",
   "id": "ac628656",
   "metadata": {},
   "source": [
    "## Define result directory and set up fit source\n",
    "The results directory is the save directory for the refl1d/bumps/garefl fit, which is typically one directory level up from the fit setup. If a garefl fit does not use MCMC, give the setup directory.\n",
    "The runfile is either the Python or C++ setup file. The refl1d Python runfile for a garefl fit is expected to be run.py."
   ]
  },
  {
   "cell_type": "code",
   "execution_count": 2,
   "id": "f2b91289",
   "metadata": {},
   "outputs": [],
   "source": [
    "# Bumps Test\n",
    "setupdir = '/Users/frank/Desktop/DiffractionTest'\n",
    "mcmcstor = setupdir + '/T1'\n",
    "runfile = 'run-ff'\n",
    "fitsource = 'bumps'\n",
    "\n",
    "# Refl1D Test\n",
    "# setupdir = '/Users/frank/Desktop/ssBLMtest'\n",
    "# mcmcstor = setupdir + '/Output'\n",
    "# runfile = 'ssblm_tiox_both'\n",
    "# fitsource = 'refl1d'\n",
    "\n",
    "\n",
    "# Garefl test\n",
    "# setupdir = '/Users/frank/Desktop/garefltest'\n",
    "# mcmcstor = setupdir + '/MCMC_64000_500'\n",
    "# runfile = 'setup.cc'\n",
    "# fitsource = 'garefl'\n",
    "\n",
    "# Clean up previous results files\n",
    "# TODO: Come up with a scheme on how to handle result files (keep or delete)\n",
    "os.chdir(setupdir)\n",
    "if os.path.isfile(mcmcstor + '/sErr.dat'):\n",
    "    os.remove(mcmcstor + '/sErr.dat')\n",
    "if os.path.isfile(mcmcstor + '/isErr.dat'):\n",
    "    os.remove(mcmcstor + '/isErr.dat')\n",
    "if os.path.isfile(mcmcstor + '/StatDataPython.dat'):\n",
    "    os.remove(mcmcstor + '/StatDataPython.dat')\n",
    "\n",
    "fit = rs.CMolStat(fitsource=fitsource, spath=setupdir, mcmcpath=mcmcstor, runfile=runfile)"
   ]
  },
  {
   "cell_type": "markdown",
   "id": "5e6e26c0",
   "metadata": {},
   "source": [
    "## Load MCMC information bumps / refl1d files"
   ]
  },
  {
   "cell_type": "code",
   "execution_count": 3,
   "id": "74d216f8",
   "metadata": {
    "scrolled": true
   },
   "outputs": [
    {
     "name": "stdout",
     "output_type": "stream",
     "text": [
      "Analysis of current MC simulation ...\n",
      "Number of iterations: 20\n",
      "  bulknsld  [     |+    ]  [     9e-06,     1e-05]  [ 9.539e-06(0.001),  9.552e-06(0.000),  9.566e-06(0.001)] (- 1.386e-08, +  1.32e-08)\n",
      "        dq  [          +#  [     -0.01,      0.01]  [  0.009833(0.001),   0.009965(0.000),   0.009989(0.000)] (- 0.0001321, + 2.326e-05)\n",
      "   l_lipid  [       +   ]  [         9,        13]  [     11.93(0.000),      11.94(0.000),      11.95(0.000)] (-  0.009155, +   0.01255)\n",
      " prefactor  [+          ]  [   1.5e+04,     4e+04]  [ 1.565e+04(0.000),  1.581e+04(0.001),  1.595e+04(0.000)] (-     154.4, +     141.9)\n",
      "     sigma  #+          ]  [         1,         4]  [     1.005(0.000),      1.027(0.001),      1.053(0.001)] (-   0.02159, +   0.02582)\n",
      "vf_bilayer  [      |-  |]  [      0.95,         1]  [     0.978(0.001),     0.9873(0.014),     0.9988(0.001)] (-  0.009293, +   0.01153)\n",
      "Maximum deviation from average over last 5 iterations: 0.0577\n",
      "Confidence level: 0.6827\n"
     ]
    }
   ],
   "source": [
    "#fit.fnLoadStatData(sparse=0)\n",
    "#fit.fnLoadParameters()\n",
    "sparse = 0.002\n",
    "fit.fnAnalyzeStatFile(fConfidence=-1, sparse=sparse)"
   ]
  },
  {
   "cell_type": "code",
   "execution_count": 4,
   "id": "dd48e803",
   "metadata": {},
   "outputs": [
    {
     "name": "stdout",
     "output_type": "stream",
     "text": [
      "Failure to load StatDataPython.dat.\n",
      "Recreate statistical data from sErr.dat.\n",
      "Found sErr.dat\n",
      "\n",
      "Processing parameter set 0.\n",
      "\n",
      "77.62168942818082\n",
      "Processing parameter set 1.\n",
      "\n",
      "77.8658561680248\n",
      "Processing parameter set 2.\n",
      "\n",
      "77.98955763636825\n",
      "Processing parameter set 3.\n",
      "\n",
      "77.48888293594828\n",
      "Processing parameter set 4.\n",
      "\n",
      "77.47960481629299\n",
      "Processing parameter set 5.\n",
      "\n",
      "78.321884034292\n",
      "Processing parameter set 6.\n",
      "\n",
      "77.92098134920849\n",
      "Processing parameter set 7.\n",
      "\n",
      "77.72647002211987\n",
      "Processing parameter set 8.\n",
      "\n",
      "77.96061367646197\n",
      "Processing parameter set 9.\n",
      "\n",
      "77.97165290651085\n",
      "Processing parameter set 10.\n",
      "\n",
      "77.48653241705057\n",
      "Processing parameter set 11.\n",
      "\n",
      "77.90596147043505\n",
      "Processing parameter set 12.\n",
      "\n",
      "77.61878633428596\n",
      "Processing parameter set 13.\n",
      "\n",
      "77.98151252075436\n",
      "Processing parameter set 14.\n",
      "\n",
      "77.64334294373283\n",
      "Processing parameter set 15.\n",
      "\n",
      "78.02229102510265\n",
      "Processing parameter set 16.\n",
      "\n",
      "77.76040559498958\n",
      "Processing parameter set 17.\n",
      "\n",
      "78.15870315389841\n",
      "Processing parameter set 18.\n",
      "\n",
      "77.89650927795525\n",
      "Processing parameter set 19.\n",
      "\n",
      "78.06448521192848\n"
     ]
    }
   ],
   "source": [
    "fit.fnPullMolgroup(['lipid1'], sparse=sparse)"
   ]
  },
  {
   "cell_type": "code",
   "execution_count": 5,
   "id": "696b2cea",
   "metadata": {},
   "outputs": [
    {
     "name": "stdout",
     "output_type": "stream",
     "text": [
      "Initializing ...\n",
      "Pulling all molgroups ...\n",
      "  substrate ...\n",
      "Loaded statistical data from StatDataPython.dat\n",
      "Molecular group substrate does not exist.\n",
      "  siox ...\n",
      "Loaded statistical data from StatDataPython.dat\n",
      "Molecular group siox does not exist.\n",
      "  tether ...\n",
      "Loaded statistical data from StatDataPython.dat\n",
      "Molecular group bME does not exist.\n",
      "Molecular group tetherg does not exist.\n",
      "Molecular group tether does not exist.\n",
      "  innerhg ...\n",
      "Loaded statistical data from StatDataPython.dat\n",
      "  innerhc ...\n",
      "Loaded statistical data from StatDataPython.dat\n",
      "  outerhc ...\n",
      "Loaded statistical data from StatDataPython.dat\n",
      "  outerhg ...\n",
      "Loaded statistical data from StatDataPython.dat\n",
      "  protein ...\n",
      "Loaded statistical data from StatDataPython.dat\n",
      "Molecular group protein does not exist.\n",
      "Applying corrections ...\n",
      "\n",
      "Calculating statistics ...\n",
      "\n"
     ]
    },
    {
     "name": "stderr",
     "output_type": "stream",
     "text": [
      "/Users/frank/Dropbox/My Mac (PN115993.campus.nist.gov)/Documents/programming/molgroups/PlottingAndAnalysis/rs.py:1720: RuntimeWarning: invalid value encountered in true_divide\n",
      "  diIterations[element + '_cvo'][key] = diIterations[element][key] / areaperlipid\n",
      "/Users/frank/Dropbox/My Mac (PN115993.campus.nist.gov)/Documents/programming/molgroups/PlottingAndAnalysis/rs.py:1721: RuntimeWarning: invalid value encountered in true_divide\n",
      "  diIterations[element + '_corr_cvo'][key] = diIterations[element + '_corr'][key] / areaperlipid\n",
      "/Users/frank/Dropbox/My Mac (PN115993.campus.nist.gov)/Documents/programming/molgroups/PlottingAndAnalysis/rs.py:1720: RuntimeWarning: divide by zero encountered in true_divide\n",
      "  diIterations[element + '_cvo'][key] = diIterations[element][key] / areaperlipid\n",
      "/Users/frank/Dropbox/My Mac (PN115993.campus.nist.gov)/Documents/programming/molgroups/PlottingAndAnalysis/rs.py:1721: RuntimeWarning: divide by zero encountered in true_divide\n",
      "  diIterations[element + '_corr_cvo'][key] = diIterations[element + '_corr'][key] / areaperlipid\n"
     ]
    },
    {
     "name": "stdout",
     "output_type": "stream",
     "text": [
      "Saving data to bilayerplotdata.dat ...\n",
      "\n"
     ]
    }
   ],
   "source": [
    "fit.fnCreateBilayerPlotData()"
   ]
  },
  {
   "cell_type": "code",
   "execution_count": 6,
   "id": "26436538",
   "metadata": {},
   "outputs": [
    {
     "name": "stdout",
     "output_type": "stream",
     "text": [
      "Loaded statistical data from StatDataPython.dat\n",
      "Did not find any fractional envelopes ...\n",
      "WaterFracHeadgroup1  [    0.5478,      0.552,     0.5563] (-  0.004267, +  0.004219)\n",
      "WaterFracHeadgroup2  [    0.5054,     0.5087,     0.5172] (-  0.003352, +  0.008449)\n",
      "WaterFracHydrocarbon  [     0.018,    0.02557,    0.03301] (-  0.007565, +  0.007446)\n",
      "WaterFracLipid1  [   0.02389,    0.03178,    0.03902] (-  0.007885, +  0.007239)\n",
      "WaterFracLipid2  [   0.01189,    0.01912,    0.02672] (-  0.007232, +  0.007599)\n",
      "WaterFracSubMembrane  [    0.9985,     0.9985,     0.9986] (- 3.459e-05, + 5.482e-05)\n",
      "defect_hc_AVG  [  0.003086,    0.03252,     0.0561] (-   0.02943, +   0.02358)\n",
      "defect_hc_COM  [     72.83,      72.84,      72.85] (-   0.01018, +   0.01395)\n",
      "defect_hc_INT  [  0.006318,     0.0667,     0.1148] (-   0.06038, +   0.04806)\n",
      "defect_hg_AVG  [  0.001167,    0.01216,    0.02078] (-   0.01099, +   0.00862)\n",
      "defect_hg_COM  [     72.83,      72.84,      72.85] (-   0.01018, +   0.01395)\n",
      "defect_hg_INT  [   0.00239,    0.02494,     0.0425] (-   0.02255, +   0.01757)\n",
      "fAreaPerLipid2  [     73.14,      73.22,      73.28] (-   0.07687, +    0.0562)\n",
      "fTotalLipid1Length  [     13.27,      13.28,      13.29] (-   0.01018, +   0.01395)\n",
      "fTotalLipid2Length  [     13.27,      13.28,      13.29] (-   0.01018, +   0.01395)\n",
      "headgroup1_2_AVG  [         0,          0,          0] (-         0, +         0)\n",
      "headgroup1_2_COM  [     1e+05,      1e+05,      1e+05] (-         0, +         0)\n",
      "headgroup1_2_INT  [         0,          0,          0] (-         0, +         0)\n",
      "headgroup1_3_AVG  [         0,          0,          0] (-         0, +         0)\n",
      "headgroup1_3_COM  [     1e+05,      1e+05,      1e+05] (-         0, +         0)\n",
      "headgroup1_3_INT  [         0,          0,          0] (-         0, +         0)\n",
      "headgroup1_AVG  [     2.093,      2.113,      2.137] (-   0.01989, +   0.02467)\n",
      "headgroup1_COM  [      55.4,       55.4,       55.4] (- 7.105e-15, +         0)\n",
      "headgroup1_INT  [     4.287,      4.333,      4.376] (-   0.04634, +    0.0422)\n",
      "headgroup2_2_AVG  [         0,          0,          0] (-         0, +         0)\n",
      "headgroup2_2_COM  [     1e+05,      1e+05,      1e+05] (-         0, +         0)\n",
      "headgroup2_2_INT  [         0,          0,          0] (-         0, +         0)\n",
      "headgroup2_3_AVG  [         0,          0,          0] (-         0, +         0)\n",
      "headgroup2_3_COM  [     1e+05,      1e+05,      1e+05] (-         0, +         0)\n",
      "headgroup2_3_INT  [         0,          0,          0] (-         0, +         0)\n",
      "headgroup2_AVG  [     2.093,      2.113,      2.137] (-   0.01989, +   0.02467)\n",
      "headgroup2_COM  [     90.25,      90.27,       90.3] (-   0.02036, +    0.0279)\n",
      "headgroup2_INT  [     4.287,      4.333,      4.376] (-   0.04634, +    0.0422)\n",
      "lipid1_AVG  [     5.698,      5.752,       5.82] (-   0.05415, +   0.06716)\n",
      "lipid1_COM  [     65.86,      65.87,      65.87] (-  0.006389, +  0.001094)\n",
      "lipid1_INT  [     11.67,       11.8,      11.91] (-    0.1262, +    0.1149)\n",
      "lipid2_AVG  [     5.698,      5.752,       5.82] (-   0.05415, +   0.06716)\n",
      "lipid2_COM  [     79.78,       79.8,      79.83] (-    0.0234, +   0.02275)\n",
      "lipid2_INT  [     11.67,       11.8,      11.91] (-    0.1262, +    0.1149)\n",
      "methyl1_AVG  [    0.6389,      0.645,     0.6525] (-  0.006071, +   0.00753)\n",
      "methyl1_COM  [     72.16,      72.17,      72.18] (-  0.009668, +   0.01325)\n",
      "methyl1_INT  [     1.309,      1.323,      1.336] (-   0.01415, +   0.01288)\n",
      "methyl2_AVG  [    0.6389,      0.645,     0.6525] (-  0.006071, +   0.00753)\n",
      "methyl2_COM  [     73.49,       73.5,      73.52] (-   0.01069, +   0.01466)\n",
      "methyl2_INT  [     1.309,      1.323,      1.336] (-   0.01415, +   0.01288)\n",
      "normarea_AVG  [     73.14,      73.22,      73.28] (-   0.07687, +    0.0562)\n",
      "normarea_COM  [     74.75,      74.75,      74.75] (- 1.421e-14, + 1.421e-14)\n",
      "normarea_INT  [       150,        150,        150] (- 5.969e-13, + 3.411e-13)\n"
     ]
    }
   ],
   "source": [
    "fit.fnCalculateMolgroupProperty(fConfidence=-1)"
   ]
  },
  {
   "cell_type": "code",
   "execution_count": null,
   "id": "5424311e",
   "metadata": {},
   "outputs": [],
   "source": []
  }
 ],
 "metadata": {
  "kernelspec": {
   "display_name": "Python 3",
   "language": "python",
   "name": "python3"
  },
  "language_info": {
   "codemirror_mode": {
    "name": "ipython",
    "version": 3
   },
   "file_extension": ".py",
   "mimetype": "text/x-python",
   "name": "python",
   "nbconvert_exporter": "python",
   "pygments_lexer": "ipython3",
   "version": "3.7.10"
  }
 },
 "nbformat": 4,
 "nbformat_minor": 5
}
